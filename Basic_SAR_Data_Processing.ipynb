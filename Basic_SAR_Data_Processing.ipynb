{
  "nbformat": 4,
  "nbformat_minor": 0,
  "metadata": {
    "colab": {
      "provenance": [],
      "authorship_tag": "ABX9TyOxW7kV/kNNsszLHFd6n2Ib",
      "include_colab_link": true
    },
    "kernelspec": {
      "name": "python3",
      "display_name": "Python 3"
    },
    "language_info": {
      "name": "python"
    }
  },
  "cells": [
    {
      "cell_type": "markdown",
      "metadata": {
        "id": "view-in-github",
        "colab_type": "text"
      },
      "source": [
        "<a href=\"https://colab.research.google.com/github/suchitra2020180/RS_GIS_Python/blob/main/Basic_SAR_Data_Processing.ipynb\" target=\"_parent\"><img src=\"https://colab.research.google.com/assets/colab-badge.svg\" alt=\"Open In Colab\"/></a>"
      ]
    },
    {
      "cell_type": "code",
      "execution_count": null,
      "metadata": {
        "id": "MGyaRAzD6iZE"
      },
      "outputs": [],
      "source": [
        "#Followed:https://www.youtube.com/watch?v=PiU68g3WRIY&t=1900s"
      ]
    },
    {
      "cell_type": "code",
      "source": [
        "#RUS Webinar-Copernicus data processing in python using snappy-py01"
      ],
      "metadata": {
        "id": "Rkdm0Dfd9OcM"
      },
      "execution_count": null,
      "outputs": []
    },
    {
      "cell_type": "code",
      "source": [
        "##   Run the code in Jupyter notebook"
      ],
      "metadata": {
        "id": "gUxWG39rl7Pg"
      },
      "execution_count": null,
      "outputs": []
    },
    {
      "cell_type": "code",
      "source": [
        "#1. Load Python Modules\n",
        "#Module                                                         #Desription\n",
        "import numpy as np  #scientific computing\n",
        "import pandas as pd  #Data analytics and manipulation\n",
        "import subprocess    #External calls to the system\n",
        "import snappy  #SNAP Python interface\n",
        "import jpy   #Python-jAVA bridge\n",
        "from glob import iglob #Data access in file manager\n",
        "from os.path import join  #Data access in file manager\n",
        "from zipfile import ZipFile  ##Zip file manipulation\n",
        "from termcolor import coloured #prints colored text\n",
        "import matplotlib.pyplot as plt #Create visualizations\n",
        "import matplotlib.image as mpimg #Create visualizations\n",
        "import matplotlib.colors as colors  #Create visualizations\n"
      ],
      "metadata": {
        "colab": {
          "base_uri": "https://localhost:8080/",
          "height": 383
        },
        "id": "XIERYStB-bE8",
        "outputId": "dcc83731-45e6-4195-91ae-47b690bca408"
      },
      "execution_count": null,
      "outputs": [
        {
          "output_type": "error",
          "ename": "ModuleNotFoundError",
          "evalue": "No module named 'snappy'",
          "traceback": [
            "\u001b[0;31m---------------------------------------------------------------------------\u001b[0m",
            "\u001b[0;31mModuleNotFoundError\u001b[0m                       Traceback (most recent call last)",
            "\u001b[0;32m<ipython-input-1-5f23f0c7398b>\u001b[0m in \u001b[0;36m<cell line: 6>\u001b[0;34m()\u001b[0m\n\u001b[1;32m      4\u001b[0m \u001b[0;32mimport\u001b[0m \u001b[0mpandas\u001b[0m \u001b[0;32mas\u001b[0m \u001b[0mpd\u001b[0m  \u001b[0;31m#Data analytics and manipulation\u001b[0m\u001b[0;34m\u001b[0m\u001b[0;34m\u001b[0m\u001b[0m\n\u001b[1;32m      5\u001b[0m \u001b[0;32mimport\u001b[0m \u001b[0msubprocess\u001b[0m    \u001b[0;31m#External calls to the system\u001b[0m\u001b[0;34m\u001b[0m\u001b[0;34m\u001b[0m\u001b[0m\n\u001b[0;32m----> 6\u001b[0;31m \u001b[0;32mimport\u001b[0m \u001b[0msnappy\u001b[0m  \u001b[0;31m#SNAP Python interface\u001b[0m\u001b[0;34m\u001b[0m\u001b[0;34m\u001b[0m\u001b[0m\n\u001b[0m\u001b[1;32m      7\u001b[0m \u001b[0;32mimport\u001b[0m \u001b[0mjpy\u001b[0m   \u001b[0;31m#Python-jAVA bridge\u001b[0m\u001b[0;34m\u001b[0m\u001b[0;34m\u001b[0m\u001b[0m\n\u001b[1;32m      8\u001b[0m \u001b[0;32mfrom\u001b[0m \u001b[0mglob\u001b[0m \u001b[0;32mimport\u001b[0m \u001b[0miglob\u001b[0m \u001b[0;31m#Data access in file manager\u001b[0m\u001b[0;34m\u001b[0m\u001b[0;34m\u001b[0m\u001b[0m\n",
            "\u001b[0;31mModuleNotFoundError\u001b[0m: No module named 'snappy'",
            "",
            "\u001b[0;31m---------------------------------------------------------------------------\u001b[0;32m\nNOTE: If your import is failing due to a missing package, you can\nmanually install dependencies using either !pip or !apt.\n\nTo view examples of installing some common dependencies, click the\n\"Open Examples\" button below.\n\u001b[0;31m---------------------------------------------------------------------------\u001b[0m\n"
          ],
          "errorDetails": {
            "actions": [
              {
                "action": "open_url",
                "actionText": "Open Examples",
                "url": "/notebooks/snippets/importing_libraries.ipynb"
              }
            ]
          }
        }
      ]
    },
    {
      "cell_type": "code",
      "source": [
        "#2. User-defined functions\n",
        "# To facilitate the processing of data and avoid code duplications in this exercise, we will declare now user-defined functions which will be used later."
      ],
      "metadata": {
        "id": "WS5QAG4h-bIQ"
      },
      "execution_count": null,
      "outputs": []
    },
    {
      "cell_type": "code",
      "source": [
        "def output_view(product, band, min_value_VV,max_value_VV,min_value_VH,max_value_VH):\n",
        "  '''\n",
        "  Creates a visualisation of the processed Sentinel-1 SAR image\n",
        "  keyword arguements:\n",
        "  produt          --snappy GPF product --> input Sentinel-1 product\n",
        "  band            --List --> product's band to be visualized\n",
        "  min_value_VV    --int --> min value for color stretch in VV band\n",
        "  max_value_VV    --int --> max value for color stretch in VV band\n",
        "  min_value_VH    --int --> min value for color stretch in VH band\n",
        "  max_value_VH    --int --> max value for color stretch in VH band\n",
        "  '''\n",
        "  band_data_list=[]\n",
        "  for i in band:\n",
        "    band=product.getBand(i)\n",
        "    w=band.getRasterWidth()\n",
        "    h=band.getRasterHeight()\n",
        "    band_data=np.zeros(w*h, np.float32)\n",
        "    band.readPixels(0,0,w,h,band_data)\n",
        "    band_data.shape=h,w\n",
        "    band_data_list.append(band_data)\n",
        "\n",
        "  fig, (ax1,ax2) =plt.subplots(1,2,figsize=(16,16))\n",
        "  ax1.imshow(band_data_list[0], cmap='gray', vmin=min_value_VV, vmax=max_value_VV)\n",
        "  ax1.set_title(output_bands[0])\n",
        "  ax2.imshow(band_data_list[1], cmap='gray', vmin=min_value_VH, vmax=max_value_VH)\n",
        "  ax2.set_title(output_bands[1])\n",
        "\n",
        "  for ax in fig.get_axes():\n",
        "    ax.label_outer()\n"
      ],
      "metadata": {
        "id": "5lkPJI0E-bL5"
      },
      "execution_count": null,
      "outputs": []
    },
    {
      "cell_type": "code",
      "source": [
        "# 3. Sentinel-1 Preprocessing: snappy\n",
        "#Easiest way to know which operators are available in snappy is to cal   \"gpt\"  \"-h\" from command line, which will output the list.If we want to access the documentation of a specific operator, use gpt -h *Operator*"
      ],
      "metadata": {
        "id": "gbN0Izmj-bPg"
      },
      "execution_count": null,
      "outputs": []
    },
    {
      "cell_type": "markdown",
      "source": [],
      "metadata": {
        "id": "I8Jp_s6wEadY"
      }
    },
    {
      "cell_type": "code",
      "source": [
        "# Call gpt -h from command line\n",
        "print(subprocess.Popen(['gpt','-h','ThermalNoiseRemoval'], stdout=subprocess.PIPE,universal_newlines=True).communicate()[0])"
      ],
      "metadata": {
        "id": "iXwzZXY_EbSr"
      },
      "execution_count": null,
      "outputs": []
    },
    {
      "cell_type": "code",
      "source": [
        "#3.1 Read Product"
      ],
      "metadata": {
        "id": "5ERZ8E_kEZ8s"
      },
      "execution_count": null,
      "outputs": []
    },
    {
      "cell_type": "code",
      "source": [
        "#Set target folder and extract metadata\n",
        "produt_path=\"/shared/Training/PY01_SentinelProcessing_snappy/Original/\"\n",
        "input_S1_files=sorted(list(iglob(join(product_path, '**','*S1*.zip'),recursive=True)))\n",
        "\n",
        "name, sensing_mode, product_type, polarization, height, width, band_names =([] for i in rane(7))\n",
        "\n",
        "for i in input_S1_files:\n",
        "  sensing_mode.append(i.split(\"_\")[3])\n",
        "  product_type.append(i.split(\"_\")[4])\n",
        "  polarization.append(i.split(\"_\")[-6])\n",
        "  #Read with snappy\n",
        "  s1_read=snappy.ProductIO.readProduct(i)\n",
        "  name.append(s1_read.getName())\n",
        "  height.append(s1_read.getSceneRasterHeight())\n",
        "  width.append(s1_read.getSceneRasterWidth())\n",
        "  band_names.append(s1_read.getBandNames())\n",
        "\n",
        "df_s1_read=pd.DataFrame({'Name':name,'Sensing Mode':sensing_mode,'Product Type':product_type, 'Polarization':polarization, 'Height':height, 'Width':width})\n",
        "dispaly(df_s1_read)\n",
        "\n",
        "#Display quicklook. First image\n",
        "with ZipFile(input_S1_Files[0],'r') as qck_look:\n",
        "  qck_look=qck_look.open(name[0] + '.SAFE/preview/quick-look.png')\n",
        "  img=mpimg.imread(qck_look)\n",
        "  plt.figure(figsize=(15,15))\n",
        "  plt.title('Quicklook Visualization -'+ name[0] +'\\n')\n",
        "  plt.axis('off')\n",
        "  plt.imshow(img);\n"
      ],
      "metadata": {
        "id": "QNiV2Yz8fVgu"
      },
      "execution_count": null,
      "outputs": []
    },
    {
      "cell_type": "code",
      "source": [
        "#3.2 Subset"
      ],
      "metadata": {
        "id": "LA5Eb-ULiYfL"
      },
      "execution_count": null,
      "outputs": []
    },
    {
      "cell_type": "code",
      "source": [
        "# ur corner\n",
        "x,y, width, height =12000, 8000, 5500, 5500\n",
        "#Subset Operator -snappy\n",
        "parameters =snappy.HashMap()\n",
        "parameters.put('copyMetadata',True)\n",
        "parameters.put('region',\"%s,%s,%s,%s\" % (x, y, width, height))\n",
        "subset=snappy.GPF.createProduct('Subset',parameters, s1_read)\n",
        "print(list(subset.getBandNames()))\n",
        "\n",
        "#Plot subset(follow VV- VH order)\n",
        "output_bands=['Amplitude_VV', 'Amplitude_VH']\n",
        "output_view(subset, output_bands,41, 286, 20, 160)\n"
      ],
      "metadata": {
        "id": "2Osef6B6kLua"
      },
      "execution_count": null,
      "outputs": []
    },
    {
      "cell_type": "code",
      "source": [
        "#3.3 Apply Orbit File"
      ],
      "metadata": {
        "id": "azx-riv_lhrx"
      },
      "execution_count": null,
      "outputs": []
    },
    {
      "cell_type": "code",
      "source": [
        "#The orbit state vectors provided in the metadata of a SAR product are generally not accurate and can be refined with the precise orbit files which are available days-to-weeks after the generation of the product.\n"
      ],
      "metadata": {
        "colab": {
          "base_uri": "https://localhost:8080/",
          "height": 124
        },
        "id": "J1v_swDqlh0l",
        "outputId": "d4091d06-8240-45b6-a486-e14788cd9942"
      },
      "execution_count": null,
      "outputs": [
        {
          "output_type": "error",
          "ename": "SyntaxError",
          "evalue": "invalid syntax (<ipython-input-1-7cac16a0aa3d>, line 1)",
          "traceback": [
            "\u001b[0;36m  File \u001b[0;32m\"<ipython-input-1-7cac16a0aa3d>\"\u001b[0;36m, line \u001b[0;32m1\u001b[0m\n\u001b[0;31m    The orbit state vectors provided in the metadata of a SAR product are generally not accurate and can be refined with the precise orbit files which are available days-to-weeks after the generation of the product.\u001b[0m\n\u001b[0m        ^\u001b[0m\n\u001b[0;31mSyntaxError\u001b[0m\u001b[0;31m:\u001b[0m invalid syntax\n"
          ]
        }
      ]
    },
    {
      "cell_type": "code",
      "source": [
        "#The orbit file provides accurate satellite position and velocity information.Based on the information, the orbit state vectors in the"
      ],
      "metadata": {
        "id": "sgIIpl92mfw-"
      },
      "execution_count": null,
      "outputs": []
    },
    {
      "cell_type": "code",
      "source": [
        "#Apply Orbit File Operator -snappy\n",
        "parameters=snappy.HashMap()\n",
        "parameters.put('Apply-Orbit-File', True)\n",
        "apply_orbit=snappy.GPF.createProduct('Apply-Orbit-File', parameters, subset)\n",
        "print(colored('Orbit updates successfully','green'))\n"
      ],
      "metadata": {
        "id": "rcBsAn0y0XzY"
      },
      "execution_count": null,
      "outputs": []
    },
    {
      "cell_type": "code",
      "source": [
        "#3.4 Thermal Noise Removal"
      ],
      "metadata": {
        "id": "txXmhzai3kyy"
      },
      "execution_count": null,
      "outputs": []
    },
    {
      "cell_type": "code",
      "source": [
        "#Thermal Noise Removal Operator -snappy\n",
        "parameters=snappy.HashMap()\n",
        "parameters.put('removeThermalNoise', True)\n",
        "thermal_noise=snappy.GPF.createProduct('ThermalNoiseRemoval', parameters, apply_orbit)\n",
        "\n",
        "#Plot Thermal Noise Removal (follow VV -VH order)\n",
        "output_bands=['Intensity_VV','Intensity_VH']\n",
        "output_view(thermal_noise, output_bands, 0.02,99376.52,0.27,18371.83)\n"
      ],
      "metadata": {
        "id": "_K1mHxpd3p_U"
      },
      "execution_count": null,
      "outputs": []
    },
    {
      "cell_type": "code",
      "source": [
        "#3.5 Radiometric Calibration"
      ],
      "metadata": {
        "id": "F86-yzNk7bZb"
      },
      "execution_count": null,
      "outputs": []
    },
    {
      "cell_type": "code",
      "source": [],
      "metadata": {
        "id": "-8Z9SryulHbq"
      },
      "execution_count": null,
      "outputs": []
    },
    {
      "cell_type": "markdown",
      "source": [
        "The objective of SAR calibration is to provide imagery in which the pixel values can be directly related to the radar backscattering of the scaene.Though uncalibrated SAR imagery is sufficient for qualitative use, calibrated SAR images are essential to quantitative use of SAR data. Typically SAR data processing, which produces level-1 images, doe snot include radiometric correction and significant radiometric bias remains. The radiometric correction necessary for the pixel values to truely represent the radar backscatter of the reflecting surface and therefore for comparison of SAR images acquired with different sensors, or acquired from the same sensor but at different times, in different modes, or processed by different processors."
      ],
      "metadata": {
        "id": "Zno5SVwglILh"
      }
    },
    {
      "cell_type": "code",
      "source": [
        "#Calibration Operator -snappy\n",
        "parameters = snappy.HashMap()\n",
        "parameters.put('outputSigmaBand',True)\n",
        "parameters.put('sourceBands','Intensity_VH,Intensity_VV')\n",
        "parameters.put('selectedPolarisations','VH,VV')\n",
        "parameters.put('outputImageScaleInDb',False)\n",
        "calibrated=snappy.GPF.createProduct('Calibration',parameters, thermal_noise)\n",
        "\n",
        "#Plot Calibration (follow VV-VH order)\n",
        "output_bands=['Sigma0_VV','Sigma0_VH']\n",
        "output_view(calibrated, output_bands, 0.00, 0.28, 0.00, 0.05)"
      ],
      "metadata": {
        "id": "GaXYUGM07bky"
      },
      "execution_count": null,
      "outputs": []
    },
    {
      "cell_type": "code",
      "source": [
        "#To get the list of parameters required for calibration, we can use the following command:"
      ],
      "metadata": {
        "id": "sUde9A8Ams8B"
      },
      "execution_count": null,
      "outputs": []
    },
    {
      "cell_type": "code",
      "source": [
        "#3.6 Speckle Filtering"
      ],
      "metadata": {
        "id": "HiOu22QT0X-z"
      },
      "execution_count": null,
      "outputs": []
    },
    {
      "cell_type": "code",
      "source": [],
      "metadata": {
        "id": "CEaNISZhmj4L"
      },
      "execution_count": null,
      "outputs": []
    },
    {
      "cell_type": "markdown",
      "source": [
        "SAR images have inherent salt and pepper like txturing called speckle which degrades the quality of the image and make interpretation of features more difficult. Speckles are caused by random constructive nd destructive interference of the de-phased but coherent retuen waves scattered by the elementary sctters within each resolution cell. Speckle noise reduction can be applied either by spatial filtering or multilook processing."
      ],
      "metadata": {
        "id": "2ClBNc-0mkMw"
      }
    },
    {
      "cell_type": "code",
      "source": [
        "# Speckle Filtering Operator -snappy\n",
        "parameters =snappy.HashMap()\n",
        "parameters.put('filter','Lee')\n",
        "parameters.put('filterSizeX',5)\n",
        "parameters.put('filterSizeY',5)\n",
        "speckle=snappy.GPF.createProduct('speckle-Filter', parameters, calibrated)\n",
        "\n",
        "#Plot speckle filter(follow VV-VH order)\n",
        "output_bands=['Sigma0_VV','Sigma0_VH']\n",
        "output_view(speckle, output_bands, 0.00,0.21,0.00,0.048)"
      ],
      "metadata": {
        "id": "mgW8h7XjoLq8"
      },
      "execution_count": null,
      "outputs": []
    },
    {
      "cell_type": "code",
      "source": [
        "#3.7 Terrain Correction"
      ],
      "metadata": {
        "id": "4Oug6srnmkka"
      },
      "execution_count": null,
      "outputs": []
    },
    {
      "cell_type": "markdown",
      "source": [
        "Due to the topographical varaiations in the scene and the tilt of the satellite sensor, distances can be distorted in the SAR images. Image data not directly at the sensor's Nadir location will have some distortion. Terrain correction are intended to compensate for these distortions so that the geometric representation of the image will be as clase as possible to the real world."
      ],
      "metadata": {
        "id": "5pCPYWDOpffQ"
      }
    },
    {
      "cell_type": "code",
      "source": [
        "proj='''PROJCS[\"UTM Zone 4 / World Geodetic System 1984\",\n",
        "  GEOGCS[\"World Geodetic System 1984\",\n",
        "  DATUM[\"World Geodetic System 1984\",\n",
        "  SPHEROID[\"WGS 84\", 6378137.0, 298.257223563, AUTHORITY[\"EPSG\",\"7030\"]],\n",
        "  AUTHORITY[\"EPSG\",\"6326\"]],\n",
        "  PRIMEM[\"Greenwich\", 0.0, AUTHORITY[\"EPSG\",\"8901\"]],\n",
        "  UNIT[\"degree\", 0.017453292519943295],\n",
        "  AXIS[\"Geodetic longitude\", EAST],\n",
        "  AXIS[\"Geodetic latitude\", NORTH]],\n",
        "  PROJECTION[\"Transverse_Mercator\"],\n",
        "  PARAMETER[\"central_meridian\", 3.0],\n",
        "  PARAMETER[\"latitude_of_origin\", 0.0],\n",
        "  PARAMETER[\"scale_factor\", 0.9996],\n",
        "  PARAMETER[\"false_easting\", 500000.0],\n",
        "  PARAMETER[\"false_northing\", 0.0],\n",
        "  UNIT[\"m\", 1.0],\n",
        "  AXIS[\"Easting\", EAST],\n",
        "  AXIS[\"Northing\", NORTH]]'''\n",
        "\n",
        "#Terrain-Correction Operator -snappy\n",
        "parameters=snappy.HashMap()\n",
        "parameters.put('demName','SRTM 3Sec')\n",
        "parameters.put('imgResamplingMethod', 'BILINEAR_INTERPOLATION')\n",
        "parameters.put('pixelSpacingInMeter',10.0)\n",
        "parameters.put('mapProjection', proj)       # comment this line if no need to convert to UTM/WGS84, default is WGS84\n",
        "parameters.put('nodataValueAtSea', False)  #do not mask areas without elevation\n",
        "parameters.put('saveProjectedLocalIncidenceAngle', True)\n",
        "parameters.put('saveSelectedSourceBand', True)\n",
        "terrain_correCtion=snappy.GPF.createProduct('Terrain-Correction', parameters, speckle)\n",
        "\n",
        "# Plot terrain correction (follow VV-VH order)\n",
        "output_bands=['Sigma0_VV', 'Sigma0_VH'] # in this step Amplitude bands are lost?\n",
        "output_view(terrain_correction, output_bands, 0.00, 0.49, 0.00, 0.04)"
      ],
      "metadata": {
        "id": "4j9FrvFUqgLi"
      },
      "execution_count": null,
      "outputs": []
    },
    {
      "cell_type": "code",
      "source": [
        "#UTM projection parameters #github\n",
        "proj='''PROJCS[\"UTM Zone 4 / World Geodetic System 1984\",\n",
        "  GEOGCS[\"World Geodetic System 1984\",\n",
        "  DATUM[\"World Geodetic System 1984\",\n",
        "  SPHEROID[\"WGS 84\", 6378137.0, 298.257223563, AUTHORITY[\"EPSG\",\"7030\"]],\n",
        "  AUTHORITY[\"EPSG\",\"6326\"]],\n",
        "  PRIMEM[\"Greenwich\", 0.0, AUTHORITY[\"EPSG\",\"8901\"]],\n",
        "  UNIT[\"degree\", 0.017453292519943295],\n",
        "  AXIS[\"Geodetic longitude\", EAST],\n",
        "  AXIS[\"Geodetic latitude\", NORTH]],\n",
        "  PROJECTION[\"Transverse_Mercator\"],\n",
        "  PARAMETER[\"central_meridian\", -159.0],\n",
        "  PARAMETER[\"latitude_of_origin\", 0.0],\n",
        "  PARAMETER[\"scale_factor\", 0.9996],\n",
        "  PARAMETER[\"false_easting\", 500000.0],\n",
        "  PARAMETER[\"false_northing\", 0.0],\n",
        "  UNIT[\"m\", 1.0],\n",
        "  AXIS[\"Easting\", EAST],\n",
        "  AXIS[\"Northing\", NORTH]]'''\n",
        "\n",
        "\n"
      ],
      "metadata": {
        "id": "6vvnuTDAtJX6"
      },
      "execution_count": null,
      "outputs": []
    },
    {
      "cell_type": "code",
      "source": [
        "#3.8 Write"
      ],
      "metadata": {
        "id": "uMXUjI5YwZhp"
      },
      "execution_count": null,
      "outputs": []
    },
    {
      "cell_type": "code",
      "source": [],
      "metadata": {
        "id": "S3_gOAf4t3vT"
      },
      "execution_count": null,
      "outputs": []
    },
    {
      "cell_type": "markdown",
      "source": [
        "Once we have completed all preprocessing steps we can write our SAR products to file. In this occasion we will choose the GeoTiff format"
      ],
      "metadata": {
        "id": "Kl28MZC3wbzC"
      }
    },
    {
      "cell_type": "code",
      "source": [
        "#Set output path and name\n",
        "outpath_name='/shared/Training/PY01_Sentinel1Processing_snappy/Processing/snappy/20200418_Orb_Ther_Cal_Spk_TC'\n",
        "\n",
        "#Write Operator -snappy\n",
        "snappy.ProductIO.writeProduct(terrain_correction, outpath_name,'GeoTIFF')\n",
        "print(colored('Product successfully saved in:', 'green'), outpath_name)"
      ],
      "metadata": {
        "id": "ZzTOS6NBwyR5"
      },
      "execution_count": null,
      "outputs": []
    }
  ]
}