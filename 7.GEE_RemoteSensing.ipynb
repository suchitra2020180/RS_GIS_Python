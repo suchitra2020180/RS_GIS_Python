{
 "cells": [
  {
   "cell_type": "code",
   "execution_count": null,
   "id": "391c9d4c-5966-4e7d-bec1-0b45b0251198",
   "metadata": {},
   "outputs": [],
   "source": [
    "#Using Earth Engine Python API\n",
    "#Google earth engine"
   ]
  },
  {
   "cell_type": "code",
   "execution_count": 1,
   "id": "f59165e8-08ee-45b4-8a03-0c71ddceeddc",
   "metadata": {},
   "outputs": [],
   "source": [
    "#Libraries\n",
    "import pandas as pd\n",
    "import geopandas as gpd\n",
    "#Earth Engine\n",
    "import ee\n",
    "#Allow images to display into notebook\n",
    "from IPython.display import Image"
   ]
  },
  {
   "cell_type": "code",
   "execution_count": null,
   "id": "93d7bca9-a77f-4ca7-816b-2b6548c2a79b",
   "metadata": {},
   "outputs": [
    {
     "data": {
      "text/html": [
       "<p>To authorize access needed by Earth Engine, open the following\n",
       "        URL in a web browser and follow the instructions:</p>\n",
       "        <p><a href=https://code.earthengine.google.com/client-auth?scopes=https%3A//www.googleapis.com/auth/earthengine%20https%3A//www.googleapis.com/auth/devstorage.full_control&request_id=wxVP6osDzJMAS2L-UQjyeJceT7RlWMe-6uKGIASD4WM&tc=YdyYYA2Ma-k4RfB17xr9l6uhDS2XxxMITq99rdHlt4g&cc=ge3yo4AEhXaauR-clVIQf-DedSjBrL84iaHG5mY6juM>https://code.earthengine.google.com/client-auth?scopes=https%3A//www.googleapis.com/auth/earthengine%20https%3A//www.googleapis.com/auth/devstorage.full_control&request_id=wxVP6osDzJMAS2L-UQjyeJceT7RlWMe-6uKGIASD4WM&tc=YdyYYA2Ma-k4RfB17xr9l6uhDS2XxxMITq99rdHlt4g&cc=ge3yo4AEhXaauR-clVIQf-DedSjBrL84iaHG5mY6juM</a></p>\n",
       "        <p>The authorization workflow will generate a code, which you should paste in the box below.</p>\n",
       "        "
      ],
      "text/plain": [
       "<IPython.core.display.HTML object>"
      ]
     },
     "metadata": {},
     "output_type": "display_data"
    }
   ],
   "source": [
    "# Trigger the authentication flow.\n",
    "ee.Authenticate()\n",
    "\n",
    "# Initialize the library.\n",
    "ee.Initialize()\n",
    "#Note:Login to GEE first"
   ]
  },
  {
   "cell_type": "code",
   "execution_count": null,
   "id": "57b3ad61-de8e-49f4-982c-99f4fe1d4713",
   "metadata": {},
   "outputs": [],
   "source": []
  }
 ],
 "metadata": {
  "kernelspec": {
   "display_name": "Python 3 (ipykernel)",
   "language": "python",
   "name": "python3"
  },
  "language_info": {
   "codemirror_mode": {
    "name": "ipython",
    "version": 3
   },
   "file_extension": ".py",
   "mimetype": "text/x-python",
   "name": "python",
   "nbconvert_exporter": "python",
   "pygments_lexer": "ipython3",
   "version": "3.10.11"
  }
 },
 "nbformat": 4,
 "nbformat_minor": 5
}
