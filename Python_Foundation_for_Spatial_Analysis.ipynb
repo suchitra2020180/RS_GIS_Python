{
  "nbformat": 4,
  "nbformat_minor": 0,
  "metadata": {
    "colab": {
      "provenance": [],
      "collapsed_sections": [
        "Lr6xgH4Z12l6",
        "epymk8gU2c66",
        "PGb9IJXJKluM",
        "sP7QPghifobm",
        "awUmjXIWnJLd"
      ],
      "authorship_tag": "ABX9TyOjmflaPj8gqtPhyyOB0kCk",
      "include_colab_link": true
    },
    "kernelspec": {
      "name": "python3",
      "display_name": "Python 3"
    },
    "language_info": {
      "name": "python"
    }
  },
  "cells": [
    {
      "cell_type": "markdown",
      "metadata": {
        "id": "view-in-github",
        "colab_type": "text"
      },
      "source": [
        "<a href=\"https://colab.research.google.com/github/suchitra2020180/RS_GIS_Python/blob/main/Python_Foundation_for_Spatial_Analysis.ipynb\" target=\"_parent\"><img src=\"https://colab.research.google.com/assets/colab-badge.svg\" alt=\"Open In Colab\"/></a>"
      ]
    },
    {
      "cell_type": "code",
      "execution_count": null,
      "metadata": {
        "id": "8Ox0DIMYz7Ll"
      },
      "outputs": [],
      "source": [
        "#Spatial Thoughts Tutorials\n"
      ]
    },
    {
      "cell_type": "markdown",
      "source": [
        "#0.Hello World"
      ],
      "metadata": {
        "id": "Lr6xgH4Z12l6"
      }
    },
    {
      "cell_type": "code",
      "source": [
        "print(\"Hello World\")"
      ],
      "metadata": {
        "colab": {
          "base_uri": "https://localhost:8080/"
        },
        "id": "2QpIFpn615fZ",
        "outputId": "e404cd21-dc3a-4800-fc93-9ea8ea969302"
      },
      "execution_count": null,
      "outputs": [
        {
          "output_type": "stream",
          "name": "stdout",
          "text": [
            "Hello World\n"
          ]
        }
      ]
    },
    {
      "cell_type": "markdown",
      "source": [
        "#1.Variables"
      ],
      "metadata": {
        "id": "epymk8gU2c66"
      }
    },
    {
      "cell_type": "markdown",
      "source": [
        "##Strings\n",
        "A string is a sequence of letters, numbers, and punctuation marks - or commonly known as text\n",
        "\n",
        "In Python you can create a string by typing letters between single or double quotation marks."
      ],
      "metadata": {
        "id": "2FKLOaLt3YmT"
      }
    },
    {
      "cell_type": "code",
      "source": [
        "city=\"San Francisco\"\n",
        "state='California'\n",
        "print(city,state)"
      ],
      "metadata": {
        "colab": {
          "base_uri": "https://localhost:8080/"
        },
        "id": "9LeRXCdq3BTJ",
        "outputId": "90959d6f-5ce0-43e4-c541-dd0d8cc30d55"
      },
      "execution_count": null,
      "outputs": [
        {
          "output_type": "stream",
          "name": "stdout",
          "text": [
            "San Francisco California\n"
          ]
        }
      ]
    },
    {
      "cell_type": "code",
      "source": [
        "print(city + state)"
      ],
      "metadata": {
        "colab": {
          "base_uri": "https://localhost:8080/"
        },
        "id": "ol9tFXFZ3-h8",
        "outputId": "bb306533-2eb2-46c2-cdcb-30ff686fd803"
      },
      "execution_count": null,
      "outputs": [
        {
          "output_type": "stream",
          "name": "stdout",
          "text": [
            "San FranciscoCalifornia\n"
          ]
        }
      ]
    },
    {
      "cell_type": "code",
      "source": [
        "print(city+', '+state)"
      ],
      "metadata": {
        "colab": {
          "base_uri": "https://localhost:8080/"
        },
        "id": "Xx6tF5xN4CdK",
        "outputId": "06d9b2c0-ec35-40bd-caea-d0b291e5ec0f"
      },
      "execution_count": null,
      "outputs": [
        {
          "output_type": "stream",
          "name": "stdout",
          "text": [
            "San Francisco, California\n"
          ]
        }
      ]
    },
    {
      "cell_type": "markdown",
      "source": [
        "##Numbers\n",
        "Python can handle several types of numbers, but the two most common are:\n",
        "\n",
        "int, which represents integer values like 100, and\n",
        "float, which represents numbers that have a fraction part, like 0.5\n",
        "\n",
        "Dynamic typing: Python allows assiging of both numbers and strings to a same variable. This makes python as a dynamic typing language."
      ],
      "metadata": {
        "id": "SNZKI2oD4Isb"
      }
    },
    {
      "cell_type": "code",
      "source": [
        "population = 881549\n",
        "latitude = 37.7739\n",
        "longitude = -121.5687"
      ],
      "metadata": {
        "id": "towGOq9l4X_D"
      },
      "execution_count": null,
      "outputs": []
    },
    {
      "cell_type": "code",
      "source": [
        "print('Population:',population)\n",
        "print('Population Data Type:',type(population))"
      ],
      "metadata": {
        "colab": {
          "base_uri": "https://localhost:8080/"
        },
        "id": "M1Sr4cql4KPq",
        "outputId": "84052be5-9484-4952-a4ea-e99ef103ca11"
      },
      "execution_count": null,
      "outputs": [
        {
          "output_type": "stream",
          "name": "stdout",
          "text": [
            "Population: 881549\n",
            "Population Data Type: <class 'int'>\n"
          ]
        }
      ]
    },
    {
      "cell_type": "code",
      "source": [
        "print('latitude:',latitude)\n",
        "print('latitude Data Type:',type(latitude))"
      ],
      "metadata": {
        "colab": {
          "base_uri": "https://localhost:8080/"
        },
        "id": "oZ-U69IZ4oPt",
        "outputId": "5310a212-4109-454b-b0be-49fb8acf6b55"
      },
      "execution_count": null,
      "outputs": [
        {
          "output_type": "stream",
          "name": "stdout",
          "text": [
            "latitude: 37.7739\n",
            "latitude Data Type: <class 'float'>\n"
          ]
        }
      ]
    },
    {
      "cell_type": "code",
      "source": [
        "elevation_feet = 934\n",
        "#Converting feet to meters\n",
        "elevation_meters=elevation_feet*0.3048\n",
        "print('Elevation in meters:',elevation_meters)"
      ],
      "metadata": {
        "colab": {
          "base_uri": "https://localhost:8080/"
        },
        "id": "JYctkcPQ407r",
        "outputId": "de3e1ce1-54b9-451d-e432-947e071616d8"
      },
      "execution_count": null,
      "outputs": [
        {
          "output_type": "stream",
          "name": "stdout",
          "text": [
            "Elevation in meters: 284.6832\n"
          ]
        }
      ]
    },
    {
      "cell_type": "code",
      "source": [
        "area_sqmi = 46.89\n",
        "density = population / area_sqmi\n",
        "print('Density:',density)"
      ],
      "metadata": {
        "colab": {
          "base_uri": "https://localhost:8080/"
        },
        "id": "nINDE8NQ5QZl",
        "outputId": "b699c2af-1363-41e5-87ac-1265aa58b2d5"
      },
      "execution_count": null,
      "outputs": [
        {
          "output_type": "stream",
          "name": "stdout",
          "text": [
            "Density: 18800.362550650458\n"
          ]
        }
      ]
    },
    {
      "cell_type": "code",
      "source": [
        "population='1 million'\n",
        "print('Population:',population)\n",
        "print('Population Datatype:',type(population))"
      ],
      "metadata": {
        "colab": {
          "base_uri": "https://localhost:8080/"
        },
        "id": "kDBWyjyOJ3Z7",
        "outputId": "59e61b9f-79b0-4e93-9fd0-8eaee69bf3fe"
      },
      "execution_count": null,
      "outputs": [
        {
          "output_type": "stream",
          "name": "stdout",
          "text": [
            "Population: 1 million\n",
            "Population Datatype: <class 'str'>\n"
          ]
        }
      ]
    },
    {
      "cell_type": "markdown",
      "source": [
        "##Exercise\n",
        "We have a variable named distance_km below with the value 4135 - indicating the straight-line distance between San Francisco and New York in Kilometers. Create another variable called distance_mi and store the distance value in miles.\n",
        "\n",
        "Hint1: 1 mile = 1.60934 kilometers\n",
        "Add the code in the cell below and run it. The output should be 2569.37"
      ],
      "metadata": {
        "id": "1TAjEy0w5axc"
      }
    },
    {
      "cell_type": "code",
      "source": [
        "distance_km=4135\n",
        "distance_mi=distance_km/1.60934\n",
        "print('Distance in miles:',distance_mi)"
      ],
      "metadata": {
        "colab": {
          "base_uri": "https://localhost:8080/"
        },
        "id": "nhADjWvw44VD",
        "outputId": "7fcfd744-01c1-4f00-c7b8-59328ba9481b"
      },
      "execution_count": null,
      "outputs": [
        {
          "output_type": "stream",
          "name": "stdout",
          "text": [
            "Distance in miles: 2569.376266046951\n"
          ]
        }
      ]
    },
    {
      "cell_type": "markdown",
      "source": [
        "#2.Data Structures"
      ],
      "metadata": {
        "id": "PGb9IJXJKluM"
      }
    },
    {
      "cell_type": "markdown",
      "source": [
        "##Tuples\n",
        "A tuple is a sequence of objects. It can have any number of objects inside. In Python tuples are written with round brackets ()."
      ],
      "metadata": {
        "id": "8lwclkGDLHbq"
      }
    },
    {
      "cell_type": "code",
      "source": [
        "latitude = 37.7739\n",
        "longitude = -121.5687\n",
        "coordinates = (latitude, longitude)\n",
        "print(coordinates)"
      ],
      "metadata": {
        "colab": {
          "base_uri": "https://localhost:8080/"
        },
        "id": "4-NkqB7fLJBr",
        "outputId": "6b1d7035-66d1-4387-a7d6-627fc17ed7bf"
      },
      "execution_count": null,
      "outputs": [
        {
          "output_type": "stream",
          "name": "stdout",
          "text": [
            "(37.7739, -121.5687)\n"
          ]
        }
      ]
    },
    {
      "cell_type": "markdown",
      "source": [
        "You can access each item by its position, i.e. index. In programming, the counting starts from 0. So the first item has an index of 0, the second item an index of 1 and so now. The index has to be put inside square brackets []."
      ],
      "metadata": {
        "id": "GNf5u--rLWai"
      }
    },
    {
      "cell_type": "code",
      "source": [
        "y = coordinates[0]\n",
        "x = coordinates[1]\n",
        "print(x, y)"
      ],
      "metadata": {
        "colab": {
          "base_uri": "https://localhost:8080/"
        },
        "id": "H0w4FcCrLraK",
        "outputId": "0cc6a21d-27bf-47ff-abb1-f233168736ba"
      },
      "execution_count": null,
      "outputs": [
        {
          "output_type": "stream",
          "name": "stdout",
          "text": [
            "-121.5687 37.7739\n"
          ]
        }
      ]
    },
    {
      "cell_type": "markdown",
      "source": [
        "##Lists\n",
        "A list is similar to a tuple - but with a key difference. With tuples, once created, they cannot be changed, i.e. they are immutable. But lists are mutable. You can add, delete or change elements within a list. In Python, lists are written with square brackets []"
      ],
      "metadata": {
        "id": "w76OBzyILw6i"
      }
    },
    {
      "cell_type": "code",
      "source": [
        "cities = ['San Francisco', 'Los Angeles', 'New York', 'Atlanta']\n",
        "print(cities)"
      ],
      "metadata": {
        "colab": {
          "base_uri": "https://localhost:8080/"
        },
        "id": "jI9Zx6skUtNR",
        "outputId": "cb95a9c0-226d-4682-b98a-0382922f8821"
      },
      "execution_count": null,
      "outputs": [
        {
          "output_type": "stream",
          "name": "stdout",
          "text": [
            "['San Francisco', 'Los Angeles', 'New York', 'Atlanta']\n"
          ]
        }
      ]
    },
    {
      "cell_type": "markdown",
      "source": [
        "You can access the elements from a list using index the same way as tuples."
      ],
      "metadata": {
        "id": "oiX3zOE1ZkVh"
      }
    },
    {
      "cell_type": "code",
      "source": [
        "print(cities[0])"
      ],
      "metadata": {
        "colab": {
          "base_uri": "https://localhost:8080/"
        },
        "id": "1p3gRzxwZpE4",
        "outputId": "a2b50ce8-4691-4332-877f-f0b7abccc347"
      },
      "execution_count": null,
      "outputs": [
        {
          "output_type": "stream",
          "name": "stdout",
          "text": [
            "San Francisco\n"
          ]
        }
      ]
    },
    {
      "cell_type": "markdown",
      "source": [
        "You can call len() function with any Python object and it will calculates the size of the object"
      ],
      "metadata": {
        "id": "_Dma5X8pZwBx"
      }
    },
    {
      "cell_type": "code",
      "source": [
        "print(len(cities))"
      ],
      "metadata": {
        "colab": {
          "base_uri": "https://localhost:8080/"
        },
        "id": "UwmG-NSJZwwJ",
        "outputId": "889f1243-9e1a-42c3-ff12-291a2daf1657"
      },
      "execution_count": null,
      "outputs": [
        {
          "output_type": "stream",
          "name": "stdout",
          "text": [
            "5\n"
          ]
        }
      ]
    },
    {
      "cell_type": "markdown",
      "source": [
        "We can add items to the list using the append() method"
      ],
      "metadata": {
        "id": "y_cvaTNmZzIy"
      }
    },
    {
      "cell_type": "code",
      "source": [
        "cities.append('Boston')\n",
        "print(cities)"
      ],
      "metadata": {
        "colab": {
          "base_uri": "https://localhost:8080/"
        },
        "id": "oyT232BgaAP6",
        "outputId": "2c0a0316-eb6d-46c6-f913-dd5e4d074cf5"
      },
      "execution_count": null,
      "outputs": [
        {
          "output_type": "stream",
          "name": "stdout",
          "text": [
            "['San Francisco', 'Los Angeles', 'New York', 'Atlanta', 'Boston']\n"
          ]
        }
      ]
    },
    {
      "cell_type": "markdown",
      "source": [
        "As lists are mutable, you will see that the size of the list has now changed"
      ],
      "metadata": {
        "id": "GBgQLqfWaSRq"
      }
    },
    {
      "cell_type": "code",
      "source": [
        "print(len(cities))"
      ],
      "metadata": {
        "colab": {
          "base_uri": "https://localhost:8080/"
        },
        "id": "7OMtdcLtaSw6",
        "outputId": "8c0d5a62-ac79-4ee5-b254-d352ea4ccb5a"
      },
      "execution_count": null,
      "outputs": [
        {
          "output_type": "stream",
          "name": "stdout",
          "text": [
            "5\n"
          ]
        }
      ]
    },
    {
      "cell_type": "markdown",
      "source": [
        "Another useful method for lists is sort() - which can sort the elements in a list."
      ],
      "metadata": {
        "id": "O3Ee7vKMaaoy"
      }
    },
    {
      "cell_type": "code",
      "source": [
        "cities.sort()\n",
        "print(cities)"
      ],
      "metadata": {
        "colab": {
          "base_uri": "https://localhost:8080/"
        },
        "id": "JO9D37wJadVr",
        "outputId": "32b0ba68-81de-4e5e-ae14-3ebd9d9c6a19"
      },
      "execution_count": null,
      "outputs": [
        {
          "output_type": "stream",
          "name": "stdout",
          "text": [
            "['Atlanta', 'Boston', 'Los Angeles', 'New York', 'San Francisco']\n"
          ]
        }
      ]
    },
    {
      "cell_type": "markdown",
      "source": [
        "The default sorting is in ascending order. If we wanted to sort the list in a decending order, we can call the function with reverse=True"
      ],
      "metadata": {
        "id": "kTTA9lX_bZqq"
      }
    },
    {
      "cell_type": "code",
      "source": [
        "cities.sort(reverse=True)\n",
        "print(cities)"
      ],
      "metadata": {
        "colab": {
          "base_uri": "https://localhost:8080/"
        },
        "id": "5DIRlWnFbaMz",
        "outputId": "1aeed552-8846-4baf-81b5-ebdb64dbae79"
      },
      "execution_count": null,
      "outputs": [
        {
          "output_type": "stream",
          "name": "stdout",
          "text": [
            "['San Francisco', 'New York', 'Los Angeles', 'Boston', 'Atlanta']\n"
          ]
        }
      ]
    },
    {
      "cell_type": "markdown",
      "source": [
        "##Sets\n",
        "Sets are like lists, but with some interesting properties. Mainly that they contain only unique values. It also allows for set operations - such as intersection, union and difference. In practice, the sets are typically created from lists."
      ],
      "metadata": {
        "id": "fHxCv66OaVVS"
      }
    },
    {
      "cell_type": "code",
      "source": [
        "capitals = ['Sacramento', 'Boston', 'Austin', 'Atlanta']\n",
        "capitals_set = set(capitals)\n",
        "cities_set = set(cities)\n",
        "\n",
        "print('capitals_set:',capitals_set)\n",
        "print('cities_set:',cities_set)\n",
        "\n",
        "capital_cities = capitals_set.intersection(cities_set)\n",
        "print('capital_cities:',capital_cities)"
      ],
      "metadata": {
        "colab": {
          "base_uri": "https://localhost:8080/"
        },
        "id": "nkgMCSHWbzLC",
        "outputId": "b4c0d7eb-29c3-4752-e1e0-82f08bcfc545"
      },
      "execution_count": null,
      "outputs": [
        {
          "output_type": "stream",
          "name": "stdout",
          "text": [
            "capitals_set: {'Sacramento', 'Atlanta', 'Boston', 'Austin'}\n",
            "cities_set: {'New York', 'Los Angeles', 'Boston', 'San Francisco', 'Atlanta'}\n",
            "capital_cities: {'Atlanta', 'Boston'}\n"
          ]
        }
      ]
    },
    {
      "cell_type": "markdown",
      "source": [
        "Sets are also useful in finding unique elements in a list. Let’s merge the two lists using the extend() method. The resulting list will have duplicate elements. Creating a set from the list removes the duplicate elements."
      ],
      "metadata": {
        "id": "zX095FgKdW7L"
      }
    },
    {
      "cell_type": "code",
      "source": [
        "cities.extend(capitals)\n",
        "print('Cities:',cities)\n",
        "print('Set of cities:',set(cities))"
      ],
      "metadata": {
        "colab": {
          "base_uri": "https://localhost:8080/"
        },
        "id": "XNG2uzU-dhAc",
        "outputId": "ced649a2-7816-43f3-9795-500d23b27d1a"
      },
      "execution_count": null,
      "outputs": [
        {
          "output_type": "stream",
          "name": "stdout",
          "text": [
            "Cities: ['San Francisco', 'New York', 'Los Angeles', 'Boston', 'Atlanta', 'Sacramento', 'Boston', 'Austin', 'Atlanta']\n",
            "Set of cities: {'New York', 'Los Angeles', 'Boston', 'San Francisco', 'Sacramento', 'Austin', 'Atlanta'}\n"
          ]
        }
      ]
    },
    {
      "cell_type": "markdown",
      "source": [
        "##Dictionaries\n",
        "In Python dictionaries are written with curly brackets {}. Dictionaries have keys and values. With lists, we can access each element by its index. But a dictionary makes it easy to access the element by name. Keys and values are separated by a colon :."
      ],
      "metadata": {
        "id": "u98cbpB2efnj"
      }
    },
    {
      "cell_type": "code",
      "source": [
        "data = {'city': 'San Francisco', 'population': 881549, 'coordinates': (-122.4194, 37.7749) }\n",
        "print('Data:',data)"
      ],
      "metadata": {
        "colab": {
          "base_uri": "https://localhost:8080/"
        },
        "id": "5A80HuZxejVt",
        "outputId": "f3e44a95-86b5-4913-a42d-033f709aa3a6"
      },
      "execution_count": null,
      "outputs": [
        {
          "output_type": "stream",
          "name": "stdout",
          "text": [
            "Data: {'city': 'San Francisco', 'population': 881549, 'coordinates': (-122.4194, 37.7749)}\n"
          ]
        }
      ]
    },
    {
      "cell_type": "markdown",
      "source": [
        "You can access an item of a dictionary by referring to its key name, inside square brackets."
      ],
      "metadata": {
        "id": "M-Joa7k4eyt7"
      }
    },
    {
      "cell_type": "code",
      "source": [
        "print(data['city'])"
      ],
      "metadata": {
        "colab": {
          "base_uri": "https://localhost:8080/"
        },
        "id": "JJN_6-mSe3AE",
        "outputId": "02cbb252-2ddc-4e7a-fc81-6079c747ea05"
      },
      "execution_count": null,
      "outputs": [
        {
          "output_type": "stream",
          "name": "stdout",
          "text": [
            "San Francisco\n"
          ]
        }
      ]
    },
    {
      "cell_type": "markdown",
      "source": [
        "##Exercise\n",
        "From the dictionary below, how do you access the latitude and longitude values? print the latitude and longitude of new york city by extracting it from the dictionary below.\n",
        "\n",
        "nyc_data = {'city': 'New York', 'population': 8175133, 'coordinates': (40.661, -73.944) }\n",
        "\n",
        "The expected output should look like below.\n",
        "40.661\n",
        "-73.944"
      ],
      "metadata": {
        "id": "CjLZhLF8e7j8"
      }
    },
    {
      "cell_type": "code",
      "source": [
        "nyc_data = {'city': 'New York', 'population': 8175133, 'coordinates': (40.661, -73.944) }\n",
        "nyc_data['coordinates']"
      ],
      "metadata": {
        "colab": {
          "base_uri": "https://localhost:8080/"
        },
        "id": "ktk4tbE5fADk",
        "outputId": "96499ac5-8a81-4a77-b38b-e0ff2d98352c"
      },
      "execution_count": null,
      "outputs": [
        {
          "output_type": "execute_result",
          "data": {
            "text/plain": [
              "(40.661, -73.944)"
            ]
          },
          "metadata": {},
          "execution_count": 30
        }
      ]
    },
    {
      "cell_type": "code",
      "source": [
        "print(nyc_data['coordinates'][0])\n",
        "print(nyc_data['coordinates'][1])"
      ],
      "metadata": {
        "colab": {
          "base_uri": "https://localhost:8080/"
        },
        "id": "Zl5rN-HRfWHE",
        "outputId": "6bfebf5f-fcf4-4afc-ffea-f1fbdc6cb21d"
      },
      "execution_count": null,
      "outputs": [
        {
          "output_type": "stream",
          "name": "stdout",
          "text": [
            "40.661\n",
            "-73.944\n"
          ]
        }
      ]
    },
    {
      "cell_type": "markdown",
      "source": [
        "#3.String Operations"
      ],
      "metadata": {
        "id": "sP7QPghifobm"
      }
    },
    {
      "cell_type": "code",
      "source": [
        "city = 'San Francisco'\n",
        "print(len(city))"
      ],
      "metadata": {
        "colab": {
          "base_uri": "https://localhost:8080/"
        },
        "id": "wOA11xChflvc",
        "outputId": "9b9511fb-a50c-4118-88f3-cc02f70bfe6b"
      },
      "execution_count": null,
      "outputs": [
        {
          "output_type": "stream",
          "name": "stdout",
          "text": [
            "13\n"
          ]
        }
      ]
    },
    {
      "cell_type": "code",
      "source": [
        "print(city.split())"
      ],
      "metadata": {
        "colab": {
          "base_uri": "https://localhost:8080/"
        },
        "id": "EfbHw4hef4I9",
        "outputId": "34a93824-e870-4fe2-96b5-894887062841"
      },
      "execution_count": null,
      "outputs": [
        {
          "output_type": "stream",
          "name": "stdout",
          "text": [
            "['San', 'Francisco']\n"
          ]
        }
      ]
    },
    {
      "cell_type": "code",
      "source": [
        "print(city.upper())"
      ],
      "metadata": {
        "colab": {
          "base_uri": "https://localhost:8080/"
        },
        "id": "3boyv8aaf_wm",
        "outputId": "389f6de3-df15-4592-812c-f0bf17041d7c"
      },
      "execution_count": null,
      "outputs": [
        {
          "output_type": "stream",
          "name": "stdout",
          "text": [
            "SAN FRANCISCO\n"
          ]
        }
      ]
    },
    {
      "cell_type": "code",
      "source": [
        "city[0]"
      ],
      "metadata": {
        "colab": {
          "base_uri": "https://localhost:8080/",
          "height": 36
        },
        "id": "XNliFazcgCSk",
        "outputId": "09be6cd9-823e-4e1b-b4f5-bd6647132a14"
      },
      "execution_count": null,
      "outputs": [
        {
          "output_type": "execute_result",
          "data": {
            "text/plain": [
              "'S'"
            ],
            "application/vnd.google.colaboratory.intrinsic+json": {
              "type": "string"
            }
          },
          "metadata": {},
          "execution_count": 36
        }
      ]
    },
    {
      "cell_type": "code",
      "source": [
        "city[-1]"
      ],
      "metadata": {
        "colab": {
          "base_uri": "https://localhost:8080/",
          "height": 36
        },
        "id": "ZvC4ORDWgEP8",
        "outputId": "0813cb06-a2ec-4d86-f3a3-335a4971f868"
      },
      "execution_count": null,
      "outputs": [
        {
          "output_type": "execute_result",
          "data": {
            "text/plain": [
              "'o'"
            ],
            "application/vnd.google.colaboratory.intrinsic+json": {
              "type": "string"
            }
          },
          "metadata": {},
          "execution_count": 37
        }
      ]
    },
    {
      "cell_type": "code",
      "source": [
        "city[0:3]"
      ],
      "metadata": {
        "colab": {
          "base_uri": "https://localhost:8080/",
          "height": 36
        },
        "id": "JRcXIz2vgHC1",
        "outputId": "18e1a097-ded4-4e0e-eaa6-4f1ddd646ea4"
      },
      "execution_count": null,
      "outputs": [
        {
          "output_type": "execute_result",
          "data": {
            "text/plain": [
              "'San'"
            ],
            "application/vnd.google.colaboratory.intrinsic+json": {
              "type": "string"
            }
          },
          "metadata": {},
          "execution_count": 38
        }
      ]
    },
    {
      "cell_type": "code",
      "source": [
        "city[4:]"
      ],
      "metadata": {
        "colab": {
          "base_uri": "https://localhost:8080/",
          "height": 36
        },
        "id": "4Oz7ln0tgK53",
        "outputId": "4c36b89f-0fe1-4ef6-9eff-1b88e4a6174d"
      },
      "execution_count": null,
      "outputs": [
        {
          "output_type": "execute_result",
          "data": {
            "text/plain": [
              "'Francisco'"
            ],
            "application/vnd.google.colaboratory.intrinsic+json": {
              "type": "string"
            }
          },
          "metadata": {},
          "execution_count": 39
        }
      ]
    },
    {
      "cell_type": "markdown",
      "source": [
        "##Escaping characters\n",
        "Certain characters are special since they are by Python language itself. For example, the quote character ’ is used to define a string. What do you do if your string contains a quote character?\n",
        "\n",
        "In Python strings, the backslash \\ is a special character, also called the escape character. Prefixing any character with a backslash makes it an ordinary character. (Hint: Prefixing a backslash with a backshalsh makes it ordinary too!)\n",
        "\n",
        "It is also used for representing certain whitespace characters, \\n is a newline, \\t is a tab etc.\n",
        "\n",
        "Remove the # from the cell below and run it."
      ],
      "metadata": {
        "id": "5oQEWOahgPQ8"
      }
    },
    {
      "cell_type": "code",
      "source": [
        "my_string = 'It's a beautiful day!'\n",
        "my_string"
      ],
      "metadata": {
        "colab": {
          "base_uri": "https://localhost:8080/",
          "height": 106
        },
        "id": "W7s6gpBCgeIM",
        "outputId": "8d6eec73-b7bb-44fe-8964-129a56e986e1"
      },
      "execution_count": null,
      "outputs": [
        {
          "output_type": "error",
          "ename": "SyntaxError",
          "evalue": "unterminated string literal (detected at line 1) (<ipython-input-43-bcc4f97b09d1>, line 1)",
          "traceback": [
            "\u001b[0;36m  File \u001b[0;32m\"<ipython-input-43-bcc4f97b09d1>\"\u001b[0;36m, line \u001b[0;32m1\u001b[0m\n\u001b[0;31m    my_string = 'It's a beautiful day!'\u001b[0m\n\u001b[0m                                      ^\u001b[0m\n\u001b[0;31mSyntaxError\u001b[0m\u001b[0;31m:\u001b[0m unterminated string literal (detected at line 1)\n"
          ]
        }
      ]
    },
    {
      "cell_type": "markdown",
      "source": [
        "We can fix the error by espacing the single quote within the string."
      ],
      "metadata": {
        "id": "XLQjdO2bhHsN"
      }
    },
    {
      "cell_type": "code",
      "source": [
        "my_string = 'It\\'s a beautiful day!'\n",
        "print(my_string)"
      ],
      "metadata": {
        "colab": {
          "base_uri": "https://localhost:8080/"
        },
        "id": "eqCLCvalhKAt",
        "outputId": "b05a4901-e88d-4108-93c6-25fb1cdae527"
      },
      "execution_count": null,
      "outputs": [
        {
          "output_type": "stream",
          "name": "stdout",
          "text": [
            "It's a beautiful day!\n"
          ]
        }
      ]
    },
    {
      "cell_type": "markdown",
      "source": [
        "Alternatively, you can also use double-quotes if your string contains a single-quote"
      ],
      "metadata": {
        "id": "eRJV2KvPha7l"
      }
    },
    {
      "cell_type": "code",
      "source": [
        "my_string = \"It's a beautiful day!\"\n",
        "my_string"
      ],
      "metadata": {
        "colab": {
          "base_uri": "https://localhost:8080/",
          "height": 36
        },
        "id": "FB8QGmztguec",
        "outputId": "7c2a6d70-5490-4c85-869a-4a30c71f780f"
      },
      "execution_count": null,
      "outputs": [
        {
          "output_type": "execute_result",
          "data": {
            "text/plain": [
              "\"It's a beautiful day!\""
            ],
            "application/vnd.google.colaboratory.intrinsic+json": {
              "type": "string"
            }
          },
          "metadata": {},
          "execution_count": 42
        }
      ]
    },
    {
      "cell_type": "markdown",
      "source": [
        "What if our string contains both single and double quotes?\n",
        "\n",
        "We can use triple-quotes! Enclosing the string in triple quotes ensures both single and double quotes are treated correctly."
      ],
      "metadata": {
        "id": "gEtOHeyyh8d9"
      }
    },
    {
      "cell_type": "code",
      "source": [
        "latitude = '''37° 46' 26.2992\" N'''\n",
        "longitude = '''122° 25' 52.6692\" W'''\n",
        "print(latitude, longitude)\n",
        "print('Latitude:',latitude)"
      ],
      "metadata": {
        "colab": {
          "base_uri": "https://localhost:8080/"
        },
        "id": "-fnoaVsQh9CO",
        "outputId": "2c4c5765-beb8-4e87-e4a6-efd53537f6e2"
      },
      "execution_count": null,
      "outputs": [
        {
          "output_type": "stream",
          "name": "stdout",
          "text": [
            "37° 46' 26.2992\" N 122° 25' 52.6692\" W\n",
            "Latitude: 37° 46' 26.2992\" N\n"
          ]
        }
      ]
    },
    {
      "cell_type": "markdown",
      "source": [
        "Backslashes pose another problem when dealing with Windows paths"
      ],
      "metadata": {
        "id": "PpR0O271iRHb"
      }
    },
    {
      "cell_type": "code",
      "source": [
        "path = 'C:\\Users\\Suchitra'\n",
        "print(path)"
      ],
      "metadata": {
        "colab": {
          "base_uri": "https://localhost:8080/",
          "height": 106
        },
        "id": "bTshkVv3iQM9",
        "outputId": "1c65d6bb-8b71-4c27-d3c3-eb1a80f46e56"
      },
      "execution_count": null,
      "outputs": [
        {
          "output_type": "error",
          "ename": "SyntaxError",
          "evalue": "(unicode error) 'unicodeescape' codec can't decode bytes in position 2-3: truncated \\UXXXXXXXX escape (<ipython-input-47-7ad945b2aeda>, line 1)",
          "traceback": [
            "\u001b[0;36m  File \u001b[0;32m\"<ipython-input-47-7ad945b2aeda>\"\u001b[0;36m, line \u001b[0;32m1\u001b[0m\n\u001b[0;31m    path = 'C:\\Users\\Suchitra'\u001b[0m\n\u001b[0m                              ^\u001b[0m\n\u001b[0;31mSyntaxError\u001b[0m\u001b[0;31m:\u001b[0m (unicode error) 'unicodeescape' codec can't decode bytes in position 2-3: truncated \\UXXXXXXXX escape\n"
          ]
        }
      ]
    },
    {
      "cell_type": "markdown",
      "source": [
        "Prefixing a string with r makes is a Raw string. Which doesn’t interpret backslash as a special character"
      ],
      "metadata": {
        "id": "D8vbk0zgixxW"
      }
    },
    {
      "cell_type": "code",
      "source": [
        "path = r'C:\\Users\\Suchitra'\n",
        "print(path)"
      ],
      "metadata": {
        "colab": {
          "base_uri": "https://localhost:8080/"
        },
        "id": "Q5OcEdJCi0KX",
        "outputId": "091531a7-c44e-4a6e-909e-3ff45b6587cc"
      },
      "execution_count": null,
      "outputs": [
        {
          "output_type": "stream",
          "name": "stdout",
          "text": [
            "C:\\Users\\Suchitra\n"
          ]
        }
      ]
    },
    {
      "cell_type": "markdown",
      "source": [
        "##Printing Strings\n",
        "Python provides a few different ways to create strings from variables. Let’s learn about the two preferred methods.\n",
        "\n",
        "##String format() Method\n",
        "We can use the string format() method to create a string with curly-braces and specify the values to fill in each field."
      ],
      "metadata": {
        "id": "QA39XDbLi452"
      }
    },
    {
      "cell_type": "code",
      "source": [
        "city = 'San Francisco'\n",
        "population = 881549\n",
        "print('Population of {} is {}'.format(city ,population))"
      ],
      "metadata": {
        "colab": {
          "base_uri": "https://localhost:8080/"
        },
        "id": "Ocbs48EkjFin",
        "outputId": "e7812143-7b21-4d10-b79c-475984c52048"
      },
      "execution_count": null,
      "outputs": [
        {
          "output_type": "stream",
          "name": "stdout",
          "text": [
            "Population of San Francisco is 881549\n"
          ]
        }
      ]
    },
    {
      "cell_type": "markdown",
      "source": [
        "We can also use the format method to control the precision of the numbers"
      ],
      "metadata": {
        "id": "TTHORzXRjqQO"
      }
    },
    {
      "cell_type": "code",
      "source": [
        "latitude = 37.7749\n",
        "longitude = -122.4194\n",
        "\n",
        "#Reducing decimals to 2 digits\n",
        "coordinates = '{:.2f},{:.2f}'.format(latitude, longitude)\n",
        "print(coordinates)"
      ],
      "metadata": {
        "colab": {
          "base_uri": "https://localhost:8080/"
        },
        "id": "KnA00wErjrfG",
        "outputId": "ee781a72-1121-4d65-9d0b-756a491650c7"
      },
      "execution_count": null,
      "outputs": [
        {
          "output_type": "stream",
          "name": "stdout",
          "text": [
            "37.77,-122.42\n"
          ]
        }
      ]
    },
    {
      "cell_type": "markdown",
      "source": [
        "##F-Strings\n",
        "\n",
        "Since Python 3.6, we have an improved way for string formatting called f-strings - which stands for formatted string literals. It works similarly to the format() function but provides a more concise syntax. We create an f-string by adding a prefix f to any string. The variables within curly-braces inside a f-string are replaced with their values."
      ],
      "metadata": {
        "id": "4_ezmA3xj-6H"
      }
    },
    {
      "cell_type": "code",
      "source": [
        "city = 'San Francisco'\n",
        "population = 881549\n",
        "print(f'Population of {city} is {population}.')"
      ],
      "metadata": {
        "colab": {
          "base_uri": "https://localhost:8080/"
        },
        "id": "FPup8jp8kCH3",
        "outputId": "2064362e-961f-4277-ec4a-188d9c304285"
      },
      "execution_count": null,
      "outputs": [
        {
          "output_type": "stream",
          "name": "stdout",
          "text": [
            "Population of San Francisco is 881549.\n"
          ]
        }
      ]
    },
    {
      "cell_type": "markdown",
      "source": [
        "The same formatting operators we saw earlier works with f-strings."
      ],
      "metadata": {
        "id": "kbHpDbFYkcrG"
      }
    },
    {
      "cell_type": "code",
      "source": [
        "latitude = 37.7749\n",
        "longitude = -122.4194\n",
        "\n",
        "coordinates = f'{latitude:.2f},{longitude:.2f}'\n",
        "print(coordinates)"
      ],
      "metadata": {
        "colab": {
          "base_uri": "https://localhost:8080/"
        },
        "id": "HgR0UxR7j_m-",
        "outputId": "a2258581-ce26-4d94-9c84-9248f4e303b3"
      },
      "execution_count": null,
      "outputs": [
        {
          "output_type": "stream",
          "name": "stdout",
          "text": [
            "37.77,-122.42\n"
          ]
        }
      ]
    },
    {
      "cell_type": "markdown",
      "source": [
        "We find that while f-strings are modern and concise - beginners find it more intuitive to use the format() method, so we will prefer format() over f-strings in this course. But you are free to use any method of your choice."
      ],
      "metadata": {
        "id": "M3ekFkfLkq1Y"
      }
    },
    {
      "cell_type": "markdown",
      "source": [
        "##Exercise\n",
        "Use the string slicing to extract and print the degrees, minutes and second parts of the string below.\n",
        "latitude = '''37° 46' 26.2992\"'''\n",
        "\n",
        "The output should be as follows\n",
        "\n",
        "37\n",
        "\n",
        "46\n",
        "\n",
        "26.2992"
      ],
      "metadata": {
        "id": "jq4SSNP4k9i_"
      }
    },
    {
      "cell_type": "code",
      "source": [
        "latitude = '''37° 46' 26.2992\"'''\n",
        "print(latitude.split())"
      ],
      "metadata": {
        "colab": {
          "base_uri": "https://localhost:8080/"
        },
        "id": "9Gn9I59llAcy",
        "outputId": "53b9e1c2-2d5a-48e2-f0ee-157a81e794fd"
      },
      "execution_count": null,
      "outputs": [
        {
          "output_type": "stream",
          "name": "stdout",
          "text": [
            "['37°', \"46'\", '26.2992\"']\n"
          ]
        }
      ]
    },
    {
      "cell_type": "code",
      "source": [
        "print(latitude.split('°'))\n",
        "print(latitude.split('°')[0])\n",
        "#print(latitude.split('°')[1])\n",
        "\n",
        "print(latitude.split('°')[1].split(\"'\")[0])\n",
        "\n",
        "print(latitude.split('°')[1].split(\"'\")[1].split('\"')[0])"
      ],
      "metadata": {
        "colab": {
          "base_uri": "https://localhost:8080/"
        },
        "id": "DmADxA8ilfH3",
        "outputId": "29fa3587-cc23-4c6b-f28c-fa213280db7f"
      },
      "execution_count": null,
      "outputs": [
        {
          "output_type": "stream",
          "name": "stdout",
          "text": [
            "['37', ' 46\\' 26.2992\"']\n",
            "37\n",
            " 46\n",
            " 26.2992\n"
          ]
        }
      ]
    },
    {
      "cell_type": "markdown",
      "source": [
        "#4. Loops and Conditionals\n",
        "# For Loops"
      ],
      "metadata": {
        "id": "awUmjXIWnJLd"
      }
    },
    {
      "cell_type": "markdown",
      "source": [
        "A for loop is used for iterating over a sequence. The sequence can be a list, a tuple, a dictionary, a set, or a string."
      ],
      "metadata": {
        "id": "dci-F_uInRO4"
      }
    },
    {
      "cell_type": "code",
      "source": [
        "cities = ['San Francisco', 'Los Angeles', 'New York', 'Atlanta']\n",
        "\n",
        "for city in cities:\n",
        "    print(city)"
      ],
      "metadata": {
        "colab": {
          "base_uri": "https://localhost:8080/"
        },
        "id": "Cka0BXrsqk96",
        "outputId": "273a8c98-6827-43bf-db3d-5367f8b2bbbe"
      },
      "execution_count": null,
      "outputs": [
        {
          "output_type": "stream",
          "name": "stdout",
          "text": [
            "San Francisco\n",
            "Los Angeles\n",
            "New York\n",
            "Atlanta\n"
          ]
        }
      ]
    },
    {
      "cell_type": "markdown",
      "source": [
        "To iterate over a dictionary, you can call the items() method on it which returns a tuple of key and value for each item."
      ],
      "metadata": {
        "id": "k0knJTV5qtCt"
      }
    },
    {
      "cell_type": "code",
      "source": [
        "data = {'city': 'San Francisco', 'population': 881549, 'coordinates': (-122.4194, 37.7749) }\n",
        "\n",
        "for x, y in data.items():\n",
        "    print(x, y)"
      ],
      "metadata": {
        "colab": {
          "base_uri": "https://localhost:8080/"
        },
        "id": "_NoQOCEHqy6D",
        "outputId": "ec52c4fd-e7a7-4420-d9a3-5652eb500c37"
      },
      "execution_count": null,
      "outputs": [
        {
          "output_type": "stream",
          "name": "stdout",
          "text": [
            "city San Francisco\n",
            "population 881549\n",
            "coordinates (-122.4194, 37.7749)\n"
          ]
        }
      ]
    },
    {
      "cell_type": "markdown",
      "source": [
        "The built-in range() function allows you to create sequence of numbers that you can iterate over"
      ],
      "metadata": {
        "id": "uFn_zO6Lerrt"
      }
    },
    {
      "cell_type": "code",
      "source": [
        "for x in range(5):\n",
        "    print(x)"
      ],
      "metadata": {
        "colab": {
          "base_uri": "https://localhost:8080/"
        },
        "id": "LEQhMv4NesNT",
        "outputId": "99546feb-ddf1-4159-deb9-0efb2ed0ae97"
      },
      "execution_count": null,
      "outputs": [
        {
          "output_type": "stream",
          "name": "stdout",
          "text": [
            "0\n",
            "1\n",
            "2\n",
            "3\n",
            "4\n"
          ]
        }
      ]
    },
    {
      "cell_type": "markdown",
      "source": [
        "The range function can also take a start and an end number"
      ],
      "metadata": {
        "id": "2UvStKkyexVU"
      }
    },
    {
      "cell_type": "code",
      "source": [
        "for x in range(1, 10, 2):\n",
        "    print(x)"
      ],
      "metadata": {
        "colab": {
          "base_uri": "https://localhost:8080/"
        },
        "id": "BPOOC7ile1Qc",
        "outputId": "cb9e6c9e-3db1-4df4-a076-a5806ad85d60"
      },
      "execution_count": null,
      "outputs": [
        {
          "output_type": "stream",
          "name": "stdout",
          "text": [
            "1\n",
            "3\n",
            "5\n",
            "7\n",
            "9\n"
          ]
        }
      ]
    },
    {
      "cell_type": "markdown",
      "source": [
        "##Conditionals\n",
        "Python supports logical conditions such as equals, not equals, greater than etc. These conditions can be used in several ways, most commonly in if statements and loops.\n",
        "\n",
        "An if statement is written by using the if keyword.\n",
        "\n",
        "Note: A very common error that programmers make is to use = to evaluate a equals to condition. The = in Python means assignment, not equals to. Always ensure that you use the == for an equals to condition."
      ],
      "metadata": {
        "id": "gNRwDkFSe7YL"
      }
    },
    {
      "cell_type": "code",
      "source": [
        "for city in cities:\n",
        "    if city == 'Atlanta':\n",
        "        print(city)"
      ],
      "metadata": {
        "colab": {
          "base_uri": "https://localhost:8080/"
        },
        "id": "1Ds_5LTcfGVz",
        "outputId": "6a3beb9d-2729-4f52-8976-fa3463d09484"
      },
      "execution_count": null,
      "outputs": [
        {
          "output_type": "stream",
          "name": "stdout",
          "text": [
            "Atlanta\n"
          ]
        }
      ]
    },
    {
      "cell_type": "markdown",
      "source": [
        "You can use else keywords along with if to match elements that do not meet the condition"
      ],
      "metadata": {
        "id": "U86jNk2nfWys"
      }
    },
    {
      "cell_type": "code",
      "source": [
        "for city in cities:\n",
        "    if city == 'Atlanta':\n",
        "        print(city)\n",
        "    else:\n",
        "        print('This is not Atlanta')"
      ],
      "metadata": {
        "colab": {
          "base_uri": "https://localhost:8080/"
        },
        "id": "K_LoiDQGfbts",
        "outputId": "8acc9fec-bc16-4202-ed17-ca76499c0e53"
      },
      "execution_count": null,
      "outputs": [
        {
          "output_type": "stream",
          "name": "stdout",
          "text": [
            "This is not Atlanta\n",
            "This is not Atlanta\n",
            "This is not Atlanta\n",
            "Atlanta\n"
          ]
        }
      ]
    },
    {
      "cell_type": "markdown",
      "source": [
        "Python relies on indentation (whitespace at the beginning of a line) to define scope in the for loop and if statements. So make sure your code is properly indented.\n",
        "\n",
        "You can evaluate a series of conditions using the elif keyword.\n",
        "\n",
        "Multiple criteria can be combined using the and and or keywords."
      ],
      "metadata": {
        "id": "zOEEDwoTfePE"
      }
    },
    {
      "cell_type": "code",
      "source": [
        "cities_population = {\n",
        "    'San Francisco': 881549,\n",
        "    'Los Angeles': 3792621,\n",
        "    'New York': 8175133,\n",
        "    'Atlanta':498044\n",
        "}\n",
        "\n",
        "for city, population in cities_population.items():\n",
        "    if population < 1000000:\n",
        "        print('{} is a small city'.format(city))\n",
        "    elif population > 1000000 and population < 5000000:\n",
        "        print('{} is a big city'.format(city))\n",
        "    else:\n",
        "        print('{} is a mega city'.format(city))"
      ],
      "metadata": {
        "colab": {
          "base_uri": "https://localhost:8080/"
        },
        "id": "zooRfI-Wf6oF",
        "outputId": "a91b2abc-e21f-4eb1-9e67-c22fd17d2ae5"
      },
      "execution_count": null,
      "outputs": [
        {
          "output_type": "stream",
          "name": "stdout",
          "text": [
            "San Francisco is a small city\n",
            "Los Angeles is a big city\n",
            "New York is a mega city\n",
            "Atlanta is a small city\n"
          ]
        }
      ]
    },
    {
      "cell_type": "code",
      "source": [
        "cities_population.items()"
      ],
      "metadata": {
        "colab": {
          "base_uri": "https://localhost:8080/"
        },
        "id": "AJ1nq5ku7eGM",
        "outputId": "8f93ad54-c525-45bd-dc84-90560c2c98fe"
      },
      "execution_count": null,
      "outputs": [
        {
          "output_type": "execute_result",
          "data": {
            "text/plain": [
              "dict_items([('San Francisco', 881549), ('Los Angeles', 3792621), ('New York', 8175133), ('Atlanta', 498044)])"
            ]
          },
          "metadata": {},
          "execution_count": 3
        }
      ]
    },
    {
      "cell_type": "markdown",
      "source": [
        "##Control Statements\n",
        "A for-loop iterates over each item in the sequence. Sometimes is desirable to stop the execution, or skip certain parts of the for-loops. Python has special statements, break, continue and pass.\n",
        "\n",
        "A break statement will stop the loop and exit out of it"
      ],
      "metadata": {
        "id": "r-DW9MAEf-Yu"
      }
    },
    {
      "cell_type": "code",
      "source": [
        "for city in cities:\n",
        "    print(city)\n",
        "    if city == 'Los Angeles':\n",
        "        print('I found Los Angeles')\n",
        "        break"
      ],
      "metadata": {
        "colab": {
          "base_uri": "https://localhost:8080/"
        },
        "id": "Y7KnhyNsgCAV",
        "outputId": "3f0b7a78-9add-4be4-cf77-4de2e162f466"
      },
      "execution_count": null,
      "outputs": [
        {
          "output_type": "stream",
          "name": "stdout",
          "text": [
            "San Francisco\n",
            "Los Angeles\n",
            "I found Los Angeles\n"
          ]
        }
      ]
    },
    {
      "cell_type": "markdown",
      "source": [
        "A continue statement will skip the remaining part of the loop and go to the next iteration"
      ],
      "metadata": {
        "id": "LR0c1puoglRO"
      }
    },
    {
      "cell_type": "code",
      "source": [
        "for city in cities:\n",
        "    if city == 'Los Angeles':\n",
        "        continue\n",
        "    print(city)"
      ],
      "metadata": {
        "colab": {
          "base_uri": "https://localhost:8080/"
        },
        "id": "DumZamxngl01",
        "outputId": "c87e6771-8502-436d-8eed-fa84e3ff51c5"
      },
      "execution_count": null,
      "outputs": [
        {
          "output_type": "stream",
          "name": "stdout",
          "text": [
            "San Francisco\n",
            "New York\n",
            "Atlanta\n"
          ]
        }
      ]
    },
    {
      "cell_type": "markdown",
      "source": [
        "A pass statement doesn’t do anything. It is useful when some code is required to complete the syntax, but you do not want any code to execute. It is typically used as a placeholder when a function is not complete."
      ],
      "metadata": {
        "id": "AWTEIyMKhLit"
      }
    },
    {
      "cell_type": "code",
      "source": [
        "for city in cities:\n",
        "    if city == 'Los Angeles':\n",
        "        pass\n",
        "    else:\n",
        "        print(city)"
      ],
      "metadata": {
        "colab": {
          "base_uri": "https://localhost:8080/"
        },
        "id": "GV8VIuZJhMJm",
        "outputId": "60766192-0a2c-46ef-99ec-ea05c6f8307c"
      },
      "execution_count": null,
      "outputs": [
        {
          "output_type": "stream",
          "name": "stdout",
          "text": [
            "San Francisco\n",
            "New York\n",
            "Atlanta\n"
          ]
        }
      ]
    },
    {
      "cell_type": "markdown",
      "source": [
        "##Exercise\n",
        "The Fizz Buzz challenge.\n",
        "\n",
        "Write a program that prints the numbers from 1 to 100 and for multiples of 3 print Fizz instead of the number and for the multiples of 5 print Buzz. If it is divisible by both, print FizzBuzz.\n",
        "\n",
        "So the output should be something like below\n",
        "\n",
        "1, 2, Fizz, 4, Buzz, Fizz ... 13, 14, FizzBuzz, ...\n",
        "\n",
        "Breaking down the problem further, we need to create for-loop with following conditions\n",
        "\n",
        "If the number is a multiple of both 3 and 5 (i.e. 15), print FizzBuzz\n",
        "If the number is multiple of 3, print Fizz\n",
        "If the number is multiple of 5, print Buzz\n",
        "Otherwise print the number\n",
        "Hint: See the code cell below. Use the modulus operator % to check if a number is divisible by another. 10 % 5 equals 0, meaning it is divisible by 5."
      ],
      "metadata": {
        "id": "AzCGALcxhXvd"
      }
    },
    {
      "cell_type": "code",
      "source": [
        "for i in range(1,100):\n",
        "  if (i%3==0) & (i%5==0):\n",
        "    print('FizzBuzz')\n",
        "  elif (i%3==0):\n",
        "    print('Fizz')\n",
        "  elif (i%5==0):\n",
        "    print('Buzz')\n",
        "  else:\n",
        "    print(i)"
      ],
      "metadata": {
        "id": "nMQzkq_4hWw2",
        "colab": {
          "base_uri": "https://localhost:8080/"
        },
        "outputId": "68671d70-0289-44ea-fe18-830fe7e625a9"
      },
      "execution_count": null,
      "outputs": [
        {
          "output_type": "stream",
          "name": "stdout",
          "text": [
            "1\n",
            "2\n",
            "Fizz\n",
            "4\n",
            "Buzz\n",
            "Fizz\n",
            "7\n",
            "8\n",
            "Fizz\n",
            "Buzz\n",
            "11\n",
            "Fizz\n",
            "13\n",
            "14\n",
            "FizzBuzz\n",
            "16\n",
            "17\n",
            "Fizz\n",
            "19\n",
            "Buzz\n",
            "Fizz\n",
            "22\n",
            "23\n",
            "Fizz\n",
            "Buzz\n",
            "26\n",
            "Fizz\n",
            "28\n",
            "29\n",
            "FizzBuzz\n",
            "31\n",
            "32\n",
            "Fizz\n",
            "34\n",
            "Buzz\n",
            "Fizz\n",
            "37\n",
            "38\n",
            "Fizz\n",
            "Buzz\n",
            "41\n",
            "Fizz\n",
            "43\n",
            "44\n",
            "FizzBuzz\n",
            "46\n",
            "47\n",
            "Fizz\n",
            "49\n",
            "Buzz\n",
            "Fizz\n",
            "52\n",
            "53\n",
            "Fizz\n",
            "Buzz\n",
            "56\n",
            "Fizz\n",
            "58\n",
            "59\n",
            "FizzBuzz\n",
            "61\n",
            "62\n",
            "Fizz\n",
            "64\n",
            "Buzz\n",
            "Fizz\n",
            "67\n",
            "68\n",
            "Fizz\n",
            "Buzz\n",
            "71\n",
            "Fizz\n",
            "73\n",
            "74\n",
            "FizzBuzz\n",
            "76\n",
            "77\n",
            "Fizz\n",
            "79\n",
            "Buzz\n",
            "Fizz\n",
            "82\n",
            "83\n",
            "Fizz\n",
            "Buzz\n",
            "86\n",
            "Fizz\n",
            "88\n",
            "89\n",
            "FizzBuzz\n",
            "91\n",
            "92\n",
            "Fizz\n",
            "94\n",
            "Buzz\n",
            "Fizz\n",
            "97\n",
            "98\n",
            "Fizz\n"
          ]
        }
      ]
    },
    {
      "cell_type": "markdown",
      "source": [
        "#5.Functions"
      ],
      "metadata": {
        "id": "CZfGk_tM_KbE"
      }
    },
    {
      "cell_type": "markdown",
      "source": [
        "A function is a block of code that takes one or more inputs, does some processing on them and returns one or more outputs. The code within the function runs only when it is called.\n",
        "\n",
        "A funtion is defined using the def keyword"
      ],
      "metadata": {
        "id": "6vAfLXqdBN9y"
      }
    },
    {
      "cell_type": "code",
      "source": [
        "def my_function():\n",
        "    ....\n",
        "    ....\n",
        "    return something"
      ],
      "metadata": {
        "id": "axLiKO9QBT7p"
      },
      "execution_count": null,
      "outputs": []
    },
    {
      "cell_type": "markdown",
      "source": [
        "Functions are useful because they allow us to capture the logic of our code and we can run it with differnt inputs without having to write the same code again and again.\n",
        "\n"
      ],
      "metadata": {
        "id": "uZhnPwTCBVSq"
      }
    },
    {
      "cell_type": "code",
      "source": [
        "def greeting(name):\n",
        "  return 'Hello '+name\n",
        "\n",
        "output=greeting('Suchitra')\n",
        "print(output)"
      ],
      "metadata": {
        "colab": {
          "base_uri": "https://localhost:8080/"
        },
        "id": "XUEP7f2eBXoh",
        "outputId": "b160476f-50ab-4400-bfae-bd12c50537a3"
      },
      "execution_count": null,
      "outputs": [
        {
          "output_type": "stream",
          "name": "stdout",
          "text": [
            "Hello Suchitra\n"
          ]
        }
      ]
    },
    {
      "cell_type": "markdown",
      "source": [
        "##Function to convert DMS to decimals\n",
        "Functions can take multiple arguments. Let’s write a function to convert coordinates from degrees, minutes, seconds to decimal degrees. This conversion is needed quite often when working with data collected from GPS devices.\n",
        "\n",
        "1 degree is equal to 60 minutes\n",
        "1 minute is equal to 60 seconds (3600 seconds)\n",
        "To calculate decimal degrees, we can use the formula below:\n",
        "\n",
        "If degrees are positive:\n",
        "\n",
        "Decimal Degrees = degrees + (minutes/60) + (seconds/3600)\n",
        "\n",
        "If degrees are negative\n",
        "\n",
        "Decimal Degrees = degrees - (minutes/60) - (seconds/3600)"
      ],
      "metadata": {
        "id": "wJENEIwxBsi5"
      }
    },
    {
      "cell_type": "code",
      "source": [
        "def convert_dms_to_dd(degrees, minutes, seconds):\n",
        "  if degrees < 0:\n",
        "    result = degrees-(minutes/60)-(seconds/3600)\n",
        "  else:\n",
        "    result = degrees+(minutes/60) +(seconds/3600)\n",
        "  return result"
      ],
      "metadata": {
        "id": "IOHHD4y7BxKR"
      },
      "execution_count": 9,
      "outputs": []
    },
    {
      "cell_type": "code",
      "source": [
        "print(convert_dms_to_dd(10,10,10))"
      ],
      "metadata": {
        "colab": {
          "base_uri": "https://localhost:8080/"
        },
        "id": "lk6clPh1CSBb",
        "outputId": "fb439172-c812-4a96-e2cc-95159e3e5128"
      },
      "execution_count": null,
      "outputs": [
        {
          "output_type": "stream",
          "name": "stdout",
          "text": [
            "10.169444444444444\n"
          ]
        }
      ]
    },
    {
      "cell_type": "code",
      "source": [
        "print(convert_dms_to_dd(12,58,20))"
      ],
      "metadata": {
        "colab": {
          "base_uri": "https://localhost:8080/"
        },
        "id": "Dx6X-NHeCv_p",
        "outputId": "7ca2bb96-b331-4c70-85ed-7be06beb9cf3"
      },
      "execution_count": null,
      "outputs": [
        {
          "output_type": "stream",
          "name": "stdout",
          "text": [
            "12.972222222222223\n"
          ]
        }
      ]
    },
    {
      "cell_type": "markdown",
      "source": [
        "##Exercise\n",
        "Given a coordinate string with value in degree, minutes and seconds, convert it to decimal degrees by calling the dms_to_decimal function.\n",
        "coordinate = '''37° 46' 26.2992\"'''\n",
        "\n",
        "Hints:\n",
        "\n",
        "Add the code below to extract the parts from the coordinate string,\n",
        "\n",
        "call the function to convert to decimal degrees and print the result\n",
        "\n",
        "The expected answer is 37.773972"
      ],
      "metadata": {
        "id": "lCyN-8fJDIhh"
      }
    },
    {
      "cell_type": "code",
      "source": [
        "coordinate = '''37° 46' 26.2992\"'''\n",
        "degrees=coordinate.split('°')[0]\n",
        "# temp=coordinate.split('°')[1].split(\"'\")\n",
        "# print(temp)\n",
        "minutes=coordinate.split('°')[1].split('\\'')[0]\n",
        "seconds=coordinate.split('°')[1].split('\\'')[1].split('\"')[0]\n",
        "print('Degrees is  {}, minutes is {}, seconds is {}'.format(degrees,minutes,seconds))\n",
        "print(type(degrees))\n",
        "\n",
        "#Convert degrees,minutes,seconds to float\n",
        "degrees_float=float(degrees)\n",
        "minutes_float=float(minutes)\n",
        "seconds_float=float(seconds)\n",
        "print(type(degrees_float))\n",
        "\n",
        "\n",
        "output=convert_dms_to_dd(degrees_float,minutes_float,seconds_float)\n",
        "print(output)"
      ],
      "metadata": {
        "colab": {
          "base_uri": "https://localhost:8080/"
        },
        "id": "JPFRD1NjDdMb",
        "outputId": "b4a1ff63-58d1-4383-fb10-c9b8537be4a1"
      },
      "execution_count": null,
      "outputs": [
        {
          "output_type": "stream",
          "name": "stdout",
          "text": [
            "[' 46', ' 26.2992\"']\n",
            "Degrees is  37, minutes is  46, seconds is  26.2992\n",
            "<class 'str'>\n",
            "<class 'float'>\n",
            "37.773972\n"
          ]
        }
      ]
    },
    {
      "cell_type": "markdown",
      "source": [
        "##Exercise2: Function to convert Decimals to DMS\n",
        "Logic:\n",
        "Decimal degrees (DD):37.773972\n",
        "\n",
        "Degrees=37\n",
        "\n",
        "Minutes_temp=0.773972*60=46.43832 (non fractional part is minutes)\n",
        "\n",
        "Minutes=46\n",
        "\n",
        "To get seconds, get the fractional part of minutes and multiply with 60.\n",
        "\n",
        "seconds=0.43832*60=26.2992"
      ],
      "metadata": {
        "id": "hXNUjySYFocN"
      }
    },
    {
      "cell_type": "code",
      "source": [
        "#To work with float numbers:\n",
        "import math\n",
        "\n",
        "number = 2.3\n",
        "\n",
        "# Get the integer part\n",
        "integer_part = math.trunc(number)  # or use int(number)\n",
        "# Get the fractional part\n",
        "fractional_part = number - integer_part\n",
        "\n",
        "print(f\"Integer part: {integer_part}\")        # Output: 2\n",
        "print(f\"Fractional part: {fractional_part}\")  # Output: 0.3"
      ],
      "metadata": {
        "id": "y_C0HGl5Jpcr"
      },
      "execution_count": null,
      "outputs": []
    },
    {
      "cell_type": "code",
      "source": [
        "def convert_dd_to_dms(decimaldegrees):\n",
        "  #Get integer part from dd\n",
        "  degrees=int(decimaldegrees)\n",
        "  minutes_cal=(decimaldegrees-degrees)*60\n",
        "  #Get integer part from minutes calculation\n",
        "  minutes=int( minutes_cal)\n",
        "  seconds=(minutes_cal-minutes)*60\n",
        "  return degrees,minutes,seconds"
      ],
      "metadata": {
        "id": "zBjKYhTuIkBc"
      },
      "execution_count": null,
      "outputs": []
    },
    {
      "cell_type": "code",
      "source": [
        "output=convert_dd_to_dms(37.773972)\n",
        "print(output)\n",
        "\n",
        "print(f\"{output[0]}° {output[1]}' {output[2]}\\\" \")"
      ],
      "metadata": {
        "colab": {
          "base_uri": "https://localhost:8080/"
        },
        "id": "7ch8RRPUKoLL",
        "outputId": "df737303-69be-45cd-ceaa-820dcc3b65d2"
      },
      "execution_count": null,
      "outputs": [
        {
          "output_type": "stream",
          "name": "stdout",
          "text": [
            "(37, 46, 26.299200000001974)\n",
            "37° 46' 26.299200000001974\" \n"
          ]
        }
      ]
    },
    {
      "cell_type": "markdown",
      "source": [
        "#6.The Python Standard Library"
      ],
      "metadata": {
        "id": "65EJrmErHtCZ"
      }
    },
    {
      "cell_type": "markdown",
      "source": [
        "![image.png](data:image/png;base64,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)"
      ],
      "metadata": {
        "id": "A8UV4O4S1YUi"
      }
    },
    {
      "cell_type": "markdown",
      "source": [
        "Python comes with many built-in modules that offer ready-to-use solutions to common programming problems. To use these modules, you must use the import keyword. Once imported in your Python script, you can use the functions provided by the module in your script.\n",
        "\n",
        "We will use the built-in math module that allows us to use advanced mathematical functions."
      ],
      "metadata": {
        "id": "P610W3Mf2dhf"
      }
    },
    {
      "cell_type": "code",
      "source": [
        "import math"
      ],
      "metadata": {
        "id": "kVAxeOAB2fp4"
      },
      "execution_count": 1,
      "outputs": []
    },
    {
      "cell_type": "markdown",
      "source": [
        "You can also import specific functions or constants from the module like below"
      ],
      "metadata": {
        "id": "uZm_WnKa2h2-"
      }
    },
    {
      "cell_type": "code",
      "source": [
        "from math import pi\n",
        "print(pi)"
      ],
      "metadata": {
        "colab": {
          "base_uri": "https://localhost:8080/"
        },
        "id": "yz3j31k72lGd",
        "outputId": "1260e4b9-ea22-4d91-ef5e-10e64c23c949"
      },
      "execution_count": 2,
      "outputs": [
        {
          "output_type": "stream",
          "name": "stdout",
          "text": [
            "3.141592653589793\n"
          ]
        }
      ]
    },
    {
      "cell_type": "markdown",
      "source": [
        "##Calculating Distance\n",
        "Given 2 points with their Latitude and Longitude coordinates, the Haversine Formula calculates the straight-line distance in meters, assuming that Earth is a sphere.\n",
        "\n",
        "The formula is simple enough to be implemented in a spreadsheet too. If you are curious, see my post about using this formula for calculating distances in a spreadsheet.\n",
        "\n",
        "We can write a function that accepts a pair of origin and destination coordinates and computes the distance."
      ],
      "metadata": {
        "id": "n5qhQp922rBl"
      }
    },
    {
      "cell_type": "code",
      "source": [
        "san_francisco = (37.7749, -122.4194)\n",
        "new_york = (40.661, -73.944)"
      ],
      "metadata": {
        "id": "OjSnKhWQ2vWL"
      },
      "execution_count": 3,
      "outputs": []
    },
    {
      "cell_type": "code",
      "source": [
        "def haversine_distance(origin, destination):\n",
        "  lat1, lon1 = origin\n",
        "  lat2, lon2 = destination\n",
        "  radius = 6371000\n",
        "  dlat = math.radians(lat2-lat1)\n",
        "  dlon = math.radians(lon2-lon1)\n",
        "  a = math.sin(dlat/2) * math.sin(dlat/2) + math.cos(math.radians(lat1)) \\\n",
        "    * math.cos(math.radians(lat2)) * math.sin(dlon/2) * math.sin(dlon/2)\n",
        "  c = 2 * math.atan2(math.sqrt(a), math.sqrt(1-a))\n",
        "  distance = radius * c\n",
        "  return distance"
      ],
      "metadata": {
        "id": "88zsO_D92zYY"
      },
      "execution_count": 4,
      "outputs": []
    },
    {
      "cell_type": "code",
      "source": [
        "distance = haversine_distance(san_francisco, new_york)\n",
        "print(distance/1000, 'km')"
      ],
      "metadata": {
        "colab": {
          "base_uri": "https://localhost:8080/"
        },
        "id": "GYaA31Kn20AT",
        "outputId": "62762baa-55b7-43f4-e595-cfd20bf733a3"
      },
      "execution_count": 5,
      "outputs": [
        {
          "output_type": "stream",
          "name": "stdout",
          "text": [
            "4135.374617164737 km\n"
          ]
        }
      ]
    },
    {
      "cell_type": "markdown",
      "source": [
        "##Discover Python Easter Eggs\n",
        "Programmers love to hide secret jokes in their programs for gun. These are known as Easter Eggs. Python has an easter egg that you can see when you try to import the module named this. Try writing the command import this below."
      ],
      "metadata": {
        "id": "smfMpO6P2_eo"
      }
    },
    {
      "cell_type": "code",
      "source": [
        "import this"
      ],
      "metadata": {
        "colab": {
          "base_uri": "https://localhost:8080/"
        },
        "id": "osTk4Ws43ErI",
        "outputId": "329d8982-5d43-4073-c87b-9bf8d71a1be2"
      },
      "execution_count": 6,
      "outputs": [
        {
          "output_type": "stream",
          "name": "stdout",
          "text": [
            "The Zen of Python, by Tim Peters\n",
            "\n",
            "Beautiful is better than ugly.\n",
            "Explicit is better than implicit.\n",
            "Simple is better than complex.\n",
            "Complex is better than complicated.\n",
            "Flat is better than nested.\n",
            "Sparse is better than dense.\n",
            "Readability counts.\n",
            "Special cases aren't special enough to break the rules.\n",
            "Although practicality beats purity.\n",
            "Errors should never pass silently.\n",
            "Unless explicitly silenced.\n",
            "In the face of ambiguity, refuse the temptation to guess.\n",
            "There should be one-- and preferably only one --obvious way to do it.\n",
            "Although that way may not be obvious at first unless you're Dutch.\n",
            "Now is better than never.\n",
            "Although never is often better than *right* now.\n",
            "If the implementation is hard to explain, it's a bad idea.\n",
            "If the implementation is easy to explain, it may be a good idea.\n",
            "Namespaces are one honking great idea -- let's do more of those!\n"
          ]
        }
      ]
    },
    {
      "cell_type": "markdown",
      "source": [
        "Let’s try one more. Try importing the antigravity module.\n",
        "\n",
        "Here’s a complete list of [easter eggs in Python](https://towardsdatascience.com/7-easter-eggs-in-python-7765dc15a203)"
      ],
      "metadata": {
        "id": "h--shRZZ3OZd"
      }
    },
    {
      "cell_type": "code",
      "source": [
        "import antigravity"
      ],
      "metadata": {
        "id": "vVSDafGA3btI"
      },
      "execution_count": 8,
      "outputs": []
    },
    {
      "cell_type": "markdown",
      "source": [
        "##Exercise\n",
        "Find the coordinates of 2 cities near you and calculate the distance between them by calling the haversine_distance function below."
      ],
      "metadata": {
        "id": "kwBJkgRx3cFq"
      }
    },
    {
      "cell_type": "code",
      "source": [
        "import math\n",
        "\n",
        "def haversine_distance(origin, destination):\n",
        "  lat1, lon1 = origin\n",
        "  lat2, lon2 = destination\n",
        "  radius = 6371000  #meters\n",
        "  dlat = math.radians(lat2-lat1)\n",
        "  dlon = math.radians(lon2-lon1)\n",
        "  a = math.sin(dlat/2) * math.sin(dlat/2) + math.cos(math.radians(lat1)) \\\n",
        "    * math.cos(math.radians(lat2)) * math.sin(dlon/2) * math.sin(dlon/2)\n",
        "  c = 2 * math.atan2(math.sqrt(a), math.sqrt(1-a))\n",
        "  distance = radius * c\n",
        "  return distance\n",
        "# distance is in meters\n",
        "# city1 = (lat1, lng1)\n",
        "# city2 = (lat2, lng2)\n",
        "# call the function and print the result"
      ],
      "metadata": {
        "id": "ynltN4V33obh"
      },
      "execution_count": 14,
      "outputs": []
    },
    {
      "cell_type": "code",
      "source": [
        "vijayawada=(16.515099,80.632095)\n",
        "hyd=\"17° 22' 31\\\" N and 78° 28' 27\\\" E\"\n",
        " #(17.4065° N, 78.4772° E)\n",
        "\n",
        "hyd_lat=convert_dms_to_dd(17,22,31)\n",
        "hyd_long=convert_dms_to_dd(78,28,27)\n",
        "print(hyd_lat,hyd_long)\n",
        "hyderabad=(hyd_lat,hyd_long)"
      ],
      "metadata": {
        "colab": {
          "base_uri": "https://localhost:8080/"
        },
        "id": "KMo_Z9eO36gx",
        "outputId": "7ec7942d-02c0-4f55-96ef-cbdcbc124473"
      },
      "execution_count": 12,
      "outputs": [
        {
          "output_type": "stream",
          "name": "stdout",
          "text": [
            "17.37527777777778 78.47416666666666\n"
          ]
        }
      ]
    },
    {
      "cell_type": "code",
      "source": [
        "#Distance between vijayawada and hyderabad\n",
        "distance=haversine_distance(vijayawada,hyderabad)\n",
        "print(f'The distance between vijaywada and hyderabad is {distance} m.')\n",
        "print(f'The distance between vijaywada and hyderabad is {(distance/1000):.2f} Km.')"
      ],
      "metadata": {
        "colab": {
          "base_uri": "https://localhost:8080/"
        },
        "id": "qFF54Gbw5b_C",
        "outputId": "03ead151-8bd8-4d69-ab81-0034a035772b"
      },
      "execution_count": 18,
      "outputs": [
        {
          "output_type": "stream",
          "name": "stdout",
          "text": [
            "The distance between vijaywada and hyderabad is 248660.50196570973 m.\n",
            "The distance between vijaywada and hyderabad is 248.66 Km.\n"
          ]
        }
      ]
    }
  ]
}