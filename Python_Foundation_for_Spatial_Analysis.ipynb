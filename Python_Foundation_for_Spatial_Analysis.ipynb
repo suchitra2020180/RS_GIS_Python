{
  "nbformat": 4,
  "nbformat_minor": 0,
  "metadata": {
    "colab": {
      "provenance": [],
      "collapsed_sections": [
        "Lr6xgH4Z12l6",
        "epymk8gU2c66",
        "PGb9IJXJKluM",
        "sP7QPghifobm",
        "awUmjXIWnJLd",
        "CZfGk_tM_KbE",
        "65EJrmErHtCZ",
        "5ZEPTbN1AzSW",
        "xM8NPe7IAjMA"
      ],
      "authorship_tag": "ABX9TyNE5GnI6VCbdTbbgnczTSO0",
      "include_colab_link": true
    },
    "kernelspec": {
      "name": "python3",
      "display_name": "Python 3"
    },
    "language_info": {
      "name": "python"
    }
  },
  "cells": [
    {
      "cell_type": "markdown",
      "metadata": {
        "id": "view-in-github",
        "colab_type": "text"
      },
      "source": [
        "<a href=\"https://colab.research.google.com/github/suchitra2020180/RS_GIS_Python/blob/main/Python_Foundation_for_Spatial_Analysis.ipynb\" target=\"_parent\"><img src=\"https://colab.research.google.com/assets/colab-badge.svg\" alt=\"Open In Colab\"/></a>"
      ]
    },
    {
      "cell_type": "markdown",
      "source": [
        "[Spatial Thoughts Tutorial](https://courses.spatialthoughts.com/python-foundation.html)"
      ],
      "metadata": {
        "id": "Rsrmtqxra0Gi"
      }
    },
    {
      "cell_type": "markdown",
      "source": [
        "#0.Hello World"
      ],
      "metadata": {
        "id": "Lr6xgH4Z12l6"
      }
    },
    {
      "cell_type": "code",
      "source": [
        "print(\"Hello World\")"
      ],
      "metadata": {
        "colab": {
          "base_uri": "https://localhost:8080/"
        },
        "id": "2QpIFpn615fZ",
        "outputId": "e404cd21-dc3a-4800-fc93-9ea8ea969302"
      },
      "execution_count": null,
      "outputs": [
        {
          "output_type": "stream",
          "name": "stdout",
          "text": [
            "Hello World\n"
          ]
        }
      ]
    },
    {
      "cell_type": "markdown",
      "source": [
        "#1.Variables"
      ],
      "metadata": {
        "id": "epymk8gU2c66"
      }
    },
    {
      "cell_type": "markdown",
      "source": [
        "##Strings\n",
        "A string is a sequence of letters, numbers, and punctuation marks - or commonly known as text\n",
        "\n",
        "In Python you can create a string by typing letters between single or double quotation marks."
      ],
      "metadata": {
        "id": "2FKLOaLt3YmT"
      }
    },
    {
      "cell_type": "code",
      "source": [
        "city=\"San Francisco\"\n",
        "state='California'\n",
        "print(city,state)"
      ],
      "metadata": {
        "colab": {
          "base_uri": "https://localhost:8080/"
        },
        "id": "9LeRXCdq3BTJ",
        "outputId": "90959d6f-5ce0-43e4-c541-dd0d8cc30d55"
      },
      "execution_count": null,
      "outputs": [
        {
          "output_type": "stream",
          "name": "stdout",
          "text": [
            "San Francisco California\n"
          ]
        }
      ]
    },
    {
      "cell_type": "code",
      "source": [
        "print(city + state)"
      ],
      "metadata": {
        "colab": {
          "base_uri": "https://localhost:8080/"
        },
        "id": "ol9tFXFZ3-h8",
        "outputId": "bb306533-2eb2-46c2-cdcb-30ff686fd803"
      },
      "execution_count": null,
      "outputs": [
        {
          "output_type": "stream",
          "name": "stdout",
          "text": [
            "San FranciscoCalifornia\n"
          ]
        }
      ]
    },
    {
      "cell_type": "code",
      "source": [
        "print(city+', '+state)"
      ],
      "metadata": {
        "colab": {
          "base_uri": "https://localhost:8080/"
        },
        "id": "Xx6tF5xN4CdK",
        "outputId": "06d9b2c0-ec35-40bd-caea-d0b291e5ec0f"
      },
      "execution_count": null,
      "outputs": [
        {
          "output_type": "stream",
          "name": "stdout",
          "text": [
            "San Francisco, California\n"
          ]
        }
      ]
    },
    {
      "cell_type": "markdown",
      "source": [
        "##Numbers\n",
        "Python can handle several types of numbers, but the two most common are:\n",
        "\n",
        "int, which represents integer values like 100, and\n",
        "float, which represents numbers that have a fraction part, like 0.5\n",
        "\n",
        "Dynamic typing: Python allows assiging of both numbers and strings to a same variable. This makes python as a dynamic typing language."
      ],
      "metadata": {
        "id": "SNZKI2oD4Isb"
      }
    },
    {
      "cell_type": "code",
      "source": [
        "population = 881549\n",
        "latitude = 37.7739\n",
        "longitude = -121.5687"
      ],
      "metadata": {
        "id": "towGOq9l4X_D"
      },
      "execution_count": null,
      "outputs": []
    },
    {
      "cell_type": "code",
      "source": [
        "print('Population:',population)\n",
        "print('Population Data Type:',type(population))"
      ],
      "metadata": {
        "colab": {
          "base_uri": "https://localhost:8080/"
        },
        "id": "M1Sr4cql4KPq",
        "outputId": "84052be5-9484-4952-a4ea-e99ef103ca11"
      },
      "execution_count": null,
      "outputs": [
        {
          "output_type": "stream",
          "name": "stdout",
          "text": [
            "Population: 881549\n",
            "Population Data Type: <class 'int'>\n"
          ]
        }
      ]
    },
    {
      "cell_type": "code",
      "source": [
        "print('latitude:',latitude)\n",
        "print('latitude Data Type:',type(latitude))"
      ],
      "metadata": {
        "colab": {
          "base_uri": "https://localhost:8080/"
        },
        "id": "oZ-U69IZ4oPt",
        "outputId": "5310a212-4109-454b-b0be-49fb8acf6b55"
      },
      "execution_count": null,
      "outputs": [
        {
          "output_type": "stream",
          "name": "stdout",
          "text": [
            "latitude: 37.7739\n",
            "latitude Data Type: <class 'float'>\n"
          ]
        }
      ]
    },
    {
      "cell_type": "code",
      "source": [
        "elevation_feet = 934\n",
        "#Converting feet to meters\n",
        "elevation_meters=elevation_feet*0.3048\n",
        "print('Elevation in meters:',elevation_meters)"
      ],
      "metadata": {
        "colab": {
          "base_uri": "https://localhost:8080/"
        },
        "id": "JYctkcPQ407r",
        "outputId": "de3e1ce1-54b9-451d-e432-947e071616d8"
      },
      "execution_count": null,
      "outputs": [
        {
          "output_type": "stream",
          "name": "stdout",
          "text": [
            "Elevation in meters: 284.6832\n"
          ]
        }
      ]
    },
    {
      "cell_type": "code",
      "source": [
        "area_sqmi = 46.89\n",
        "density = population / area_sqmi\n",
        "print('Density:',density)"
      ],
      "metadata": {
        "colab": {
          "base_uri": "https://localhost:8080/"
        },
        "id": "nINDE8NQ5QZl",
        "outputId": "b699c2af-1363-41e5-87ac-1265aa58b2d5"
      },
      "execution_count": null,
      "outputs": [
        {
          "output_type": "stream",
          "name": "stdout",
          "text": [
            "Density: 18800.362550650458\n"
          ]
        }
      ]
    },
    {
      "cell_type": "code",
      "source": [
        "population='1 million'\n",
        "print('Population:',population)\n",
        "print('Population Datatype:',type(population))"
      ],
      "metadata": {
        "colab": {
          "base_uri": "https://localhost:8080/"
        },
        "id": "kDBWyjyOJ3Z7",
        "outputId": "59e61b9f-79b0-4e93-9fd0-8eaee69bf3fe"
      },
      "execution_count": null,
      "outputs": [
        {
          "output_type": "stream",
          "name": "stdout",
          "text": [
            "Population: 1 million\n",
            "Population Datatype: <class 'str'>\n"
          ]
        }
      ]
    },
    {
      "cell_type": "markdown",
      "source": [
        "##Exercise\n",
        "We have a variable named distance_km below with the value 4135 - indicating the straight-line distance between San Francisco and New York in Kilometers. Create another variable called distance_mi and store the distance value in miles.\n",
        "\n",
        "Hint1: 1 mile = 1.60934 kilometers\n",
        "Add the code in the cell below and run it. The output should be 2569.37"
      ],
      "metadata": {
        "id": "1TAjEy0w5axc"
      }
    },
    {
      "cell_type": "code",
      "source": [
        "distance_km=4135\n",
        "distance_mi=distance_km/1.60934\n",
        "print('Distance in miles:',distance_mi)"
      ],
      "metadata": {
        "colab": {
          "base_uri": "https://localhost:8080/"
        },
        "id": "nhADjWvw44VD",
        "outputId": "7fcfd744-01c1-4f00-c7b8-59328ba9481b"
      },
      "execution_count": null,
      "outputs": [
        {
          "output_type": "stream",
          "name": "stdout",
          "text": [
            "Distance in miles: 2569.376266046951\n"
          ]
        }
      ]
    },
    {
      "cell_type": "markdown",
      "source": [
        "#2.Data Structures"
      ],
      "metadata": {
        "id": "PGb9IJXJKluM"
      }
    },
    {
      "cell_type": "markdown",
      "source": [
        "##Tuples\n",
        "A tuple is a sequence of objects. It can have any number of objects inside. In Python tuples are written with round brackets ()."
      ],
      "metadata": {
        "id": "8lwclkGDLHbq"
      }
    },
    {
      "cell_type": "code",
      "source": [
        "latitude = 37.7739\n",
        "longitude = -121.5687\n",
        "coordinates = (latitude, longitude)\n",
        "print(coordinates)"
      ],
      "metadata": {
        "colab": {
          "base_uri": "https://localhost:8080/"
        },
        "id": "4-NkqB7fLJBr",
        "outputId": "6b1d7035-66d1-4387-a7d6-627fc17ed7bf"
      },
      "execution_count": null,
      "outputs": [
        {
          "output_type": "stream",
          "name": "stdout",
          "text": [
            "(37.7739, -121.5687)\n"
          ]
        }
      ]
    },
    {
      "cell_type": "markdown",
      "source": [
        "You can access each item by its position, i.e. index. In programming, the counting starts from 0. So the first item has an index of 0, the second item an index of 1 and so now. The index has to be put inside square brackets []."
      ],
      "metadata": {
        "id": "GNf5u--rLWai"
      }
    },
    {
      "cell_type": "code",
      "source": [
        "y = coordinates[0]\n",
        "x = coordinates[1]\n",
        "print(x, y)"
      ],
      "metadata": {
        "colab": {
          "base_uri": "https://localhost:8080/"
        },
        "id": "H0w4FcCrLraK",
        "outputId": "0cc6a21d-27bf-47ff-abb1-f233168736ba"
      },
      "execution_count": null,
      "outputs": [
        {
          "output_type": "stream",
          "name": "stdout",
          "text": [
            "-121.5687 37.7739\n"
          ]
        }
      ]
    },
    {
      "cell_type": "markdown",
      "source": [
        "##Lists\n",
        "A list is similar to a tuple - but with a key difference. With tuples, once created, they cannot be changed, i.e. they are immutable. But lists are mutable. You can add, delete or change elements within a list. In Python, lists are written with square brackets []"
      ],
      "metadata": {
        "id": "w76OBzyILw6i"
      }
    },
    {
      "cell_type": "code",
      "source": [
        "cities = ['San Francisco', 'Los Angeles', 'New York', 'Atlanta']\n",
        "print(cities)"
      ],
      "metadata": {
        "colab": {
          "base_uri": "https://localhost:8080/"
        },
        "id": "jI9Zx6skUtNR",
        "outputId": "cb95a9c0-226d-4682-b98a-0382922f8821"
      },
      "execution_count": null,
      "outputs": [
        {
          "output_type": "stream",
          "name": "stdout",
          "text": [
            "['San Francisco', 'Los Angeles', 'New York', 'Atlanta']\n"
          ]
        }
      ]
    },
    {
      "cell_type": "markdown",
      "source": [
        "You can access the elements from a list using index the same way as tuples."
      ],
      "metadata": {
        "id": "oiX3zOE1ZkVh"
      }
    },
    {
      "cell_type": "code",
      "source": [
        "print(cities[0])"
      ],
      "metadata": {
        "colab": {
          "base_uri": "https://localhost:8080/"
        },
        "id": "1p3gRzxwZpE4",
        "outputId": "a2b50ce8-4691-4332-877f-f0b7abccc347"
      },
      "execution_count": null,
      "outputs": [
        {
          "output_type": "stream",
          "name": "stdout",
          "text": [
            "San Francisco\n"
          ]
        }
      ]
    },
    {
      "cell_type": "markdown",
      "source": [
        "You can call len() function with any Python object and it will calculates the size of the object"
      ],
      "metadata": {
        "id": "_Dma5X8pZwBx"
      }
    },
    {
      "cell_type": "code",
      "source": [
        "print(len(cities))"
      ],
      "metadata": {
        "colab": {
          "base_uri": "https://localhost:8080/"
        },
        "id": "UwmG-NSJZwwJ",
        "outputId": "889f1243-9e1a-42c3-ff12-291a2daf1657"
      },
      "execution_count": null,
      "outputs": [
        {
          "output_type": "stream",
          "name": "stdout",
          "text": [
            "5\n"
          ]
        }
      ]
    },
    {
      "cell_type": "markdown",
      "source": [
        "We can add items to the list using the append() method"
      ],
      "metadata": {
        "id": "y_cvaTNmZzIy"
      }
    },
    {
      "cell_type": "code",
      "source": [
        "cities.append('Boston')\n",
        "print(cities)"
      ],
      "metadata": {
        "colab": {
          "base_uri": "https://localhost:8080/"
        },
        "id": "oyT232BgaAP6",
        "outputId": "2c0a0316-eb6d-46c6-f913-dd5e4d074cf5"
      },
      "execution_count": null,
      "outputs": [
        {
          "output_type": "stream",
          "name": "stdout",
          "text": [
            "['San Francisco', 'Los Angeles', 'New York', 'Atlanta', 'Boston']\n"
          ]
        }
      ]
    },
    {
      "cell_type": "markdown",
      "source": [
        "As lists are mutable, you will see that the size of the list has now changed"
      ],
      "metadata": {
        "id": "GBgQLqfWaSRq"
      }
    },
    {
      "cell_type": "code",
      "source": [
        "print(len(cities))"
      ],
      "metadata": {
        "colab": {
          "base_uri": "https://localhost:8080/"
        },
        "id": "7OMtdcLtaSw6",
        "outputId": "8c0d5a62-ac79-4ee5-b254-d352ea4ccb5a"
      },
      "execution_count": null,
      "outputs": [
        {
          "output_type": "stream",
          "name": "stdout",
          "text": [
            "5\n"
          ]
        }
      ]
    },
    {
      "cell_type": "markdown",
      "source": [
        "Another useful method for lists is sort() - which can sort the elements in a list."
      ],
      "metadata": {
        "id": "O3Ee7vKMaaoy"
      }
    },
    {
      "cell_type": "code",
      "source": [
        "cities.sort()\n",
        "print(cities)"
      ],
      "metadata": {
        "colab": {
          "base_uri": "https://localhost:8080/"
        },
        "id": "JO9D37wJadVr",
        "outputId": "32b0ba68-81de-4e5e-ae14-3ebd9d9c6a19"
      },
      "execution_count": null,
      "outputs": [
        {
          "output_type": "stream",
          "name": "stdout",
          "text": [
            "['Atlanta', 'Boston', 'Los Angeles', 'New York', 'San Francisco']\n"
          ]
        }
      ]
    },
    {
      "cell_type": "markdown",
      "source": [
        "The default sorting is in ascending order. If we wanted to sort the list in a decending order, we can call the function with reverse=True"
      ],
      "metadata": {
        "id": "kTTA9lX_bZqq"
      }
    },
    {
      "cell_type": "code",
      "source": [
        "cities.sort(reverse=True)\n",
        "print(cities)"
      ],
      "metadata": {
        "colab": {
          "base_uri": "https://localhost:8080/"
        },
        "id": "5DIRlWnFbaMz",
        "outputId": "1aeed552-8846-4baf-81b5-ebdb64dbae79"
      },
      "execution_count": null,
      "outputs": [
        {
          "output_type": "stream",
          "name": "stdout",
          "text": [
            "['San Francisco', 'New York', 'Los Angeles', 'Boston', 'Atlanta']\n"
          ]
        }
      ]
    },
    {
      "cell_type": "markdown",
      "source": [
        "##Sets\n",
        "Sets are like lists, but with some interesting properties. Mainly that they contain only unique values. It also allows for set operations - such as intersection, union and difference. In practice, the sets are typically created from lists."
      ],
      "metadata": {
        "id": "fHxCv66OaVVS"
      }
    },
    {
      "cell_type": "code",
      "source": [
        "capitals = ['Sacramento', 'Boston', 'Austin', 'Atlanta']\n",
        "capitals_set = set(capitals)\n",
        "cities_set = set(cities)\n",
        "\n",
        "print('capitals_set:',capitals_set)\n",
        "print('cities_set:',cities_set)\n",
        "\n",
        "capital_cities = capitals_set.intersection(cities_set)\n",
        "print('capital_cities:',capital_cities)"
      ],
      "metadata": {
        "colab": {
          "base_uri": "https://localhost:8080/"
        },
        "id": "nkgMCSHWbzLC",
        "outputId": "b4c0d7eb-29c3-4752-e1e0-82f08bcfc545"
      },
      "execution_count": null,
      "outputs": [
        {
          "output_type": "stream",
          "name": "stdout",
          "text": [
            "capitals_set: {'Sacramento', 'Atlanta', 'Boston', 'Austin'}\n",
            "cities_set: {'New York', 'Los Angeles', 'Boston', 'San Francisco', 'Atlanta'}\n",
            "capital_cities: {'Atlanta', 'Boston'}\n"
          ]
        }
      ]
    },
    {
      "cell_type": "markdown",
      "source": [
        "Sets are also useful in finding unique elements in a list. Let’s merge the two lists using the extend() method. The resulting list will have duplicate elements. Creating a set from the list removes the duplicate elements."
      ],
      "metadata": {
        "id": "zX095FgKdW7L"
      }
    },
    {
      "cell_type": "code",
      "source": [
        "cities.extend(capitals)\n",
        "print('Cities:',cities)\n",
        "print('Set of cities:',set(cities))"
      ],
      "metadata": {
        "colab": {
          "base_uri": "https://localhost:8080/"
        },
        "id": "XNG2uzU-dhAc",
        "outputId": "ced649a2-7816-43f3-9795-500d23b27d1a"
      },
      "execution_count": null,
      "outputs": [
        {
          "output_type": "stream",
          "name": "stdout",
          "text": [
            "Cities: ['San Francisco', 'New York', 'Los Angeles', 'Boston', 'Atlanta', 'Sacramento', 'Boston', 'Austin', 'Atlanta']\n",
            "Set of cities: {'New York', 'Los Angeles', 'Boston', 'San Francisco', 'Sacramento', 'Austin', 'Atlanta'}\n"
          ]
        }
      ]
    },
    {
      "cell_type": "markdown",
      "source": [
        "##Dictionaries\n",
        "In Python dictionaries are written with curly brackets {}. Dictionaries have keys and values. With lists, we can access each element by its index. But a dictionary makes it easy to access the element by name. Keys and values are separated by a colon :."
      ],
      "metadata": {
        "id": "u98cbpB2efnj"
      }
    },
    {
      "cell_type": "code",
      "source": [
        "data = {'city': 'San Francisco', 'population': 881549, 'coordinates': (-122.4194, 37.7749) }\n",
        "print('Data:',data)"
      ],
      "metadata": {
        "colab": {
          "base_uri": "https://localhost:8080/"
        },
        "id": "5A80HuZxejVt",
        "outputId": "f3e44a95-86b5-4913-a42d-033f709aa3a6"
      },
      "execution_count": null,
      "outputs": [
        {
          "output_type": "stream",
          "name": "stdout",
          "text": [
            "Data: {'city': 'San Francisco', 'population': 881549, 'coordinates': (-122.4194, 37.7749)}\n"
          ]
        }
      ]
    },
    {
      "cell_type": "markdown",
      "source": [
        "You can access an item of a dictionary by referring to its key name, inside square brackets."
      ],
      "metadata": {
        "id": "M-Joa7k4eyt7"
      }
    },
    {
      "cell_type": "code",
      "source": [
        "print(data['city'])"
      ],
      "metadata": {
        "colab": {
          "base_uri": "https://localhost:8080/"
        },
        "id": "JJN_6-mSe3AE",
        "outputId": "02cbb252-2ddc-4e7a-fc81-6079c747ea05"
      },
      "execution_count": null,
      "outputs": [
        {
          "output_type": "stream",
          "name": "stdout",
          "text": [
            "San Francisco\n"
          ]
        }
      ]
    },
    {
      "cell_type": "markdown",
      "source": [
        "##Exercise\n",
        "From the dictionary below, how do you access the latitude and longitude values? print the latitude and longitude of new york city by extracting it from the dictionary below.\n",
        "\n",
        "nyc_data = {'city': 'New York', 'population': 8175133, 'coordinates': (40.661, -73.944) }\n",
        "\n",
        "The expected output should look like below.\n",
        "40.661\n",
        "-73.944"
      ],
      "metadata": {
        "id": "CjLZhLF8e7j8"
      }
    },
    {
      "cell_type": "code",
      "source": [
        "nyc_data = {'city': 'New York', 'population': 8175133, 'coordinates': (40.661, -73.944) }\n",
        "nyc_data['coordinates']"
      ],
      "metadata": {
        "colab": {
          "base_uri": "https://localhost:8080/"
        },
        "id": "ktk4tbE5fADk",
        "outputId": "96499ac5-8a81-4a77-b38b-e0ff2d98352c"
      },
      "execution_count": null,
      "outputs": [
        {
          "output_type": "execute_result",
          "data": {
            "text/plain": [
              "(40.661, -73.944)"
            ]
          },
          "metadata": {},
          "execution_count": 30
        }
      ]
    },
    {
      "cell_type": "code",
      "source": [
        "print(nyc_data['coordinates'][0])\n",
        "print(nyc_data['coordinates'][1])"
      ],
      "metadata": {
        "colab": {
          "base_uri": "https://localhost:8080/"
        },
        "id": "Zl5rN-HRfWHE",
        "outputId": "6bfebf5f-fcf4-4afc-ffea-f1fbdc6cb21d"
      },
      "execution_count": null,
      "outputs": [
        {
          "output_type": "stream",
          "name": "stdout",
          "text": [
            "40.661\n",
            "-73.944\n"
          ]
        }
      ]
    },
    {
      "cell_type": "markdown",
      "source": [
        "#3.String Operations"
      ],
      "metadata": {
        "id": "sP7QPghifobm"
      }
    },
    {
      "cell_type": "code",
      "source": [
        "city = 'San Francisco'\n",
        "print(len(city))"
      ],
      "metadata": {
        "colab": {
          "base_uri": "https://localhost:8080/"
        },
        "id": "wOA11xChflvc",
        "outputId": "9b9511fb-a50c-4118-88f3-cc02f70bfe6b"
      },
      "execution_count": null,
      "outputs": [
        {
          "output_type": "stream",
          "name": "stdout",
          "text": [
            "13\n"
          ]
        }
      ]
    },
    {
      "cell_type": "code",
      "source": [
        "print(city.split())"
      ],
      "metadata": {
        "colab": {
          "base_uri": "https://localhost:8080/"
        },
        "id": "EfbHw4hef4I9",
        "outputId": "34a93824-e870-4fe2-96b5-894887062841"
      },
      "execution_count": null,
      "outputs": [
        {
          "output_type": "stream",
          "name": "stdout",
          "text": [
            "['San', 'Francisco']\n"
          ]
        }
      ]
    },
    {
      "cell_type": "code",
      "source": [
        "print(city.upper())"
      ],
      "metadata": {
        "colab": {
          "base_uri": "https://localhost:8080/"
        },
        "id": "3boyv8aaf_wm",
        "outputId": "389f6de3-df15-4592-812c-f0bf17041d7c"
      },
      "execution_count": null,
      "outputs": [
        {
          "output_type": "stream",
          "name": "stdout",
          "text": [
            "SAN FRANCISCO\n"
          ]
        }
      ]
    },
    {
      "cell_type": "code",
      "source": [
        "city[0]"
      ],
      "metadata": {
        "colab": {
          "base_uri": "https://localhost:8080/",
          "height": 36
        },
        "id": "XNliFazcgCSk",
        "outputId": "09be6cd9-823e-4e1b-b4f5-bd6647132a14"
      },
      "execution_count": null,
      "outputs": [
        {
          "output_type": "execute_result",
          "data": {
            "text/plain": [
              "'S'"
            ],
            "application/vnd.google.colaboratory.intrinsic+json": {
              "type": "string"
            }
          },
          "metadata": {},
          "execution_count": 36
        }
      ]
    },
    {
      "cell_type": "code",
      "source": [
        "city[-1]"
      ],
      "metadata": {
        "colab": {
          "base_uri": "https://localhost:8080/",
          "height": 36
        },
        "id": "ZvC4ORDWgEP8",
        "outputId": "0813cb06-a2ec-4d86-f3a3-335a4971f868"
      },
      "execution_count": null,
      "outputs": [
        {
          "output_type": "execute_result",
          "data": {
            "text/plain": [
              "'o'"
            ],
            "application/vnd.google.colaboratory.intrinsic+json": {
              "type": "string"
            }
          },
          "metadata": {},
          "execution_count": 37
        }
      ]
    },
    {
      "cell_type": "code",
      "source": [
        "city[0:3]"
      ],
      "metadata": {
        "colab": {
          "base_uri": "https://localhost:8080/",
          "height": 36
        },
        "id": "JRcXIz2vgHC1",
        "outputId": "18e1a097-ded4-4e0e-eaa6-4f1ddd646ea4"
      },
      "execution_count": null,
      "outputs": [
        {
          "output_type": "execute_result",
          "data": {
            "text/plain": [
              "'San'"
            ],
            "application/vnd.google.colaboratory.intrinsic+json": {
              "type": "string"
            }
          },
          "metadata": {},
          "execution_count": 38
        }
      ]
    },
    {
      "cell_type": "code",
      "source": [
        "city[4:]"
      ],
      "metadata": {
        "colab": {
          "base_uri": "https://localhost:8080/",
          "height": 36
        },
        "id": "4Oz7ln0tgK53",
        "outputId": "4c36b89f-0fe1-4ef6-9eff-1b88e4a6174d"
      },
      "execution_count": null,
      "outputs": [
        {
          "output_type": "execute_result",
          "data": {
            "text/plain": [
              "'Francisco'"
            ],
            "application/vnd.google.colaboratory.intrinsic+json": {
              "type": "string"
            }
          },
          "metadata": {},
          "execution_count": 39
        }
      ]
    },
    {
      "cell_type": "markdown",
      "source": [
        "##Escaping characters\n",
        "Certain characters are special since they are by Python language itself. For example, the quote character ’ is used to define a string. What do you do if your string contains a quote character?\n",
        "\n",
        "In Python strings, the backslash \\ is a special character, also called the escape character. Prefixing any character with a backslash makes it an ordinary character. (Hint: Prefixing a backslash with a backshalsh makes it ordinary too!)\n",
        "\n",
        "It is also used for representing certain whitespace characters, \\n is a newline, \\t is a tab etc.\n",
        "\n",
        "Remove the # from the cell below and run it."
      ],
      "metadata": {
        "id": "5oQEWOahgPQ8"
      }
    },
    {
      "cell_type": "code",
      "source": [
        "my_string = 'It's a beautiful day!'\n",
        "my_string"
      ],
      "metadata": {
        "colab": {
          "base_uri": "https://localhost:8080/",
          "height": 106
        },
        "id": "W7s6gpBCgeIM",
        "outputId": "8d6eec73-b7bb-44fe-8964-129a56e986e1"
      },
      "execution_count": null,
      "outputs": [
        {
          "output_type": "error",
          "ename": "SyntaxError",
          "evalue": "unterminated string literal (detected at line 1) (<ipython-input-43-bcc4f97b09d1>, line 1)",
          "traceback": [
            "\u001b[0;36m  File \u001b[0;32m\"<ipython-input-43-bcc4f97b09d1>\"\u001b[0;36m, line \u001b[0;32m1\u001b[0m\n\u001b[0;31m    my_string = 'It's a beautiful day!'\u001b[0m\n\u001b[0m                                      ^\u001b[0m\n\u001b[0;31mSyntaxError\u001b[0m\u001b[0;31m:\u001b[0m unterminated string literal (detected at line 1)\n"
          ]
        }
      ]
    },
    {
      "cell_type": "markdown",
      "source": [
        "We can fix the error by espacing the single quote within the string."
      ],
      "metadata": {
        "id": "XLQjdO2bhHsN"
      }
    },
    {
      "cell_type": "code",
      "source": [
        "my_string = 'It\\'s a beautiful day!'\n",
        "print(my_string)"
      ],
      "metadata": {
        "colab": {
          "base_uri": "https://localhost:8080/"
        },
        "id": "eqCLCvalhKAt",
        "outputId": "b05a4901-e88d-4108-93c6-25fb1cdae527"
      },
      "execution_count": null,
      "outputs": [
        {
          "output_type": "stream",
          "name": "stdout",
          "text": [
            "It's a beautiful day!\n"
          ]
        }
      ]
    },
    {
      "cell_type": "markdown",
      "source": [
        "Alternatively, you can also use double-quotes if your string contains a single-quote"
      ],
      "metadata": {
        "id": "eRJV2KvPha7l"
      }
    },
    {
      "cell_type": "code",
      "source": [
        "my_string = \"It's a beautiful day!\"\n",
        "my_string"
      ],
      "metadata": {
        "colab": {
          "base_uri": "https://localhost:8080/",
          "height": 36
        },
        "id": "FB8QGmztguec",
        "outputId": "7c2a6d70-5490-4c85-869a-4a30c71f780f"
      },
      "execution_count": null,
      "outputs": [
        {
          "output_type": "execute_result",
          "data": {
            "text/plain": [
              "\"It's a beautiful day!\""
            ],
            "application/vnd.google.colaboratory.intrinsic+json": {
              "type": "string"
            }
          },
          "metadata": {},
          "execution_count": 42
        }
      ]
    },
    {
      "cell_type": "markdown",
      "source": [
        "What if our string contains both single and double quotes?\n",
        "\n",
        "We can use triple-quotes! Enclosing the string in triple quotes ensures both single and double quotes are treated correctly."
      ],
      "metadata": {
        "id": "gEtOHeyyh8d9"
      }
    },
    {
      "cell_type": "code",
      "source": [
        "latitude = '''37° 46' 26.2992\" N'''\n",
        "longitude = '''122° 25' 52.6692\" W'''\n",
        "print(latitude, longitude)\n",
        "print('Latitude:',latitude)"
      ],
      "metadata": {
        "colab": {
          "base_uri": "https://localhost:8080/"
        },
        "id": "-fnoaVsQh9CO",
        "outputId": "2c4c5765-beb8-4e87-e4a6-efd53537f6e2"
      },
      "execution_count": null,
      "outputs": [
        {
          "output_type": "stream",
          "name": "stdout",
          "text": [
            "37° 46' 26.2992\" N 122° 25' 52.6692\" W\n",
            "Latitude: 37° 46' 26.2992\" N\n"
          ]
        }
      ]
    },
    {
      "cell_type": "markdown",
      "source": [
        "Backslashes pose another problem when dealing with Windows paths"
      ],
      "metadata": {
        "id": "PpR0O271iRHb"
      }
    },
    {
      "cell_type": "code",
      "source": [
        "path = 'C:\\Users\\Suchitra'\n",
        "print(path)"
      ],
      "metadata": {
        "colab": {
          "base_uri": "https://localhost:8080/",
          "height": 106
        },
        "id": "bTshkVv3iQM9",
        "outputId": "1c65d6bb-8b71-4c27-d3c3-eb1a80f46e56"
      },
      "execution_count": null,
      "outputs": [
        {
          "output_type": "error",
          "ename": "SyntaxError",
          "evalue": "(unicode error) 'unicodeescape' codec can't decode bytes in position 2-3: truncated \\UXXXXXXXX escape (<ipython-input-47-7ad945b2aeda>, line 1)",
          "traceback": [
            "\u001b[0;36m  File \u001b[0;32m\"<ipython-input-47-7ad945b2aeda>\"\u001b[0;36m, line \u001b[0;32m1\u001b[0m\n\u001b[0;31m    path = 'C:\\Users\\Suchitra'\u001b[0m\n\u001b[0m                              ^\u001b[0m\n\u001b[0;31mSyntaxError\u001b[0m\u001b[0;31m:\u001b[0m (unicode error) 'unicodeescape' codec can't decode bytes in position 2-3: truncated \\UXXXXXXXX escape\n"
          ]
        }
      ]
    },
    {
      "cell_type": "markdown",
      "source": [
        "Prefixing a string with r makes is a Raw string. Which doesn’t interpret backslash as a special character"
      ],
      "metadata": {
        "id": "D8vbk0zgixxW"
      }
    },
    {
      "cell_type": "code",
      "source": [
        "path = r'C:\\Users\\Suchitra'\n",
        "print(path)"
      ],
      "metadata": {
        "colab": {
          "base_uri": "https://localhost:8080/"
        },
        "id": "Q5OcEdJCi0KX",
        "outputId": "091531a7-c44e-4a6e-909e-3ff45b6587cc"
      },
      "execution_count": null,
      "outputs": [
        {
          "output_type": "stream",
          "name": "stdout",
          "text": [
            "C:\\Users\\Suchitra\n"
          ]
        }
      ]
    },
    {
      "cell_type": "markdown",
      "source": [
        "##Printing Strings\n",
        "Python provides a few different ways to create strings from variables. Let’s learn about the two preferred methods.\n",
        "\n",
        "##String format() Method\n",
        "We can use the string format() method to create a string with curly-braces and specify the values to fill in each field."
      ],
      "metadata": {
        "id": "QA39XDbLi452"
      }
    },
    {
      "cell_type": "code",
      "source": [
        "city = 'San Francisco'\n",
        "population = 881549\n",
        "print('Population of {} is {}'.format(city ,population))"
      ],
      "metadata": {
        "colab": {
          "base_uri": "https://localhost:8080/"
        },
        "id": "Ocbs48EkjFin",
        "outputId": "e7812143-7b21-4d10-b79c-475984c52048"
      },
      "execution_count": null,
      "outputs": [
        {
          "output_type": "stream",
          "name": "stdout",
          "text": [
            "Population of San Francisco is 881549\n"
          ]
        }
      ]
    },
    {
      "cell_type": "markdown",
      "source": [
        "We can also use the format method to control the precision of the numbers"
      ],
      "metadata": {
        "id": "TTHORzXRjqQO"
      }
    },
    {
      "cell_type": "code",
      "source": [
        "latitude = 37.7749\n",
        "longitude = -122.4194\n",
        "\n",
        "#Reducing decimals to 2 digits\n",
        "coordinates = '{:.2f},{:.2f}'.format(latitude, longitude)\n",
        "print(coordinates)"
      ],
      "metadata": {
        "colab": {
          "base_uri": "https://localhost:8080/"
        },
        "id": "KnA00wErjrfG",
        "outputId": "ee781a72-1121-4d65-9d0b-756a491650c7"
      },
      "execution_count": null,
      "outputs": [
        {
          "output_type": "stream",
          "name": "stdout",
          "text": [
            "37.77,-122.42\n"
          ]
        }
      ]
    },
    {
      "cell_type": "markdown",
      "source": [
        "##F-Strings\n",
        "\n",
        "Since Python 3.6, we have an improved way for string formatting called f-strings - which stands for formatted string literals. It works similarly to the format() function but provides a more concise syntax. We create an f-string by adding a prefix f to any string. The variables within curly-braces inside a f-string are replaced with their values."
      ],
      "metadata": {
        "id": "4_ezmA3xj-6H"
      }
    },
    {
      "cell_type": "code",
      "source": [
        "city = 'San Francisco'\n",
        "population = 881549\n",
        "print(f'Population of {city} is {population}.')"
      ],
      "metadata": {
        "colab": {
          "base_uri": "https://localhost:8080/"
        },
        "id": "FPup8jp8kCH3",
        "outputId": "2064362e-961f-4277-ec4a-188d9c304285"
      },
      "execution_count": null,
      "outputs": [
        {
          "output_type": "stream",
          "name": "stdout",
          "text": [
            "Population of San Francisco is 881549.\n"
          ]
        }
      ]
    },
    {
      "cell_type": "markdown",
      "source": [
        "The same formatting operators we saw earlier works with f-strings."
      ],
      "metadata": {
        "id": "kbHpDbFYkcrG"
      }
    },
    {
      "cell_type": "code",
      "source": [
        "latitude = 37.7749\n",
        "longitude = -122.4194\n",
        "\n",
        "coordinates = f'{latitude:.2f},{longitude:.2f}'\n",
        "print(coordinates)"
      ],
      "metadata": {
        "colab": {
          "base_uri": "https://localhost:8080/"
        },
        "id": "HgR0UxR7j_m-",
        "outputId": "a2258581-ce26-4d94-9c84-9248f4e303b3"
      },
      "execution_count": null,
      "outputs": [
        {
          "output_type": "stream",
          "name": "stdout",
          "text": [
            "37.77,-122.42\n"
          ]
        }
      ]
    },
    {
      "cell_type": "markdown",
      "source": [
        "We find that while f-strings are modern and concise - beginners find it more intuitive to use the format() method, so we will prefer format() over f-strings in this course. But you are free to use any method of your choice."
      ],
      "metadata": {
        "id": "M3ekFkfLkq1Y"
      }
    },
    {
      "cell_type": "markdown",
      "source": [
        "##Exercise\n",
        "Use the string slicing to extract and print the degrees, minutes and second parts of the string below.\n",
        "latitude = '''37° 46' 26.2992\"'''\n",
        "\n",
        "The output should be as follows\n",
        "\n",
        "37\n",
        "\n",
        "46\n",
        "\n",
        "26.2992"
      ],
      "metadata": {
        "id": "jq4SSNP4k9i_"
      }
    },
    {
      "cell_type": "code",
      "source": [
        "latitude = '''37° 46' 26.2992\"'''\n",
        "print(latitude.split())"
      ],
      "metadata": {
        "colab": {
          "base_uri": "https://localhost:8080/"
        },
        "id": "9Gn9I59llAcy",
        "outputId": "53b9e1c2-2d5a-48e2-f0ee-157a81e794fd"
      },
      "execution_count": null,
      "outputs": [
        {
          "output_type": "stream",
          "name": "stdout",
          "text": [
            "['37°', \"46'\", '26.2992\"']\n"
          ]
        }
      ]
    },
    {
      "cell_type": "code",
      "source": [
        "print(latitude.split('°'))\n",
        "print(latitude.split('°')[0])\n",
        "#print(latitude.split('°')[1])\n",
        "\n",
        "print(latitude.split('°')[1].split(\"'\")[0])\n",
        "\n",
        "print(latitude.split('°')[1].split(\"'\")[1].split('\"')[0])"
      ],
      "metadata": {
        "colab": {
          "base_uri": "https://localhost:8080/"
        },
        "id": "DmADxA8ilfH3",
        "outputId": "29fa3587-cc23-4c6b-f28c-fa213280db7f"
      },
      "execution_count": null,
      "outputs": [
        {
          "output_type": "stream",
          "name": "stdout",
          "text": [
            "['37', ' 46\\' 26.2992\"']\n",
            "37\n",
            " 46\n",
            " 26.2992\n"
          ]
        }
      ]
    },
    {
      "cell_type": "markdown",
      "source": [
        "#4. Loops and Conditionals\n",
        "# For Loops"
      ],
      "metadata": {
        "id": "awUmjXIWnJLd"
      }
    },
    {
      "cell_type": "markdown",
      "source": [
        "A for loop is used for iterating over a sequence. The sequence can be a list, a tuple, a dictionary, a set, or a string."
      ],
      "metadata": {
        "id": "dci-F_uInRO4"
      }
    },
    {
      "cell_type": "code",
      "source": [
        "cities = ['San Francisco', 'Los Angeles', 'New York', 'Atlanta']\n",
        "\n",
        "for city in cities:\n",
        "    print(city)"
      ],
      "metadata": {
        "colab": {
          "base_uri": "https://localhost:8080/"
        },
        "id": "Cka0BXrsqk96",
        "outputId": "273a8c98-6827-43bf-db3d-5367f8b2bbbe"
      },
      "execution_count": null,
      "outputs": [
        {
          "output_type": "stream",
          "name": "stdout",
          "text": [
            "San Francisco\n",
            "Los Angeles\n",
            "New York\n",
            "Atlanta\n"
          ]
        }
      ]
    },
    {
      "cell_type": "markdown",
      "source": [
        "To iterate over a dictionary, you can call the items() method on it which returns a tuple of key and value for each item."
      ],
      "metadata": {
        "id": "k0knJTV5qtCt"
      }
    },
    {
      "cell_type": "code",
      "source": [
        "data = {'city': 'San Francisco', 'population': 881549, 'coordinates': (-122.4194, 37.7749) }\n",
        "\n",
        "for x, y in data.items():\n",
        "    print(x, y)"
      ],
      "metadata": {
        "colab": {
          "base_uri": "https://localhost:8080/"
        },
        "id": "_NoQOCEHqy6D",
        "outputId": "ec52c4fd-e7a7-4420-d9a3-5652eb500c37"
      },
      "execution_count": null,
      "outputs": [
        {
          "output_type": "stream",
          "name": "stdout",
          "text": [
            "city San Francisco\n",
            "population 881549\n",
            "coordinates (-122.4194, 37.7749)\n"
          ]
        }
      ]
    },
    {
      "cell_type": "markdown",
      "source": [
        "The built-in range() function allows you to create sequence of numbers that you can iterate over"
      ],
      "metadata": {
        "id": "uFn_zO6Lerrt"
      }
    },
    {
      "cell_type": "code",
      "source": [
        "for x in range(5):\n",
        "    print(x)"
      ],
      "metadata": {
        "colab": {
          "base_uri": "https://localhost:8080/"
        },
        "id": "LEQhMv4NesNT",
        "outputId": "99546feb-ddf1-4159-deb9-0efb2ed0ae97"
      },
      "execution_count": null,
      "outputs": [
        {
          "output_type": "stream",
          "name": "stdout",
          "text": [
            "0\n",
            "1\n",
            "2\n",
            "3\n",
            "4\n"
          ]
        }
      ]
    },
    {
      "cell_type": "markdown",
      "source": [
        "The range function can also take a start and an end number"
      ],
      "metadata": {
        "id": "2UvStKkyexVU"
      }
    },
    {
      "cell_type": "code",
      "source": [
        "for x in range(1, 10, 2):\n",
        "    print(x)"
      ],
      "metadata": {
        "colab": {
          "base_uri": "https://localhost:8080/"
        },
        "id": "BPOOC7ile1Qc",
        "outputId": "cb9e6c9e-3db1-4df4-a076-a5806ad85d60"
      },
      "execution_count": null,
      "outputs": [
        {
          "output_type": "stream",
          "name": "stdout",
          "text": [
            "1\n",
            "3\n",
            "5\n",
            "7\n",
            "9\n"
          ]
        }
      ]
    },
    {
      "cell_type": "markdown",
      "source": [
        "##Conditionals\n",
        "Python supports logical conditions such as equals, not equals, greater than etc. These conditions can be used in several ways, most commonly in if statements and loops.\n",
        "\n",
        "An if statement is written by using the if keyword.\n",
        "\n",
        "Note: A very common error that programmers make is to use = to evaluate a equals to condition. The = in Python means assignment, not equals to. Always ensure that you use the == for an equals to condition."
      ],
      "metadata": {
        "id": "gNRwDkFSe7YL"
      }
    },
    {
      "cell_type": "code",
      "source": [
        "for city in cities:\n",
        "    if city == 'Atlanta':\n",
        "        print(city)"
      ],
      "metadata": {
        "colab": {
          "base_uri": "https://localhost:8080/"
        },
        "id": "1Ds_5LTcfGVz",
        "outputId": "6a3beb9d-2729-4f52-8976-fa3463d09484"
      },
      "execution_count": null,
      "outputs": [
        {
          "output_type": "stream",
          "name": "stdout",
          "text": [
            "Atlanta\n"
          ]
        }
      ]
    },
    {
      "cell_type": "markdown",
      "source": [
        "You can use else keywords along with if to match elements that do not meet the condition"
      ],
      "metadata": {
        "id": "U86jNk2nfWys"
      }
    },
    {
      "cell_type": "code",
      "source": [
        "for city in cities:\n",
        "    if city == 'Atlanta':\n",
        "        print(city)\n",
        "    else:\n",
        "        print('This is not Atlanta')"
      ],
      "metadata": {
        "colab": {
          "base_uri": "https://localhost:8080/"
        },
        "id": "K_LoiDQGfbts",
        "outputId": "8acc9fec-bc16-4202-ed17-ca76499c0e53"
      },
      "execution_count": null,
      "outputs": [
        {
          "output_type": "stream",
          "name": "stdout",
          "text": [
            "This is not Atlanta\n",
            "This is not Atlanta\n",
            "This is not Atlanta\n",
            "Atlanta\n"
          ]
        }
      ]
    },
    {
      "cell_type": "markdown",
      "source": [
        "Python relies on indentation (whitespace at the beginning of a line) to define scope in the for loop and if statements. So make sure your code is properly indented.\n",
        "\n",
        "You can evaluate a series of conditions using the elif keyword.\n",
        "\n",
        "Multiple criteria can be combined using the and and or keywords."
      ],
      "metadata": {
        "id": "zOEEDwoTfePE"
      }
    },
    {
      "cell_type": "code",
      "source": [
        "cities_population = {\n",
        "    'San Francisco': 881549,\n",
        "    'Los Angeles': 3792621,\n",
        "    'New York': 8175133,\n",
        "    'Atlanta':498044\n",
        "}\n",
        "\n",
        "for city, population in cities_population.items():\n",
        "    if population < 1000000:\n",
        "        print('{} is a small city'.format(city))\n",
        "    elif population > 1000000 and population < 5000000:\n",
        "        print('{} is a big city'.format(city))\n",
        "    else:\n",
        "        print('{} is a mega city'.format(city))"
      ],
      "metadata": {
        "colab": {
          "base_uri": "https://localhost:8080/"
        },
        "id": "zooRfI-Wf6oF",
        "outputId": "a91b2abc-e21f-4eb1-9e67-c22fd17d2ae5"
      },
      "execution_count": null,
      "outputs": [
        {
          "output_type": "stream",
          "name": "stdout",
          "text": [
            "San Francisco is a small city\n",
            "Los Angeles is a big city\n",
            "New York is a mega city\n",
            "Atlanta is a small city\n"
          ]
        }
      ]
    },
    {
      "cell_type": "code",
      "source": [
        "cities_population.items()"
      ],
      "metadata": {
        "colab": {
          "base_uri": "https://localhost:8080/"
        },
        "id": "AJ1nq5ku7eGM",
        "outputId": "8f93ad54-c525-45bd-dc84-90560c2c98fe"
      },
      "execution_count": null,
      "outputs": [
        {
          "output_type": "execute_result",
          "data": {
            "text/plain": [
              "dict_items([('San Francisco', 881549), ('Los Angeles', 3792621), ('New York', 8175133), ('Atlanta', 498044)])"
            ]
          },
          "metadata": {},
          "execution_count": 3
        }
      ]
    },
    {
      "cell_type": "markdown",
      "source": [
        "##Control Statements\n",
        "A for-loop iterates over each item in the sequence. Sometimes is desirable to stop the execution, or skip certain parts of the for-loops. Python has special statements, break, continue and pass.\n",
        "\n",
        "A break statement will stop the loop and exit out of it"
      ],
      "metadata": {
        "id": "r-DW9MAEf-Yu"
      }
    },
    {
      "cell_type": "code",
      "source": [
        "for city in cities:\n",
        "    print(city)\n",
        "    if city == 'Los Angeles':\n",
        "        print('I found Los Angeles')\n",
        "        break"
      ],
      "metadata": {
        "colab": {
          "base_uri": "https://localhost:8080/"
        },
        "id": "Y7KnhyNsgCAV",
        "outputId": "3f0b7a78-9add-4be4-cf77-4de2e162f466"
      },
      "execution_count": null,
      "outputs": [
        {
          "output_type": "stream",
          "name": "stdout",
          "text": [
            "San Francisco\n",
            "Los Angeles\n",
            "I found Los Angeles\n"
          ]
        }
      ]
    },
    {
      "cell_type": "markdown",
      "source": [
        "A continue statement will skip the remaining part of the loop and go to the next iteration"
      ],
      "metadata": {
        "id": "LR0c1puoglRO"
      }
    },
    {
      "cell_type": "code",
      "source": [
        "for city in cities:\n",
        "    if city == 'Los Angeles':\n",
        "        continue\n",
        "    print(city)"
      ],
      "metadata": {
        "colab": {
          "base_uri": "https://localhost:8080/"
        },
        "id": "DumZamxngl01",
        "outputId": "c87e6771-8502-436d-8eed-fa84e3ff51c5"
      },
      "execution_count": null,
      "outputs": [
        {
          "output_type": "stream",
          "name": "stdout",
          "text": [
            "San Francisco\n",
            "New York\n",
            "Atlanta\n"
          ]
        }
      ]
    },
    {
      "cell_type": "markdown",
      "source": [
        "A pass statement doesn’t do anything. It is useful when some code is required to complete the syntax, but you do not want any code to execute. It is typically used as a placeholder when a function is not complete."
      ],
      "metadata": {
        "id": "AWTEIyMKhLit"
      }
    },
    {
      "cell_type": "code",
      "source": [
        "for city in cities:\n",
        "    if city == 'Los Angeles':\n",
        "        pass\n",
        "    else:\n",
        "        print(city)"
      ],
      "metadata": {
        "colab": {
          "base_uri": "https://localhost:8080/"
        },
        "id": "GV8VIuZJhMJm",
        "outputId": "60766192-0a2c-46ef-99ec-ea05c6f8307c"
      },
      "execution_count": null,
      "outputs": [
        {
          "output_type": "stream",
          "name": "stdout",
          "text": [
            "San Francisco\n",
            "New York\n",
            "Atlanta\n"
          ]
        }
      ]
    },
    {
      "cell_type": "markdown",
      "source": [
        "##Exercise\n",
        "The Fizz Buzz challenge.\n",
        "\n",
        "Write a program that prints the numbers from 1 to 100 and for multiples of 3 print Fizz instead of the number and for the multiples of 5 print Buzz. If it is divisible by both, print FizzBuzz.\n",
        "\n",
        "So the output should be something like below\n",
        "\n",
        "1, 2, Fizz, 4, Buzz, Fizz ... 13, 14, FizzBuzz, ...\n",
        "\n",
        "Breaking down the problem further, we need to create for-loop with following conditions\n",
        "\n",
        "If the number is a multiple of both 3 and 5 (i.e. 15), print FizzBuzz\n",
        "If the number is multiple of 3, print Fizz\n",
        "If the number is multiple of 5, print Buzz\n",
        "Otherwise print the number\n",
        "Hint: See the code cell below. Use the modulus operator % to check if a number is divisible by another. 10 % 5 equals 0, meaning it is divisible by 5."
      ],
      "metadata": {
        "id": "AzCGALcxhXvd"
      }
    },
    {
      "cell_type": "code",
      "source": [
        "for i in range(1,100):\n",
        "  if (i%3==0) & (i%5==0):\n",
        "    print('FizzBuzz')\n",
        "  elif (i%3==0):\n",
        "    print('Fizz')\n",
        "  elif (i%5==0):\n",
        "    print('Buzz')\n",
        "  else:\n",
        "    print(i)"
      ],
      "metadata": {
        "id": "nMQzkq_4hWw2",
        "colab": {
          "base_uri": "https://localhost:8080/"
        },
        "outputId": "68671d70-0289-44ea-fe18-830fe7e625a9"
      },
      "execution_count": null,
      "outputs": [
        {
          "output_type": "stream",
          "name": "stdout",
          "text": [
            "1\n",
            "2\n",
            "Fizz\n",
            "4\n",
            "Buzz\n",
            "Fizz\n",
            "7\n",
            "8\n",
            "Fizz\n",
            "Buzz\n",
            "11\n",
            "Fizz\n",
            "13\n",
            "14\n",
            "FizzBuzz\n",
            "16\n",
            "17\n",
            "Fizz\n",
            "19\n",
            "Buzz\n",
            "Fizz\n",
            "22\n",
            "23\n",
            "Fizz\n",
            "Buzz\n",
            "26\n",
            "Fizz\n",
            "28\n",
            "29\n",
            "FizzBuzz\n",
            "31\n",
            "32\n",
            "Fizz\n",
            "34\n",
            "Buzz\n",
            "Fizz\n",
            "37\n",
            "38\n",
            "Fizz\n",
            "Buzz\n",
            "41\n",
            "Fizz\n",
            "43\n",
            "44\n",
            "FizzBuzz\n",
            "46\n",
            "47\n",
            "Fizz\n",
            "49\n",
            "Buzz\n",
            "Fizz\n",
            "52\n",
            "53\n",
            "Fizz\n",
            "Buzz\n",
            "56\n",
            "Fizz\n",
            "58\n",
            "59\n",
            "FizzBuzz\n",
            "61\n",
            "62\n",
            "Fizz\n",
            "64\n",
            "Buzz\n",
            "Fizz\n",
            "67\n",
            "68\n",
            "Fizz\n",
            "Buzz\n",
            "71\n",
            "Fizz\n",
            "73\n",
            "74\n",
            "FizzBuzz\n",
            "76\n",
            "77\n",
            "Fizz\n",
            "79\n",
            "Buzz\n",
            "Fizz\n",
            "82\n",
            "83\n",
            "Fizz\n",
            "Buzz\n",
            "86\n",
            "Fizz\n",
            "88\n",
            "89\n",
            "FizzBuzz\n",
            "91\n",
            "92\n",
            "Fizz\n",
            "94\n",
            "Buzz\n",
            "Fizz\n",
            "97\n",
            "98\n",
            "Fizz\n"
          ]
        }
      ]
    },
    {
      "cell_type": "markdown",
      "source": [
        "#5.Functions"
      ],
      "metadata": {
        "id": "CZfGk_tM_KbE"
      }
    },
    {
      "cell_type": "markdown",
      "source": [
        "A function is a block of code that takes one or more inputs, does some processing on them and returns one or more outputs. The code within the function runs only when it is called.\n",
        "\n",
        "A funtion is defined using the def keyword"
      ],
      "metadata": {
        "id": "6vAfLXqdBN9y"
      }
    },
    {
      "cell_type": "code",
      "source": [
        "def my_function():\n",
        "    ....\n",
        "    ....\n",
        "    return something"
      ],
      "metadata": {
        "id": "axLiKO9QBT7p"
      },
      "execution_count": null,
      "outputs": []
    },
    {
      "cell_type": "markdown",
      "source": [
        "Functions are useful because they allow us to capture the logic of our code and we can run it with differnt inputs without having to write the same code again and again.\n",
        "\n"
      ],
      "metadata": {
        "id": "uZhnPwTCBVSq"
      }
    },
    {
      "cell_type": "code",
      "source": [
        "def greeting(name):\n",
        "  return 'Hello '+name\n",
        "\n",
        "output=greeting('Suchitra')\n",
        "print(output)"
      ],
      "metadata": {
        "colab": {
          "base_uri": "https://localhost:8080/"
        },
        "id": "XUEP7f2eBXoh",
        "outputId": "b160476f-50ab-4400-bfae-bd12c50537a3"
      },
      "execution_count": null,
      "outputs": [
        {
          "output_type": "stream",
          "name": "stdout",
          "text": [
            "Hello Suchitra\n"
          ]
        }
      ]
    },
    {
      "cell_type": "markdown",
      "source": [
        "##Function to convert DMS to decimals\n",
        "Functions can take multiple arguments. Let’s write a function to convert coordinates from degrees, minutes, seconds to decimal degrees. This conversion is needed quite often when working with data collected from GPS devices.\n",
        "\n",
        "1 degree is equal to 60 minutes\n",
        "1 minute is equal to 60 seconds (3600 seconds)\n",
        "To calculate decimal degrees, we can use the formula below:\n",
        "\n",
        "If degrees are positive:\n",
        "\n",
        "Decimal Degrees = degrees + (minutes/60) + (seconds/3600)\n",
        "\n",
        "If degrees are negative\n",
        "\n",
        "Decimal Degrees = degrees - (minutes/60) - (seconds/3600)"
      ],
      "metadata": {
        "id": "wJENEIwxBsi5"
      }
    },
    {
      "cell_type": "code",
      "source": [
        "def convert_dms_to_dd(degrees, minutes, seconds):\n",
        "  if degrees < 0:\n",
        "    result = degrees-(minutes/60)-(seconds/3600)\n",
        "  else:\n",
        "    result = degrees+(minutes/60) +(seconds/3600)\n",
        "  return result"
      ],
      "metadata": {
        "id": "IOHHD4y7BxKR"
      },
      "execution_count": null,
      "outputs": []
    },
    {
      "cell_type": "code",
      "source": [
        "print(convert_dms_to_dd(10,10,10))"
      ],
      "metadata": {
        "colab": {
          "base_uri": "https://localhost:8080/"
        },
        "id": "lk6clPh1CSBb",
        "outputId": "fb439172-c812-4a96-e2cc-95159e3e5128"
      },
      "execution_count": null,
      "outputs": [
        {
          "output_type": "stream",
          "name": "stdout",
          "text": [
            "10.169444444444444\n"
          ]
        }
      ]
    },
    {
      "cell_type": "code",
      "source": [
        "print(convert_dms_to_dd(12,58,20))"
      ],
      "metadata": {
        "colab": {
          "base_uri": "https://localhost:8080/"
        },
        "id": "Dx6X-NHeCv_p",
        "outputId": "7ca2bb96-b331-4c70-85ed-7be06beb9cf3"
      },
      "execution_count": null,
      "outputs": [
        {
          "output_type": "stream",
          "name": "stdout",
          "text": [
            "12.972222222222223\n"
          ]
        }
      ]
    },
    {
      "cell_type": "markdown",
      "source": [
        "##Exercise\n",
        "Given a coordinate string with value in degree, minutes and seconds, convert it to decimal degrees by calling the dms_to_decimal function.\n",
        "coordinate = '''37° 46' 26.2992\"'''\n",
        "\n",
        "Hints:\n",
        "\n",
        "Add the code below to extract the parts from the coordinate string,\n",
        "\n",
        "call the function to convert to decimal degrees and print the result\n",
        "\n",
        "The expected answer is 37.773972"
      ],
      "metadata": {
        "id": "lCyN-8fJDIhh"
      }
    },
    {
      "cell_type": "code",
      "source": [
        "coordinate = '''37° 46' 26.2992\"'''\n",
        "degrees=coordinate.split('°')[0]\n",
        "# temp=coordinate.split('°')[1].split(\"'\")\n",
        "# print(temp)\n",
        "minutes=coordinate.split('°')[1].split('\\'')[0]\n",
        "seconds=coordinate.split('°')[1].split('\\'')[1].split('\"')[0]\n",
        "print('Degrees is  {}, minutes is {}, seconds is {}'.format(degrees,minutes,seconds))\n",
        "print(type(degrees))\n",
        "\n",
        "#Convert degrees,minutes,seconds to float\n",
        "degrees_float=float(degrees)\n",
        "minutes_float=float(minutes)\n",
        "seconds_float=float(seconds)\n",
        "print(type(degrees_float))\n",
        "\n",
        "\n",
        "output=convert_dms_to_dd(degrees_float,minutes_float,seconds_float)\n",
        "print(output)"
      ],
      "metadata": {
        "colab": {
          "base_uri": "https://localhost:8080/"
        },
        "id": "JPFRD1NjDdMb",
        "outputId": "b4a1ff63-58d1-4383-fb10-c9b8537be4a1"
      },
      "execution_count": null,
      "outputs": [
        {
          "output_type": "stream",
          "name": "stdout",
          "text": [
            "[' 46', ' 26.2992\"']\n",
            "Degrees is  37, minutes is  46, seconds is  26.2992\n",
            "<class 'str'>\n",
            "<class 'float'>\n",
            "37.773972\n"
          ]
        }
      ]
    },
    {
      "cell_type": "markdown",
      "source": [
        "##Exercise2: Function to convert Decimals to DMS\n",
        "Logic:\n",
        "Decimal degrees (DD):37.773972\n",
        "\n",
        "Degrees=37\n",
        "\n",
        "Minutes_temp=0.773972*60=46.43832 (non fractional part is minutes)\n",
        "\n",
        "Minutes=46\n",
        "\n",
        "To get seconds, get the fractional part of minutes and multiply with 60.\n",
        "\n",
        "seconds=0.43832*60=26.2992"
      ],
      "metadata": {
        "id": "hXNUjySYFocN"
      }
    },
    {
      "cell_type": "code",
      "source": [
        "#To work with float numbers:\n",
        "import math\n",
        "\n",
        "number = 2.3\n",
        "\n",
        "# Get the integer part\n",
        "integer_part = math.trunc(number)  # or use int(number)\n",
        "# Get the fractional part\n",
        "fractional_part = number - integer_part\n",
        "\n",
        "print(f\"Integer part: {integer_part}\")        # Output: 2\n",
        "print(f\"Fractional part: {fractional_part}\")  # Output: 0.3"
      ],
      "metadata": {
        "id": "y_C0HGl5Jpcr"
      },
      "execution_count": null,
      "outputs": []
    },
    {
      "cell_type": "code",
      "source": [
        "def convert_dd_to_dms(decimaldegrees):\n",
        "  #Get integer part from dd\n",
        "  degrees=int(decimaldegrees)\n",
        "  minutes_cal=(decimaldegrees-degrees)*60\n",
        "  #Get integer part from minutes calculation\n",
        "  minutes=int( minutes_cal)\n",
        "  seconds=(minutes_cal-minutes)*60\n",
        "  return degrees,minutes,seconds"
      ],
      "metadata": {
        "id": "zBjKYhTuIkBc"
      },
      "execution_count": null,
      "outputs": []
    },
    {
      "cell_type": "code",
      "source": [
        "output=convert_dd_to_dms(37.773972)\n",
        "print(output)\n",
        "\n",
        "print(f\"{output[0]}° {output[1]}' {output[2]}\\\" \")"
      ],
      "metadata": {
        "colab": {
          "base_uri": "https://localhost:8080/"
        },
        "id": "7ch8RRPUKoLL",
        "outputId": "df737303-69be-45cd-ceaa-820dcc3b65d2"
      },
      "execution_count": null,
      "outputs": [
        {
          "output_type": "stream",
          "name": "stdout",
          "text": [
            "(37, 46, 26.299200000001974)\n",
            "37° 46' 26.299200000001974\" \n"
          ]
        }
      ]
    },
    {
      "cell_type": "markdown",
      "source": [
        "#6.The Python Standard Library"
      ],
      "metadata": {
        "id": "65EJrmErHtCZ"
      }
    },
    {
      "cell_type": "markdown",
      "source": [
        "![image.png](data:image/png;base64,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)"
      ],
      "metadata": {
        "id": "A8UV4O4S1YUi"
      }
    },
    {
      "cell_type": "markdown",
      "source": [
        "Python comes with many built-in modules that offer ready-to-use solutions to common programming problems. To use these modules, you must use the import keyword. Once imported in your Python script, you can use the functions provided by the module in your script.\n",
        "\n",
        "We will use the built-in math module that allows us to use advanced mathematical functions."
      ],
      "metadata": {
        "id": "P610W3Mf2dhf"
      }
    },
    {
      "cell_type": "code",
      "source": [
        "import math"
      ],
      "metadata": {
        "id": "kVAxeOAB2fp4"
      },
      "execution_count": null,
      "outputs": []
    },
    {
      "cell_type": "markdown",
      "source": [
        "You can also import specific functions or constants from the module like below"
      ],
      "metadata": {
        "id": "uZm_WnKa2h2-"
      }
    },
    {
      "cell_type": "code",
      "source": [
        "from math import pi\n",
        "print(pi)"
      ],
      "metadata": {
        "colab": {
          "base_uri": "https://localhost:8080/"
        },
        "id": "yz3j31k72lGd",
        "outputId": "1260e4b9-ea22-4d91-ef5e-10e64c23c949"
      },
      "execution_count": null,
      "outputs": [
        {
          "output_type": "stream",
          "name": "stdout",
          "text": [
            "3.141592653589793\n"
          ]
        }
      ]
    },
    {
      "cell_type": "markdown",
      "source": [
        "##Calculating Distance\n",
        "Given 2 points with their Latitude and Longitude coordinates, the Haversine Formula calculates the straight-line distance in meters, assuming that Earth is a sphere.\n",
        "\n",
        "The formula is simple enough to be implemented in a spreadsheet too. If you are curious, see my post about using this formula for calculating distances in a spreadsheet.\n",
        "\n",
        "We can write a function that accepts a pair of origin and destination coordinates and computes the distance."
      ],
      "metadata": {
        "id": "n5qhQp922rBl"
      }
    },
    {
      "cell_type": "code",
      "source": [
        "san_francisco = (37.7749, -122.4194)\n",
        "new_york = (40.661, -73.944)"
      ],
      "metadata": {
        "id": "OjSnKhWQ2vWL"
      },
      "execution_count": null,
      "outputs": []
    },
    {
      "cell_type": "code",
      "source": [
        "def haversine_distance(origin, destination):\n",
        "  lat1, lon1 = origin\n",
        "  lat2, lon2 = destination\n",
        "  radius = 6371000\n",
        "  dlat = math.radians(lat2-lat1)\n",
        "  dlon = math.radians(lon2-lon1)\n",
        "  a = math.sin(dlat/2) * math.sin(dlat/2) + math.cos(math.radians(lat1)) \\\n",
        "    * math.cos(math.radians(lat2)) * math.sin(dlon/2) * math.sin(dlon/2)\n",
        "  c = 2 * math.atan2(math.sqrt(a), math.sqrt(1-a))\n",
        "  distance = radius * c\n",
        "  return distance"
      ],
      "metadata": {
        "id": "88zsO_D92zYY"
      },
      "execution_count": null,
      "outputs": []
    },
    {
      "cell_type": "code",
      "source": [
        "distance = haversine_distance(san_francisco, new_york)\n",
        "print(distance/1000, 'km')"
      ],
      "metadata": {
        "colab": {
          "base_uri": "https://localhost:8080/"
        },
        "id": "GYaA31Kn20AT",
        "outputId": "62762baa-55b7-43f4-e595-cfd20bf733a3"
      },
      "execution_count": null,
      "outputs": [
        {
          "output_type": "stream",
          "name": "stdout",
          "text": [
            "4135.374617164737 km\n"
          ]
        }
      ]
    },
    {
      "cell_type": "markdown",
      "source": [
        "##Discover Python Easter Eggs\n",
        "Programmers love to hide secret jokes in their programs for gun. These are known as Easter Eggs. Python has an easter egg that you can see when you try to import the module named this. Try writing the command import this below."
      ],
      "metadata": {
        "id": "smfMpO6P2_eo"
      }
    },
    {
      "cell_type": "code",
      "source": [
        "import this"
      ],
      "metadata": {
        "colab": {
          "base_uri": "https://localhost:8080/"
        },
        "id": "osTk4Ws43ErI",
        "outputId": "329d8982-5d43-4073-c87b-9bf8d71a1be2"
      },
      "execution_count": null,
      "outputs": [
        {
          "output_type": "stream",
          "name": "stdout",
          "text": [
            "The Zen of Python, by Tim Peters\n",
            "\n",
            "Beautiful is better than ugly.\n",
            "Explicit is better than implicit.\n",
            "Simple is better than complex.\n",
            "Complex is better than complicated.\n",
            "Flat is better than nested.\n",
            "Sparse is better than dense.\n",
            "Readability counts.\n",
            "Special cases aren't special enough to break the rules.\n",
            "Although practicality beats purity.\n",
            "Errors should never pass silently.\n",
            "Unless explicitly silenced.\n",
            "In the face of ambiguity, refuse the temptation to guess.\n",
            "There should be one-- and preferably only one --obvious way to do it.\n",
            "Although that way may not be obvious at first unless you're Dutch.\n",
            "Now is better than never.\n",
            "Although never is often better than *right* now.\n",
            "If the implementation is hard to explain, it's a bad idea.\n",
            "If the implementation is easy to explain, it may be a good idea.\n",
            "Namespaces are one honking great idea -- let's do more of those!\n"
          ]
        }
      ]
    },
    {
      "cell_type": "markdown",
      "source": [
        "Let’s try one more. Try importing the antigravity module.\n",
        "\n",
        "Here’s a complete list of [easter eggs in Python](https://towardsdatascience.com/7-easter-eggs-in-python-7765dc15a203)"
      ],
      "metadata": {
        "id": "h--shRZZ3OZd"
      }
    },
    {
      "cell_type": "code",
      "source": [
        "import antigravity"
      ],
      "metadata": {
        "id": "vVSDafGA3btI"
      },
      "execution_count": null,
      "outputs": []
    },
    {
      "cell_type": "markdown",
      "source": [
        "##Exercise\n",
        "Find the coordinates of 2 cities near you and calculate the distance between them by calling the haversine_distance function below."
      ],
      "metadata": {
        "id": "kwBJkgRx3cFq"
      }
    },
    {
      "cell_type": "code",
      "source": [
        "import math\n",
        "\n",
        "def haversine_distance(origin, destination):\n",
        "  lat1, lon1 = origin\n",
        "  lat2, lon2 = destination\n",
        "  radius = 6371000  #meters\n",
        "  dlat = math.radians(lat2-lat1)\n",
        "  dlon = math.radians(lon2-lon1)\n",
        "  a = math.sin(dlat/2) * math.sin(dlat/2) + math.cos(math.radians(lat1)) \\\n",
        "    * math.cos(math.radians(lat2)) * math.sin(dlon/2) * math.sin(dlon/2)\n",
        "  c = 2 * math.atan2(math.sqrt(a), math.sqrt(1-a))\n",
        "  distance = radius * c\n",
        "  return distance\n",
        "# distance is in meters\n",
        "# city1 = (lat1, lng1)\n",
        "# city2 = (lat2, lng2)\n",
        "# call the function and print the result"
      ],
      "metadata": {
        "id": "ynltN4V33obh"
      },
      "execution_count": null,
      "outputs": []
    },
    {
      "cell_type": "code",
      "source": [
        "vijayawada=(16.515099,80.632095)\n",
        "hyd=\"17° 22' 31\\\" N and 78° 28' 27\\\" E\"\n",
        " #(17.4065° N, 78.4772° E)\n",
        "\n",
        "hyd_lat=convert_dms_to_dd(17,22,31)\n",
        "hyd_long=convert_dms_to_dd(78,28,27)\n",
        "print(hyd_lat,hyd_long)\n",
        "hyderabad=(hyd_lat,hyd_long)"
      ],
      "metadata": {
        "colab": {
          "base_uri": "https://localhost:8080/"
        },
        "id": "KMo_Z9eO36gx",
        "outputId": "7ec7942d-02c0-4f55-96ef-cbdcbc124473"
      },
      "execution_count": null,
      "outputs": [
        {
          "output_type": "stream",
          "name": "stdout",
          "text": [
            "17.37527777777778 78.47416666666666\n"
          ]
        }
      ]
    },
    {
      "cell_type": "code",
      "source": [
        "#Distance between vijayawada and hyderabad\n",
        "distance=haversine_distance(vijayawada,hyderabad)\n",
        "print(f'The distance between vijaywada and hyderabad is {distance} m.')\n",
        "print(f'The distance between vijaywada and hyderabad is {(distance/1000):.2f} Km.')"
      ],
      "metadata": {
        "colab": {
          "base_uri": "https://localhost:8080/"
        },
        "id": "qFF54Gbw5b_C",
        "outputId": "03ead151-8bd8-4d69-ab81-0034a035772b"
      },
      "execution_count": null,
      "outputs": [
        {
          "output_type": "stream",
          "name": "stdout",
          "text": [
            "The distance between vijaywada and hyderabad is 248660.50196570973 m.\n",
            "The distance between vijaywada and hyderabad is 248.66 Km.\n"
          ]
        }
      ]
    },
    {
      "cell_type": "code",
      "source": [
        "convert_dd_to_dms(17.4065)"
      ],
      "metadata": {
        "colab": {
          "base_uri": "https://localhost:8080/"
        },
        "id": "DKS0w0pa71lW",
        "outputId": "7e524565-a27f-49fb-efd6-1bce04561710"
      },
      "execution_count": null,
      "outputs": [
        {
          "output_type": "execute_result",
          "data": {
            "text/plain": [
              "(17, 24, 23.400000000004297)"
            ]
          },
          "metadata": {},
          "execution_count": 20
        }
      ]
    },
    {
      "cell_type": "markdown",
      "source": [
        "#7.Third-party Modules --->introduced geopy for calculating distance"
      ],
      "metadata": {
        "id": "5ZEPTbN1AzSW"
      }
    },
    {
      "cell_type": "markdown",
      "source": [
        "\n",
        "Python has a thriving ecosystem of third-party modules (i.e. libraries or packages) available for you to install. There are hundreds of thousands of such modules available for you to install and use.\n",
        "\n",
        "##Installing third-party libraries\n",
        "Python comes with a package manager called pip. It can install all the packages listed at [PyPI (Python Package Index)](https://pypi.org/). To install a package using pip, you need to run a command like following in a Terminal or CMD prompt.\n",
        "\n",
        "pip install <package name>\n",
        "\n",
        "For this course, we are using Anancoda platform - which comes with its own package manager called conda. You can use Anaconda Navigator to search and install packages. Or run the command like following in a Terminal or CMD Prompt.\n",
        "\n",
        "conda install <package name>\n",
        "\n",
        "See this [comparison of pip and conda](https://www.anaconda.com/blog/understanding-conda-and-pip) to understand the differences.\n",
        "\n",
        "You may also use [Mamba](https://mamba.readthedocs.io/en/latest/index.html) as an alternate open-source package manager that is fully compatible with conda.\n",
        "\n",
        "##Calculating Distance\n",
        "We have already installed the geopy package in our environment. geopy comes with functions that have already implemented many distance calculation formulae.\n",
        "\n",
        "distance.great_circle(): Calculates the distance on a great circle using haversine formula\n",
        "\n",
        "distance.geodesic(): Calculates the distance using a chosen ellipsoid using vincenty’s formula"
      ],
      "metadata": {
        "id": "7Dzcz3yO8YSI"
      }
    },
    {
      "cell_type": "code",
      "source": [
        "from geopy import distance\n",
        "\n",
        "san_francisco = (37.7749, -122.4194)\n",
        "new_york = (40.661, -73.944)\n",
        "\n",
        "straight_line_distance = distance.great_circle(san_francisco, new_york)\n",
        "ellipsoid_distance = distance.geodesic(san_francisco, new_york, ellipsoid='WGS-84')\n",
        "\n",
        "print(straight_line_distance, ellipsoid_distance)"
      ],
      "metadata": {
        "colab": {
          "base_uri": "https://localhost:8080/"
        },
        "id": "_JFzNtK19ops",
        "outputId": "756818e6-57e9-463d-90a0-6f5e3362087b"
      },
      "execution_count": null,
      "outputs": [
        {
          "output_type": "stream",
          "name": "stdout",
          "text": [
            "4135.3804590061345 km 4145.446977549561 km\n"
          ]
        }
      ]
    },
    {
      "cell_type": "code",
      "source": [
        "from geopy import distance\n",
        "vijayawada=(16.515099,80.632095)\n",
        "hyderabad=(17.37527777777778, 78.47416666666666)\n",
        "straight_line_distance=distance.great_circle(vijayawada,hyderabad)\n",
        "ellipsoid_distance=distance.geodesic(vijayawada,hyderabad,ellipsoid='WGS-84')\n",
        "print('Straight line distance between vijayawada and hyderabad is:',straight_line_distance)\n",
        "print('Ellipsoid distance between vijayawada and hyderabad is:',ellipsoid_distance)"
      ],
      "metadata": {
        "colab": {
          "base_uri": "https://localhost:8080/"
        },
        "id": "7NRXXTI1-SZC",
        "outputId": "a8e24377-d48f-4e4b-e121-e7edbcb035b6"
      },
      "execution_count": null,
      "outputs": [
        {
          "output_type": "stream",
          "name": "stdout",
          "text": [
            "Straight line distance between vijayawada and hyderabad is: 248.66085323623508 km\n",
            "Ellipsoid distance between vijayawada and hyderabad is: 248.7846606317803 km\n"
          ]
        }
      ]
    },
    {
      "cell_type": "markdown",
      "source": [
        "#8.Using Web APIS"
      ],
      "metadata": {
        "id": "xM8NPe7IAjMA"
      }
    },
    {
      "cell_type": "markdown",
      "source": [
        "An API, or Application Program Interface, allows one program to talk to another program. Many websites or services provide an API so you can query for information in an automated way.\n",
        "\n",
        "For mapping and spatial analysis, being able to use APIs is critical. For the longest time, Google Maps API was the most popular API on the web. APIs allow you to query web servers and get results without downloading data or running computation on your machine.\n",
        "\n",
        "Common use cases for using APIs for spatial analysis are\n",
        "\n",
        "Getting directions / routing\n",
        "Route optimization\n",
        "Geocoding\n",
        "Downloading data\n",
        "Getting real-time weather data\n",
        "…\n",
        "The provide of such APIs have many ways to implement an API. There are standards such as REST, SOAP, GraphQL etc. REST is the most populat standard for web APIs, and for geospatial APIs. REST APIs are used over HTTP and thus called web APIs.\n",
        "\n",
        "##Understanding JSON and GeoJSON\n",
        "JSON stands for JavaScript Object Notation. It is a format for storing and transporting data, and is the de-facto standard for data exchanged by APIs. GeoJSON is an extension of the JSON format that is commonly used to represent spatial data.\n",
        "\n",
        "Python has a built-in json module that has methods for reading json data and converting it to Python objects, and vice-versa. In this example, we are using the requests module for querying the API which conveniently does the conversion for us. But it is useful to learn the basics of working with JSON in Python.\n",
        "\n",
        "The GeoJSON data contains features, where each feature has some properties and a geometry."
      ],
      "metadata": {
        "id": "b6gZlfJHu-GQ"
      }
    },
    {
      "cell_type": "code",
      "source": [
        "geojson_string = '''\n",
        "{\n",
        "  \"type\": \"FeatureCollection\",\n",
        "  \"features\": [\n",
        "    {\"type\": \"Feature\",\n",
        "      \"properties\": {\"name\": \"San Francisco\"},\n",
        "      \"geometry\": {\"type\": \"Point\", \"coordinates\": [-121.5687, 37.7739]}\n",
        "    }\n",
        "  ]\n",
        "}\n",
        "'''\n",
        "print(geojson_string)"
      ],
      "metadata": {
        "colab": {
          "base_uri": "https://localhost:8080/"
        },
        "id": "69hwpxiMvwNa",
        "outputId": "0d94e4be-37a6-4487-e803-e50c4a6d1b89"
      },
      "execution_count": null,
      "outputs": [
        {
          "output_type": "stream",
          "name": "stdout",
          "text": [
            "\n",
            "{\n",
            "  \"type\": \"FeatureCollection\",\n",
            "  \"features\": [\n",
            "    {\"type\": \"Feature\",\n",
            "      \"properties\": {\"name\": \"San Francisco\"},\n",
            "      \"geometry\": {\"type\": \"Point\", \"coordinates\": [-121.5687, 37.7739]}\n",
            "    }\n",
            "  ]\n",
            "}\n",
            "\n"
          ]
        }
      ]
    },
    {
      "cell_type": "markdown",
      "source": [
        "To convert a JSON string to a Python object (i.e. parsing JSON), we can use the json.loads() method."
      ],
      "metadata": {
        "id": "C8ZPDX51w_L-"
      }
    },
    {
      "cell_type": "code",
      "source": [
        "import json\n",
        "data=json.loads(geojson_string)\n",
        "print('Type of data:',type(data))\n",
        "print('Data:',data)"
      ],
      "metadata": {
        "colab": {
          "base_uri": "https://localhost:8080/"
        },
        "id": "ohUYR2Ajw_4W",
        "outputId": "7be18274-d39f-4d1e-d1d1-beaba4b5f3ec"
      },
      "execution_count": null,
      "outputs": [
        {
          "output_type": "stream",
          "name": "stdout",
          "text": [
            "Type of data: <class 'dict'>\n",
            "Data: {'type': 'FeatureCollection', 'features': [{'type': 'Feature', 'properties': {'name': 'San Francisco'}, 'geometry': {'type': 'Point', 'coordinates': [-121.5687, 37.7739]}}]}\n"
          ]
        }
      ]
    },
    {
      "cell_type": "markdown",
      "source": [
        "Now that we have parsed the GeoJSON string and have a Python object, we can extract infromation from it. The data is stored in a FeatureCollection - which is a list of features. In our example, we have just 1 feature inside the feature collection, so we can access it by using index 0."
      ],
      "metadata": {
        "id": "w64NV9t4yqOG"
      }
    },
    {
      "cell_type": "code",
      "source": [
        "data['features']"
      ],
      "metadata": {
        "colab": {
          "base_uri": "https://localhost:8080/"
        },
        "id": "2AP19yasyqxN",
        "outputId": "062f33bf-c0a0-4454-8041-e8c6f07711a5"
      },
      "execution_count": null,
      "outputs": [
        {
          "output_type": "execute_result",
          "data": {
            "text/plain": [
              "[{'type': 'Feature',\n",
              "  'properties': {'name': 'San Francisco'},\n",
              "  'geometry': {'type': 'Point', 'coordinates': [-121.5687, 37.7739]}}]"
            ]
          },
          "metadata": {},
          "execution_count": 5
        }
      ]
    },
    {
      "cell_type": "code",
      "source": [
        "city=data['features'][0]\n",
        "print(city)"
      ],
      "metadata": {
        "colab": {
          "base_uri": "https://localhost:8080/"
        },
        "id": "Ozl0C50XvwwK",
        "outputId": "f0f76914-acee-4cd4-f000-3e4b46e4027a"
      },
      "execution_count": null,
      "outputs": [
        {
          "output_type": "stream",
          "name": "stdout",
          "text": [
            "{'type': 'Feature', 'properties': {'name': 'San Francisco'}, 'geometry': {'type': 'Point', 'coordinates': [-121.5687, 37.7739]}}\n"
          ]
        }
      ]
    },
    {
      "cell_type": "markdown",
      "source": [
        "The feature representation is a dictionary, and individual items can be accesses using the keys"
      ],
      "metadata": {
        "id": "T1gID9kezSNE"
      }
    },
    {
      "cell_type": "code",
      "source": [
        "city_name=city['properties']['name']\n",
        "print(city_name)"
      ],
      "metadata": {
        "colab": {
          "base_uri": "https://localhost:8080/"
        },
        "id": "Kavd50RmzSsc",
        "outputId": "c5d4b2be-e901-43a5-b3cc-122e8f3c76b2"
      },
      "execution_count": null,
      "outputs": [
        {
          "output_type": "stream",
          "name": "stdout",
          "text": [
            "San Francisco\n"
          ]
        }
      ]
    },
    {
      "cell_type": "code",
      "source": [
        "city_coordinates=city['geometry']['coordinates']\n",
        "city_coordinates"
      ],
      "metadata": {
        "colab": {
          "base_uri": "https://localhost:8080/"
        },
        "id": "XFq3m4mbzmG6",
        "outputId": "2a7b97f6-d79c-469b-d232-602ca7f4b7c7"
      },
      "execution_count": null,
      "outputs": [
        {
          "output_type": "execute_result",
          "data": {
            "text/plain": [
              "[-121.5687, 37.7739]"
            ]
          },
          "metadata": {},
          "execution_count": 8
        }
      ]
    },
    {
      "cell_type": "markdown",
      "source": [
        "##The requests module\n",
        "To query a server, we send a GET request with some parameters and the server sends a response back. The requests module allows you to send HTTP requests and parse the responses using Python.\n",
        "\n",
        "The response contains the data received from the server. It contains the HTTP status_code which tells us if the request was successful. HTTP code 200 stands for Sucess OK."
      ],
      "metadata": {
        "id": "VhXYqqV80VrH"
      }
    },
    {
      "cell_type": "code",
      "source": [
        "import requests\n",
        "response=requests.get('https://spatialthoughts.com/')\n",
        "print(response.status_code)"
      ],
      "metadata": {
        "colab": {
          "base_uri": "https://localhost:8080/"
        },
        "id": "-fHMVAHm0XRu",
        "outputId": "e626973d-6690-45c8-cc21-30cb55fda75c"
      },
      "execution_count": null,
      "outputs": [
        {
          "output_type": "stream",
          "name": "stdout",
          "text": [
            "200\n"
          ]
        }
      ]
    },
    {
      "cell_type": "markdown",
      "source": [
        "##Calculating Distance using OpenRouteService API\n",
        "[OpenRouteService (ORS)](https://openrouteservice.org/) provides a free API for routing, distance matrix, geocoding, route optimization etc. using OpenStreetMap data. We will learn how to use this API through Python and get real-world distance between cities.\n",
        "\n",
        "Almost all APIs require you to sign-up and obtain a key. The key is used to identify you and enforce usage limits so that you do not overwhelm the servers. We will obtain a key from OpenRouteServie so we can use their API\n",
        "\n",
        "Visit [OpenRouteService Sign-up page](https://openrouteservice.org/dev/#/signup) and create an account. Once your account is activated, visit your Dashboard and request a token. Select Standard as the Token type and enter python_foundation as the Token name. Click CREATE TOKEN. Once created, copy the long string displayed under Key and enter below."
      ],
      "metadata": {
        "id": "cOvJ3LOE1CTb"
      }
    },
    {
      "cell_type": "code",
      "source": [
        "ORS_API_KEY = '5b3ce3597851110001cf624881bd046c52854751bb431394a4c8af38'"
      ],
      "metadata": {
        "id": "ZlOmmW8m2DGm"
      },
      "execution_count": null,
      "outputs": []
    },
    {
      "cell_type": "markdown",
      "source": [
        "We will use the OpenRouteServices’s [Directions Service](https://openrouteservice.org/dev/#/api-docs/v2/directions/%7Bprofile%7D/get). This service returns the driving, biking or walking directions between the given origin and destination points."
      ],
      "metadata": {
        "id": "PXrJGWxU3vbH"
      }
    },
    {
      "cell_type": "code",
      "source": [
        "import requests\n",
        "san_francisco = (37.7749, -122.4194)\n",
        "new_york = (40.661, -73.944)\n",
        "\n",
        "parameters = {\n",
        "    'api_key': ORS_API_KEY,\n",
        "    'start' : '{},{}'.format(san_francisco[1], san_francisco[0]),  #longitude, latitude format\n",
        "    'end' : '{},{}'.format(new_york[1], new_york[0])\n",
        "}\n",
        "print(parameters)\n",
        "response=requests.get('https://api.openrouteservice.org/v2/directions/driving-car', params=parameters)\n",
        "print(response.status_code)\n",
        "\n",
        "if response.status_code==200:\n",
        "  print('Request Successful.')\n",
        "  data=response.json()\n",
        "else:\n",
        "  print('Request Failed')\n"
      ],
      "metadata": {
        "colab": {
          "base_uri": "https://localhost:8080/"
        },
        "id": "cMtMlNb-376l",
        "outputId": "e06fa72e-9991-4f3c-8b68-4e49d363341c"
      },
      "execution_count": null,
      "outputs": [
        {
          "output_type": "stream",
          "name": "stdout",
          "text": [
            "{'api_key': '5b3ce3597851110001cf624881bd046c52854751bb431394a4c8af38', 'start': '-122.4194,37.7749', 'end': '-73.944,40.661'}\n",
            "200\n",
            "Request Successful.\n"
          ]
        }
      ]
    },
    {
      "cell_type": "markdown",
      "source": [
        "We can read the response in JSON format by calling json() method on it."
      ],
      "metadata": {
        "id": "0fUGKV247yQs"
      }
    },
    {
      "cell_type": "code",
      "source": [
        "data"
      ],
      "metadata": {
        "colab": {
          "base_uri": "https://localhost:8080/"
        },
        "id": "ukVhJrE67T4P",
        "outputId": "0ce5d9f8-f8c8-4899-82d5-f6ac394a2b99"
      },
      "execution_count": null,
      "outputs": [
        {
          "output_type": "execute_result",
          "data": {
            "text/plain": [
              "{'type': 'FeatureCollection',\n",
              " 'features': [{'bbox': [-122.419446, 37.774936, -73.944025, 41.789337],\n",
              "   'type': 'Feature',\n",
              "   'properties': {'segments': [{'distance': 4692931.5,\n",
              "      'duration': 166854.4,\n",
              "      'steps': [{'distance': 247.8,\n",
              "        'duration': 33.0,\n",
              "        'type': 11,\n",
              "        'instruction': 'Head northeast on Market Street',\n",
              "        'name': 'Market Street',\n",
              "        'way_points': [0, 5]},\n",
              "       {'distance': 191.5,\n",
              "        'duration': 24.6,\n",
              "        'type': 1,\n",
              "        'instruction': 'Turn right onto 10th Street',\n",
              "        'name': '10th Street',\n",
              "        'way_points': [5, 8]},\n",
              "       {'distance': 1917.1,\n",
              "        'duration': 193.4,\n",
              "        'type': 0,\n",
              "        'instruction': 'Turn left onto Mission Street',\n",
              "        'name': 'Mission Street',\n",
              "        'way_points': [8, 36]},\n",
              "       {'distance': 125.2,\n",
              "        'duration': 10.0,\n",
              "        'type': 1,\n",
              "        'instruction': 'Turn right onto New Montgomery Street',\n",
              "        'name': 'New Montgomery Street',\n",
              "        'way_points': [36, 38]},\n",
              "       {'distance': 88.5,\n",
              "        'duration': 21.3,\n",
              "        'type': 0,\n",
              "        'instruction': 'Turn left onto Natoma Street',\n",
              "        'name': 'Natoma Street',\n",
              "        'way_points': [38, 39]},\n",
              "       {'distance': 261.5,\n",
              "        'duration': 27.4,\n",
              "        'type': 1,\n",
              "        'instruction': 'Turn right onto 2nd Street',\n",
              "        'name': '2nd Street',\n",
              "        'way_points': [39, 45]},\n",
              "       {'distance': 117.9,\n",
              "        'duration': 14.2,\n",
              "        'type': 0,\n",
              "        'instruction': 'Turn left onto Folsom Street',\n",
              "        'name': 'Folsom Street',\n",
              "        'way_points': [45, 47]},\n",
              "       {'distance': 202.3,\n",
              "        'duration': 16.2,\n",
              "        'type': 13,\n",
              "        'instruction': 'Keep right onto Essex Street',\n",
              "        'name': 'Essex Street',\n",
              "        'way_points': [47, 53]},\n",
              "       {'distance': 16890.2,\n",
              "        'duration': 1010.2,\n",
              "        'type': 6,\n",
              "        'instruction': 'Continue straight',\n",
              "        'name': '-',\n",
              "        'way_points': [53, 155]},\n",
              "       {'distance': 25749.5,\n",
              "        'duration': 1089.4,\n",
              "        'type': 12,\n",
              "        'instruction': 'Keep left onto Eastshore Freeway, I 80',\n",
              "        'name': 'Eastshore Freeway, I 80',\n",
              "        'way_points': [155, 363]},\n",
              "       {'distance': 22460.8,\n",
              "        'duration': 851.1,\n",
              "        'type': 12,\n",
              "        'instruction': 'Keep left onto I 80',\n",
              "        'name': 'I 80',\n",
              "        'way_points': [363, 528]},\n",
              "       {'distance': 43854.7,\n",
              "        'duration': 1661.8,\n",
              "        'type': 12,\n",
              "        'instruction': 'Keep left onto I 80',\n",
              "        'name': 'I 80',\n",
              "        'way_points': [528, 694]},\n",
              "       {'distance': 19419.1,\n",
              "        'duration': 735.9,\n",
              "        'type': 12,\n",
              "        'instruction': 'Keep left onto I 80',\n",
              "        'name': 'I 80',\n",
              "        'way_points': [694, 764]},\n",
              "       {'distance': 20036.3,\n",
              "        'duration': 759.2,\n",
              "        'type': 13,\n",
              "        'instruction': 'Keep right onto North Sacramento Beltline Freeway, I 80',\n",
              "        'name': 'North Sacramento Beltline Freeway, I 80',\n",
              "        'way_points': [764, 884]},\n",
              "       {'distance': 131924.2,\n",
              "        'duration': 4999.1,\n",
              "        'type': 12,\n",
              "        'instruction': 'Keep left onto North Sacramento Beltline Freeway, I 80',\n",
              "        'name': 'North Sacramento Beltline Freeway, I 80',\n",
              "        'way_points': [884, 1923]},\n",
              "       {'distance': 6273.3,\n",
              "        'duration': 237.7,\n",
              "        'type': 13,\n",
              "        'instruction': 'Keep right',\n",
              "        'name': '-',\n",
              "        'way_points': [1923, 2002]},\n",
              "       {'distance': 894774.0,\n",
              "        'duration': 29249.8,\n",
              "        'type': 13,\n",
              "        'instruction': 'Keep right',\n",
              "        'name': '-',\n",
              "        'way_points': [2002, 5077]},\n",
              "       {'distance': 1694514.7,\n",
              "        'duration': 56404.0,\n",
              "        'type': 13,\n",
              "        'instruction': 'Keep right onto Dwight D. Eisenhower Highway, I 80',\n",
              "        'name': 'Dwight D. Eisenhower Highway, I 80',\n",
              "        'way_points': [5077, 10909]},\n",
              "       {'distance': 24160.6,\n",
              "        'duration': 910.4,\n",
              "        'type': 13,\n",
              "        'instruction': 'Keep right onto I 80',\n",
              "        'name': 'I 80',\n",
              "        'way_points': [10909, 11042]},\n",
              "       {'distance': 243536.1,\n",
              "        'duration': 8822.0,\n",
              "        'type': 13,\n",
              "        'instruction': 'Keep right onto I 80',\n",
              "        'name': 'I 80',\n",
              "        'way_points': [11042, 11696]},\n",
              "       {'distance': 43472.8,\n",
              "        'duration': 1630.5,\n",
              "        'type': 13,\n",
              "        'instruction': 'Keep right onto US 6',\n",
              "        'name': 'US 6',\n",
              "        'way_points': [11696, 11952]},\n",
              "       {'distance': 198329.5,\n",
              "        'duration': 7352.6,\n",
              "        'type': 12,\n",
              "        'instruction': 'Keep left onto I 280',\n",
              "        'name': 'I 280',\n",
              "        'way_points': [11952, 12655]},\n",
              "       {'distance': 214.0,\n",
              "        'duration': 15.4,\n",
              "        'type': 13,\n",
              "        'instruction': 'Keep right',\n",
              "        'name': '-',\n",
              "        'way_points': [12655, 12659]},\n",
              "       {'distance': 34965.9,\n",
              "        'duration': 1570.1,\n",
              "        'type': 12,\n",
              "        'instruction': 'Keep left',\n",
              "        'name': '-',\n",
              "        'way_points': [12659, 12825]},\n",
              "       {'distance': 37955.4,\n",
              "        'duration': 2249.4,\n",
              "        'type': 12,\n",
              "        'instruction': 'Keep left onto I 80',\n",
              "        'name': 'I 80',\n",
              "        'way_points': [12825, 13001]},\n",
              "       {'distance': 1405.3,\n",
              "        'duration': 148.4,\n",
              "        'type': 13,\n",
              "        'instruction': 'Keep right onto I 80',\n",
              "        'name': 'I 80',\n",
              "        'way_points': [13001, 13030]},\n",
              "       {'distance': 446248.1,\n",
              "        'duration': 16311.5,\n",
              "        'type': 13,\n",
              "        'instruction': 'Keep right onto I 80',\n",
              "        'name': 'I 80',\n",
              "        'way_points': [13030, 14966]},\n",
              "       {'distance': 122762.4,\n",
              "        'duration': 4419.4,\n",
              "        'type': 12,\n",
              "        'instruction': 'Keep left onto Ohio Turnpike, I 80',\n",
              "        'name': 'Ohio Turnpike, I 80',\n",
              "        'way_points': [14966, 15542]},\n",
              "       {'distance': 1479.0,\n",
              "        'duration': 109.8,\n",
              "        'type': 13,\n",
              "        'instruction': 'Keep right onto I 80',\n",
              "        'name': 'I 80',\n",
              "        'way_points': [15542, 15570]},\n",
              "       {'distance': 404.6,\n",
              "        'duration': 40.1,\n",
              "        'type': 12,\n",
              "        'instruction': 'Keep left onto I 80',\n",
              "        'name': 'I 80',\n",
              "        'way_points': [15570, 15577]},\n",
              "       {'distance': 7217.9,\n",
              "        'duration': 296.0,\n",
              "        'type': 12,\n",
              "        'instruction': 'Keep left onto I 80',\n",
              "        'name': 'I 80',\n",
              "        'way_points': [15577, 15634]},\n",
              "       {'distance': 277087.1,\n",
              "        'duration': 10015.6,\n",
              "        'type': 12,\n",
              "        'instruction': 'Keep left onto I 80',\n",
              "        'name': 'I 80',\n",
              "        'way_points': [15634, 17426]},\n",
              "       {'distance': 329661.3,\n",
              "        'duration': 12746.1,\n",
              "        'type': 12,\n",
              "        'instruction': 'Keep left onto I 80',\n",
              "        'name': 'I 80',\n",
              "        'way_points': [17426, 19589]},\n",
              "       {'distance': 28204.9,\n",
              "        'duration': 1215.5,\n",
              "        'type': 13,\n",
              "        'instruction': 'Keep right',\n",
              "        'name': '-',\n",
              "        'way_points': [19589, 19960]},\n",
              "       {'distance': 332.2,\n",
              "        'duration': 14.1,\n",
              "        'type': 6,\n",
              "        'instruction': 'Continue straight onto Tonnelle Avenue, US 1, US 9',\n",
              "        'name': 'Tonnelle Avenue, US 1, US 9',\n",
              "        'way_points': [19960, 19979]},\n",
              "       {'distance': 2513.0,\n",
              "        'duration': 209.5,\n",
              "        'type': 1,\n",
              "        'instruction': 'Turn right',\n",
              "        'name': '-',\n",
              "        'way_points': [19979, 20022]},\n",
              "       {'distance': 3257.1,\n",
              "        'duration': 278.1,\n",
              "        'type': 13,\n",
              "        'instruction': 'Keep right onto Holland Tunnel, I 78',\n",
              "        'name': 'Holland Tunnel, I 78',\n",
              "        'way_points': [20022, 20064]},\n",
              "       {'distance': 129.6,\n",
              "        'duration': 35.5,\n",
              "        'type': 13,\n",
              "        'instruction': 'Keep right',\n",
              "        'name': '-',\n",
              "        'way_points': [20064, 20070]},\n",
              "       {'distance': 733.8,\n",
              "        'duration': 82.2,\n",
              "        'type': 13,\n",
              "        'instruction': 'Keep right onto Walker Street',\n",
              "        'name': 'Walker Street',\n",
              "        'way_points': [20070, 20082]},\n",
              "       {'distance': 2518.0,\n",
              "        'duration': 231.0,\n",
              "        'type': 1,\n",
              "        'instruction': 'Turn right onto Canal Street',\n",
              "        'name': 'Canal Street',\n",
              "        'way_points': [20082, 20099]},\n",
              "       {'distance': 193.8,\n",
              "        'duration': 34.9,\n",
              "        'type': 0,\n",
              "        'instruction': 'Turn left onto Concord Street',\n",
              "        'name': 'Concord Street',\n",
              "        'way_points': [20099, 20103]},\n",
              "       {'distance': 93.4,\n",
              "        'duration': 6.7,\n",
              "        'type': 0,\n",
              "        'instruction': 'Turn left onto Gold Street',\n",
              "        'name': 'Gold Street',\n",
              "        'way_points': [20103, 20104]},\n",
              "       {'distance': 1292.1,\n",
              "        'duration': 162.5,\n",
              "        'type': 1,\n",
              "        'instruction': 'Turn right onto Nassau Street',\n",
              "        'name': 'Nassau Street',\n",
              "        'way_points': [20104, 20123]},\n",
              "       {'distance': 1651.6,\n",
              "        'duration': 103.6,\n",
              "        'type': 1,\n",
              "        'instruction': 'Turn right onto Washington Avenue',\n",
              "        'name': 'Washington Avenue',\n",
              "        'way_points': [20123, 20135]},\n",
              "       {'distance': 1321.6,\n",
              "        'duration': 102.8,\n",
              "        'type': 0,\n",
              "        'instruction': 'Turn left onto Fulton Street',\n",
              "        'name': 'Fulton Street',\n",
              "        'way_points': [20135, 20151]},\n",
              "       {'distance': 2181.5,\n",
              "        'duration': 267.9,\n",
              "        'type': 1,\n",
              "        'instruction': 'Turn right onto Nostrand Avenue',\n",
              "        'name': 'Nostrand Avenue',\n",
              "        'way_points': [20151, 20180]},\n",
              "       {'distance': 560.2,\n",
              "        'duration': 134.4,\n",
              "        'type': 0,\n",
              "        'instruction': 'Turn left onto Maple Street',\n",
              "        'name': 'Maple Street',\n",
              "        'way_points': [20180, 20186]},\n",
              "       {'distance': 0.0,\n",
              "        'duration': 0.0,\n",
              "        'type': 10,\n",
              "        'instruction': 'Arrive at Maple Street, on the right',\n",
              "        'name': '-',\n",
              "        'way_points': [20186, 20186]}]}],\n",
              "    'extras': {'roadaccessrestrictions': {'values': [[0, 5979, 0],\n",
              "       [5979, 6009, 32],\n",
              "       [6009, 6435, 0],\n",
              "       [6435, 6457, 32],\n",
              "       [6457, 6613, 0],\n",
              "       [6613, 6656, 32],\n",
              "       [6656, 7114, 0],\n",
              "       [7114, 7139, 32],\n",
              "       [7139, 20186, 0]],\n",
              "      'summary': [{'value': 0.0, 'distance': 4673189.6, 'amount': 99.58},\n",
              "       {'value': 32.0, 'distance': 19741.9, 'amount': 0.42}]}},\n",
              "    'warnings': [{'code': 1,\n",
              "      'message': 'There may be restrictions on some roads'}],\n",
              "    'way_points': [0, 20186],\n",
              "    'summary': {'distance': 4692931.5, 'duration': 166854.4}},\n",
              "   'geometry': {'coordinates': [[-122.419446, 37.774936],\n",
              "     [-122.41934, 37.77502],\n",
              "     [-122.419176, 37.775164],\n",
              "     [-122.418776, 37.775474],\n",
              "     [-122.418675, 37.77555],\n",
              "     [-122.417451, 37.776506],\n",
              "     [-122.416527, 37.775764],\n",
              "     [-122.416447, 37.7757],\n",
              "     [-122.415923, 37.775278],\n",
              "     [-122.415721, 37.775438],\n",
              "     [-122.415511, 37.775604],\n",
              "     [-122.415147, 37.775893],\n",
              "     [-122.414717, 37.776233],\n",
              "     [-122.414472, 37.776427],\n",
              "     [-122.41412, 37.776706],\n",
              "     [-122.413175, 37.777455],\n",
              "     [-122.412417, 37.778049],\n",
              "     [-122.412322, 37.778129],\n",
              "     [-122.410936, 37.779211],\n",
              "     [-122.408721, 37.780978],\n",
              "     [-122.408013, 37.781535],\n",
              "     [-122.407178, 37.782193],\n",
              "     [-122.406496, 37.782729],\n",
              "     [-122.406289, 37.782892],\n",
              "     [-122.406041, 37.783086],\n",
              "     [-122.40586, 37.783228],\n",
              "     [-122.405338, 37.783634],\n",
              "     [-122.404869, 37.784],\n",
              "     [-122.404364, 37.784399],\n",
              "     [-122.404257, 37.784484],\n",
              "     [-122.404143, 37.784525],\n",
              "     [-122.403196, 37.785269],\n",
              "     [-122.402099, 37.786153],\n",
              "     [-122.402041, 37.786261],\n",
              "     [-122.401617, 37.786593],\n",
              "     [-122.401272, 37.78686],\n",
              "     [-122.400509, 37.787455],\n",
              "     [-122.399996, 37.787029],\n",
              "     [-122.399518, 37.786647],\n",
              "     [-122.398821, 37.787221],\n",
              "     [-122.398259, 37.786773],\n",
              "     [-122.398089, 37.786637],\n",
              "     [-122.397741, 37.786338],\n",
              "     [-122.397276, 37.785967],\n",
              "     [-122.396818, 37.785617],\n",
              "     [-122.396728, 37.785549],\n",
              "     [-122.396652, 37.785631],\n",
              "     [-122.395779, 37.786297],\n",
              "     [-122.395702, 37.786316],\n",
              "     [-122.395649, 37.786312],\n",
              "     [-122.395615, 37.786291],\n",
              "     [-122.394567, 37.785451],\n",
              "     [-122.394232, 37.785218],\n",
              "     [-122.394047, 37.785206],\n",
              "     [-122.3935, 37.785165],\n",
              "     [-122.392953, 37.78517],\n",
              "     [-122.392577, 37.785222],\n",
              "     [-122.392269, 37.785298],\n",
              "     [-122.392108, 37.785347],\n",
              "     [-122.391834, 37.785458],\n",
              "     [-122.39158, 37.785582],\n",
              "     [-122.391334, 37.785718],\n",
              "     [-122.390902, 37.786017],\n",
              "     [-122.390695, 37.786183],\n",
              "     [-122.390371, 37.786478],\n",
              "     [-122.367261, 37.808058],\n",
              "     [-122.367194, 37.808121],\n",
              "     [-122.366335, 37.808927],\n",
              "     [-122.365043, 37.810136],\n",
              "     [-122.36469, 37.810457],\n",
              "     [-122.363778, 37.811311],\n",
              "     [-122.363126, 37.81194],\n",
              "     [-122.362609, 37.812396],\n",
              "     [-122.362036, 37.812852],\n",
              "     [-122.361426, 37.813295],\n",
              "     [-122.360943, 37.813617],\n",
              "     [-122.360431, 37.813933],\n",
              "     [-122.354804, 37.81715],\n",
              "     [-122.354394, 37.817371],\n",
              "     [-122.353832, 37.817648],\n",
              "     [-122.352944, 37.818019],\n",
              "     [-122.352187, 37.81828],\n",
              "     [-122.351408, 37.818498],\n",
              "     [-122.350773, 37.818643],\n",
              "     [-122.34999, 37.818781],\n",
              "     [-122.332932, 37.821273],\n",
              "     [-122.330629, 37.821561],\n",
              "     [-122.329012, 37.821723],\n",
              "     [-122.327715, 37.821831],\n",
              "     [-122.327611, 37.821839],\n",
              "     [-122.326216, 37.821944],\n",
              "     [-122.325567, 37.821978],\n",
              "     [-122.32393, 37.822127],\n",
              "     [-122.322965, 37.822245],\n",
              "     [-122.321991, 37.822388],\n",
              "     [-122.319736, 37.822776],\n",
              "     [-122.318109, 37.823061],\n",
              "     [-122.317942, 37.823092],\n",
              "     [-122.316801, 37.823308],\n",
              "     [-122.313659, 37.823853],\n",
              "     [-122.311036, 37.824297],\n",
              "     [-122.309938, 37.824442],\n",
              "     [-122.306693, 37.824787],\n",
              "     [-122.306026, 37.824888],\n",
              "     [-122.30467, 37.825157],\n",
              "     [-122.304482, 37.825234],\n",
              "     [-122.303348, 37.82548],\n",
              "     [-122.300091, 37.826203],\n",
              "     [-122.299512, 37.826351],\n",
              "     [-122.298911, 37.826481],\n",
              "     [-122.29595, 37.827165],\n",
              "     [-122.295789, 37.827208],\n",
              "     [-122.295488, 37.827319],\n",
              "     [-122.295065, 37.827532],\n",
              "     [-122.294812, 37.8277],\n",
              "     [-122.294579, 37.82789],\n",
              "     [-122.29428, 37.828205],\n",
              "     [-122.293961, 37.828669],\n",
              "     [-122.293764, 37.829036],\n",
              "     [-122.293636, 37.829424],\n",
              "     [-122.2935, 37.830081],\n",
              "     [-122.293333, 37.831079],\n",
              "     [-122.293327, 37.831345],\n",
              "     [-122.293359, 37.831744],\n",
              "     [-122.293402, 37.832009],\n",
              "     [-122.293504, 37.832398],\n",
              "     [-122.293596, 37.832654],\n",
              "     [-122.293759, 37.833013],\n",
              "     [-122.294228, 37.833892],\n",
              "     [-122.29442, 37.834218],\n",
              "     [-122.295004, 37.835202],\n",
              "     [-122.295552, 37.836124],\n",
              "     [-122.296017, 37.836906],\n",
              "     [-122.296207, 37.837282],\n",
              "     [-122.296289, 37.837483],\n",
              "     [-122.296431, 37.837935],\n",
              "     [-122.296568, 37.838572],\n",
              "     [-122.297114, 37.841569],\n",
              "     [-122.29763, 37.843879],\n",
              "     [-122.297657, 37.844003],\n",
              "     [-122.29786, 37.844926],\n",
              "     [-122.299358, 37.85139],\n",
              "     [-122.299557, 37.852188],\n",
              "     [-122.299722, 37.85284],\n",
              "     [-122.302815, 37.863889],\n",
              "     [-122.303487, 37.866206],\n",
              "     [-122.304812, 37.870537],\n",
              "     [-122.305957, 37.874293],\n",
              "     [-122.306508, 37.875991],\n",
              "     [-122.307033, 37.877704],\n",
              "     [-122.307306, 37.878686],\n",
              "     [-122.307994, 37.881816],\n",
              "     [-122.308004, 37.881869],\n",
              "     [-122.308109, 37.882342],\n",
              "     [-122.308342, 37.883385],\n",
              "     [-122.308487, 37.883939],\n",
              "     [-122.308624, 37.884467],\n",
              "     [-122.308899, 37.88593],\n",
              "     [-122.308987, 37.886533],\n",
              "     [-122.30901, 37.887078],\n",
              "     [-122.308975, 37.88762],\n",
              "     [-122.30885, 37.888279],\n",
              "     [-122.308733, 37.888668],\n",
              "     [-122.308582, 37.88906],\n",
              "     [-122.307782, 37.890676],\n",
              "     [-122.30761, 37.891055],\n",
              "     [-122.307517, 37.89131],\n",
              "     [-122.307419, 37.891659],\n",
              "     [-122.307336, 37.892209],\n",
              "     [-122.30732, 37.892605],\n",
              "     [-122.307333, 37.892876],\n",
              "     [-122.307405, 37.893401],\n",
              "     [-122.307551, 37.89394],\n",
              "     [-122.308848, 37.897134],\n",
              "     [-122.309199, 37.898001],\n",
              "     [-122.309555, 37.898878],\n",
              "     [-122.309845, 37.899493],\n",
              "     [-122.310174, 37.900095],\n",
              "     [-122.310552, 37.900696],\n",
              "     [-122.310878, 37.901175],\n",
              "     [-122.312519, 37.903566],\n",
              "     [-122.314818, 37.906911],\n",
              "     [-122.316391, 37.909217],\n",
              "     [-122.316615, 37.909568],\n",
              "     [-122.316934, 37.910169],\n",
              "     [-122.317137, 37.91069],\n",
              "     [-122.317234, 37.91104],\n",
              "     [-122.317309, 37.91144],\n",
              "     [-122.317345, 37.911832],\n",
              "     [-122.317357, 37.914718],\n",
              "     [-122.317361, 37.91721],\n",
              "     [-122.317363, 37.918784],\n",
              "     [-122.317389, 37.919311],\n",
              "     [-122.317492, 37.91996],\n",
              "     [-122.317648, 37.92053],\n",
              "     [-122.317861, 37.921086],\n",
              "     [-122.318048, 37.921475],\n",
              "     [-122.318327, 37.921954],\n",
              "     [-122.320401, 37.925077],\n",
              "     [-122.320887, 37.92579],\n",
              "     [-122.321159, 37.926233],\n",
              "     [-122.321976, 37.927386],\n",
              "     [-122.322397, 37.927941],\n",
              "     [-122.322652, 37.928261],\n",
              "     [-122.323319, 37.929151],\n",
              "     [-122.324494, 37.930718],\n",
              "     [-122.325628, 37.932287],\n",
              "     [-122.326127, 37.932989],\n",
              "     [-122.326299, 37.933261],\n",
              "     [-122.326551, 37.933767],\n",
              "     [-122.326647, 37.934026],\n",
              "     [-122.326722, 37.934313],\n",
              "     [-122.326776, 37.934656],\n",
              "     [-122.326792, 37.93502],\n",
              "     [-122.326776, 37.935295],\n",
              "     [-122.326684, 37.935742],\n",
              "     [-122.326606, 37.936035],\n",
              "     [-122.326495, 37.936312],\n",
              "     [-122.326385, 37.936566],\n",
              "     [-122.326079, 37.937136],\n",
              "     [-122.325889, 37.937512],\n",
              "     [-122.324949, 37.939376],\n",
              "     [-122.324018, 37.941151],\n",
              "     [-122.323817, 37.941662],\n",
              "     [-122.323706, 37.942105],\n",
              "     [-122.323636, 37.942539],\n",
              "     [-122.323634, 37.943349],\n",
              "     [-122.323717, 37.943865],\n",
              "     [-122.323853, 37.944293],\n",
              "     [-122.324259, 37.945204],\n",
              "     [-122.325094, 37.946904],\n",
              "     [-122.327737, 37.952407],\n",
              "     [-122.328024, 37.952925],\n",
              "     [-122.329883, 37.956204],\n",
              "     [-122.330147, 37.956686],\n",
              "     [-122.330301, 37.957067],\n",
              "     [-122.330442, 37.957487],\n",
              "     [-122.330524, 37.957876],\n",
              "     [-122.330577, 37.958279],\n",
              "     [-122.330592, 37.958724],\n",
              "     [-122.330574, 37.959118],\n",
              "     [-122.330513, 37.959512],\n",
              "     [-122.330393, 37.959933],\n",
              "     [-122.330147, 37.960596],\n",
              "     [-122.329976, 37.960964],\n",
              "     [-122.329785, 37.961274],\n",
              "     [-122.329601, 37.961543],\n",
              "     [-122.329347, 37.961866],\n",
              "     [-122.329064, 37.962172],\n",
              "     [-122.328767, 37.962445],\n",
              "     [-122.328429, 37.962723],\n",
              "     [-122.32812, 37.962954],\n",
              "     [-122.327778, 37.963167],\n",
              "     [-122.327426, 37.963371],\n",
              "     [-122.325061, 37.964623],\n",
              "     [-122.324918, 37.964717],\n",
              "     [-122.323529, 37.965422],\n",
              "     [-122.32312, 37.965675],\n",
              "     [-122.32252, 37.966103],\n",
              "     [-122.322174, 37.966418],\n",
              "     [-122.321952, 37.966661],\n",
              "     [-122.321578, 37.967138],\n",
              "     [-122.321401, 37.967406],\n",
              "     [-122.321215, 37.967741],\n",
              "     [-122.321082, 37.968057],\n",
              "     [-122.320686, 37.969152],\n",
              "     [-122.320483, 37.969877],\n",
              "     [-122.319707, 37.972182],\n",
              "     [-122.318114, 37.976908],\n",
              "     [-122.317099, 37.979948],\n",
              "     [-122.316459, 37.981772],\n",
              "     [-122.316089, 37.982925],\n",
              "     [-122.316052, 37.983026],\n",
              "     [-122.31541, 37.984786],\n",
              "     [-122.315266, 37.985124],\n",
              "     [-122.315074, 37.985519],\n",
              "     [-122.31483, 37.985947],\n",
              "     [-122.314408, 37.986576],\n",
              "     [-122.314105, 37.987021],\n",
              "     [-122.313553, 37.9878],\n",
              "     [-122.313298, 37.988115],\n",
              "     [-122.312667, 37.9888],\n",
              "     [-122.311994, 37.989413],\n",
              "     [-122.311186, 37.990035],\n",
              "     [-122.310786, 37.990316],\n",
              "     [-122.309948, 37.990856],\n",
              "     [-122.309363, 37.9912],\n",
              "     [-122.308595, 37.99159],\n",
              "     [-122.307503, 37.992052],\n",
              "     [-122.306605, 37.992374],\n",
              "     [-122.30569, 37.992638],\n",
              "     [-122.30475, 37.992838],\n",
              "     [-122.303775, 37.993023],\n",
              "     [-122.302127, 37.993268],\n",
              "     [-122.301485, 37.993351],\n",
              "     [-122.300844, 37.993434],\n",
              "     [-122.298066, 37.993851],\n",
              "     [-122.291859, 37.994681],\n",
              "     [-122.291277, 37.99477],\n",
              "     [-122.290756, 37.99488],\n",
              "     [-122.290189, 37.995024],\n",
              "     [-122.289553, 37.995212],\n",
              "     [-122.289002, 37.995393],\n",
              "     [-122.288275, 37.995695],\n",
              "     [-122.287583, 37.996036],\n",
              "     [-122.287097, 37.996321],\n",
              "     [-122.286622, 37.996627],\n",
              "     [-122.286313, 37.996847],\n",
              "     [-122.286084, 37.997017],\n",
              "     [-122.285765, 37.997284],\n",
              "     [-122.285038, 37.997989],\n",
              "     [-122.284231, 37.998838],\n",
              "     [-122.28292, 38.000276],\n",
              "     [-122.276772, 38.006977],\n",
              "     [-122.274015, 38.009888],\n",
              "     [-122.273042, 38.010926],\n",
              "     [-122.272315, 38.011696],\n",
              "     [-122.271817, 38.012251],\n",
              "     [-122.271482, 38.012642],\n",
              "     [-122.269576, 38.014717],\n",
              "     [-122.268672, 38.015694],\n",
              "     [-122.266217, 38.018293],\n",
              "     [-122.263629, 38.021145],\n",
              "     [-122.263512, 38.021258],\n",
              "     [-122.26247, 38.022329],\n",
              "     [-122.262099, 38.02271],\n",
              "     [-122.259569, 38.025475],\n",
              "     [-122.255536, 38.029785],\n",
              "     [-122.255304, 38.030033],\n",
              "     [-122.248242, 38.037659],\n",
              "     [-122.247588, 38.038318],\n",
              "     [-122.247106, 38.038717],\n",
              "     [-122.246585, 38.039107],\n",
              "     [-122.246499, 38.039167],\n",
              "     [-122.24158, 38.042624],\n",
              "     [-122.23816, 38.04504],\n",
              "     [-122.237902, 38.045223],\n",
              "     [-122.234304, 38.047765],\n",
              "     [-122.232463, 38.049055],\n",
              "     [-122.229187, 38.051341],\n",
              "     [-122.228025, 38.052208],\n",
              "     [-122.226021, 38.053623],\n",
              "     [-122.225816, 38.053788],\n",
              "     [-122.225519, 38.054072],\n",
              "     [-122.225246, 38.054411],\n",
              "     [-122.225005, 38.054839],\n",
              "     [-122.224857, 38.055223],\n",
              "     [-122.22476, 38.055646],\n",
              "     [-122.224759, 38.056229],\n",
              "     [-122.22518, 38.061189],\n",
              "     [-122.225576, 38.065532],\n",
              "     [-122.225791, 38.067243],\n",
              "     [-122.225985, 38.067721],\n",
              "     [-122.226056, 38.067921],\n",
              "     [-122.226198, 38.068268],\n",
              "     [-122.226319, 38.068523],\n",
              "     [-122.226585, 38.069048],\n",
              "     [-122.226618, 38.069117],\n",
              "     [-122.226649, 38.069181],\n",
              "     [-122.226926, 38.069729],\n",
              "     [-122.227234, 38.070221],\n",
              "     [-122.227764, 38.071016],\n",
              "     [-122.22897, 38.072465],\n",
              "     [-122.229103, 38.072648],\n",
              "     [-122.229585, 38.073203],\n",
              "     [-122.230032, 38.073791],\n",
              "     [-122.231247, 38.075473],\n",
              "     [-122.231642, 38.076083],\n",
              "     [-122.231924, 38.076612],\n",
              "     [-122.231997, 38.076777],\n",
              "     [-122.232246, 38.07728],\n",
              "     [-122.232669, 38.078318],\n",
              "     [-122.232891, 38.079063],\n",
              "     [-122.233014, 38.079585],\n",
              "     [-122.233125, 38.08019],\n",
              "     [-122.2332, 38.08075],\n",
              "     [-122.23325, 38.081358],\n",
              "     [-122.233267, 38.08242],\n",
              "     [-122.233236, 38.082968],\n",
              "     [-122.233148, 38.083746],\n",
              "     [-122.232985, 38.084632],\n",
              "     [-122.232849, 38.085207],\n",
              "     [-122.232642, 38.085856],\n",
              "     [-122.232353, 38.086639],\n",
              "     [-122.231799, 38.087939],\n",
              "     [-122.230595, 38.09076],\n",
              "     [-122.23043, 38.091236],\n",
              "     [-122.230265, 38.091771],\n",
              "     [-122.230193, 38.092032],\n",
              "     [-122.230039, 38.092805],\n",
              "     [-122.229806, 38.094561],\n",
              "     [-122.229752, 38.095183],\n",
              "     [-122.22972, 38.095873],\n",
              "     [-122.229666, 38.100222],\n",
              "     [-122.22964, 38.102297],\n",
              "     [-122.229614, 38.102506],\n",
              "     [-122.2296, 38.103666],\n",
              "     [-122.229621, 38.10377],\n",
              "     [-122.229603, 38.105102],\n",
              "     [-122.229578, 38.105279],\n",
              "     [-122.229556, 38.106742],\n",
              "     [-122.229577, 38.106892],\n",
              "     [-122.229543, 38.109461],\n",
              "     [-122.22954, 38.10979],\n",
              "     [-122.22955, 38.110567],\n",
              "     [-122.229698, 38.112621],\n",
              "     [-122.23027, 38.119832],\n",
              "     [-122.230283, 38.120233],\n",
              "     [-122.230258, 38.121033],\n",
              "     [-122.23022, 38.121405],\n",
              "     [-122.230159, 38.121813],\n",
              "     [-122.23004, 38.122389],\n",
              "     [-122.229882, 38.122959],\n",
              "     [-122.229771, 38.123296],\n",
              "     [-122.229644, 38.123628],\n",
              "     [-122.229493, 38.123983],\n",
              "     [-122.229165, 38.124643],\n",
              "     [-122.228992, 38.124949],\n",
              "     [-122.22843, 38.12584],\n",
              "     [-122.223628, 38.13338],\n",
              "     [-122.22132, 38.136992],\n",
              "     [-122.221109, 38.13729],\n",
              "     [-122.220171, 38.138755],\n",
              "     [-122.220013, 38.13901],\n",
              "     [-122.219726, 38.139421],\n",
              "     [-122.217822, 38.142418],\n",
              "     [-122.217615, 38.142783],\n",
              "     [-122.21734, 38.143348],\n",
              "     [-122.217021, 38.144149],\n",
              "     [-122.216895, 38.144567],\n",
              "     [-122.216719, 38.1453],\n",
              "     [-122.216562, 38.146354],\n",
              "     [-122.216553, 38.146746],\n",
              "     [-122.216574, 38.147443],\n",
              "     [-122.216677, 38.148767],\n",
              "     [-122.216698, 38.149259],\n",
              "     [-122.216687, 38.149797],\n",
              "     [-122.216594, 38.150685],\n",
              "     [-122.216494, 38.151279],\n",
              "     [-122.216385, 38.15169],\n",
              "     [-122.216255, 38.152095],\n",
              "     [-122.216046, 38.152647],\n",
              "     [-122.215764, 38.153242],\n",
              "     [-122.215458, 38.153788],\n",
              "     [-122.214912, 38.154597],\n",
              "     [-122.214048, 38.155822],\n",
              "     [-122.213616, 38.15645],\n",
              "     [-122.212262, 38.158316],\n",
              "     [-122.209504, 38.162217],\n",
              "     [-122.209058, 38.162782],\n",
              "     [-122.208695, 38.163176],\n",
              "     [-122.208127, 38.163721],\n",
              "     [-122.20748, 38.164249],\n",
              "     [-122.206732, 38.164774],\n",
              "     [-122.203349, 38.166966],\n",
              "     [-122.202877, 38.167287],\n",
              "     [-122.195937, 38.172081],\n",
              "     [-122.194612, 38.173004],\n",
              "     [-122.194164, 38.173349],\n",
              "     [-122.193737, 38.173715],\n",
              "     [-122.193353, 38.174071],\n",
              "     [-122.192968, 38.174469],\n",
              "     [-122.192477, 38.175032],\n",
              "     [-122.190681, 38.177142],\n",
              "     [-122.190086, 38.177766],\n",
              "     [-122.189798, 38.178038],\n",
              "     [-122.189224, 38.178523],\n",
              "     [-122.188678, 38.178939],\n",
              "     [-122.187916, 38.17945],\n",
              "     [-122.186054, 38.180547],\n",
              "     [-122.18546, 38.180937],\n",
              "     [-122.184812, 38.181413],\n",
              "     [-122.184415, 38.181737],\n",
              "     [-122.184013, 38.182088],\n",
              "     [-122.18285, 38.1832],\n",
              "     [-122.18205, 38.183897],\n",
              "     [-122.18126, 38.184474],\n",
              "     [-122.1809, 38.184702],\n",
              "     [-122.18, 38.185185],\n",
              "     [-122.179703, 38.185333],\n",
              "     [-122.179351, 38.185496],\n",
              "     [-122.178639, 38.185784],\n",
              "     [-122.177755, 38.186078],\n",
              "     [-122.174946, 38.186808],\n",
              "     [-122.174091, 38.18709],\n",
              "     [-122.173293, 38.187408],\n",
              "     [-122.172621, 38.187723],\n",
              "     [-122.172033, 38.188039],\n",
              "     [-122.171353, 38.188432],\n",
              "     [-122.170563, 38.18896],\n",
              "     [-122.17022, 38.18921],\n",
              "     [-122.169877, 38.189488],\n",
              "     [-122.169038, 38.190257],\n",
              "     [-122.168602, 38.190732],\n",
              "     [-122.165308, 38.19455],\n",
              "     [-122.164687, 38.19523],\n",
              "     [-122.164255, 38.195643],\n",
              "     [-122.160825, 38.198635],\n",
              "     [-122.15709, 38.201899],\n",
              "     [-122.156886, 38.202074],\n",
              "     [-122.155971, 38.20286],\n",
              "     [-122.155461, 38.203332],\n",
              "     [-122.1548, 38.203901],\n",
              "     [-122.150704, 38.207474],\n",
              "     [-122.150038, 38.208048],\n",
              "     [-122.149281, 38.208653],\n",
              "     [-122.145498, 38.211279],\n",
              "     [-122.145128, 38.211515],\n",
              "     [-122.141364, 38.214133],\n",
              "     [-122.136781, 38.217313],\n",
              "     [-122.13657, 38.217457],\n",
              "     [-122.134021, 38.21923],\n",
              "     [-122.133815, 38.219346],\n",
              "     [-122.131826, 38.220729],\n",
              "     [-122.12893, 38.222725],\n",
              "     [-122.126388, 38.224325],\n",
              "     [-122.125882, 38.224608],\n",
              "     [-122.125428, 38.224871],\n",
              "     [-122.124072, 38.225659],\n",
              "     [-122.12276, 38.226368],\n",
              "     [-122.122276, 38.22662],\n",
              "     [-122.120952, 38.227291],\n",
              "     [-122.119825, 38.227841],\n",
              "     [-122.119092, 38.228175],\n",
              "     [-122.117526, 38.228853],\n",
              "     [-122.116839, 38.229133],\n",
              "     [-122.112558, 38.230972],\n",
              "     [-122.112326, 38.231067],\n",
              "     [-122.108258, 38.232837],\n",
              "     [-122.10771, 38.233092],\n",
              "     [-122.105983, 38.233834],\n",
              "     [-122.104925, 38.234289],\n",
              "     [-122.101926, 38.235594],\n",
              "     [-122.100795, 38.236118],\n",
              "     [-122.096613, 38.237934],\n",
              "     [-122.090682, 38.240554],\n",
              "     [-122.083415, 38.243723],\n",
              "     [-122.083159, 38.243816],\n",
              "     [-122.081249, 38.244649],\n",
              "     [-122.080942, 38.244803],\n",
              "     [-122.078051, 38.246062],\n",
              "     [-122.076899, 38.246527],\n",
              "     [-122.075856, 38.246878],\n",
              "     [-122.073845, 38.247421],\n",
              "     [-122.073137, 38.247631],\n",
              "     [-122.072421, 38.247893],\n",
              "     [-122.07217, 38.248],\n",
              "     [-122.071543, 38.248312],\n",
              "     [-122.071043, 38.248601],\n",
              "     [-122.070429, 38.249019],\n",
              "     [-122.069825, 38.249533],\n",
              "     [-122.06939, 38.249959],\n",
              "     [-122.065908, 38.254071],\n",
              "     [-122.065043, 38.25506],\n",
              "     [-122.064684, 38.255484],\n",
              "     [-122.059566, 38.261558],\n",
              "     [-122.054542, 38.267491],\n",
              "     [-122.054072, 38.268019],\n",
              "     [-122.053924, 38.268192],\n",
              "     [-122.051792, 38.270701],\n",
              "     [-122.051596, 38.270966],\n",
              "     [-122.047184, 38.276184],\n",
              "     [-122.045377, 38.278313],\n",
              "     [-122.043825, 38.280144],\n",
              "     [-122.042737, 38.281428],\n",
              "     [-122.041933, 38.282389],\n",
              "     [-122.040489, 38.284049],\n",
              "     [-122.035794, 38.289582],\n",
              "     [-122.035179, 38.290341],\n",
              "     [-122.034793, 38.290909],\n",
              "     [-122.03454, 38.291379],\n",
              "     [-122.034298, 38.291937],\n",
              "     [-122.0341, 38.292559],\n",
              "     [-122.034008, 38.293022],\n",
              "     [-122.033962, 38.293374],\n",
              "     [-122.033921, 38.294134],\n",
              "     [-122.033823, 38.299039],\n",
              "     [-122.033762, 38.301751],\n",
              "     [-122.033715, 38.305619],\n",
              "     [-122.03369, 38.306459],\n",
              "     [-122.03364, 38.307131],\n",
              "     [-122.033501, 38.308358],\n",
              "     [-122.032828, 38.312419],\n",
              "     [-122.03272, 38.312996],\n",
              "     [-122.032638, 38.313333],\n",
              "     [-122.032467, 38.313893],\n",
              "     [-122.032335, 38.314257],\n",
              "     [-122.032154, 38.314671],\n",
              "     [-122.031907, 38.315172],\n",
              "     [-122.031594, 38.315699],\n",
              "     [-122.031275, 38.316169],\n",
              "     [-122.031024, 38.316489],\n",
              "     [-122.030765, 38.3168],\n",
              "     [-122.025736, 38.322415],\n",
              "     [-122.025309, 38.322943],\n",
              "     [-122.024913, 38.323497],\n",
              "     [-122.024461, 38.324171],\n",
              "     [-122.023955, 38.32497],\n",
              "     [-122.023823, 38.325179],\n",
              "     [-122.022179, 38.327779],\n",
              "     [-122.018695, 38.333236],\n",
              "     [-122.017175, 38.335619],\n",
              "     [-122.016985, 38.335913],\n",
              "     [-122.016608, 38.336512],\n",
              "     [-122.016341, 38.336925],\n",
              "     [-122.015706, 38.337783],\n",
              "     [-122.015198, 38.338372],\n",
              "     [-122.014558, 38.339014],\n",
              "     [-122.014052, 38.339453],\n",
              "     [-122.013214, 38.340097],\n",
              "     [-122.012444, 38.340597],\n",
              "     [-122.011665, 38.341035],\n",
              "     [-122.011336, 38.341202],\n",
              "     [-122.010625, 38.341531],\n",
              "     [-122.00995, 38.341806],\n",
              "     [-122.00945, 38.341983],\n",
              "     [-122.008528, 38.342262],\n",
              "     [-122.004969, 38.343283],\n",
              "     [-122.003494, 38.343783],\n",
              "     [-122.001661, 38.34449],\n",
              "     [-122.001424, 38.344582],\n",
              "     [-122.001336, 38.344619],\n",
              "     [-121.997454, 38.346132],\n",
              "     [-121.996664, 38.34644],\n",
              "     [-121.994402, 38.34732],\n",
              "     [-121.9906, 38.3488],\n",
              "     [-121.986856, 38.350257],\n",
              "     [-121.985742, 38.350691],\n",
              "     [-121.985114, 38.350929],\n",
              "     [-121.983645, 38.351509],\n",
              "     [-121.98176, 38.352247],\n",
              "     [-121.981267, 38.352453],\n",
              "     [-121.980866, 38.352644],\n",
              "     [-121.980079, 38.353078],\n",
              "     [-121.97968, 38.353332],\n",
              "     [-121.979032, 38.353805],\n",
              "     [-121.978465, 38.354277],\n",
              "     [-121.97797, 38.354745],\n",
              "     [-121.976706, 38.35592],\n",
              "     [-121.976415, 38.356201],\n",
              "     [-121.974425, 38.358051],\n",
              "     [-121.973981, 38.35844],\n",
              "     [-121.973745, 38.358612],\n",
              "     [-121.973311, 38.358929],\n",
              "     [-121.972979, 38.359144],\n",
              "     [-121.969052, 38.361554],\n",
              "     [-121.968792, 38.361692],\n",
              "     [-121.965604, 38.363644],\n",
              "     [-121.964771, 38.364154],\n",
              "     [-121.963908, 38.364756],\n",
              "     [-121.9592, 38.368346],\n",
              "     [-121.95421, 38.372373],\n",
              "     [-121.953127, 38.373221],\n",
              "     [-121.950144, 38.375516],\n",
              "     [-121.945072, 38.379434],\n",
              "     [-121.941638, 38.382038],\n",
              "     [-121.941421, 38.382203],\n",
              "     [-121.937901, 38.384868],\n",
              "     [-121.932987, 38.388696],\n",
              "     [-121.929768, 38.391201],\n",
              "     [-121.92806, 38.392533],\n",
              "     [-121.926372, 38.393847],\n",
              "     [-121.925973, 38.39418],\n",
              "     [-121.917193, 38.401023],\n",
              "     [-121.916974, 38.401197],\n",
              "     [-121.91505, 38.40269],\n",
              "     [-121.912218, 38.404846],\n",
              "     [-121.900081, 38.414078],\n",
              "     [-121.893743, 38.418898],\n",
              "     [-121.893601, 38.419009],\n",
              "     [-121.893414, 38.419151],\n",
              "     [-121.872765, 38.434864],\n",
              "     [-121.872482, 38.435075],\n",
              "     [-121.867534, 38.438843],\n",
              "     [-121.862171, 38.443013],\n",
              "     [-121.857398, 38.446725],\n",
              "     [-121.857228, 38.446857],\n",
              "     [-121.850955, 38.451738],\n",
              "     [-121.844473, 38.456784],\n",
              "     [-121.840076, 38.460201],\n",
              "     [-121.825207, 38.471773],\n",
              "     [-121.82234, 38.473998],\n",
              "     [-121.820571, 38.475403],\n",
              "     [-121.807917, 38.485385],\n",
              "     [-121.80243, 38.489707],\n",
              "     [-121.80129, 38.490676],\n",
              "     [-121.800809, 38.491111],\n",
              "     [-121.795314, 38.496237],\n",
              "     [-121.793228, 38.498157],\n",
              "     [-121.792765, 38.498561],\n",
              "     [-121.788976, 38.502099],\n",
              "     [-121.781283, 38.509285],\n",
              "     [-121.781011, 38.509517],\n",
              "     [-121.776766, 38.513469],\n",
              "     [-121.775732, 38.514381],\n",
              "     [-121.774041, 38.516045],\n",
              "     [-121.772406, 38.517579],\n",
              "     [-121.771306, 38.51861],\n",
              "     [-121.767386, 38.522268],\n",
              "     [-121.766138, 38.523432],\n",
              "     [-121.765636, 38.523882],\n",
              "     [-121.765118, 38.524321],\n",
              "     [-121.764172, 38.525048],\n",
              "     [-121.763128, 38.525764],\n",
              "     [-121.762576, 38.526114],\n",
              "     [-121.761518, 38.526724],\n",
              "     [-121.760447, 38.527278],\n",
              "     [-121.759931, 38.52752],\n",
              "     [-121.758727, 38.52804],\n",
              "     [-121.757354, 38.528551],\n",
              "     [-121.7566, 38.52878],\n",
              "     [-121.755603, 38.529073],\n",
              "     [-121.754167, 38.529426],\n",
              "     [-121.750782, 38.53008],\n",
              "     [-121.750045, 38.530271],\n",
              "     [-121.748851, 38.530635],\n",
              "     [-121.748259, 38.530843],\n",
              "     [-121.747328, 38.531214],\n",
              "     [-121.746016, 38.531835],\n",
              "     [-121.745233, 38.53225],\n",
              "     [-121.744761, 38.532527],\n",
              "     [-121.743513, 38.533354],\n",
              "     [-121.742749, 38.533929],\n",
              "     [-121.742365, 38.534243],\n",
              "     [-121.741095, 38.535316],\n",
              "     [-121.740695, 38.535681],\n",
              "     [-121.738505, 38.537528],\n",
              "     [-121.738325, 38.53768],\n",
              "     [-121.736501, 38.539204],\n",
              "     [-121.733492, 38.541697],\n",
              "     [-121.73197, 38.542918],\n",
              "     [-121.731101, 38.543513],\n",
              "     [-121.72902, 38.544572],\n",
              "     [-121.727812, 38.545089],\n",
              "     [-121.726702, 38.545504],\n",
              "     [-121.725166, 38.545881],\n",
              "     [-121.72042, 38.546974],\n",
              "     [-121.703624, 38.550767],\n",
              "     [-121.699679, 38.551661],\n",
              "     [-121.698675, 38.551851],\n",
              "     [-121.6958, 38.55221],\n",
              "     [-121.694718, 38.552397],\n",
              "     [-121.693924, 38.552574],\n",
              "     [-121.693213, 38.552757],\n",
              "     [-121.692389, 38.553009],\n",
              "     [-121.690481, 38.553658],\n",
              "     [-121.689473, 38.553972],\n",
              "     [-121.688967, 38.554113],\n",
              "     [-121.675985, 38.557049],\n",
              "     [-121.668724, 38.558573],\n",
              "     [-121.653111, 38.560754],\n",
              "     [-121.652072, 38.56094],\n",
              "     [-121.646436, 38.561951],\n",
              "     [-121.640618, 38.562976],\n",
              "     [-121.638843, 38.563301],\n",
              "     [-121.628338, 38.565202],\n",
              "     [-121.612319, 38.568074],\n",
              "     [-121.583027, 38.573278],\n",
              "     [-121.582255, 38.573416],\n",
              "     [-121.579673, 38.57383],\n",
              "     [-121.579509, 38.573853],\n",
              "     [-121.57783, 38.574101],\n",
              "     [-121.577059, 38.574191],\n",
              "     [-121.57391, 38.574661],\n",
              "     [-121.572513, 38.574855],\n",
              "     [-121.570356, 38.575053],\n",
              "     [-121.569798, 38.57508],\n",
              "     [-121.567463, 38.574939],\n",
              "     [-121.566657, 38.574953],\n",
              "     [-121.566373, 38.574979],\n",
              "     [-121.565781, 38.575073],\n",
              "     [-121.565137, 38.575228],\n",
              "     [-121.56488, 38.575301],\n",
              "     [-121.564408, 38.575476],\n",
              "     [-121.563893, 38.575704],\n",
              "     [-121.563661, 38.575828],\n",
              "     [-121.563103, 38.576163],\n",
              "     [-121.562583, 38.576599],\n",
              "     [-121.56209, 38.577072],\n",
              "     [-121.561249, 38.57823],\n",
              "     [-121.560809, 38.578852],\n",
              "     [-121.560625, 38.579094],\n",
              "     [-121.558608, 38.582107],\n",
              "     [-121.557182, 38.584275],\n",
              "     [-121.556873, 38.58474],\n",
              "     [-121.554343, 38.588454],\n",
              "     [-121.552943, 38.590513],\n",
              "     [-121.552114, 38.591795],\n",
              "     [-121.551836, 38.59219],\n",
              "     [-121.551304, 38.592948],\n",
              "     [-121.544607, 38.60297],\n",
              "     [-121.542348, 38.606228],\n",
              "     [-121.541067, 38.608146],\n",
              "     [-121.538439, 38.612058],\n",
              "     [-121.538047, 38.612614],\n",
              "     [-121.5378, 38.612925],\n",
              "     [-121.537264, 38.613525],\n",
              "     [-121.536968, 38.61382],\n",
              "     [-121.536332, 38.61438],\n",
              "     [-121.535947, 38.614681],\n",
              "     [-121.535341, 38.615095],\n",
              "     [-121.534766, 38.615484],\n",
              "     [-121.534104, 38.615884],\n",
              "     [-121.531292, 38.617341],\n",
              "     [-121.527497, 38.619322],\n",
              "     [-121.524378, 38.620999],\n",
              "     [-121.523939, 38.621234],\n",
              "     [-121.516733, 38.625046],\n",
              "     [-121.512232, 38.627413],\n",
              "     [-121.507447, 38.629908],\n",
              "     [-121.504916, 38.631238],\n",
              "     [-121.499965, 38.633836],\n",
              "     [-121.495974, 38.635942],\n",
              "     [-121.49266, 38.637679],\n",
              "     [-121.491706, 38.638108],\n",
              "     [-121.490718, 38.638488],\n",
              "     [-121.489702, 38.638816],\n",
              "     [-121.48866, 38.639091],\n",
              "     [-121.487598, 38.639314],\n",
              "     [-121.486511, 38.639484],\n",
              "     [-121.482269, 38.639995],\n",
              "     [-121.477998, 38.640515],\n",
              "     [-121.473829, 38.641019],\n",
              "     [-121.473504, 38.641059],\n",
              "     [-121.470758, 38.641381],\n",
              "     [-121.469398, 38.641489],\n",
              "     [-121.468847, 38.641548],\n",
              "     [-121.467369, 38.6416],\n",
              "     [-121.462755, 38.641458],\n",
              "     [-121.461276, 38.641398],\n",
              "     [-121.45028, 38.641067],\n",
              "     [-121.449117, 38.641087],\n",
              "     [-121.44807, 38.641147],\n",
              "     [-121.447255, 38.641214],\n",
              "     [-121.4458, 38.641438],\n",
              "     [-121.436521, 38.642965],\n",
              "     [-121.435751, 38.64306],\n",
              "     [-121.434975, 38.643124],\n",
              "     [-121.434198, 38.64316],\n",
              "     [-121.43323, 38.643162],\n",
              "     [-121.432264, 38.643118],\n",
              "     [-121.431218, 38.643018],\n",
              "     [-121.430181, 38.642873],\n",
              "     [-121.428651, 38.642573],\n",
              "     [-121.42815, 38.642452],\n",
              "     [-121.427072, 38.642125],\n",
              "     [-121.426025, 38.641749],\n",
              "     [-121.425515, 38.641544],\n",
              "     [-121.424711, 38.641156],\n",
              "     [-121.422715, 38.640185],\n",
              "     [-121.4221, 38.639884],\n",
              "     [-121.420092, 38.638903],\n",
              "     [-121.419733, 38.638727],\n",
              "     [-121.419224, 38.638478],\n",
              "     [-121.418404, 38.638153],\n",
              "     [-121.417555, 38.637875],\n",
              "     [-121.416682, 38.637645],\n",
              "     [-121.416104, 38.637522],\n",
              "     [-121.415282, 38.637388],\n",
              "     [-121.41445, 38.637295],\n",
              "     [-121.413612, 38.637242],\n",
              "     [-121.411745, 38.637239],\n",
              "     [-121.411186, 38.637239],\n",
              "     [-121.40807, 38.637252],\n",
              "     [-121.407174, 38.637237],\n",
              "     [-121.40443, 38.637249],\n",
              "     [-121.403656, 38.637327],\n",
              "     [-121.40311, 38.637431],\n",
              "     [-121.402579, 38.637575],\n",
              "     [-121.401977, 38.637776],\n",
              "     [-121.401407, 38.638026],\n",
              "     [-121.400876, 38.638323],\n",
              "     [-121.40058, 38.638515],\n",
              "     [-121.398815, 38.639786],\n",
              "     [-121.396782, 38.641252],\n",
              "     [-121.395948, 38.64183],\n",
              "     [-121.395449, 38.642125],\n",
              "     [-121.395075, 38.642313],\n",
              "     [-121.393475, 38.643063],\n",
              "     [-121.392785, 38.643311],\n",
              "     [-121.392079, 38.643529],\n",
              "     [-121.391358, 38.643716],\n",
              "     [-121.390637, 38.643869],\n",
              "     [-121.389119, 38.644089],\n",
              "     [-121.386012, 38.644512],\n",
              "     [-121.382183, 38.645071],\n",
              "     [-121.379448, 38.645499],\n",
              "     [-121.378673, 38.645667],\n",
              "     [-121.377915, 38.645875],\n",
              "     [-121.376636, 38.646367],\n",
              "     [-121.375954, 38.646665],\n",
              "     [-121.375403, 38.64696],\n",
              "     [-121.374314, 38.647744],\n",
              "     [-121.373967, 38.648028],\n",
              "     [-121.372234, 38.649601],\n",
              "     [-121.370506, 38.651204],\n",
              "     [-121.367476, 38.653935],\n",
              "     [-121.363441, 38.657664],\n",
              "     [-121.357833, 38.662891],\n",
              "     [-121.355531, 38.665036],\n",
              "     [-121.35496, 38.66558],\n",
              "     [-121.353905, 38.666536],\n",
              "     [-121.346566, 38.673253],\n",
              "     [-121.339255, 38.680011],\n",
              "     [-121.336012, 38.68297],\n",
              "     [-121.333786, 38.684972],\n",
              "     [-121.331055, 38.687488],\n",
              "     [-121.322544, 38.695271],\n",
              "     [-121.31972, 38.697855],\n",
              "     [-121.317607, 38.699791],\n",
              "     [-121.314472, 38.702614],\n",
              "     [-121.312637, 38.704319],\n",
              "     [-121.308522, 38.708085],\n",
              "     [-121.302755, 38.713358],\n",
              "     [-121.298374, 38.71737],\n",
              "     [-121.296067, 38.719477],\n",
              "     [-121.293864, 38.721416],\n",
              "     [-121.292577, 38.722547],\n",
              "     [-121.287445, 38.727231],\n",
              "     [-121.283615, 38.730729],\n",
              "     [-121.283535, 38.730803],\n",
              "     [-121.275441, 38.738216],\n",
              "     [-121.274072, 38.73948],\n",
              "     [-121.273316, 38.740264],\n",
              "     [-121.272939, 38.740699],\n",
              "     [-121.272252, 38.741576],\n",
              "     [-121.271636, 38.742503],\n",
              "     [-121.26874, 38.746871],\n",
              "     [-121.267147, 38.749403],\n",
              "     [-121.266554, 38.750318],\n",
              "     [-121.264351, 38.753741],\n",
              "     [-121.26306, 38.755707],\n",
              "     [-121.262678, 38.756288],\n",
              "     [-121.261148, 38.758622],\n",
              "     [-121.260684, 38.759329],\n",
              "     [-121.260071, 38.760123],\n",
              "     [-121.259513, 38.760962],\n",
              "     [-121.259428, 38.76109],\n",
              "     [-121.257909, 38.763379],\n",
              "     [-121.257655, 38.763708],\n",
              "     [-121.257356, 38.764044],\n",
              "     [-121.256945, 38.764449],\n",
              "     [-121.256538, 38.764786],\n",
              "     [-121.255751, 38.765326],\n",
              "     [-121.253956, 38.766486],\n",
              "     [-121.249464, 38.769286],\n",
              "     [-121.242889, 38.773378],\n",
              "     [-121.241959, 38.773961],\n",
              "     [-121.241473, 38.774293],\n",
              "     [-121.234873, 38.778408],\n",
              "     [-121.233998, 38.778964],\n",
              "     [-121.233594, 38.779245],\n",
              "     [-121.233131, 38.779579],\n",
              "     [-121.23271, 38.779907],\n",
              "     [-121.226678, 38.784973],\n",
              "     [-121.225033, 38.786358],\n",
              "     [-121.222627, 38.788382],\n",
              "     [-121.222404, 38.788563],\n",
              "     [-121.219173, 38.791288],\n",
              "     [-121.210188, 38.79885],\n",
              "     [-121.205385, 38.80288],\n",
              "     [-121.202097, 38.805648],\n",
              "     [-121.189106, 38.816559],\n",
              "     [-121.186739, 38.818546],\n",
              "     [-121.178219, 38.825719],\n",
              "     [-121.175155, 38.82826],\n",
              "     [-121.171883, 38.831012],\n",
              "     [-121.171554, 38.831311],\n",
              "     [-121.168738, 38.833661],\n",
              "     [-121.160888, 38.840205],\n",
              "     [-121.155381, 38.844757],\n",
              "     [-121.154728, 38.845279],\n",
              "     [-121.140548, 38.856959],\n",
              "     [-121.135663, 38.86102],\n",
              "     [-121.135079, 38.861515],\n",
              "     [-121.134581, 38.862009],\n",
              "     [-121.134161, 38.86249],\n",
              "     [-121.1338, 38.862978],\n",
              "     [-121.133509, 38.863426],\n",
              "     [-121.133122, 38.864181],\n",
              "     [-121.132813, 38.865017],\n",
              "     [-121.132659, 38.865645],\n",
              "     [-121.132003, 38.869626],\n",
              "     [-121.131954, 38.869934],\n",
              "     [-121.131501, 38.872713],\n",
              "     [-121.131368, 38.873684],\n",
              "     [-121.131239, 38.874255],\n",
              "     [-121.131081, 38.874718],\n",
              "     [-121.130892, 38.875126],\n",
              "     [-121.130662, 38.875543],\n",
              "     [-121.130199, 38.876111],\n",
              "     [-121.129959, 38.876359],\n",
              "     [-121.129708, 38.876582],\n",
              "     [-121.129298, 38.8769],\n",
              "     [-121.128989, 38.877107],\n",
              "     [-121.128654, 38.877294],\n",
              "     [-121.127933, 38.877621],\n",
              "     [-121.127161, 38.877882],\n",
              "     [-121.126725, 38.877993],\n",
              "     [-121.126171, 38.878082],\n",
              "     ...],\n",
              "    'type': 'LineString'}}],\n",
              " 'bbox': [-122.419446, 37.774936, -73.944025, 41.789337],\n",
              " 'metadata': {'attribution': 'openrouteservice.org | OpenStreetMap contributors',\n",
              "  'service': 'routing',\n",
              "  'timestamp': 1729562000336,\n",
              "  'query': {'coordinates': [[-122.4194, 37.7749], [-73.944, 40.661]],\n",
              "   'profile': 'driving-car',\n",
              "   'format': 'json'},\n",
              "  'engine': {'version': '8.2.0',\n",
              "   'build_date': '2024-10-09T09:23:42Z',\n",
              "   'graph_date': '2024-09-23T14:39:49Z'}}}"
            ]
          },
          "metadata": {},
          "execution_count": 17
        }
      ]
    },
    {
      "cell_type": "code",
      "source": [],
      "metadata": {
        "id": "QG67K9-X7XEe"
      },
      "execution_count": null,
      "outputs": []
    },
    {
      "cell_type": "markdown",
      "source": [
        "The response is a GeoJSON object representing the driving direction between the 2 points. The object is a feature collection with just 1 feature. We can access it using the index 0. The feature’s property contains summary information which has the data we need."
      ],
      "metadata": {
        "id": "pEVk6PZd8AVu"
      }
    },
    {
      "cell_type": "code",
      "source": [
        "summary = data['features'][0]['properties']['summary']\n",
        "print(summary)"
      ],
      "metadata": {
        "colab": {
          "base_uri": "https://localhost:8080/"
        },
        "id": "a6Sq8-5f8M-T",
        "outputId": "31f5a282-8cc3-4728-8749-45825226bd75"
      },
      "execution_count": null,
      "outputs": [
        {
          "output_type": "stream",
          "name": "stdout",
          "text": [
            "{'distance': 4692931.5, 'duration': 166854.4}\n"
          ]
        }
      ]
    },
    {
      "cell_type": "markdown",
      "source": [
        "We can extract the distance and convert it to kilometers."
      ],
      "metadata": {
        "id": "CMUy9DDb8rDR"
      }
    },
    {
      "cell_type": "code",
      "source": [
        "distance=summary['distance']\n",
        "print(distance/1000)"
      ],
      "metadata": {
        "colab": {
          "base_uri": "https://localhost:8080/"
        },
        "id": "MqupyLaG8rjg",
        "outputId": "1c59bf70-7f3e-4056-cfe3-13db6cd10223"
      },
      "execution_count": null,
      "outputs": [
        {
          "output_type": "stream",
          "name": "stdout",
          "text": [
            "4692.9315\n"
          ]
        }
      ]
    },
    {
      "cell_type": "markdown",
      "source": [
        "You can compare this distance to the straight-line distance and see the difference.\n",
        "\n",
        "##Exercise 1\n",
        "Replace the ORS_API_KEY with your own key in the code below. Change the cities with your chosen cities and run the cell to see the summary of driving directions. Extract the values for distance (meters) and duration (seconds). Convert and print the driving distance in km and driving time in minutes."
      ],
      "metadata": {
        "id": "H6znz4eK87xH"
      }
    },
    {
      "cell_type": "code",
      "source": [
        "vijayawada=(16.515099,80.632095)\n",
        "hyderabad=(17.37527777777778, 78.47416666666666)"
      ],
      "metadata": {
        "id": "J6l9Oz0eWkrS"
      },
      "execution_count": null,
      "outputs": []
    },
    {
      "cell_type": "code",
      "source": [
        "import requests\n",
        "ORS_API_KEY='5b3ce3597851110001cf624881bd046c52854751bb431394a4c8af38'\n",
        "parameters={\n",
        "    'api_key': ORS_API_KEY,\n",
        "    'start':'{},{}'.format(vijayawada[1],vijayawada[0]),\n",
        "    'end':'{},{}'.format(hyderabad[1],hyderabad[0])}\n",
        "response=requests.get('https://api.openrouteservice.org/v2/directions/driving-car', params=parameters)\n",
        "if response.status_code==200:\n",
        "  print('Request Successful')\n",
        "  data=response.json()\n",
        "else:\n",
        "  print('Request Failed')"
      ],
      "metadata": {
        "colab": {
          "base_uri": "https://localhost:8080/"
        },
        "id": "Vsn8v-RWW-sY",
        "outputId": "618f28d0-f3eb-45a7-b6a7-cd0399ba3bb9"
      },
      "execution_count": null,
      "outputs": [
        {
          "output_type": "stream",
          "name": "stdout",
          "text": [
            "Request Successful\n"
          ]
        }
      ]
    },
    {
      "cell_type": "code",
      "source": [
        "data"
      ],
      "metadata": {
        "colab": {
          "base_uri": "https://localhost:8080/"
        },
        "id": "Ua2OBEJLYlIJ",
        "outputId": "724792c5-aac2-45e8-d40c-33e9c71c5201"
      },
      "execution_count": null,
      "outputs": [
        {
          "output_type": "execute_result",
          "data": {
            "text/plain": [
              "{'type': 'FeatureCollection',\n",
              " 'features': [{'bbox': [78.474143, 16.507025, 80.632173, 17.380761],\n",
              "   'type': 'Feature',\n",
              "   'properties': {'segments': [{'distance': 273901.4,\n",
              "      'duration': 12071.1,\n",
              "      'steps': [{'distance': 89.5,\n",
              "        'duration': 21.5,\n",
              "        'type': 11,\n",
              "        'instruction': 'Head south',\n",
              "        'name': '-',\n",
              "        'way_points': [0, 2]},\n",
              "       {'distance': 6.3,\n",
              "        'duration': 0.4,\n",
              "        'type': 0,\n",
              "        'instruction': 'Turn left onto Karl Marx Road',\n",
              "        'name': 'Karl Marx Road',\n",
              "        'way_points': [2, 3]},\n",
              "       {'distance': 1003.1,\n",
              "        'duration': 59.6,\n",
              "        'type': 6,\n",
              "        'instruction': 'Continue straight onto Karl Marx Road',\n",
              "        'name': 'Karl Marx Road',\n",
              "        'way_points': [3, 21]},\n",
              "       {'distance': 465.0,\n",
              "        'duration': 57.8,\n",
              "        'type': 0,\n",
              "        'instruction': 'Turn left onto Shivalayam Street',\n",
              "        'name': 'Shivalayam Street',\n",
              "        'way_points': [21, 34]},\n",
              "       {'distance': 156.7,\n",
              "        'duration': 6.6,\n",
              "        'type': 0,\n",
              "        'instruction': 'Turn left onto NH65',\n",
              "        'name': 'NH65',\n",
              "        'way_points': [34, 38]},\n",
              "       {'distance': 15329.6,\n",
              "        'duration': 649.2,\n",
              "        'type': 6,\n",
              "        'instruction': 'Continue straight onto NH65',\n",
              "        'name': 'NH65',\n",
              "        'way_points': [38, 285]},\n",
              "       {'distance': 149364.3,\n",
              "        'duration': 6708.8,\n",
              "        'type': 7,\n",
              "        'instruction': 'Enter the roundabout and take the 2nd exit onto NH65',\n",
              "        'name': 'NH65',\n",
              "        'exit_number': 2,\n",
              "        'way_points': [285, 1644]},\n",
              "       {'distance': 96807.8,\n",
              "        'duration': 4099.9,\n",
              "        'type': 13,\n",
              "        'instruction': 'Keep right onto NH65',\n",
              "        'name': 'NH65',\n",
              "        'way_points': [1644, 2409]},\n",
              "       {'distance': 7664.9,\n",
              "        'duration': 324.6,\n",
              "        'type': 0,\n",
              "        'instruction': 'Turn left onto NH65',\n",
              "        'name': 'NH65',\n",
              "        'way_points': [2409, 2520]},\n",
              "       {'distance': 387.6,\n",
              "        'duration': 20.7,\n",
              "        'type': 7,\n",
              "        'instruction': 'Enter the roundabout and take the 3rd exit onto NH65',\n",
              "        'name': 'NH65',\n",
              "        'exit_number': 3,\n",
              "        'way_points': [2520, 2535]},\n",
              "       {'distance': 1103.8,\n",
              "        'duration': 46.7,\n",
              "        'type': 12,\n",
              "        'instruction': 'Keep left onto NH65',\n",
              "        'name': 'NH65',\n",
              "        'way_points': [2535, 2560]},\n",
              "       {'distance': 840.7,\n",
              "        'duration': 35.6,\n",
              "        'type': 6,\n",
              "        'instruction': 'Continue straight onto NH65, NH163',\n",
              "        'name': 'NH65, NH163',\n",
              "        'way_points': [2560, 2580]},\n",
              "       {'distance': 148.5,\n",
              "        'duration': 6.3,\n",
              "        'type': 4,\n",
              "        'instruction': 'Turn slight left',\n",
              "        'name': '-',\n",
              "        'way_points': [2580, 2585]},\n",
              "       {'distance': 176.9,\n",
              "        'duration': 13.8,\n",
              "        'type': 13,\n",
              "        'instruction': 'Keep right onto NH44',\n",
              "        'name': 'NH44',\n",
              "        'way_points': [2585, 2594]},\n",
              "       {'distance': 238.4,\n",
              "        'duration': 10.1,\n",
              "        'type': 0,\n",
              "        'instruction': 'Turn left onto NH44, NH65, NH163',\n",
              "        'name': 'NH44, NH65, NH163',\n",
              "        'way_points': [2594, 2603]},\n",
              "       {'distance': 118.0,\n",
              "        'duration': 9.4,\n",
              "        'type': 2,\n",
              "        'instruction': 'Turn sharp left onto Churi Bazaar Road',\n",
              "        'name': 'Churi Bazaar Road',\n",
              "        'way_points': [2603, 2607]},\n",
              "       {'distance': 0.0,\n",
              "        'duration': 0.0,\n",
              "        'type': 10,\n",
              "        'instruction': 'Arrive at Churi Bazaar Road, on the left',\n",
              "        'name': '-',\n",
              "        'way_points': [2607, 2607]}]}],\n",
              "    'way_points': [0, 2607],\n",
              "    'summary': {'distance': 273901.4, 'duration': 12071.1}},\n",
              "   'geometry': {'coordinates': [[80.632032, 16.515093],\n",
              "     [80.632043, 16.514977],\n",
              "     [80.632114, 16.514292],\n",
              "     [80.632173, 16.5143],\n",
              "     [80.632124, 16.514218],\n",
              "     [80.6315, 16.514122],\n",
              "     [80.630958, 16.514056],\n",
              "     [80.630458, 16.513991],\n",
              "     [80.629923, 16.513923],\n",
              "     [80.629352, 16.513862],\n",
              "     [80.628827, 16.513792],\n",
              "     [80.628285, 16.513725],\n",
              "     [80.627729, 16.513665],\n",
              "     [80.627216, 16.513595],\n",
              "     [80.626621, 16.513535],\n",
              "     [80.626053, 16.513462],\n",
              "     [80.625517, 16.51341],\n",
              "     [80.624979, 16.51336],\n",
              "     [80.624424, 16.513294],\n",
              "     [80.623887, 16.513212],\n",
              "     [80.623148, 16.512994],\n",
              "     [80.622925, 16.512929],\n",
              "     [80.62286, 16.512618],\n",
              "     [80.622739, 16.512067],\n",
              "     [80.622636, 16.511593],\n",
              "     [80.622585, 16.511328],\n",
              "     [80.62248, 16.510752],\n",
              "     [80.622447, 16.51065],\n",
              "     [80.622251, 16.510157],\n",
              "     [80.622102, 16.509839],\n",
              "     [80.62195, 16.509362],\n",
              "     [80.621915, 16.509257],\n",
              "     [80.62177, 16.509169],\n",
              "     [80.621739, 16.509135],\n",
              "     [80.621686, 16.508982],\n",
              "     [80.622269, 16.508827],\n",
              "     [80.622517, 16.508745],\n",
              "     [80.622807, 16.508627],\n",
              "     [80.623054, 16.508487],\n",
              "     [80.622998, 16.508422],\n",
              "     [80.622743, 16.508566],\n",
              "     [80.622511, 16.508668],\n",
              "     [80.622256, 16.50875],\n",
              "     [80.620382, 16.509207],\n",
              "     [80.620157, 16.509244],\n",
              "     [80.619708, 16.509281],\n",
              "     [80.619418, 16.509263],\n",
              "     [80.619173, 16.509228],\n",
              "     [80.618932, 16.509158],\n",
              "     [80.618703, 16.509079],\n",
              "     [80.618505, 16.508989],\n",
              "     [80.6182, 16.508798],\n",
              "     [80.616435, 16.507465],\n",
              "     [80.615992, 16.507185],\n",
              "     [80.615546, 16.507076],\n",
              "     [80.615196, 16.507032],\n",
              "     [80.614987, 16.507025],\n",
              "     [80.614685, 16.507041],\n",
              "     [80.614294, 16.507105],\n",
              "     [80.61415, 16.507143],\n",
              "     [80.613761, 16.507273],\n",
              "     [80.613131, 16.507535],\n",
              "     [80.612482, 16.50783],\n",
              "     [80.612291, 16.507934],\n",
              "     [80.611939, 16.508177],\n",
              "     [80.611835, 16.508256],\n",
              "     [80.611676, 16.508414],\n",
              "     [80.610971, 16.509401],\n",
              "     [80.609958, 16.511004],\n",
              "     [80.609641, 16.511409],\n",
              "     [80.609528, 16.511521],\n",
              "     [80.609242, 16.511749],\n",
              "     [80.60911, 16.511839],\n",
              "     [80.608783, 16.512023],\n",
              "     [80.608541, 16.51211],\n",
              "     [80.608195, 16.512191],\n",
              "     [80.607702, 16.512251],\n",
              "     [80.606594, 16.512353],\n",
              "     [80.606508, 16.512359],\n",
              "     [80.604918, 16.512488],\n",
              "     [80.604293, 16.512586],\n",
              "     [80.60408, 16.512638],\n",
              "     [80.603814, 16.512744],\n",
              "     [80.603499, 16.512945],\n",
              "     [80.603221, 16.51321],\n",
              "     [80.603133, 16.51331],\n",
              "     [80.603028, 16.513464],\n",
              "     [80.602927, 16.513674],\n",
              "     [80.602848, 16.513879],\n",
              "     [80.602747, 16.514275],\n",
              "     [80.602723, 16.514656],\n",
              "     [80.602783, 16.515193],\n",
              "     [80.602918, 16.517012],\n",
              "     [80.602942, 16.518123],\n",
              "     [80.602907, 16.518431],\n",
              "     [80.602834, 16.5187],\n",
              "     [80.602734, 16.518918],\n",
              "     [80.602618, 16.519122],\n",
              "     [80.602458, 16.519332],\n",
              "     [80.602329, 16.519458],\n",
              "     [80.602021, 16.519701],\n",
              "     [80.601901, 16.519765],\n",
              "     [80.601738, 16.519829],\n",
              "     [80.601449, 16.5199],\n",
              "     [80.59948, 16.520354],\n",
              "     [80.599143, 16.520472],\n",
              "     [80.599027, 16.520538],\n",
              "     [80.598828, 16.520698],\n",
              "     [80.597941, 16.521696],\n",
              "     [80.597375, 16.522284],\n",
              "     [80.596946, 16.522701],\n",
              "     [80.596892, 16.522754],\n",
              "     [80.596843, 16.522801],\n",
              "     [80.596497, 16.523232],\n",
              "     [80.59639, 16.523391],\n",
              "     [80.596224, 16.523659],\n",
              "     [80.596099, 16.523818],\n",
              "     [80.595895, 16.524017],\n",
              "     [80.595352, 16.524362],\n",
              "     [80.59495, 16.524618],\n",
              "     [80.594699, 16.524788],\n",
              "     [80.59453, 16.524938],\n",
              "     [80.594313, 16.525199],\n",
              "     [80.593868, 16.525806],\n",
              "     [80.593799, 16.525909],\n",
              "     [80.593567, 16.526242],\n",
              "     [80.593486, 16.526347],\n",
              "     [80.593401, 16.526457],\n",
              "     [80.593166, 16.526705],\n",
              "     [80.593012, 16.526849],\n",
              "     [80.592876, 16.526953],\n",
              "     [80.592411, 16.527301],\n",
              "     [80.592148, 16.527507],\n",
              "     [80.59201, 16.527661],\n",
              "     [80.591475, 16.528338],\n",
              "     [80.590878, 16.529045],\n",
              "     [80.590628, 16.529263],\n",
              "     [80.590159, 16.529576],\n",
              "     [80.58987, 16.52979],\n",
              "     [80.589699, 16.529973],\n",
              "     [80.589601, 16.530136],\n",
              "     [80.589451, 16.530456],\n",
              "     [80.58931, 16.530767],\n",
              "     [80.589197, 16.531023],\n",
              "     [80.589004, 16.531395],\n",
              "     [80.588889, 16.531552],\n",
              "     [80.588806, 16.531629],\n",
              "     [80.588647, 16.531752],\n",
              "     [80.588248, 16.532018],\n",
              "     [80.587795, 16.532311],\n",
              "     [80.587554, 16.532466],\n",
              "     [80.587114, 16.532769],\n",
              "     [80.586991, 16.532878],\n",
              "     [80.586896, 16.532986],\n",
              "     [80.58676, 16.533201],\n",
              "     [80.586678, 16.533404],\n",
              "     [80.586447, 16.534246],\n",
              "     [80.586326, 16.53459],\n",
              "     [80.586279, 16.53468],\n",
              "     [80.585924, 16.535269],\n",
              "     [80.585636, 16.535735],\n",
              "     [80.585542, 16.535886],\n",
              "     [80.585294, 16.536206],\n",
              "     [80.585094, 16.536431],\n",
              "     [80.584871, 16.536661],\n",
              "     [80.584388, 16.537037],\n",
              "     [80.584211, 16.537226],\n",
              "     [80.584087, 16.537401],\n",
              "     [80.583594, 16.538181],\n",
              "     [80.583361, 16.538566],\n",
              "     [80.58308, 16.539032],\n",
              "     [80.582853, 16.5394],\n",
              "     [80.582741, 16.539581],\n",
              "     [80.582612, 16.539792],\n",
              "     [80.582313, 16.540265],\n",
              "     [80.582227, 16.540393],\n",
              "     [80.581969, 16.540742],\n",
              "     [80.581566, 16.54126],\n",
              "     [80.58131, 16.541594],\n",
              "     [80.580967, 16.542043],\n",
              "     [80.580667, 16.542463],\n",
              "     [80.579554, 16.544018],\n",
              "     [80.579455, 16.544148],\n",
              "     [80.579418, 16.544194],\n",
              "     [80.579377, 16.544249],\n",
              "     [80.578821, 16.54498],\n",
              "     [80.578369, 16.545603],\n",
              "     [80.577769, 16.546457],\n",
              "     [80.577475, 16.546841],\n",
              "     [80.577141, 16.547274],\n",
              "     [80.57682, 16.547683],\n",
              "     [80.576055, 16.548713],\n",
              "     [80.57587, 16.548955],\n",
              "     [80.574895, 16.550266],\n",
              "     [80.574503, 16.550816],\n",
              "     [80.574052, 16.551444],\n",
              "     [80.572874, 16.553058],\n",
              "     [80.572521, 16.55352],\n",
              "     [80.572171, 16.55393],\n",
              "     [80.569041, 16.557223],\n",
              "     [80.568825, 16.557412],\n",
              "     [80.56842, 16.557724],\n",
              "     [80.56797, 16.557951],\n",
              "     [80.567206, 16.558205],\n",
              "     [80.56651, 16.558365],\n",
              "     [80.565497, 16.558601],\n",
              "     [80.565411, 16.558628],\n",
              "     [80.563, 16.559222],\n",
              "     [80.562371, 16.559392],\n",
              "     [80.561821, 16.559589],\n",
              "     [80.561379, 16.559773],\n",
              "     [80.560825, 16.56003],\n",
              "     [80.560441, 16.560248],\n",
              "     [80.559974, 16.560514],\n",
              "     [80.558696, 16.561306],\n",
              "     [80.557808, 16.561854],\n",
              "     [80.557004, 16.562336],\n",
              "     [80.555387, 16.563338],\n",
              "     [80.554854, 16.563642],\n",
              "     [80.553812, 16.564162],\n",
              "     [80.55287, 16.564643],\n",
              "     [80.551813, 16.565286],\n",
              "     [80.551427, 16.565489],\n",
              "     [80.550997, 16.565673],\n",
              "     [80.55069, 16.565779],\n",
              "     [80.548881, 16.566277],\n",
              "     [80.548804, 16.566298],\n",
              "     [80.548321, 16.566447],\n",
              "     [80.546817, 16.566862],\n",
              "     [80.54664, 16.566917],\n",
              "     [80.546018, 16.567086],\n",
              "     [80.545405, 16.567302],\n",
              "     [80.545053, 16.567458],\n",
              "     [80.544334, 16.567801],\n",
              "     [80.544056, 16.567938],\n",
              "     [80.543763, 16.568056],\n",
              "     [80.54326, 16.568197],\n",
              "     [80.542579, 16.568315],\n",
              "     [80.541459, 16.568488],\n",
              "     [80.540366, 16.568734],\n",
              "     [80.540215, 16.568782],\n",
              "     [80.539987, 16.568846],\n",
              "     [80.539218, 16.569157],\n",
              "     [80.538731, 16.569405],\n",
              "     [80.537992, 16.569844],\n",
              "     [80.537439, 16.570197],\n",
              "     [80.536008, 16.570931],\n",
              "     [80.534349, 16.571751],\n",
              "     [80.534011, 16.57192],\n",
              "     [80.532981, 16.572499],\n",
              "     [80.53243, 16.572812],\n",
              "     [80.532033, 16.57304],\n",
              "     [80.53168, 16.573246],\n",
              "     [80.531265, 16.573534],\n",
              "     [80.530901, 16.573848],\n",
              "     [80.530741, 16.574014],\n",
              "     [80.530546, 16.574261],\n",
              "     [80.530357, 16.574543],\n",
              "     [80.530177, 16.574865],\n",
              "     [80.530041, 16.575187],\n",
              "     [80.529685, 16.576298],\n",
              "     [80.529184, 16.577893],\n",
              "     [80.529058, 16.57833],\n",
              "     [80.528695, 16.579117],\n",
              "     [80.528492, 16.579442],\n",
              "     [80.528227, 16.579801],\n",
              "     [80.526886, 16.581361],\n",
              "     [80.526627, 16.58167],\n",
              "     [80.526596, 16.581707],\n",
              "     [80.525858, 16.582609],\n",
              "     [80.525436, 16.583114],\n",
              "     [80.525126, 16.583535],\n",
              "     [80.524957, 16.58383],\n",
              "     [80.524582, 16.584613],\n",
              "     [80.524342, 16.585058],\n",
              "     [80.524183, 16.585307],\n",
              "     [80.523348, 16.586379],\n",
              "     [80.523079, 16.586722],\n",
              "     [80.522582, 16.587365],\n",
              "     [80.522513, 16.587461],\n",
              "     [80.522022, 16.588076],\n",
              "     [80.521597, 16.588596],\n",
              "     [80.521492, 16.588688],\n",
              "     [80.521378, 16.588742],\n",
              "     [80.521183, 16.588786],\n",
              "     [80.52104, 16.58881],\n",
              "     [80.520949, 16.588795],\n",
              "     [80.520858, 16.588805],\n",
              "     [80.520773, 16.588841],\n",
              "     [80.520665, 16.588952],\n",
              "     [80.520639, 16.589007],\n",
              "     [80.520529, 16.589125],\n",
              "     [80.520371, 16.589235],\n",
              "     [80.519882, 16.589463],\n",
              "     [80.51888, 16.589876],\n",
              "     [80.518542, 16.590019],\n",
              "     [80.515867, 16.591186],\n",
              "     [80.515337, 16.591489],\n",
              "     [80.515073, 16.591675],\n",
              "     [80.51477, 16.59196],\n",
              "     [80.514581, 16.592164],\n",
              "     [80.514391, 16.592413],\n",
              "     [80.514294, 16.592573],\n",
              "     [80.514176, 16.59279],\n",
              "     [80.514041, 16.593125],\n",
              "     [80.513598, 16.594769],\n",
              "     [80.513434, 16.595405],\n",
              "     [80.513343, 16.595789],\n",
              "     [80.513205, 16.59629],\n",
              "     [80.512964, 16.596956],\n",
              "     [80.512882, 16.597145],\n",
              "     [80.512473, 16.597948],\n",
              "     [80.512211, 16.598416],\n",
              "     [80.51194, 16.598885],\n",
              "     [80.511683, 16.599257],\n",
              "     [80.511365, 16.599655],\n",
              "     [80.511248, 16.599791],\n",
              "     [80.511067, 16.599964],\n",
              "     [80.51104, 16.59999],\n",
              "     [80.510915, 16.600081],\n",
              "     [80.510598, 16.600281],\n",
              "     [80.510153, 16.600532],\n",
              "     [80.508784, 16.601127],\n",
              "     [80.507737, 16.601523],\n",
              "     [80.506648, 16.601897],\n",
              "     [80.506052, 16.602077],\n",
              "     [80.505341, 16.602313],\n",
              "     [80.504445, 16.602633],\n",
              "     [80.503249, 16.603116],\n",
              "     [80.502994, 16.603228],\n",
              "     [80.502331, 16.603509],\n",
              "     [80.501759, 16.603748],\n",
              "     [80.501159, 16.604003],\n",
              "     [80.500259, 16.604368],\n",
              "     [80.499734, 16.604555],\n",
              "     [80.499303, 16.604679],\n",
              "     [80.499115, 16.604727],\n",
              "     [80.498855, 16.604789],\n",
              "     [80.498638, 16.604832],\n",
              "     [80.497694, 16.604919],\n",
              "     [80.497411, 16.604934],\n",
              "     [80.496262, 16.605002],\n",
              "     [80.49534, 16.605062],\n",
              "     [80.494297, 16.605097],\n",
              "     [80.492458, 16.605214],\n",
              "     [80.491049, 16.605324],\n",
              "     [80.490625, 16.605327],\n",
              "     [80.48998, 16.605289],\n",
              "     [80.489475, 16.605223],\n",
              "     [80.488856, 16.605137],\n",
              "     [80.48794, 16.605016],\n",
              "     [80.487112, 16.604889],\n",
              "     [80.48679, 16.604853],\n",
              "     [80.486225, 16.604816],\n",
              "     [80.485828, 16.604816],\n",
              "     [80.484591, 16.604873],\n",
              "     [80.483811, 16.604989],\n",
              "     [80.483493, 16.60506],\n",
              "     [80.482932, 16.605232],\n",
              "     [80.481276, 16.605813],\n",
              "     [80.477914, 16.607033],\n",
              "     [80.475799, 16.607795],\n",
              "     [80.475513, 16.607899],\n",
              "     [80.475228, 16.608002],\n",
              "     [80.473718, 16.608548],\n",
              "     [80.472959, 16.60885],\n",
              "     [80.472509, 16.609073],\n",
              "     [80.472126, 16.609318],\n",
              "     [80.471662, 16.609664],\n",
              "     [80.470792, 16.610391],\n",
              "     [80.470042, 16.610989],\n",
              "     [80.469771, 16.611205],\n",
              "     [80.469526, 16.611397],\n",
              "     [80.468997, 16.611812],\n",
              "     [80.467798, 16.61271],\n",
              "     [80.467304, 16.613047],\n",
              "     [80.466362, 16.613648],\n",
              "     [80.465975, 16.61392],\n",
              "     [80.465392, 16.614369],\n",
              "     [80.464736, 16.614832],\n",
              "     [80.464488, 16.615022],\n",
              "     [80.464164, 16.615282],\n",
              "     [80.463797, 16.615544],\n",
              "     [80.463287, 16.615855],\n",
              "     [80.462122, 16.616422],\n",
              "     [80.462087, 16.616442],\n",
              "     [80.461523, 16.616765],\n",
              "     [80.460735, 16.617299],\n",
              "     [80.45996, 16.617901],\n",
              "     [80.45915, 16.618429],\n",
              "     [80.458569, 16.618778],\n",
              "     [80.457711, 16.6193],\n",
              "     [80.456235, 16.62025],\n",
              "     [80.455728, 16.620628],\n",
              "     [80.454132, 16.621951],\n",
              "     [80.45386, 16.622163],\n",
              "     [80.453597, 16.622354],\n",
              "     [80.453095, 16.622703],\n",
              "     [80.452685, 16.622968],\n",
              "     [80.452351, 16.623195],\n",
              "     [80.451691, 16.623678],\n",
              "     [80.451338, 16.623934],\n",
              "     [80.450983, 16.624167],\n",
              "     [80.450309, 16.624556],\n",
              "     [80.449946, 16.624753],\n",
              "     [80.449115, 16.62521],\n",
              "     [80.448769, 16.625415],\n",
              "     [80.448215, 16.625809],\n",
              "     [80.447595, 16.626334],\n",
              "     [80.447219, 16.626674],\n",
              "     [80.446939, 16.626935],\n",
              "     [80.446666, 16.627172],\n",
              "     [80.446274, 16.627473],\n",
              "     [80.445788, 16.627781],\n",
              "     [80.445479, 16.627936],\n",
              "     [80.444675, 16.628263],\n",
              "     [80.44229, 16.629149],\n",
              "     [80.441843, 16.629351],\n",
              "     [80.441333, 16.629663],\n",
              "     [80.440877, 16.63002],\n",
              "     [80.440222, 16.630613],\n",
              "     [80.439407, 16.631405],\n",
              "     [80.438334, 16.632375],\n",
              "     [80.438072, 16.632645],\n",
              "     [80.43774, 16.63302],\n",
              "     [80.43762, 16.633183],\n",
              "     [80.436783, 16.634398],\n",
              "     [80.435275, 16.636706],\n",
              "     [80.434755, 16.637451],\n",
              "     [80.434544, 16.637731],\n",
              "     [80.434266, 16.638063],\n",
              "     [80.433504, 16.638906],\n",
              "     [80.432874, 16.639573],\n",
              "     [80.432598, 16.639862],\n",
              "     [80.431204, 16.641342],\n",
              "     [80.430798, 16.641756],\n",
              "     [80.429984, 16.642605],\n",
              "     [80.428757, 16.643923],\n",
              "     [80.427118, 16.645697],\n",
              "     [80.426699, 16.646143],\n",
              "     [80.426355, 16.646474],\n",
              "     [80.425832, 16.64687],\n",
              "     [80.42554, 16.647038],\n",
              "     [80.425265, 16.647168],\n",
              "     [80.42501, 16.647262],\n",
              "     [80.424009, 16.647536],\n",
              "     [80.422998, 16.647793],\n",
              "     [80.422114, 16.648021],\n",
              "     [80.421991, 16.648053],\n",
              "     [80.419901, 16.648588],\n",
              "     [80.419155, 16.648792],\n",
              "     [80.418165, 16.649063],\n",
              "     [80.417928, 16.649125],\n",
              "     [80.408073, 16.651754],\n",
              "     [80.407891, 16.651804],\n",
              "     [80.404254, 16.652795],\n",
              "     [80.402368, 16.653289],\n",
              "     [80.401249, 16.653698],\n",
              "     [80.400528, 16.65398],\n",
              "     [80.399411, 16.654496],\n",
              "     [80.398517, 16.654994],\n",
              "     [80.398045, 16.655276],\n",
              "     [80.397497, 16.655645],\n",
              "     [80.396584, 16.656295],\n",
              "     [80.395685, 16.657008],\n",
              "     [80.394702, 16.657921],\n",
              "     [80.393918, 16.658759],\n",
              "     [80.393112, 16.659742],\n",
              "     [80.392731, 16.660245],\n",
              "     [80.392324, 16.66082],\n",
              "     [80.391694, 16.661874],\n",
              "     [80.389217, 16.666351],\n",
              "     [80.385001, 16.674025],\n",
              "     [80.384927, 16.674185],\n",
              "     [80.384368, 16.675448],\n",
              "     [80.383941, 16.676698],\n",
              "     [80.383614, 16.677992],\n",
              "     [80.383516, 16.678464],\n",
              "     [80.383418, 16.679024],\n",
              "     [80.383304, 16.680094],\n",
              "     [80.383112, 16.682329],\n",
              "     [80.383038, 16.682896],\n",
              "     [80.383028, 16.683151],\n",
              "     [80.382766, 16.68513],\n",
              "     [80.382625, 16.685789],\n",
              "     [80.38251, 16.685996],\n",
              "     [80.382375, 16.686298],\n",
              "     [80.382032, 16.686771],\n",
              "     [80.381749, 16.687075],\n",
              "     [80.381592, 16.687235],\n",
              "     [80.381186, 16.687532],\n",
              "     [80.380442, 16.687951],\n",
              "     [80.379695, 16.68842],\n",
              "     [80.379157, 16.688684],\n",
              "     [80.377518, 16.689772],\n",
              "     [80.377233, 16.689964],\n",
              "     [80.376359, 16.690586],\n",
              "     [80.375838, 16.690887],\n",
              "     [80.375653, 16.690986],\n",
              "     [80.375285, 16.691142],\n",
              "     [80.375026, 16.691246],\n",
              "     [80.374586, 16.691396],\n",
              "     [80.373997, 16.691656],\n",
              "     [80.373528, 16.69195],\n",
              "     [80.373004, 16.692346],\n",
              "     [80.372492, 16.692754],\n",
              "     [80.371756, 16.693288],\n",
              "     [80.371201, 16.693652],\n",
              "     [80.369024, 16.695048],\n",
              "     [80.367964, 16.695694],\n",
              "     [80.36736, 16.6961],\n",
              "     [80.365946, 16.697087],\n",
              "     [80.363461, 16.698714],\n",
              "     [80.362878, 16.699116],\n",
              "     [80.361485, 16.700279],\n",
              "     [80.360769, 16.700758],\n",
              "     [80.359401, 16.701601],\n",
              "     [80.35781, 16.702489],\n",
              "     [80.356688, 16.703067],\n",
              "     [80.354771, 16.70402],\n",
              "     [80.354538, 16.704162],\n",
              "     [80.35422, 16.704373],\n",
              "     [80.353984, 16.704592],\n",
              "     [80.353704, 16.704909],\n",
              "     [80.352992, 16.705942],\n",
              "     [80.351818, 16.707525],\n",
              "     [80.351531, 16.707853],\n",
              "     [80.351234, 16.708155],\n",
              "     [80.350626, 16.708644],\n",
              "     [80.347011, 16.710977],\n",
              "     [80.346553, 16.711234],\n",
              "     [80.345509, 16.711725],\n",
              "     [80.344893, 16.711987],\n",
              "     [80.34421, 16.712221],\n",
              "     [80.343601, 16.712393],\n",
              "     [80.340029, 16.713284],\n",
              "     [80.339049, 16.71358],\n",
              "     [80.337956, 16.713934],\n",
              "     [80.337368, 16.71408],\n",
              "     [80.335131, 16.714541],\n",
              "     [80.33352, 16.715007],\n",
              "     [80.332868, 16.715225],\n",
              "     [80.332245, 16.715463],\n",
              "     [80.330374, 16.716272],\n",
              "     [80.329332, 16.71669],\n",
              "     [80.327786, 16.717345],\n",
              "     [80.327214, 16.71755],\n",
              "     [80.326146, 16.71784],\n",
              "     [80.325711, 16.717941],\n",
              "     [80.325572, 16.717974],\n",
              "     [80.324978, 16.718032],\n",
              "     [80.324354, 16.718006],\n",
              "     [80.323644, 16.717846],\n",
              "     [80.323102, 16.717684],\n",
              "     [80.322862, 16.717612],\n",
              "     [80.322233, 16.717367],\n",
              "     [80.321732, 16.717238],\n",
              "     [80.321285, 16.717176],\n",
              "     [80.320857, 16.717173],\n",
              "     [80.320328, 16.717236],\n",
              "     [80.319907, 16.717358],\n",
              "     [80.319615, 16.717459],\n",
              "     [80.318883, 16.717799],\n",
              "     [80.314984, 16.719681],\n",
              "     [80.314394, 16.719967],\n",
              "     [80.314094, 16.720161],\n",
              "     [80.313852, 16.720341],\n",
              "     [80.313495, 16.720705],\n",
              "     [80.313348, 16.720917],\n",
              "     [80.313149, 16.721252],\n",
              "     [80.313039, 16.721506],\n",
              "     [80.312938, 16.721888],\n",
              "     [80.312897, 16.722188],\n",
              "     [80.312885, 16.722524],\n",
              "     [80.312934, 16.723407],\n",
              "     [80.312915, 16.723696],\n",
              "     [80.312826, 16.724146],\n",
              "     [80.312656, 16.724568],\n",
              "     [80.311873, 16.725957],\n",
              "     [80.310561, 16.728233],\n",
              "     [80.310328, 16.728589],\n",
              "     [80.309256, 16.729972],\n",
              "     [80.309059, 16.730312],\n",
              "     [80.308832, 16.730834],\n",
              "     [80.308719, 16.731217],\n",
              "     [80.308415, 16.732433],\n",
              "     [80.307996, 16.733455],\n",
              "     [80.307652, 16.734207],\n",
              "     [80.307413, 16.734536],\n",
              "     [80.30716, 16.734825],\n",
              "     [80.306792, 16.735209],\n",
              "     [80.305998, 16.735887],\n",
              "     [80.305411, 16.736386],\n",
              "     [80.305007, 16.736731],\n",
              "     [80.304397, 16.737272],\n",
              "     [80.304232, 16.737419],\n",
              "     [80.303931, 16.737737],\n",
              "     [80.303719, 16.738025],\n",
              "     [80.303661, 16.738104],\n",
              "     [80.30348, 16.738455],\n",
              "     [80.303298, 16.738897],\n",
              "     [80.303216, 16.739121],\n",
              "     [80.303106, 16.739548],\n",
              "     [80.302938, 16.740584],\n",
              "     [80.302832, 16.74144],\n",
              "     [80.302738, 16.74204],\n",
              "     [80.30264, 16.742535],\n",
              "     [80.302301, 16.743887],\n",
              "     [80.302181, 16.744346],\n",
              "     [80.302047, 16.744828],\n",
              "     [80.30187, 16.745309],\n",
              "     [80.301731, 16.745625],\n",
              "     [80.301134, 16.746632],\n",
              "     [80.30056, 16.747552],\n",
              "     [80.299649, 16.749198],\n",
              "     [80.29899, 16.750269],\n",
              "     [80.297478, 16.752937],\n",
              "     [80.296853, 16.754657],\n",
              "     [80.296421, 16.755401],\n",
              "     [80.296265, 16.755598],\n",
              "     [80.296081, 16.755764],\n",
              "     [80.295845, 16.756019],\n",
              "     [80.295525, 16.756266],\n",
              "     [80.295081, 16.756535],\n",
              "     [80.29405, 16.757042],\n",
              "     [80.293714, 16.757193],\n",
              "     [80.29332, 16.757344],\n",
              "     [80.292778, 16.757516],\n",
              "     [80.292391, 16.757618],\n",
              "     [80.291994, 16.757694],\n",
              "     [80.291506, 16.757749],\n",
              "     [80.290709, 16.757799],\n",
              "     [80.289456, 16.757851],\n",
              "     [80.287812, 16.757959],\n",
              "     [80.287367, 16.758008],\n",
              "     [80.287019, 16.758063],\n",
              "     [80.286712, 16.758136],\n",
              "     [80.286389, 16.758236],\n",
              "     [80.285376, 16.758636],\n",
              "     [80.284925, 16.758874],\n",
              "     [80.284458, 16.759175],\n",
              "     [80.284014, 16.7595],\n",
              "     [80.282741, 16.76074],\n",
              "     [80.282115, 16.761381],\n",
              "     [80.280084, 16.763387],\n",
              "     [80.279475, 16.764013],\n",
              "     [80.279336, 16.764145],\n",
              "     [80.278691, 16.764792],\n",
              "     [80.275189, 16.768207],\n",
              "     [80.273228, 16.770178],\n",
              "     [80.272758, 16.770696],\n",
              "     [80.272518, 16.771011],\n",
              "     [80.272156, 16.771591],\n",
              "     [80.272065, 16.771763],\n",
              "     [80.271903, 16.772103],\n",
              "     [80.271686, 16.772665],\n",
              "     [80.271562, 16.77311],\n",
              "     [80.271463, 16.773597],\n",
              "     [80.271387, 16.774157],\n",
              "     [80.271197, 16.7776],\n",
              "     [80.271189, 16.77841],\n",
              "     [80.271202, 16.778874],\n",
              "     [80.271277, 16.779552],\n",
              "     [80.271392, 16.780258],\n",
              "     [80.272313, 16.784063],\n",
              "     [80.272713, 16.785803],\n",
              "     [80.272914, 16.786785],\n",
              "     [80.272998, 16.78757],\n",
              "     [80.272994, 16.787949],\n",
              "     [80.272949, 16.788655],\n",
              "     [80.272822, 16.7894],\n",
              "     [80.272701, 16.789841],\n",
              "     [80.272517, 16.790382],\n",
              "     [80.272322, 16.790847],\n",
              "     [80.272132, 16.791222],\n",
              "     [80.2719, 16.791624],\n",
              "     [80.271661, 16.791972],\n",
              "     [80.270984, 16.79278],\n",
              "     [80.269738, 16.793943],\n",
              "     [80.268325, 16.795319],\n",
              "     [80.268088, 16.795585],\n",
              "     [80.266964, 16.796725],\n",
              "     [80.265662, 16.798093],\n",
              "     [80.263835, 16.800145],\n",
              "     [80.263201, 16.800829],\n",
              "     [80.262819, 16.801215],\n",
              "     [80.262327, 16.801644],\n",
              "     [80.258184, 16.805064],\n",
              "     [80.256364, 16.806546],\n",
              "     [80.256047, 16.806793],\n",
              "     [80.255044, 16.8076],\n",
              "     [80.254364, 16.808254],\n",
              "     [80.252365, 16.810244],\n",
              "     [80.251979, 16.81054],\n",
              "     [80.251191, 16.81103],\n",
              "     [80.250053, 16.811624],\n",
              "     [80.2489, 16.812231],\n",
              "     [80.248361, 16.812541],\n",
              "     [80.247846, 16.812837],\n",
              "     [80.247201, 16.813304],\n",
              "     [80.246764, 16.813694],\n",
              "     [80.244287, 16.816311],\n",
              "     [80.241595, 16.819231],\n",
              "     [80.238949, 16.822018],\n",
              "     [80.238115, 16.822878],\n",
              "     [80.236303, 16.824746],\n",
              "     [80.235129, 16.82607],\n",
              "     [80.23412, 16.827738],\n",
              "     [80.233006, 16.829638],\n",
              "     [80.232117, 16.831107],\n",
              "     [80.232068, 16.831187],\n",
              "     [80.231981, 16.831332],\n",
              "     [80.231551, 16.831925],\n",
              "     [80.231308, 16.83226],\n",
              "     [80.23042, 16.83302],\n",
              "     [80.229359, 16.833971],\n",
              "     [80.228716, 16.834567],\n",
              "     [80.228312, 16.834929],\n",
              "     [80.22776, 16.835515],\n",
              "     [80.227226, 16.836135],\n",
              "     [80.226752, 16.836738],\n",
              "     [80.226035, 16.837652],\n",
              "     [80.224891, 16.839024],\n",
              "     [80.224262, 16.839657],\n",
              "     [80.223907, 16.839939],\n",
              "     [80.223641, 16.840064],\n",
              "     [80.223361, 16.84024],\n",
              "     [80.22273, 16.840625],\n",
              "     [80.221611, 16.8412],\n",
              "     [80.219824, 16.842229],\n",
              "     [80.218669, 16.842994],\n",
              "     [80.216652, 16.844297],\n",
              "     [80.215056, 16.845224],\n",
              "     [80.214366, 16.845696],\n",
              "     [80.213016, 16.846699],\n",
              "     [80.211517, 16.847833],\n",
              "     [80.210539, 16.848607],\n",
              "     [80.20961, 16.849294],\n",
              "     [80.209147, 16.849654],\n",
              "     [80.206881, 16.851403],\n",
              "     [80.204616, 16.853127],\n",
              "     [80.202387, 16.854879],\n",
              "     [80.201856, 16.855262],\n",
              "     [80.201315, 16.855626],\n",
              "     [80.200637, 16.856074],\n",
              "     [80.199501, 16.856862],\n",
              "     [80.198991, 16.857179],\n",
              "     [80.198279, 16.857622],\n",
              "     [80.197902, 16.857821],\n",
              "     [80.197266, 16.858089],\n",
              "     [80.196514, 16.858365],\n",
              "     [80.194941, 16.858933],\n",
              "     [80.194236, 16.859236],\n",
              "     [80.193759, 16.859489],\n",
              "     [80.191301, 16.860914],\n",
              "     [80.190805, 16.861172],\n",
              "     [80.19023, 16.861509],\n",
              "     [80.189597, 16.86195],\n",
              "     [80.188402, 16.862821],\n",
              "     [80.187964, 16.8631],\n",
              "     [80.187556, 16.863333],\n",
              "     [80.18572, 16.864287],\n",
              "     [80.184399, 16.864996],\n",
              "     [80.183463, 16.865578],\n",
              "     [80.182181, 16.866331],\n",
              "     [80.181301, 16.866872],\n",
              "     [80.180554, 16.867461],\n",
              "     [80.179959, 16.867976],\n",
              "     [80.179674, 16.868256],\n",
              "     [80.179429, 16.868566],\n",
              "     [80.179167, 16.869051],\n",
              "     [80.178968, 16.869318],\n",
              "     [80.178115, 16.8702],\n",
              "     [80.177589, 16.870599],\n",
              "     [80.176076, 16.87155],\n",
              "     [80.175261, 16.87202],\n",
              "     [80.172813, 16.873624],\n",
              "     [80.171936, 16.874236],\n",
              "     [80.171589, 16.874501],\n",
              "     [80.171213, 16.874893],\n",
              "     [80.170264, 16.876307],\n",
              "     [80.169063, 16.878164],\n",
              "     [80.168003, 16.879739],\n",
              "     [80.167535, 16.880306],\n",
              "     [80.166736, 16.881089],\n",
              "     [80.165597, 16.881872],\n",
              "     [80.164675, 16.882486],\n",
              "     [80.161734, 16.88439],\n",
              "     [80.161024, 16.884786],\n",
              "     [80.160576, 16.884966],\n",
              "     [80.159828, 16.8852],\n",
              "     [80.159134, 16.885438],\n",
              "     [80.157006, 16.886092],\n",
              "     [80.155567, 16.886638],\n",
              "     [80.155295, 16.886741],\n",
              "     [80.153166, 16.887453],\n",
              "     [80.152625, 16.887606],\n",
              "     [80.148325, 16.889144],\n",
              "     [80.147466, 16.889513],\n",
              "     [80.146227, 16.890047],\n",
              "     [80.144785, 16.890987],\n",
              "     [80.14346, 16.89174],\n",
              "     [80.142368, 16.892262],\n",
              "     [80.140989, 16.892969],\n",
              "     [80.140263, 16.893397],\n",
              "     [80.139998, 16.893662],\n",
              "     [80.139764, 16.893898],\n",
              "     [80.1388, 16.895199],\n",
              "     [80.137481, 16.897044],\n",
              "     [80.137054, 16.897514],\n",
              "     [80.136802, 16.897766],\n",
              "     [80.136462, 16.898105],\n",
              "     [80.135364, 16.898877],\n",
              "     [80.134993, 16.899134],\n",
              "     [80.134311, 16.899474],\n",
              "     [80.132369, 16.900809],\n",
              "     [80.131461, 16.901398],\n",
              "     [80.130997, 16.901652],\n",
              "     [80.129059, 16.902517],\n",
              "     [80.127835, 16.903017],\n",
              "     [80.127095, 16.903412],\n",
              "     [80.126292, 16.903864],\n",
              "     [80.125878, 16.904173],\n",
              "     [80.125083, 16.904766],\n",
              "     [80.121692, 16.907948],\n",
              "     [80.121084, 16.908481],\n",
              "     [80.116371, 16.911409],\n",
              "     [80.115384, 16.911905],\n",
              "     [80.114838, 16.912196],\n",
              "     [80.114542, 16.91233],\n",
              "     [80.113451, 16.912696],\n",
              "     [80.112153, 16.913076],\n",
              "     [80.110795, 16.913426],\n",
              "     [80.110694, 16.913451],\n",
              "     [80.110059, 16.91361],\n",
              "     [80.108368, 16.913982],\n",
              "     [80.106808, 16.914341],\n",
              "     [80.105694, 16.914499],\n",
              "     [80.105358, 16.914556],\n",
              "     [80.102642, 16.91499],\n",
              "     [80.101528, 16.915133],\n",
              "     [80.099006, 16.915438],\n",
              "     [80.098472, 16.915502],\n",
              "     [80.097167, 16.915657],\n",
              "     [80.095795, 16.915847],\n",
              "     [80.09514, 16.916023],\n",
              "     [80.094528, 16.91622],\n",
              "     [80.093671, 16.916821],\n",
              "     [80.092743, 16.917668],\n",
              "     [80.091768, 16.91851],\n",
              "     [80.090174, 16.920036],\n",
              "     [80.088494, 16.921539],\n",
              "     [80.087246, 16.922788],\n",
              "     [80.086291, 16.923519],\n",
              "     [80.084631, 16.925212],\n",
              "     [80.083743, 16.926075],\n",
              "     [80.083669, 16.926148],\n",
              "     [80.082287, 16.927501],\n",
              "     [80.081121, 16.928521],\n",
              "     [80.079958, 16.929436],\n",
              "     [80.078764, 16.930319],\n",
              "     [80.077254, 16.93134],\n",
              "     [80.076347, 16.931846],\n",
              "     [80.075936, 16.931995],\n",
              "     [80.075714, 16.932074],\n",
              "     [80.073703, 16.932463],\n",
              "     [80.073079, 16.932673],\n",
              "     [80.072716, 16.932836],\n",
              "     [80.072514, 16.932942],\n",
              "     [80.072129, 16.933151],\n",
              "     [80.070034, 16.934799],\n",
              "     [80.068459, 16.936084],\n",
              "     [80.067885, 16.936696],\n",
              "     [80.066738, 16.937898],\n",
              "     [80.066211, 16.938399],\n",
              "     [80.065778, 16.938768],\n",
              "     [80.065241, 16.939037],\n",
              "     [80.062939, 16.940023],\n",
              "     [80.061128, 16.941025],\n",
              "     [80.060384, 16.941455],\n",
              "     [80.059586, 16.94204],\n",
              "     [80.05943, 16.942154],\n",
              "     [80.059287, 16.942259],\n",
              "     [80.059184, 16.942359],\n",
              "     [80.05855, 16.943019],\n",
              "     [80.058136, 16.943626],\n",
              "     [80.057693, 16.94434],\n",
              "     [80.056853, 16.945794],\n",
              "     [80.056232, 16.946712],\n",
              "     [80.055927, 16.947197],\n",
              "     [80.055565, 16.947613],\n",
              "     [80.052732, 16.950217],\n",
              "     [80.051896, 16.950824],\n",
              "     [80.051186, 16.951153],\n",
              "     [80.050755, 16.951331],\n",
              "     [80.050381, 16.951486],\n",
              "     [80.049766, 16.951751],\n",
              "     [80.048229, 16.952447],\n",
              "     [80.046921, 16.953062],\n",
              "     [80.046377, 16.953425],\n",
              "     [80.045705, 16.954032],\n",
              "     [80.044442, 16.955234],\n",
              "     [80.043059, 16.956438],\n",
              "     [80.042193, 16.957148],\n",
              "     [80.041697, 16.957623],\n",
              "     [80.040853, 16.959236],\n",
              "     [80.040197, 16.960212],\n",
              "     [80.039872, 16.960528],\n",
              "     [80.039508, 16.960845],\n",
              "     [80.038549, 16.961483],\n",
              "     [80.036686, 16.962816],\n",
              "     [80.035219, 16.963893],\n",
              "     [80.0334, 16.965169],\n",
              "     [80.032043, 16.965975],\n",
              "     [80.031451, 16.96631],\n",
              "     [80.031291, 16.9664],\n",
              "     [80.030922, 16.966608],\n",
              "     [80.029507, 16.967352],\n",
              "     [80.027964, 16.968106],\n",
              "     [80.02663, 16.968707],\n",
              "     [80.024799, 16.969667],\n",
              "     [80.023818, 16.970452],\n",
              "     [80.022329, 16.971702],\n",
              "     [80.021828, 16.972039],\n",
              "     [80.020951, 16.972498],\n",
              "     [80.020124, 16.972894],\n",
              "     [80.01917, 16.973389],\n",
              "     [80.01869, 16.973729],\n",
              "     [80.016348, 16.975372],\n",
              "     [80.015416, 16.976042],\n",
              "     [80.014165, 16.977191],\n",
              "     [80.01283, 16.978261],\n",
              "     [80.012514, 16.978428],\n",
              "     [80.012108, 16.978641],\n",
              "     [80.011546, 16.978905],\n",
              "     [80.010868, 16.979295],\n",
              "     [80.008988, 16.980233],\n",
              "     [80.006821, 16.981341],\n",
              "     [80.005724, 16.98182],\n",
              "     [80.003932, 16.982474],\n",
              "     [80.002764, 16.982991],\n",
              "     [80.001821, 16.983492],\n",
              "     [80.000862, 16.983935],\n",
              "     [80.000079, 16.984256],\n",
              "     [79.999004, 16.984652],\n",
              "     [79.99784, 16.984931],\n",
              "     [79.997285, 16.985044],\n",
              "     [79.995887, 16.985323],\n",
              "     [79.995478, 16.985404],\n",
              "     [79.994774, 16.985471],\n",
              "     [79.994698, 16.985478],\n",
              "     [79.994338, 16.985509],\n",
              "     [79.992667, 16.985469],\n",
              "     [79.98804, 16.985235],\n",
              "     [79.984452, 16.985202],\n",
              "     [79.980117, 16.985079],\n",
              "     [79.978174, 16.985017],\n",
              "     [79.971307, 16.984802],\n",
              "     [79.970288, 16.984761],\n",
              "     [79.966697, 16.98464],\n",
              "     [79.965447, 16.984633],\n",
              "     [79.964543, 16.984681],\n",
              "     [79.964292, 16.984684],\n",
              "     [79.963234, 16.984776],\n",
              "     [79.96204, 16.984938],\n",
              "     [79.960764, 16.985178],\n",
              "     [79.959504, 16.985485],\n",
              "     [79.958263, 16.985859],\n",
              "     [79.957046, 16.986298],\n",
              "     [79.956006, 16.986734],\n",
              "     [79.954988, 16.987218],\n",
              "     [79.954489, 16.987477],\n",
              "     [79.953568, 16.987988],\n",
              "     [79.952643, 16.988572],\n",
              "     [79.951673, 16.989241],\n",
              "     [79.950944, 16.989796],\n",
              "     [79.950454, 16.990192],\n",
              "     [79.949592, 16.990952],\n",
              "     [79.949097, 16.991427],\n",
              "     [79.948491, 16.992051],\n",
              "     [79.948375, 16.992179],\n",
              "     [79.947791, 16.99283],\n",
              "     [79.947508, 16.99318],\n",
              "     [79.944078, 16.997478],\n",
              "     [79.941121, 17.001158],\n",
              "     [79.940989, 17.001323],\n",
              "     [79.934738, 17.009201],\n",
              "     [79.93402, 17.010021],\n",
              "     [79.931268, 17.013235],\n",
              "     [79.930533, 17.014017],\n",
              "     [79.929638, 17.014639],\n",
              "     [79.92893, 17.015059],\n",
              "     [79.928844, 17.015108],\n",
              "     [79.928438, 17.015341],\n",
              "     [79.927477, 17.015695],\n",
              "     [79.927097, 17.0158],\n",
              "     [79.925907, 17.016129],\n",
              "     [79.925616, 17.016153],\n",
              "     [79.924946, 17.016209],\n",
              "     [79.921199, 17.01605],\n",
              "     ...],\n",
              "    'type': 'LineString'}}],\n",
              " 'bbox': [78.474143, 16.507025, 80.632173, 17.380761],\n",
              " 'metadata': {'attribution': 'openrouteservice.org | OpenStreetMap contributors',\n",
              "  'service': 'routing',\n",
              "  'timestamp': 1729586414188,\n",
              "  'query': {'coordinates': [[80.632095, 16.515099],\n",
              "    [78.47416666666666, 17.37527777777778]],\n",
              "   'profile': 'driving-car',\n",
              "   'format': 'json'},\n",
              "  'engine': {'version': '8.2.0',\n",
              "   'build_date': '2024-10-09T09:23:42Z',\n",
              "   'graph_date': '2024-09-23T14:39:49Z'}}}"
            ]
          },
          "metadata": {},
          "execution_count": 4
        }
      ]
    },
    {
      "cell_type": "code",
      "source": [
        "data['features'][0]['properties']['summary']"
      ],
      "metadata": {
        "colab": {
          "base_uri": "https://localhost:8080/"
        },
        "id": "pTzTzT_zY2gR",
        "outputId": "41224534-afb9-43f5-8455-4ae55ebe45ae"
      },
      "execution_count": null,
      "outputs": [
        {
          "output_type": "execute_result",
          "data": {
            "text/plain": [
              "{'distance': 273901.4, 'duration': 12071.1}"
            ]
          },
          "metadata": {},
          "execution_count": 7
        }
      ]
    },
    {
      "cell_type": "code",
      "source": [
        "distance=data['features'][0]['properties']['summary']['distance']\n",
        "print('Distance in km:',distance/1000)"
      ],
      "metadata": {
        "colab": {
          "base_uri": "https://localhost:8080/"
        },
        "id": "HI5vsVUfZLBo",
        "outputId": "96de2cf6-0fa9-4e68-ed72-a688172a3dbe"
      },
      "execution_count": null,
      "outputs": [
        {
          "output_type": "stream",
          "name": "stdout",
          "text": [
            "Distance in km: 273.9014\n"
          ]
        }
      ]
    },
    {
      "cell_type": "code",
      "source": [
        "duration=data['features'][0]['properties']['summary']['duration']\n",
        "print('Duration in minutes:',duration/60)"
      ],
      "metadata": {
        "colab": {
          "base_uri": "https://localhost:8080/"
        },
        "id": "sx_OS-eHZQ4z",
        "outputId": "6fe89654-4090-4be6-dc57-40280128bbf9"
      },
      "execution_count": null,
      "outputs": [
        {
          "output_type": "stream",
          "name": "stdout",
          "text": [
            "Duration in minutes: 201.185\n"
          ]
        }
      ]
    },
    {
      "cell_type": "markdown",
      "source": [
        "##API Rate Limiting\n",
        "Many web APIs enforce rate limiting - allowing a limited number of requests over time. With computers it is easy to write a for loop, or have multiple programs send hundrends or thousands of queries per second. The server may not be configured to handle such volume. So the providers specify the limits on how many and how fast the queries can be sent.\n",
        "\n",
        "OpenRouteService lists several [API Restrictions](https://openrouteservice.org/plans/). The free plan allows for upto 40 direction requests/minute.\n",
        "\n",
        "There are many libraries available to implement various strategies for rate limiting. But we can use the built-in time module to implement a very simple rate limiting method.\n",
        "\n",
        "##The time module\n",
        "Python Standard Library has a time module that allows for time related operation. It contains a method time.sleep() which delays the execution of the program for the specified number of seconds."
      ],
      "metadata": {
        "id": "vaXJOzZ7cvg0"
      }
    },
    {
      "cell_type": "code",
      "source": [
        "import time\n",
        "for i in range(10):\n",
        "  print(i)\n",
        "  time.sleep(1)\n"
      ],
      "metadata": {
        "id": "ULvIwquZc7PR"
      },
      "execution_count": null,
      "outputs": []
    },
    {
      "cell_type": "markdown",
      "source": [
        "##Exercise 2\n",
        "Below cell contains a dictionary with 3 destination cities and their coordinates. Write a for loop to iterate over the destination_cities dictionary and call get_driving_distance() function to print real driving distance between San Fransico and each city. Rate limit your queries by adding time.sleep(2) between successive function calls. Make sure to replace the ORS_API_KEY value with your own key.\n",
        "\n",
        "san_francisco = (37.7749, -122.4194)\n",
        "\n",
        "\n",
        "destination_cities = {\n",
        "    'Los Angeles': (34.0522, -118.2437),\n",
        "    'Boston': (42.3601, -71.0589),\n",
        "    'Atlanta': (33.7490, -84.3880)\n",
        "}"
      ],
      "metadata": {
        "id": "pBZfdSmydEPZ"
      }
    },
    {
      "cell_type": "code",
      "source": [
        "san_francisco = (37.7749, -122.4194)\n",
        "\n",
        "destination_cities = {\n",
        "    'Los Angeles': (34.0522, -118.2437),\n",
        "    'Boston': (42.3601, -71.0589),\n",
        "    'Atlanta': (33.7490, -84.3880)\n",
        "}"
      ],
      "metadata": {
        "id": "ZoO32FDYdXwB"
      },
      "execution_count": null,
      "outputs": []
    },
    {
      "cell_type": "code",
      "source": [
        "for name,coord in destination_cities.items():\n",
        "  print(name)\n",
        "  print(coord)"
      ],
      "metadata": {
        "colab": {
          "base_uri": "https://localhost:8080/"
        },
        "id": "F_vbIQccenQZ",
        "outputId": "a5a4ef4d-9870-41ee-bfe7-f89fa5cd2e0e"
      },
      "execution_count": null,
      "outputs": [
        {
          "output_type": "stream",
          "name": "stdout",
          "text": [
            "Los Angeles\n",
            "(34.0522, -118.2437)\n",
            "Boston\n",
            "(42.3601, -71.0589)\n",
            "Atlanta\n",
            "(33.749, -84.388)\n"
          ]
        }
      ]
    },
    {
      "cell_type": "code",
      "source": [
        "def get_driving_distance(data):\n",
        "  distance_m=data['features'][0]['properites']['summary']['distance']\n",
        "  return distance_m"
      ],
      "metadata": {
        "id": "3Wr76ZLEfpjS"
      },
      "execution_count": null,
      "outputs": []
    },
    {
      "cell_type": "code",
      "source": [
        "import requests\n",
        "import time\n",
        "Source=san_francisco\n",
        "ORS_API_KEY='5b3ce3597851110001cf624881bd046c52854751bb431394a4c8af38'\n",
        "for city,coor in destination_cities.items():\n",
        "  parameters={\n",
        "      'api_key': ORS_API_KEY,\n",
        "      'start':'{},{}'.format(Source[1],Source[0]),\n",
        "      'end':'{},{}'.format(coor[1],coor[0])}\n",
        "  response=requests.get('https://api.openrouteservice.org/v2/directions/driving-car', params=parameters)\n",
        "  if response.status_code==200:\n",
        "    print('Request Successful')\n",
        "    data=response.json()\n",
        "    distance_m=data['features'][0]['properties']['summary']['distance']\n",
        "    distance_km=distance_m/1000\n",
        "    print(f'Distance between {Source} and {city} is {distance_km} km')\n",
        "    time.sleep(2)\n",
        "  else:\n",
        "    print('Request Failed')"
      ],
      "metadata": {
        "colab": {
          "base_uri": "https://localhost:8080/"
        },
        "id": "9bWLWl1-eA0B",
        "outputId": "0feef772-2294-4f94-f033-2901c7af3fe0"
      },
      "execution_count": null,
      "outputs": [
        {
          "output_type": "stream",
          "name": "stdout",
          "text": [
            "Request Successful\n",
            "Distance between (37.7749, -122.4194) and Los Angeles is 615.3057 km\n",
            "Request Successful\n",
            "Distance between (37.7749, -122.4194) and Boston is 4991.245599999999 km\n",
            "Request Successful\n",
            "Distance between (37.7749, -122.4194) and Atlanta is 3976.12 km\n"
          ]
        }
      ]
    },
    {
      "cell_type": "code",
      "source": [
        "import requests\n",
        "import time\n",
        "Source=san_francisco\n",
        "ORS_API_KEY='5b3ce3597851110001cf624881bd046c52854751bb431394a4c8af38'\n",
        "\n",
        "def get_driving_distance(source, destination):\n",
        "    parameters={\n",
        "        'api_key': ORS_API_KEY,\n",
        "        'start':'{},{}'.format(Source[1],Source[0]),\n",
        "        'end':'{},{}'.format(coor[1],coor[0])}\n",
        "    response=requests.get('https://api.openrouteservice.org/v2/directions/driving-car', params=parameters)\n",
        "    if response.status_code==200:\n",
        "      print('Request Successful')\n",
        "      data=response.json()\n",
        "      distance_m=data['features'][0]['properties']['summary']['distance']\n",
        "      distance_km=distance_m/1000\n",
        "      print(f'Distance between {Source} and {city} is {distance_km} km')\n",
        "      time.sleep(2)\n",
        "    else:\n",
        "      print('Request Failed')\n",
        "    return distance_km\n",
        "\n",
        "\n",
        "\n",
        "for city,coor in destination_cities.items():\n",
        "  distance=get_driving_distance(Source, coor)\n",
        "  print(f'Distance between {distance}')\n"
      ],
      "metadata": {
        "colab": {
          "base_uri": "https://localhost:8080/"
        },
        "id": "cMb73-Bx9ksw",
        "outputId": "88810dff-3064-47da-934b-f7544885a5f0"
      },
      "execution_count": null,
      "outputs": [
        {
          "output_type": "stream",
          "name": "stdout",
          "text": [
            "Request Successful\n",
            "Distance between (37.7749, -122.4194) and Los Angeles is 615.3057 km\n",
            "Distance between 615.3057\n",
            "Request Successful\n",
            "Distance between (37.7749, -122.4194) and Boston is 4991.245599999999 km\n",
            "Distance between 4991.245599999999\n",
            "Request Successful\n",
            "Distance between (37.7749, -122.4194) and Atlanta is 3976.12 km\n",
            "Distance between 3976.12\n"
          ]
        }
      ]
    },
    {
      "cell_type": "markdown",
      "source": [
        "#Assignment\n",
        "Your assignment is to geocode the addresses given below using [GeoPy](https://geopy.readthedocs.io/en/stable/). This assignment is designed to help you practice your coding skills learnt in the course so far.\n",
        "\n",
        "##Part 1\n",
        "You have been given a list containing 5 tuples of place names along with their address. You need to use the [Nominatim](https://geopy.readthedocs.io/en/stable/#module-geopy.geocoders) geocoder and obtain the latitude and longitude of each address.\n",
        "## List of Hurricane Evacuation Centers in New York City with Addresses\n",
        "## Each item is a tuple with the name of the center and its address\n",
        "locations = [\n",
        "    ('Norman Thomas HS (ECF)', '111 E 33rd St, NYC, New York'),\n",
        "    ('Midtown East Campus', '233 E 56th St, NYC, New York'),\n",
        "    ('Louis D. Brandeis HS', '145 W 84th St, NYC, New York'),\n",
        "    ('Martin Luther King, Jr. HS', '122 Amsterdam Avenue, NYC, New York'),\n",
        "    ('P.S. 48', '4360 Broadway, NYC, New York')\n",
        "]\n"
      ],
      "metadata": {
        "id": "qibrrByz626r"
      }
    },
    {
      "cell_type": "code",
      "source": [
        "# List of Hurricane Evacuation Centers in New York City with Addresses\n",
        "# Each item is a tuple with the name of the center and its address\n",
        "locations = [\n",
        "    ('Norman Thomas HS (ECF)', '111 E 33rd St, NYC, New York'),\n",
        "    ('Midtown East Campus', '233 E 56th St, NYC, New York'),\n",
        "    ('Louis D. Brandeis HS', '145 W 84th St, NYC, New York'),\n",
        "    ('Martin Luther King, Jr. HS', '122 Amsterdam Avenue, NYC, New York'),\n",
        "    ('P.S. 48', '4360 Broadway, NYC, New York')\n",
        "]"
      ],
      "metadata": {
        "id": "_RfneOnFfLRS"
      },
      "execution_count": null,
      "outputs": []
    },
    {
      "cell_type": "code",
      "source": [
        "from geopy.geocoders import Nominatim\n",
        "geolocator=Nominatim(user_agent=\"geolocator_app\")\n",
        "location=geolocator.geocode(\"111 E 33rd St, NYC, New York\")\n",
        "print(location.address)\n",
        "print(location.latitude,location.longitude)"
      ],
      "metadata": {
        "colab": {
          "base_uri": "https://localhost:8080/"
        },
        "id": "3OiGuMEGGeO4",
        "outputId": "1c6a9b31-b564-4958-84f5-16731af3b0ef"
      },
      "execution_count": null,
      "outputs": [
        {
          "output_type": "stream",
          "name": "stdout",
          "text": [
            "Norman Thomas High School, 111, East 33rd Street, Manhattan Community Board 5, Manhattan, New York County, City of New York, New York, 10016, United States\n",
            "40.7462177 -73.9809816\n"
          ]
        }
      ]
    },
    {
      "cell_type": "code",
      "source": [
        "from geopy.geocoders import Nominatim\n",
        "#from timezonefinder import TimezoneFinder\n",
        "\n",
        "# initialize Nominatim API\n",
        "geolocator = Nominatim(user_agent=\"geoapiExercis\")\n",
        "\n",
        "# input as a geek\n",
        "lad = \"122 Amsterdam Avenue, NYC, New York\"\n",
        "print(\"Location address:\", lad)\n",
        "\n",
        "# getting Latitude and Longitude\n",
        "location = geolocator.geocode(lad)\n",
        "\n",
        "print(\"Latitude and Longitude of the said address:\")\n",
        "print((location.latitude, location.longitude))\n",
        "\n",
        "# pass the Latitude and Longitude\n",
        "# into a timezone_at\n",
        "# and it return timezone\n",
        "# obj = TimezoneFinder()\n",
        "\n",
        "# # returns 'Europe/Berlin'\n",
        "# result = obj.timezone_at(lng=location.longitude, lat=location.latitude)\n",
        "# print(\"Time Zone : \", result)"
      ],
      "metadata": {
        "colab": {
          "base_uri": "https://localhost:8080/"
        },
        "id": "Ai6PQW2xPsvW",
        "outputId": "fcdeddb3-bfe3-4a0d-c5d4-59d989eb7b94"
      },
      "execution_count": 24,
      "outputs": [
        {
          "output_type": "stream",
          "name": "stdout",
          "text": [
            "Location address: 122 Amsterdam Avenue, NYC, New York\n"
          ]
        },
        {
          "output_type": "stream",
          "name": "stderr",
          "text": [
            "WARNING:urllib3.connectionpool:Retrying (Retry(total=1, connect=None, read=None, redirect=None, status=None)) after connection broken by 'ReadTimeoutError(\"HTTPSConnectionPool(host='nominatim.openstreetmap.org', port=443): Read timed out. (read timeout=1)\")': /search?q=122+Amsterdam+Avenue%2C+NYC%2C+New+York&format=json&limit=1\n"
          ]
        },
        {
          "output_type": "stream",
          "name": "stdout",
          "text": [
            "Latitude and Longitude of the said address:\n",
            "(40.7747751, -73.9853689)\n"
          ]
        }
      ]
    },
    {
      "cell_type": "code",
      "source": [
        "locations = [\n",
        "    ('Norman Thomas HS (ECF)', '111 E 33rd St, NYC, New York'),\n",
        "    ('Midtown East Campus', '233 E 56th St, NYC, New York'),\n",
        "    ('Louis D. Brandeis HS', '145 W 84th St, NYC, New York'),\n",
        "    ('Martin Luther King, Jr. HS', '122 Amsterdam Avenue, NYC, New York'),\n",
        "    ('P.S. 48', '4360 Broadway, NYC, New York')\n",
        "]\n",
        "for i in locations:\n",
        " for j in range(len(i)):\n",
        "  print(str(i[j]))"
      ],
      "metadata": {
        "colab": {
          "base_uri": "https://localhost:8080/"
        },
        "id": "YPF7WqkxRD1U",
        "outputId": "78df578e-a728-455c-bf37-82e079e8cba6"
      },
      "execution_count": 25,
      "outputs": [
        {
          "output_type": "stream",
          "name": "stdout",
          "text": [
            "Norman Thomas HS (ECF)\n",
            "111 E 33rd St, NYC, New York\n",
            "Midtown East Campus\n",
            "233 E 56th St, NYC, New York\n",
            "Louis D. Brandeis HS\n",
            "145 W 84th St, NYC, New York\n",
            "Martin Luther King, Jr. HS\n",
            "122 Amsterdam Avenue, NYC, New York\n",
            "P.S. 48\n",
            "4360 Broadway, NYC, New York\n"
          ]
        }
      ]
    },
    {
      "cell_type": "code",
      "source": [
        "#Mine\n",
        "from geopy.geocoders import Nominatim\n",
        "from geopy.extra.rate_limiter import RateLimiter\n",
        "geolocator = Nominatim(user_agent=\"geoapis\")\n",
        "   # Implement rate limiting\n",
        "geocode = RateLimiter(geolocator.geocode, min_delay_seconds=1)\n",
        "       # Geocode the location\n",
        "for i in locations:\n",
        "  print(i[1])\n",
        "  loce = str(i[1])\n",
        "  #print(loce)\n",
        "  location = geocode(loce)\n",
        "  print('Location raw:',location)\n",
        "  print(location.latitude,location.longitude)"
      ],
      "metadata": {
        "colab": {
          "base_uri": "https://localhost:8080/"
        },
        "id": "pOirUixaSVs1",
        "outputId": "0331801f-ebb3-4120-e08c-bdd4d5a605c8"
      },
      "execution_count": 38,
      "outputs": [
        {
          "output_type": "stream",
          "name": "stdout",
          "text": [
            "111 E 33rd St, NYC, New York\n",
            "Location raw: Norman Thomas High School, 111, East 33rd Street, Manhattan Community Board 5, Manhattan, New York County, City of New York, New York, 10016, United States\n",
            "40.7462177 -73.9809816\n",
            "233 E 56th St, NYC, New York\n",
            "Location raw: 233, East 56th Street, Brooklyn Community District 17, Brooklyn, Kings County, City of New York, New York, 11203, United States\n",
            "40.65132465 -73.92421646290632\n",
            "145 W 84th St, NYC, New York\n",
            "Location raw: 145, West 84th Street, Upper West Side, Manhattan, New York County, City of New York, New York, 10024, United States\n",
            "40.7857432 -73.9742029\n",
            "122 Amsterdam Avenue, NYC, New York\n",
            "Location raw: Manhattan Hunter Science High School, 122, Amsterdam Avenue, Upper West Side, Manhattan, New York County, City of New York, New York, 10023, United States\n",
            "40.7747751 -73.9853689\n",
            "4360 Broadway, NYC, New York\n",
            "Location raw: Public School 48, 4360, Broadway, Fort George, Manhattan, New York County, City of New York, New York, 10033, United States\n",
            "40.853075700000005 -73.93371301509411\n"
          ]
        }
      ]
    },
    {
      "cell_type": "code",
      "source": [
        "from geopy.geocoders import Nominatim\n",
        "#from timezonefinder import TimezoneFinder\n",
        "\n",
        "# initialize Nominatim API\n",
        "geolocator = Nominatim(user_agent=\"geoapiExercis\")\n",
        "\n",
        "# input as a geek\n",
        "for i in locations:\n",
        "  print(str(i[1]))\n",
        "  lad = str(i[1])\n",
        "  print(\"Location address:\", lad)\n",
        "\n",
        "  # getting Latitude and Longitude\n",
        "  location = geolocator.geocode(lad)\n",
        "  print('Location:',location)\n",
        "  print(\"Latitude and Longitude of the said address:\")\n",
        "  print((location.latitude, location.longitude))"
      ],
      "metadata": {
        "colab": {
          "base_uri": "https://localhost:8080/"
        },
        "id": "e-O5mfARQ_u2",
        "outputId": "6ddca49b-f30f-4a8f-aa7b-32fd0ba435d4"
      },
      "execution_count": 28,
      "outputs": [
        {
          "output_type": "stream",
          "name": "stdout",
          "text": [
            "111 E 33rd St, NYC, New York\n",
            "Location address: 111 E 33rd St, NYC, New York\n",
            "Location: Norman Thomas High School, 111, East 33rd Street, Manhattan Community Board 5, Manhattan, New York County, City of New York, New York, 10016, United States\n",
            "Latitude and Longitude of the said address:\n",
            "(40.7462177, -73.9809816)\n",
            "233 E 56th St, NYC, New York\n",
            "Location address: 233 E 56th St, NYC, New York\n",
            "Location: 233, East 56th Street, Brooklyn Community District 17, Brooklyn, Kings County, City of New York, New York, 11203, United States\n",
            "Latitude and Longitude of the said address:\n",
            "(40.65132465, -73.92421646290632)\n",
            "145 W 84th St, NYC, New York\n",
            "Location address: 145 W 84th St, NYC, New York\n",
            "Location: 145, West 84th Street, Upper West Side, Manhattan, New York County, City of New York, New York, 10024, United States\n",
            "Latitude and Longitude of the said address:\n",
            "(40.7857432, -73.9742029)\n",
            "122 Amsterdam Avenue, NYC, New York\n",
            "Location address: 122 Amsterdam Avenue, NYC, New York\n"
          ]
        },
        {
          "output_type": "stream",
          "name": "stderr",
          "text": [
            "WARNING:urllib3.connectionpool:Retrying (Retry(total=1, connect=None, read=None, redirect=None, status=None)) after connection broken by 'ReadTimeoutError(\"HTTPSConnectionPool(host='nominatim.openstreetmap.org', port=443): Read timed out. (read timeout=1)\")': /search?q=122+Amsterdam+Avenue%2C+NYC%2C+New+York&format=json&limit=1\n"
          ]
        },
        {
          "output_type": "stream",
          "name": "stdout",
          "text": [
            "Location: Manhattan Hunter Science High School, 122, Amsterdam Avenue, Upper West Side, Manhattan, New York County, City of New York, New York, 10023, United States\n",
            "Latitude and Longitude of the said address:\n",
            "(40.7747751, -73.9853689)\n",
            "4360 Broadway, NYC, New York\n",
            "Location address: 4360 Broadway, NYC, New York\n",
            "Location: Public School 48, 4360, Broadway, Fort George, Manhattan, New York County, City of New York, New York, 10033, United States\n",
            "Latitude and Longitude of the said address:\n",
            "(40.853075700000005, -73.93371301509411)\n"
          ]
        }
      ]
    },
    {
      "cell_type": "markdown",
      "source": [
        "##Part 2\n",
        "Get a list of 5 addresses in your city and geocode them.\n",
        "\n",
        "You can use Nominatim geocoder. Nominatim is based on OpenStreetMap and the it’s geocoding quality varies from country to country. You can visit https://openstreetmap.org/ and search for your address. It uses Nominatim geocoder so you can check if your address is suitable for this service.\n",
        "\n",
        "Many countries of the world do not have structured addresses and use informal or landmark based addresses. There are usually very difficult to geocode accurately. If you are trying to geocode such addresses, your best bet is to truncate the address at the street or locality level.\n",
        "\n",
        "**For example, an address like following will fail to geocode using Nominatim**\n",
        "\n",
        "Spatial Thoughts LLP,\n",
        "\n",
        "FF 105, Aaradhya Complex,\n",
        "\n",
        "Gala Gymkhana Road, Bopal,\n",
        "\n",
        "Ahmedabad, India\n",
        "\n",
        "**Instead, you may try to geocode the following**\n",
        "\n",
        "Gala Gymkhana Road, Bopal, Ahmedabad, India"
      ],
      "metadata": {
        "id": "8B-AnIatU4Tt"
      }
    },
    {
      "cell_type": "code",
      "source": [],
      "metadata": {
        "id": "c2jCm3NyV040"
      },
      "execution_count": null,
      "outputs": []
    },
    {
      "cell_type": "markdown",
      "source": [
        "##Part 3\n",
        "Bonus Assignment (This part is optional)\n",
        "\n",
        "Use an alternative geocoding service such as HERE/Bing/Google or a country-specific service such as DataBC. Note that most commercial geocoding services will require signing-up for an API key and may also require setting up a billing account."
      ],
      "metadata": {
        "id": "T6B7hpX4V1C9"
      }
    }
  ]
}