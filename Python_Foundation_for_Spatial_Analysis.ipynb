{
  "nbformat": 4,
  "nbformat_minor": 0,
  "metadata": {
    "colab": {
      "provenance": [],
      "collapsed_sections": [
        "Lr6xgH4Z12l6",
        "epymk8gU2c66",
        "PGb9IJXJKluM"
      ],
      "authorship_tag": "ABX9TyPayYd7QdFp4GZmlkVs6WMF",
      "include_colab_link": true
    },
    "kernelspec": {
      "name": "python3",
      "display_name": "Python 3"
    },
    "language_info": {
      "name": "python"
    }
  },
  "cells": [
    {
      "cell_type": "markdown",
      "metadata": {
        "id": "view-in-github",
        "colab_type": "text"
      },
      "source": [
        "<a href=\"https://colab.research.google.com/github/suchitra2020180/RS_GIS_Python/blob/main/Python_Foundation_for_Spatial_Analysis.ipynb\" target=\"_parent\"><img src=\"https://colab.research.google.com/assets/colab-badge.svg\" alt=\"Open In Colab\"/></a>"
      ]
    },
    {
      "cell_type": "code",
      "execution_count": null,
      "metadata": {
        "id": "8Ox0DIMYz7Ll"
      },
      "outputs": [],
      "source": [
        "#Spatial Thoughts Tutorials\n"
      ]
    },
    {
      "cell_type": "markdown",
      "source": [
        "#0.Hello World"
      ],
      "metadata": {
        "id": "Lr6xgH4Z12l6"
      }
    },
    {
      "cell_type": "code",
      "source": [
        "print(\"Hello World\")"
      ],
      "metadata": {
        "colab": {
          "base_uri": "https://localhost:8080/"
        },
        "id": "2QpIFpn615fZ",
        "outputId": "e404cd21-dc3a-4800-fc93-9ea8ea969302"
      },
      "execution_count": 1,
      "outputs": [
        {
          "output_type": "stream",
          "name": "stdout",
          "text": [
            "Hello World\n"
          ]
        }
      ]
    },
    {
      "cell_type": "markdown",
      "source": [
        "#1.Variables"
      ],
      "metadata": {
        "id": "epymk8gU2c66"
      }
    },
    {
      "cell_type": "markdown",
      "source": [
        "##Strings\n",
        "A string is a sequence of letters, numbers, and punctuation marks - or commonly known as text\n",
        "\n",
        "In Python you can create a string by typing letters between single or double quotation marks."
      ],
      "metadata": {
        "id": "2FKLOaLt3YmT"
      }
    },
    {
      "cell_type": "code",
      "source": [
        "city=\"San Francisco\"\n",
        "state='California'\n",
        "print(city,state)"
      ],
      "metadata": {
        "colab": {
          "base_uri": "https://localhost:8080/"
        },
        "id": "9LeRXCdq3BTJ",
        "outputId": "90959d6f-5ce0-43e4-c541-dd0d8cc30d55"
      },
      "execution_count": 2,
      "outputs": [
        {
          "output_type": "stream",
          "name": "stdout",
          "text": [
            "San Francisco California\n"
          ]
        }
      ]
    },
    {
      "cell_type": "code",
      "source": [
        "print(city + state)"
      ],
      "metadata": {
        "colab": {
          "base_uri": "https://localhost:8080/"
        },
        "id": "ol9tFXFZ3-h8",
        "outputId": "bb306533-2eb2-46c2-cdcb-30ff686fd803"
      },
      "execution_count": 3,
      "outputs": [
        {
          "output_type": "stream",
          "name": "stdout",
          "text": [
            "San FranciscoCalifornia\n"
          ]
        }
      ]
    },
    {
      "cell_type": "code",
      "source": [
        "print(city+', '+state)"
      ],
      "metadata": {
        "colab": {
          "base_uri": "https://localhost:8080/"
        },
        "id": "Xx6tF5xN4CdK",
        "outputId": "06d9b2c0-ec35-40bd-caea-d0b291e5ec0f"
      },
      "execution_count": 4,
      "outputs": [
        {
          "output_type": "stream",
          "name": "stdout",
          "text": [
            "San Francisco, California\n"
          ]
        }
      ]
    },
    {
      "cell_type": "markdown",
      "source": [
        "##Numbers\n",
        "Python can handle several types of numbers, but the two most common are:\n",
        "\n",
        "int, which represents integer values like 100, and\n",
        "float, which represents numbers that have a fraction part, like 0.5\n",
        "\n",
        "Dynamic typing: Python allows assiging of both numbers and strings to a same variable. This makes python as a dynamic typing language."
      ],
      "metadata": {
        "id": "SNZKI2oD4Isb"
      }
    },
    {
      "cell_type": "code",
      "source": [
        "population = 881549\n",
        "latitude = 37.7739\n",
        "longitude = -121.5687"
      ],
      "metadata": {
        "id": "towGOq9l4X_D"
      },
      "execution_count": 6,
      "outputs": []
    },
    {
      "cell_type": "code",
      "source": [
        "print('Population:',population)\n",
        "print('Population Data Type:',type(population))"
      ],
      "metadata": {
        "colab": {
          "base_uri": "https://localhost:8080/"
        },
        "id": "M1Sr4cql4KPq",
        "outputId": "84052be5-9484-4952-a4ea-e99ef103ca11"
      },
      "execution_count": 8,
      "outputs": [
        {
          "output_type": "stream",
          "name": "stdout",
          "text": [
            "Population: 881549\n",
            "Population Data Type: <class 'int'>\n"
          ]
        }
      ]
    },
    {
      "cell_type": "code",
      "source": [
        "print('latitude:',latitude)\n",
        "print('latitude Data Type:',type(latitude))"
      ],
      "metadata": {
        "colab": {
          "base_uri": "https://localhost:8080/"
        },
        "id": "oZ-U69IZ4oPt",
        "outputId": "5310a212-4109-454b-b0be-49fb8acf6b55"
      },
      "execution_count": 9,
      "outputs": [
        {
          "output_type": "stream",
          "name": "stdout",
          "text": [
            "latitude: 37.7739\n",
            "latitude Data Type: <class 'float'>\n"
          ]
        }
      ]
    },
    {
      "cell_type": "code",
      "source": [
        "elevation_feet = 934\n",
        "#Converting feet to meters\n",
        "elevation_meters=elevation_feet*0.3048\n",
        "print('Elevation in meters:',elevation_meters)"
      ],
      "metadata": {
        "colab": {
          "base_uri": "https://localhost:8080/"
        },
        "id": "JYctkcPQ407r",
        "outputId": "de3e1ce1-54b9-451d-e432-947e071616d8"
      },
      "execution_count": 11,
      "outputs": [
        {
          "output_type": "stream",
          "name": "stdout",
          "text": [
            "Elevation in meters: 284.6832\n"
          ]
        }
      ]
    },
    {
      "cell_type": "code",
      "source": [
        "area_sqmi = 46.89\n",
        "density = population / area_sqmi\n",
        "print('Density:',density)"
      ],
      "metadata": {
        "colab": {
          "base_uri": "https://localhost:8080/"
        },
        "id": "nINDE8NQ5QZl",
        "outputId": "b699c2af-1363-41e5-87ac-1265aa58b2d5"
      },
      "execution_count": 12,
      "outputs": [
        {
          "output_type": "stream",
          "name": "stdout",
          "text": [
            "Density: 18800.362550650458\n"
          ]
        }
      ]
    },
    {
      "cell_type": "code",
      "source": [
        "population='1 million'\n",
        "print('Population:',population)\n",
        "print('Population Datatype:',type(population))"
      ],
      "metadata": {
        "colab": {
          "base_uri": "https://localhost:8080/"
        },
        "id": "kDBWyjyOJ3Z7",
        "outputId": "59e61b9f-79b0-4e93-9fd0-8eaee69bf3fe"
      },
      "execution_count": 15,
      "outputs": [
        {
          "output_type": "stream",
          "name": "stdout",
          "text": [
            "Population: 1 million\n",
            "Population Datatype: <class 'str'>\n"
          ]
        }
      ]
    },
    {
      "cell_type": "markdown",
      "source": [
        "##Exercise\n",
        "We have a variable named distance_km below with the value 4135 - indicating the straight-line distance between San Francisco and New York in Kilometers. Create another variable called distance_mi and store the distance value in miles.\n",
        "\n",
        "Hint1: 1 mile = 1.60934 kilometers\n",
        "Add the code in the cell below and run it. The output should be 2569.37"
      ],
      "metadata": {
        "id": "1TAjEy0w5axc"
      }
    },
    {
      "cell_type": "code",
      "source": [
        "distance_km=4135\n",
        "distance_mi=distance_km/1.60934\n",
        "print('Distance in miles:',distance_mi)"
      ],
      "metadata": {
        "colab": {
          "base_uri": "https://localhost:8080/"
        },
        "id": "nhADjWvw44VD",
        "outputId": "7fcfd744-01c1-4f00-c7b8-59328ba9481b"
      },
      "execution_count": 14,
      "outputs": [
        {
          "output_type": "stream",
          "name": "stdout",
          "text": [
            "Distance in miles: 2569.376266046951\n"
          ]
        }
      ]
    },
    {
      "cell_type": "markdown",
      "source": [
        "#2.Data Structures"
      ],
      "metadata": {
        "id": "PGb9IJXJKluM"
      }
    },
    {
      "cell_type": "markdown",
      "source": [
        "##Tuples\n",
        "A tuple is a sequence of objects. It can have any number of objects inside. In Python tuples are written with round brackets ()."
      ],
      "metadata": {
        "id": "8lwclkGDLHbq"
      }
    },
    {
      "cell_type": "code",
      "source": [
        "latitude = 37.7739\n",
        "longitude = -121.5687\n",
        "coordinates = (latitude, longitude)\n",
        "print(coordinates)"
      ],
      "metadata": {
        "colab": {
          "base_uri": "https://localhost:8080/"
        },
        "id": "4-NkqB7fLJBr",
        "outputId": "6b1d7035-66d1-4387-a7d6-627fc17ed7bf"
      },
      "execution_count": 16,
      "outputs": [
        {
          "output_type": "stream",
          "name": "stdout",
          "text": [
            "(37.7739, -121.5687)\n"
          ]
        }
      ]
    },
    {
      "cell_type": "markdown",
      "source": [
        "You can access each item by its position, i.e. index. In programming, the counting starts from 0. So the first item has an index of 0, the second item an index of 1 and so now. The index has to be put inside square brackets []."
      ],
      "metadata": {
        "id": "GNf5u--rLWai"
      }
    },
    {
      "cell_type": "code",
      "source": [
        "y = coordinates[0]\n",
        "x = coordinates[1]\n",
        "print(x, y)"
      ],
      "metadata": {
        "colab": {
          "base_uri": "https://localhost:8080/"
        },
        "id": "H0w4FcCrLraK",
        "outputId": "0cc6a21d-27bf-47ff-abb1-f233168736ba"
      },
      "execution_count": 17,
      "outputs": [
        {
          "output_type": "stream",
          "name": "stdout",
          "text": [
            "-121.5687 37.7739\n"
          ]
        }
      ]
    },
    {
      "cell_type": "markdown",
      "source": [
        "##Lists\n",
        "A list is similar to a tuple - but with a key difference. With tuples, once created, they cannot be changed, i.e. they are immutable. But lists are mutable. You can add, delete or change elements within a list. In Python, lists are written with square brackets []"
      ],
      "metadata": {
        "id": "w76OBzyILw6i"
      }
    },
    {
      "cell_type": "code",
      "source": [
        "cities = ['San Francisco', 'Los Angeles', 'New York', 'Atlanta']\n",
        "print(cities)"
      ],
      "metadata": {
        "colab": {
          "base_uri": "https://localhost:8080/"
        },
        "id": "jI9Zx6skUtNR",
        "outputId": "cb95a9c0-226d-4682-b98a-0382922f8821"
      },
      "execution_count": 18,
      "outputs": [
        {
          "output_type": "stream",
          "name": "stdout",
          "text": [
            "['San Francisco', 'Los Angeles', 'New York', 'Atlanta']\n"
          ]
        }
      ]
    },
    {
      "cell_type": "markdown",
      "source": [
        "You can access the elements from a list using index the same way as tuples."
      ],
      "metadata": {
        "id": "oiX3zOE1ZkVh"
      }
    },
    {
      "cell_type": "code",
      "source": [
        "print(cities[0])"
      ],
      "metadata": {
        "colab": {
          "base_uri": "https://localhost:8080/"
        },
        "id": "1p3gRzxwZpE4",
        "outputId": "a2b50ce8-4691-4332-877f-f0b7abccc347"
      },
      "execution_count": 19,
      "outputs": [
        {
          "output_type": "stream",
          "name": "stdout",
          "text": [
            "San Francisco\n"
          ]
        }
      ]
    },
    {
      "cell_type": "markdown",
      "source": [
        "You can call len() function with any Python object and it will calculates the size of the object"
      ],
      "metadata": {
        "id": "_Dma5X8pZwBx"
      }
    },
    {
      "cell_type": "code",
      "source": [
        "print(len(cities))"
      ],
      "metadata": {
        "colab": {
          "base_uri": "https://localhost:8080/"
        },
        "id": "UwmG-NSJZwwJ",
        "outputId": "889f1243-9e1a-42c3-ff12-291a2daf1657"
      },
      "execution_count": 22,
      "outputs": [
        {
          "output_type": "stream",
          "name": "stdout",
          "text": [
            "5\n"
          ]
        }
      ]
    },
    {
      "cell_type": "markdown",
      "source": [
        "We can add items to the list using the append() method"
      ],
      "metadata": {
        "id": "y_cvaTNmZzIy"
      }
    },
    {
      "cell_type": "code",
      "source": [
        "cities.append('Boston')\n",
        "print(cities)"
      ],
      "metadata": {
        "colab": {
          "base_uri": "https://localhost:8080/"
        },
        "id": "oyT232BgaAP6",
        "outputId": "2c0a0316-eb6d-46c6-f913-dd5e4d074cf5"
      },
      "execution_count": 20,
      "outputs": [
        {
          "output_type": "stream",
          "name": "stdout",
          "text": [
            "['San Francisco', 'Los Angeles', 'New York', 'Atlanta', 'Boston']\n"
          ]
        }
      ]
    },
    {
      "cell_type": "markdown",
      "source": [
        "As lists are mutable, you will see that the size of the list has now changed"
      ],
      "metadata": {
        "id": "GBgQLqfWaSRq"
      }
    },
    {
      "cell_type": "code",
      "source": [
        "print(len(cities))"
      ],
      "metadata": {
        "colab": {
          "base_uri": "https://localhost:8080/"
        },
        "id": "7OMtdcLtaSw6",
        "outputId": "8c0d5a62-ac79-4ee5-b254-d352ea4ccb5a"
      },
      "execution_count": 21,
      "outputs": [
        {
          "output_type": "stream",
          "name": "stdout",
          "text": [
            "5\n"
          ]
        }
      ]
    },
    {
      "cell_type": "markdown",
      "source": [
        "Another useful method for lists is sort() - which can sort the elements in a list."
      ],
      "metadata": {
        "id": "O3Ee7vKMaaoy"
      }
    },
    {
      "cell_type": "code",
      "source": [
        "cities.sort()\n",
        "print(cities)"
      ],
      "metadata": {
        "colab": {
          "base_uri": "https://localhost:8080/"
        },
        "id": "JO9D37wJadVr",
        "outputId": "32b0ba68-81de-4e5e-ae14-3ebd9d9c6a19"
      },
      "execution_count": 23,
      "outputs": [
        {
          "output_type": "stream",
          "name": "stdout",
          "text": [
            "['Atlanta', 'Boston', 'Los Angeles', 'New York', 'San Francisco']\n"
          ]
        }
      ]
    },
    {
      "cell_type": "markdown",
      "source": [
        "The default sorting is in ascending order. If we wanted to sort the list in a decending order, we can call the function with reverse=True"
      ],
      "metadata": {
        "id": "kTTA9lX_bZqq"
      }
    },
    {
      "cell_type": "code",
      "source": [
        "cities.sort(reverse=True)\n",
        "print(cities)"
      ],
      "metadata": {
        "colab": {
          "base_uri": "https://localhost:8080/"
        },
        "id": "5DIRlWnFbaMz",
        "outputId": "1aeed552-8846-4baf-81b5-ebdb64dbae79"
      },
      "execution_count": 24,
      "outputs": [
        {
          "output_type": "stream",
          "name": "stdout",
          "text": [
            "['San Francisco', 'New York', 'Los Angeles', 'Boston', 'Atlanta']\n"
          ]
        }
      ]
    },
    {
      "cell_type": "markdown",
      "source": [
        "##Sets\n",
        "Sets are like lists, but with some interesting properties. Mainly that they contain only unique values. It also allows for set operations - such as intersection, union and difference. In practice, the sets are typically created from lists."
      ],
      "metadata": {
        "id": "fHxCv66OaVVS"
      }
    },
    {
      "cell_type": "code",
      "source": [
        "capitals = ['Sacramento', 'Boston', 'Austin', 'Atlanta']\n",
        "capitals_set = set(capitals)\n",
        "cities_set = set(cities)\n",
        "\n",
        "print('capitals_set:',capitals_set)\n",
        "print('cities_set:',cities_set)\n",
        "\n",
        "capital_cities = capitals_set.intersection(cities_set)\n",
        "print('capital_cities:',capital_cities)"
      ],
      "metadata": {
        "colab": {
          "base_uri": "https://localhost:8080/"
        },
        "id": "nkgMCSHWbzLC",
        "outputId": "b4c0d7eb-29c3-4752-e1e0-82f08bcfc545"
      },
      "execution_count": 26,
      "outputs": [
        {
          "output_type": "stream",
          "name": "stdout",
          "text": [
            "capitals_set: {'Sacramento', 'Atlanta', 'Boston', 'Austin'}\n",
            "cities_set: {'New York', 'Los Angeles', 'Boston', 'San Francisco', 'Atlanta'}\n",
            "capital_cities: {'Atlanta', 'Boston'}\n"
          ]
        }
      ]
    },
    {
      "cell_type": "markdown",
      "source": [
        "Sets are also useful in finding unique elements in a list. Let’s merge the two lists using the extend() method. The resulting list will have duplicate elements. Creating a set from the list removes the duplicate elements."
      ],
      "metadata": {
        "id": "zX095FgKdW7L"
      }
    },
    {
      "cell_type": "code",
      "source": [
        "cities.extend(capitals)\n",
        "print('Cities:',cities)\n",
        "print('Set of cities:',set(cities))"
      ],
      "metadata": {
        "colab": {
          "base_uri": "https://localhost:8080/"
        },
        "id": "XNG2uzU-dhAc",
        "outputId": "ced649a2-7816-43f3-9795-500d23b27d1a"
      },
      "execution_count": 27,
      "outputs": [
        {
          "output_type": "stream",
          "name": "stdout",
          "text": [
            "Cities: ['San Francisco', 'New York', 'Los Angeles', 'Boston', 'Atlanta', 'Sacramento', 'Boston', 'Austin', 'Atlanta']\n",
            "Set of cities: {'New York', 'Los Angeles', 'Boston', 'San Francisco', 'Sacramento', 'Austin', 'Atlanta'}\n"
          ]
        }
      ]
    },
    {
      "cell_type": "markdown",
      "source": [
        "##Dictionaries\n",
        "In Python dictionaries are written with curly brackets {}. Dictionaries have keys and values. With lists, we can access each element by its index. But a dictionary makes it easy to access the element by name. Keys and values are separated by a colon :."
      ],
      "metadata": {
        "id": "u98cbpB2efnj"
      }
    },
    {
      "cell_type": "code",
      "source": [
        "data = {'city': 'San Francisco', 'population': 881549, 'coordinates': (-122.4194, 37.7749) }\n",
        "print('Data:',data)"
      ],
      "metadata": {
        "colab": {
          "base_uri": "https://localhost:8080/"
        },
        "id": "5A80HuZxejVt",
        "outputId": "f3e44a95-86b5-4913-a42d-033f709aa3a6"
      },
      "execution_count": 28,
      "outputs": [
        {
          "output_type": "stream",
          "name": "stdout",
          "text": [
            "Data: {'city': 'San Francisco', 'population': 881549, 'coordinates': (-122.4194, 37.7749)}\n"
          ]
        }
      ]
    },
    {
      "cell_type": "markdown",
      "source": [
        "You can access an item of a dictionary by referring to its key name, inside square brackets."
      ],
      "metadata": {
        "id": "M-Joa7k4eyt7"
      }
    },
    {
      "cell_type": "code",
      "source": [
        "print(data['city'])"
      ],
      "metadata": {
        "colab": {
          "base_uri": "https://localhost:8080/"
        },
        "id": "JJN_6-mSe3AE",
        "outputId": "02cbb252-2ddc-4e7a-fc81-6079c747ea05"
      },
      "execution_count": 29,
      "outputs": [
        {
          "output_type": "stream",
          "name": "stdout",
          "text": [
            "San Francisco\n"
          ]
        }
      ]
    },
    {
      "cell_type": "markdown",
      "source": [
        "##Exercise\n",
        "From the dictionary below, how do you access the latitude and longitude values? print the latitude and longitude of new york city by extracting it from the dictionary below.\n",
        "\n",
        "nyc_data = {'city': 'New York', 'population': 8175133, 'coordinates': (40.661, -73.944) }\n",
        "\n",
        "The expected output should look like below.\n",
        "40.661\n",
        "-73.944"
      ],
      "metadata": {
        "id": "CjLZhLF8e7j8"
      }
    },
    {
      "cell_type": "code",
      "source": [
        "nyc_data = {'city': 'New York', 'population': 8175133, 'coordinates': (40.661, -73.944) }\n",
        "nyc_data['coordinates']"
      ],
      "metadata": {
        "colab": {
          "base_uri": "https://localhost:8080/"
        },
        "id": "ktk4tbE5fADk",
        "outputId": "96499ac5-8a81-4a77-b38b-e0ff2d98352c"
      },
      "execution_count": 30,
      "outputs": [
        {
          "output_type": "execute_result",
          "data": {
            "text/plain": [
              "(40.661, -73.944)"
            ]
          },
          "metadata": {},
          "execution_count": 30
        }
      ]
    },
    {
      "cell_type": "code",
      "source": [
        "print(nyc_data['coordinates'][0])\n",
        "print(nyc_data['coordinates'][1])"
      ],
      "metadata": {
        "colab": {
          "base_uri": "https://localhost:8080/"
        },
        "id": "Zl5rN-HRfWHE",
        "outputId": "6bfebf5f-fcf4-4afc-ffea-f1fbdc6cb21d"
      },
      "execution_count": 32,
      "outputs": [
        {
          "output_type": "stream",
          "name": "stdout",
          "text": [
            "40.661\n",
            "-73.944\n"
          ]
        }
      ]
    },
    {
      "cell_type": "markdown",
      "source": [
        "#3.String Operations"
      ],
      "metadata": {
        "id": "sP7QPghifobm"
      }
    },
    {
      "cell_type": "code",
      "source": [
        "city = 'San Francisco'\n",
        "print(len(city))"
      ],
      "metadata": {
        "colab": {
          "base_uri": "https://localhost:8080/"
        },
        "id": "wOA11xChflvc",
        "outputId": "9b9511fb-a50c-4118-88f3-cc02f70bfe6b"
      },
      "execution_count": 33,
      "outputs": [
        {
          "output_type": "stream",
          "name": "stdout",
          "text": [
            "13\n"
          ]
        }
      ]
    },
    {
      "cell_type": "code",
      "source": [
        "print(city.split())"
      ],
      "metadata": {
        "colab": {
          "base_uri": "https://localhost:8080/"
        },
        "id": "EfbHw4hef4I9",
        "outputId": "34a93824-e870-4fe2-96b5-894887062841"
      },
      "execution_count": 34,
      "outputs": [
        {
          "output_type": "stream",
          "name": "stdout",
          "text": [
            "['San', 'Francisco']\n"
          ]
        }
      ]
    },
    {
      "cell_type": "code",
      "source": [
        "print(city.upper())"
      ],
      "metadata": {
        "colab": {
          "base_uri": "https://localhost:8080/"
        },
        "id": "3boyv8aaf_wm",
        "outputId": "389f6de3-df15-4592-812c-f0bf17041d7c"
      },
      "execution_count": 35,
      "outputs": [
        {
          "output_type": "stream",
          "name": "stdout",
          "text": [
            "SAN FRANCISCO\n"
          ]
        }
      ]
    },
    {
      "cell_type": "code",
      "source": [
        "city[0]"
      ],
      "metadata": {
        "colab": {
          "base_uri": "https://localhost:8080/",
          "height": 36
        },
        "id": "XNliFazcgCSk",
        "outputId": "09be6cd9-823e-4e1b-b4f5-bd6647132a14"
      },
      "execution_count": 36,
      "outputs": [
        {
          "output_type": "execute_result",
          "data": {
            "text/plain": [
              "'S'"
            ],
            "application/vnd.google.colaboratory.intrinsic+json": {
              "type": "string"
            }
          },
          "metadata": {},
          "execution_count": 36
        }
      ]
    },
    {
      "cell_type": "code",
      "source": [
        "city[-1]"
      ],
      "metadata": {
        "colab": {
          "base_uri": "https://localhost:8080/",
          "height": 36
        },
        "id": "ZvC4ORDWgEP8",
        "outputId": "0813cb06-a2ec-4d86-f3a3-335a4971f868"
      },
      "execution_count": 37,
      "outputs": [
        {
          "output_type": "execute_result",
          "data": {
            "text/plain": [
              "'o'"
            ],
            "application/vnd.google.colaboratory.intrinsic+json": {
              "type": "string"
            }
          },
          "metadata": {},
          "execution_count": 37
        }
      ]
    },
    {
      "cell_type": "code",
      "source": [
        "city[0:3]"
      ],
      "metadata": {
        "colab": {
          "base_uri": "https://localhost:8080/",
          "height": 36
        },
        "id": "JRcXIz2vgHC1",
        "outputId": "18e1a097-ded4-4e0e-eaa6-4f1ddd646ea4"
      },
      "execution_count": 38,
      "outputs": [
        {
          "output_type": "execute_result",
          "data": {
            "text/plain": [
              "'San'"
            ],
            "application/vnd.google.colaboratory.intrinsic+json": {
              "type": "string"
            }
          },
          "metadata": {},
          "execution_count": 38
        }
      ]
    },
    {
      "cell_type": "code",
      "source": [
        "city[4:]"
      ],
      "metadata": {
        "colab": {
          "base_uri": "https://localhost:8080/",
          "height": 36
        },
        "id": "4Oz7ln0tgK53",
        "outputId": "4c36b89f-0fe1-4ef6-9eff-1b88e4a6174d"
      },
      "execution_count": 39,
      "outputs": [
        {
          "output_type": "execute_result",
          "data": {
            "text/plain": [
              "'Francisco'"
            ],
            "application/vnd.google.colaboratory.intrinsic+json": {
              "type": "string"
            }
          },
          "metadata": {},
          "execution_count": 39
        }
      ]
    },
    {
      "cell_type": "markdown",
      "source": [
        "##Escaping characters\n",
        "Certain characters are special since they are by Python language itself. For example, the quote character ’ is used to define a string. What do you do if your string contains a quote character?\n",
        "\n",
        "In Python strings, the backslash \\ is a special character, also called the escape character. Prefixing any character with a backslash makes it an ordinary character. (Hint: Prefixing a backslash with a backshalsh makes it ordinary too!)\n",
        "\n",
        "It is also used for representing certain whitespace characters, \\n is a newline, \\t is a tab etc.\n",
        "\n",
        "Remove the # from the cell below and run it."
      ],
      "metadata": {
        "id": "5oQEWOahgPQ8"
      }
    },
    {
      "cell_type": "code",
      "source": [
        "my_string = 'It's a beautiful day!'\n",
        "my_string"
      ],
      "metadata": {
        "colab": {
          "base_uri": "https://localhost:8080/",
          "height": 106
        },
        "id": "W7s6gpBCgeIM",
        "outputId": "8d6eec73-b7bb-44fe-8964-129a56e986e1"
      },
      "execution_count": 43,
      "outputs": [
        {
          "output_type": "error",
          "ename": "SyntaxError",
          "evalue": "unterminated string literal (detected at line 1) (<ipython-input-43-bcc4f97b09d1>, line 1)",
          "traceback": [
            "\u001b[0;36m  File \u001b[0;32m\"<ipython-input-43-bcc4f97b09d1>\"\u001b[0;36m, line \u001b[0;32m1\u001b[0m\n\u001b[0;31m    my_string = 'It's a beautiful day!'\u001b[0m\n\u001b[0m                                      ^\u001b[0m\n\u001b[0;31mSyntaxError\u001b[0m\u001b[0;31m:\u001b[0m unterminated string literal (detected at line 1)\n"
          ]
        }
      ]
    },
    {
      "cell_type": "markdown",
      "source": [
        "We can fix the error by espacing the single quote within the string."
      ],
      "metadata": {
        "id": "XLQjdO2bhHsN"
      }
    },
    {
      "cell_type": "code",
      "source": [
        "my_string = 'It\\'s a beautiful day!'\n",
        "print(my_string)"
      ],
      "metadata": {
        "colab": {
          "base_uri": "https://localhost:8080/"
        },
        "id": "eqCLCvalhKAt",
        "outputId": "b05a4901-e88d-4108-93c6-25fb1cdae527"
      },
      "execution_count": 44,
      "outputs": [
        {
          "output_type": "stream",
          "name": "stdout",
          "text": [
            "It's a beautiful day!\n"
          ]
        }
      ]
    },
    {
      "cell_type": "markdown",
      "source": [
        "Alternatively, you can also use double-quotes if your string contains a single-quote"
      ],
      "metadata": {
        "id": "eRJV2KvPha7l"
      }
    },
    {
      "cell_type": "code",
      "source": [
        "my_string = \"It's a beautiful day!\"\n",
        "my_string"
      ],
      "metadata": {
        "colab": {
          "base_uri": "https://localhost:8080/",
          "height": 36
        },
        "id": "FB8QGmztguec",
        "outputId": "7c2a6d70-5490-4c85-869a-4a30c71f780f"
      },
      "execution_count": 42,
      "outputs": [
        {
          "output_type": "execute_result",
          "data": {
            "text/plain": [
              "\"It's a beautiful day!\""
            ],
            "application/vnd.google.colaboratory.intrinsic+json": {
              "type": "string"
            }
          },
          "metadata": {},
          "execution_count": 42
        }
      ]
    },
    {
      "cell_type": "markdown",
      "source": [
        "What if our string contains both single and double quotes?\n",
        "\n",
        "We can use triple-quotes! Enclosing the string in triple quotes ensures both single and double quotes are treated correctly."
      ],
      "metadata": {
        "id": "gEtOHeyyh8d9"
      }
    },
    {
      "cell_type": "code",
      "source": [
        "latitude = '''37° 46' 26.2992\" N'''\n",
        "longitude = '''122° 25' 52.6692\" W'''\n",
        "print(latitude, longitude)\n",
        "print('Latitude:',latitude)"
      ],
      "metadata": {
        "colab": {
          "base_uri": "https://localhost:8080/"
        },
        "id": "-fnoaVsQh9CO",
        "outputId": "2c4c5765-beb8-4e87-e4a6-efd53537f6e2"
      },
      "execution_count": 46,
      "outputs": [
        {
          "output_type": "stream",
          "name": "stdout",
          "text": [
            "37° 46' 26.2992\" N 122° 25' 52.6692\" W\n",
            "Latitude: 37° 46' 26.2992\" N\n"
          ]
        }
      ]
    },
    {
      "cell_type": "markdown",
      "source": [
        "Backslashes pose another problem when dealing with Windows paths"
      ],
      "metadata": {
        "id": "PpR0O271iRHb"
      }
    },
    {
      "cell_type": "code",
      "source": [
        "path = 'C:\\Users\\Suchitra'\n",
        "print(path)"
      ],
      "metadata": {
        "colab": {
          "base_uri": "https://localhost:8080/",
          "height": 106
        },
        "id": "bTshkVv3iQM9",
        "outputId": "1c65d6bb-8b71-4c27-d3c3-eb1a80f46e56"
      },
      "execution_count": 47,
      "outputs": [
        {
          "output_type": "error",
          "ename": "SyntaxError",
          "evalue": "(unicode error) 'unicodeescape' codec can't decode bytes in position 2-3: truncated \\UXXXXXXXX escape (<ipython-input-47-7ad945b2aeda>, line 1)",
          "traceback": [
            "\u001b[0;36m  File \u001b[0;32m\"<ipython-input-47-7ad945b2aeda>\"\u001b[0;36m, line \u001b[0;32m1\u001b[0m\n\u001b[0;31m    path = 'C:\\Users\\Suchitra'\u001b[0m\n\u001b[0m                              ^\u001b[0m\n\u001b[0;31mSyntaxError\u001b[0m\u001b[0;31m:\u001b[0m (unicode error) 'unicodeescape' codec can't decode bytes in position 2-3: truncated \\UXXXXXXXX escape\n"
          ]
        }
      ]
    },
    {
      "cell_type": "markdown",
      "source": [
        "Prefixing a string with r makes is a Raw string. Which doesn’t interpret backslash as a special character"
      ],
      "metadata": {
        "id": "D8vbk0zgixxW"
      }
    },
    {
      "cell_type": "code",
      "source": [
        "path = r'C:\\Users\\Suchitra'\n",
        "print(path)"
      ],
      "metadata": {
        "colab": {
          "base_uri": "https://localhost:8080/"
        },
        "id": "Q5OcEdJCi0KX",
        "outputId": "091531a7-c44e-4a6e-909e-3ff45b6587cc"
      },
      "execution_count": 48,
      "outputs": [
        {
          "output_type": "stream",
          "name": "stdout",
          "text": [
            "C:\\Users\\Suchitra\n"
          ]
        }
      ]
    },
    {
      "cell_type": "markdown",
      "source": [
        "##Printing Strings\n",
        "Python provides a few different ways to create strings from variables. Let’s learn about the two preferred methods.\n",
        "\n",
        "##String format() Method\n",
        "We can use the string format() method to create a string with curly-braces and specify the values to fill in each field."
      ],
      "metadata": {
        "id": "QA39XDbLi452"
      }
    },
    {
      "cell_type": "code",
      "source": [
        "city = 'San Francisco'\n",
        "population = 881549\n",
        "print('Population of {} is {}'.format(city ,population))"
      ],
      "metadata": {
        "colab": {
          "base_uri": "https://localhost:8080/"
        },
        "id": "Ocbs48EkjFin",
        "outputId": "e7812143-7b21-4d10-b79c-475984c52048"
      },
      "execution_count": 49,
      "outputs": [
        {
          "output_type": "stream",
          "name": "stdout",
          "text": [
            "Population of San Francisco is 881549\n"
          ]
        }
      ]
    },
    {
      "cell_type": "markdown",
      "source": [
        "We can also use the format method to control the precision of the numbers"
      ],
      "metadata": {
        "id": "TTHORzXRjqQO"
      }
    },
    {
      "cell_type": "code",
      "source": [
        "latitude = 37.7749\n",
        "longitude = -122.4194\n",
        "\n",
        "#Reducing decimals to 2 digits\n",
        "coordinates = '{:.2f},{:.2f}'.format(latitude, longitude)\n",
        "print(coordinates)"
      ],
      "metadata": {
        "colab": {
          "base_uri": "https://localhost:8080/"
        },
        "id": "KnA00wErjrfG",
        "outputId": "ee781a72-1121-4d65-9d0b-756a491650c7"
      },
      "execution_count": 50,
      "outputs": [
        {
          "output_type": "stream",
          "name": "stdout",
          "text": [
            "37.77,-122.42\n"
          ]
        }
      ]
    },
    {
      "cell_type": "markdown",
      "source": [
        "##F-Strings\n",
        "\n",
        "Since Python 3.6, we have an improved way for string formatting called f-strings - which stands for formatted string literals. It works similarly to the format() function but provides a more concise syntax. We create an f-string by adding a prefix f to any string. The variables within curly-braces inside a f-string are replaced with their values."
      ],
      "metadata": {
        "id": "4_ezmA3xj-6H"
      }
    },
    {
      "cell_type": "code",
      "source": [
        "city = 'San Francisco'\n",
        "population = 881549\n",
        "print(f'Population of {city} is {population}.')"
      ],
      "metadata": {
        "colab": {
          "base_uri": "https://localhost:8080/"
        },
        "id": "FPup8jp8kCH3",
        "outputId": "2064362e-961f-4277-ec4a-188d9c304285"
      },
      "execution_count": 51,
      "outputs": [
        {
          "output_type": "stream",
          "name": "stdout",
          "text": [
            "Population of San Francisco is 881549.\n"
          ]
        }
      ]
    },
    {
      "cell_type": "markdown",
      "source": [
        "The same formatting operators we saw earlier works with f-strings."
      ],
      "metadata": {
        "id": "kbHpDbFYkcrG"
      }
    },
    {
      "cell_type": "code",
      "source": [
        "latitude = 37.7749\n",
        "longitude = -122.4194\n",
        "\n",
        "coordinates = f'{latitude:.2f},{longitude:.2f}'\n",
        "print(coordinates)"
      ],
      "metadata": {
        "colab": {
          "base_uri": "https://localhost:8080/"
        },
        "id": "HgR0UxR7j_m-",
        "outputId": "a2258581-ce26-4d94-9c84-9248f4e303b3"
      },
      "execution_count": 52,
      "outputs": [
        {
          "output_type": "stream",
          "name": "stdout",
          "text": [
            "37.77,-122.42\n"
          ]
        }
      ]
    },
    {
      "cell_type": "markdown",
      "source": [
        "We find that while f-strings are modern and concise - beginners find it more intuitive to use the format() method, so we will prefer format() over f-strings in this course. But you are free to use any method of your choice."
      ],
      "metadata": {
        "id": "M3ekFkfLkq1Y"
      }
    },
    {
      "cell_type": "markdown",
      "source": [
        "##Exercise\n",
        "Use the string slicing to extract and print the degrees, minutes and second parts of the string below.\n",
        "latitude = '''37° 46' 26.2992\"'''\n",
        "\n",
        "The output should be as follows\n",
        "\n",
        "37\n",
        "\n",
        "46\n",
        "\n",
        "26.2992"
      ],
      "metadata": {
        "id": "jq4SSNP4k9i_"
      }
    },
    {
      "cell_type": "code",
      "source": [
        "latitude = '''37° 46' 26.2992\"'''\n",
        "print(latitude.split())"
      ],
      "metadata": {
        "colab": {
          "base_uri": "https://localhost:8080/"
        },
        "id": "9Gn9I59llAcy",
        "outputId": "53b9e1c2-2d5a-48e2-f0ee-157a81e794fd"
      },
      "execution_count": 66,
      "outputs": [
        {
          "output_type": "stream",
          "name": "stdout",
          "text": [
            "['37°', \"46'\", '26.2992\"']\n"
          ]
        }
      ]
    },
    {
      "cell_type": "code",
      "source": [
        "print(latitude.split('°'))\n",
        "print(latitude.split('°')[0])\n",
        "#print(latitude.split('°')[1])\n",
        "\n",
        "print(latitude.split('°')[1].split(\"'\")[0])\n",
        "\n",
        "print(latitude.split('°')[1].split(\"'\")[1].split('\"')[0])"
      ],
      "metadata": {
        "colab": {
          "base_uri": "https://localhost:8080/"
        },
        "id": "DmADxA8ilfH3",
        "outputId": "29fa3587-cc23-4c6b-f28c-fa213280db7f"
      },
      "execution_count": 67,
      "outputs": [
        {
          "output_type": "stream",
          "name": "stdout",
          "text": [
            "['37', ' 46\\' 26.2992\"']\n",
            "37\n",
            " 46\n",
            " 26.2992\n"
          ]
        }
      ]
    },
    {
      "cell_type": "markdown",
      "source": [
        "#4. Loops and Conditionals\n",
        "# For Loops"
      ],
      "metadata": {
        "id": "awUmjXIWnJLd"
      }
    },
    {
      "cell_type": "markdown",
      "source": [
        "A for loop is used for iterating over a sequence. The sequence can be a list, a tuple, a dictionary, a set, or a string."
      ],
      "metadata": {
        "id": "dci-F_uInRO4"
      }
    },
    {
      "cell_type": "code",
      "source": [
        "cities = ['San Francisco', 'Los Angeles', 'New York', 'Atlanta']\n",
        "\n",
        "for city in cities:\n",
        "    print(city)"
      ],
      "metadata": {
        "colab": {
          "base_uri": "https://localhost:8080/"
        },
        "id": "Cka0BXrsqk96",
        "outputId": "700c1075-dce7-4efe-9449-89067fc5bf07"
      },
      "execution_count": 68,
      "outputs": [
        {
          "output_type": "stream",
          "name": "stdout",
          "text": [
            "San Francisco\n",
            "Los Angeles\n",
            "New York\n",
            "Atlanta\n"
          ]
        }
      ]
    },
    {
      "cell_type": "markdown",
      "source": [
        "To iterate over a dictionary, you can call the items() method on it which returns a tuple of key and value for each item."
      ],
      "metadata": {
        "id": "k0knJTV5qtCt"
      }
    },
    {
      "cell_type": "code",
      "source": [
        "data = {'city': 'San Francisco', 'population': 881549, 'coordinates': (-122.4194, 37.7749) }\n",
        "\n",
        "for x, y in data.items():\n",
        "    print(x, y)"
      ],
      "metadata": {
        "colab": {
          "base_uri": "https://localhost:8080/"
        },
        "id": "_NoQOCEHqy6D",
        "outputId": "ec52c4fd-e7a7-4420-d9a3-5652eb500c37"
      },
      "execution_count": 69,
      "outputs": [
        {
          "output_type": "stream",
          "name": "stdout",
          "text": [
            "city San Francisco\n",
            "population 881549\n",
            "coordinates (-122.4194, 37.7749)\n"
          ]
        }
      ]
    }
  ]
}