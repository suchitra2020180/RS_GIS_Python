{
  "nbformat": 4,
  "nbformat_minor": 0,
  "metadata": {
    "colab": {
      "provenance": [],
      "authorship_tag": "ABX9TyM142nfw9wH4PyYjkJHnruP",
      "include_colab_link": true
    },
    "kernelspec": {
      "name": "python3",
      "display_name": "Python 3"
    },
    "language_info": {
      "name": "python"
    }
  },
  "cells": [
    {
      "cell_type": "markdown",
      "metadata": {
        "id": "view-in-github",
        "colab_type": "text"
      },
      "source": [
        "<a href=\"https://colab.research.google.com/github/suchitra2020180/RS_GIS_Python/blob/main/Colab_Basics.ipynb\" target=\"_parent\"><img src=\"https://colab.research.google.com/assets/colab-badge.svg\" alt=\"Open In Colab\"/></a>"
      ]
    },
    {
      "cell_type": "markdown",
      "source": [
        "Google Colab is a hosted Jupyter notebook environment that allows anyone to run Python code via a web-browser. It provides you free computation and data storage that can be utilized by your Python code.\n",
        "\n",
        "You can click the +Code button to create a new cell and enter a block of code. To run the code, click the Run Code button next to the cell, or press Shirt+Enter key."
      ],
      "metadata": {
        "id": "oSdgIO47RiKM"
      }
    },
    {
      "cell_type": "markdown",
      "source": [
        "# Package Management: To list and import preinstalled packages"
      ],
      "metadata": {
        "id": "PSYAK85KRN7H"
      }
    },
    {
      "cell_type": "code",
      "source": [
        "!pip list -v"
      ],
      "metadata": {
        "colab": {
          "base_uri": "https://localhost:8080/"
        },
        "id": "jDRxVKHbRH5t",
        "outputId": "e41c31bf-90ed-4f5d-964a-db8a07992434"
      },
      "execution_count": null,
      "outputs": [
        {
          "output_type": "stream",
          "name": "stdout",
          "text": [
            "Package                            Version             Location                                Installer\n",
            "---------------------------------- ------------------- --------------------------------------- ---------\n",
            "absl-py                            1.4.0               /usr/local/lib/python3.10/dist-packages uv\n",
            "accelerate                         0.34.2              /usr/local/lib/python3.10/dist-packages uv\n",
            "aiohappyeyeballs                   2.4.3               /usr/local/lib/python3.10/dist-packages uv\n",
            "aiohttp                            3.10.10             /usr/local/lib/python3.10/dist-packages uv\n",
            "aiosignal                          1.3.1               /usr/local/lib/python3.10/dist-packages uv\n",
            "alabaster                          0.7.16              /usr/local/lib/python3.10/dist-packages uv\n",
            "albucore                           0.0.16              /usr/local/lib/python3.10/dist-packages uv\n",
            "albumentations                     1.4.15              /usr/local/lib/python3.10/dist-packages uv\n",
            "altair                             4.2.2               /usr/local/lib/python3.10/dist-packages uv\n",
            "annotated-types                    0.7.0               /usr/local/lib/python3.10/dist-packages uv\n",
            "anyio                              3.7.1               /usr/local/lib/python3.10/dist-packages uv\n",
            "argon2-cffi                        23.1.0              /usr/local/lib/python3.10/dist-packages uv\n",
            "argon2-cffi-bindings               21.2.0              /usr/local/lib/python3.10/dist-packages uv\n",
            "array_record                       0.5.1               /usr/local/lib/python3.10/dist-packages uv\n",
            "arviz                              0.19.0              /usr/local/lib/python3.10/dist-packages uv\n",
            "astropy                            6.1.4               /usr/local/lib/python3.10/dist-packages uv\n",
            "astropy-iers-data                  0.2024.10.7.0.32.46 /usr/local/lib/python3.10/dist-packages uv\n",
            "astunparse                         1.6.3               /usr/local/lib/python3.10/dist-packages uv\n",
            "async-timeout                      4.0.3               /usr/local/lib/python3.10/dist-packages uv\n",
            "atpublic                           4.1.0               /usr/local/lib/python3.10/dist-packages uv\n",
            "attrs                              24.2.0              /usr/local/lib/python3.10/dist-packages uv\n",
            "audioread                          3.0.1               /usr/local/lib/python3.10/dist-packages uv\n",
            "autograd                           1.7.0               /usr/local/lib/python3.10/dist-packages uv\n",
            "babel                              2.16.0              /usr/local/lib/python3.10/dist-packages uv\n",
            "backcall                           0.2.0               /usr/local/lib/python3.10/dist-packages uv\n",
            "beautifulsoup4                     4.12.3              /usr/local/lib/python3.10/dist-packages uv\n",
            "bigframes                          1.22.0              /usr/local/lib/python3.10/dist-packages uv\n",
            "bigquery-magics                    0.4.0               /usr/local/lib/python3.10/dist-packages uv\n",
            "bleach                             6.1.0               /usr/local/lib/python3.10/dist-packages uv\n",
            "blinker                            1.4                 /usr/lib/python3/dist-packages\n",
            "blis                               0.7.11              /usr/local/lib/python3.10/dist-packages uv\n",
            "blosc2                             2.0.0               /usr/local/lib/python3.10/dist-packages uv\n",
            "bokeh                              3.4.3               /usr/local/lib/python3.10/dist-packages uv\n",
            "Bottleneck                         1.4.0               /usr/local/lib/python3.10/dist-packages uv\n",
            "bqplot                             0.12.43             /usr/local/lib/python3.10/dist-packages uv\n",
            "branca                             0.8.0               /usr/local/lib/python3.10/dist-packages uv\n",
            "build                              1.2.2.post1         /usr/local/lib/python3.10/dist-packages uv\n",
            "CacheControl                       0.14.0              /usr/local/lib/python3.10/dist-packages uv\n",
            "cachetools                         5.5.0               /usr/local/lib/python3.10/dist-packages uv\n",
            "catalogue                          2.0.10              /usr/local/lib/python3.10/dist-packages uv\n",
            "certifi                            2024.8.30           /usr/local/lib/python3.10/dist-packages uv\n",
            "cffi                               1.17.1              /usr/local/lib/python3.10/dist-packages uv\n",
            "chardet                            5.2.0               /usr/local/lib/python3.10/dist-packages uv\n",
            "charset-normalizer                 3.4.0               /usr/local/lib/python3.10/dist-packages uv\n",
            "chex                               0.1.87              /usr/local/lib/python3.10/dist-packages uv\n",
            "clarabel                           0.9.0               /usr/local/lib/python3.10/dist-packages uv\n",
            "click                              8.1.7               /usr/local/lib/python3.10/dist-packages uv\n",
            "cloudpathlib                       0.19.0              /usr/local/lib/python3.10/dist-packages uv\n",
            "cloudpickle                        2.2.1               /usr/local/lib/python3.10/dist-packages uv\n",
            "cmake                              3.30.4              /usr/local/lib/python3.10/dist-packages uv\n",
            "cmdstanpy                          1.2.4               /usr/local/lib/python3.10/dist-packages uv\n",
            "colorcet                           3.1.0               /usr/local/lib/python3.10/dist-packages uv\n",
            "colorlover                         0.3.0               /usr/local/lib/python3.10/dist-packages uv\n",
            "colour                             0.1.5               /usr/local/lib/python3.10/dist-packages uv\n",
            "community                          1.0.0b1             /usr/local/lib/python3.10/dist-packages uv\n",
            "confection                         0.1.5               /usr/local/lib/python3.10/dist-packages uv\n",
            "cons                               0.4.6               /usr/local/lib/python3.10/dist-packages uv\n",
            "contextlib2                        21.6.0              /usr/local/lib/python3.10/dist-packages uv\n",
            "contourpy                          1.3.0               /usr/local/lib/python3.10/dist-packages uv\n",
            "cryptography                       43.0.1              /usr/local/lib/python3.10/dist-packages uv\n",
            "cuda-python                        12.2.1              /usr/local/lib/python3.10/dist-packages uv\n",
            "cudf-cu12                          24.6.1              /usr/local/lib/python3.10/dist-packages uv\n",
            "cufflinks                          0.17.3              /usr/local/lib/python3.10/dist-packages uv\n",
            "cupy-cuda12x                       12.2.0              /usr/local/lib/python3.10/dist-packages uv\n",
            "cvxopt                             1.3.2               /usr/local/lib/python3.10/dist-packages uv\n",
            "cvxpy                              1.5.3               /usr/local/lib/python3.10/dist-packages uv\n",
            "cycler                             0.12.1              /usr/local/lib/python3.10/dist-packages uv\n",
            "cymem                              2.0.8               /usr/local/lib/python3.10/dist-packages uv\n",
            "Cython                             3.0.11              /usr/local/lib/python3.10/dist-packages uv\n",
            "dask                               2024.8.0            /usr/local/lib/python3.10/dist-packages uv\n",
            "datascience                        0.17.6              /usr/local/lib/python3.10/dist-packages uv\n",
            "db-dtypes                          1.3.0               /usr/local/lib/python3.10/dist-packages uv\n",
            "dbus-python                        1.2.18              /usr/lib/python3/dist-packages\n",
            "debugpy                            1.6.6               /usr/local/lib/python3.10/dist-packages uv\n",
            "decorator                          4.4.2               /usr/local/lib/python3.10/dist-packages uv\n",
            "defusedxml                         0.7.1               /usr/local/lib/python3.10/dist-packages uv\n",
            "Deprecated                         1.2.14              /usr/local/lib/python3.10/dist-packages uv\n",
            "distributed                        2024.8.0            /usr/local/lib/python3.10/dist-packages uv\n",
            "distro                             1.7.0               /usr/lib/python3/dist-packages\n",
            "dlib                               19.24.2             /usr/local/lib/python3.10/dist-packages uv\n",
            "dm-tree                            0.1.8               /usr/local/lib/python3.10/dist-packages uv\n",
            "docstring_parser                   0.16                /usr/local/lib/python3.10/dist-packages uv\n",
            "docutils                           0.18.1              /usr/local/lib/python3.10/dist-packages uv\n",
            "dopamine_rl                        4.0.9               /usr/local/lib/python3.10/dist-packages uv\n",
            "duckdb                             1.1.1               /usr/local/lib/python3.10/dist-packages uv\n",
            "earthengine-api                    1.0.0               /usr/local/lib/python3.10/dist-packages uv\n",
            "easydict                           1.13                /usr/local/lib/python3.10/dist-packages uv\n",
            "ecos                               2.0.14              /usr/local/lib/python3.10/dist-packages uv\n",
            "editdistance                       0.8.1               /usr/local/lib/python3.10/dist-packages uv\n",
            "eerepr                             0.0.4               /usr/local/lib/python3.10/dist-packages uv\n",
            "einops                             0.8.0               /usr/local/lib/python3.10/dist-packages uv\n",
            "en-core-web-sm                     3.7.1               /usr/local/lib/python3.10/dist-packages pip\n",
            "entrypoints                        0.4                 /usr/local/lib/python3.10/dist-packages uv\n",
            "et-xmlfile                         1.1.0               /usr/local/lib/python3.10/dist-packages uv\n",
            "etils                              1.9.4               /usr/local/lib/python3.10/dist-packages uv\n",
            "etuples                            0.3.9               /usr/local/lib/python3.10/dist-packages uv\n",
            "eval_type_backport                 0.2.0               /usr/local/lib/python3.10/dist-packages uv\n",
            "exceptiongroup                     1.2.2               /usr/local/lib/python3.10/dist-packages uv\n",
            "fastai                             2.7.17              /usr/local/lib/python3.10/dist-packages uv\n",
            "fastcore                           1.7.13              /usr/local/lib/python3.10/dist-packages uv\n",
            "fastdownload                       0.0.7               /usr/local/lib/python3.10/dist-packages uv\n",
            "fastjsonschema                     2.20.0              /usr/local/lib/python3.10/dist-packages uv\n",
            "fastprogress                       1.0.3               /usr/local/lib/python3.10/dist-packages uv\n",
            "fastrlock                          0.8.2               /usr/local/lib/python3.10/dist-packages uv\n",
            "filelock                           3.16.1              /usr/local/lib/python3.10/dist-packages uv\n",
            "firebase-admin                     6.5.0               /usr/local/lib/python3.10/dist-packages uv\n",
            "Flask                              2.2.5               /usr/local/lib/python3.10/dist-packages uv\n",
            "flatbuffers                        24.3.25             /usr/local/lib/python3.10/dist-packages uv\n",
            "flax                               0.8.5               /usr/local/lib/python3.10/dist-packages uv\n",
            "folium                             0.17.0              /usr/local/lib/python3.10/dist-packages uv\n",
            "fonttools                          4.54.1              /usr/local/lib/python3.10/dist-packages uv\n",
            "frozendict                         2.4.5               /usr/local/lib/python3.10/dist-packages uv\n",
            "frozenlist                         1.4.1               /usr/local/lib/python3.10/dist-packages uv\n",
            "fsspec                             2024.6.1            /usr/local/lib/python3.10/dist-packages uv\n",
            "future                             1.0.0               /usr/local/lib/python3.10/dist-packages uv\n",
            "gast                               0.6.0               /usr/local/lib/python3.10/dist-packages uv\n",
            "gcsfs                              2024.6.1            /usr/local/lib/python3.10/dist-packages uv\n",
            "GDAL                               3.6.4               /usr/local/lib/python3.10/dist-packages uv\n",
            "gdown                              5.2.0               /usr/local/lib/python3.10/dist-packages uv\n",
            "geemap                             0.34.5              /usr/local/lib/python3.10/dist-packages uv\n",
            "gensim                             4.3.3               /usr/local/lib/python3.10/dist-packages uv\n",
            "geocoder                           1.38.1              /usr/local/lib/python3.10/dist-packages uv\n",
            "geographiclib                      2.0                 /usr/local/lib/python3.10/dist-packages uv\n",
            "geopandas                          1.0.1               /usr/local/lib/python3.10/dist-packages uv\n",
            "geopy                              2.4.1               /usr/local/lib/python3.10/dist-packages uv\n",
            "gin-config                         0.5.0               /usr/local/lib/python3.10/dist-packages uv\n",
            "glob2                              0.7                 /usr/local/lib/python3.10/dist-packages uv\n",
            "google                             2.0.3               /usr/local/lib/python3.10/dist-packages uv\n",
            "google-ai-generativelanguage       0.6.6               /usr/local/lib/python3.10/dist-packages uv\n",
            "google-api-core                    2.19.2              /usr/local/lib/python3.10/dist-packages uv\n",
            "google-api-python-client           2.137.0             /usr/local/lib/python3.10/dist-packages uv\n",
            "google-auth                        2.27.0              /usr/local/lib/python3.10/dist-packages uv\n",
            "google-auth-httplib2               0.2.0               /usr/local/lib/python3.10/dist-packages uv\n",
            "google-auth-oauthlib               1.2.1               /usr/local/lib/python3.10/dist-packages uv\n",
            "google-cloud-aiplatform            1.70.0              /usr/local/lib/python3.10/dist-packages uv\n",
            "google-cloud-bigquery              3.25.0              /usr/local/lib/python3.10/dist-packages uv\n",
            "google-cloud-bigquery-connection   1.15.5              /usr/local/lib/python3.10/dist-packages uv\n",
            "google-cloud-bigquery-storage      2.26.0              /usr/local/lib/python3.10/dist-packages uv\n",
            "google-cloud-bigtable              2.26.0              /usr/local/lib/python3.10/dist-packages uv\n",
            "google-cloud-core                  2.4.1               /usr/local/lib/python3.10/dist-packages uv\n",
            "google-cloud-datastore             2.19.0              /usr/local/lib/python3.10/dist-packages uv\n",
            "google-cloud-firestore             2.16.1              /usr/local/lib/python3.10/dist-packages uv\n",
            "google-cloud-functions             1.16.5              /usr/local/lib/python3.10/dist-packages uv\n",
            "google-cloud-iam                   2.15.2              /usr/local/lib/python3.10/dist-packages uv\n",
            "google-cloud-language              2.13.4              /usr/local/lib/python3.10/dist-packages uv\n",
            "google-cloud-pubsub                2.25.0              /usr/local/lib/python3.10/dist-packages uv\n",
            "google-cloud-resource-manager      1.12.5              /usr/local/lib/python3.10/dist-packages uv\n",
            "google-cloud-storage               2.8.0               /usr/local/lib/python3.10/dist-packages uv\n",
            "google-cloud-translate             3.15.5              /usr/local/lib/python3.10/dist-packages uv\n",
            "google-colab                       1.0.0               /usr/local/lib/python3.10/dist-packages uv\n",
            "google-crc32c                      1.6.0               /usr/local/lib/python3.10/dist-packages uv\n",
            "google-generativeai                0.7.2               /usr/local/lib/python3.10/dist-packages uv\n",
            "google-pasta                       0.2.0               /usr/local/lib/python3.10/dist-packages uv\n",
            "google-resumable-media             2.7.2               /usr/local/lib/python3.10/dist-packages uv\n",
            "googleapis-common-protos           1.65.0              /usr/local/lib/python3.10/dist-packages uv\n",
            "googledrivedownloader              0.4                 /usr/local/lib/python3.10/dist-packages uv\n",
            "graphviz                           0.20.3              /usr/local/lib/python3.10/dist-packages uv\n",
            "greenlet                           3.1.1               /usr/local/lib/python3.10/dist-packages uv\n",
            "grpc-google-iam-v1                 0.13.1              /usr/local/lib/python3.10/dist-packages uv\n",
            "grpcio                             1.64.1              /usr/local/lib/python3.10/dist-packages uv\n",
            "grpcio-status                      1.48.2              /usr/local/lib/python3.10/dist-packages uv\n",
            "gspread                            6.0.2               /usr/local/lib/python3.10/dist-packages uv\n",
            "gspread-dataframe                  3.3.1               /usr/local/lib/python3.10/dist-packages uv\n",
            "gym                                0.25.2              /usr/local/lib/python3.10/dist-packages uv\n",
            "gym-notices                        0.0.8               /usr/local/lib/python3.10/dist-packages uv\n",
            "h5netcdf                           1.4.0               /usr/local/lib/python3.10/dist-packages uv\n",
            "h5py                               3.11.0              /usr/local/lib/python3.10/dist-packages uv\n",
            "holidays                           0.58                /usr/local/lib/python3.10/dist-packages uv\n",
            "holoviews                          1.19.1              /usr/local/lib/python3.10/dist-packages uv\n",
            "html5lib                           1.1                 /usr/local/lib/python3.10/dist-packages uv\n",
            "httpimport                         1.4.0               /usr/local/lib/python3.10/dist-packages uv\n",
            "httplib2                           0.22.0              /usr/local/lib/python3.10/dist-packages uv\n",
            "huggingface-hub                    0.24.7              /usr/local/lib/python3.10/dist-packages uv\n",
            "humanize                           4.10.0              /usr/local/lib/python3.10/dist-packages uv\n",
            "hyperopt                           0.2.7               /usr/local/lib/python3.10/dist-packages uv\n",
            "ibis-framework                     9.2.0               /usr/local/lib/python3.10/dist-packages uv\n",
            "idna                               3.10                /usr/local/lib/python3.10/dist-packages uv\n",
            "imageio                            2.35.1              /usr/local/lib/python3.10/dist-packages uv\n",
            "imageio-ffmpeg                     0.5.1               /usr/local/lib/python3.10/dist-packages uv\n",
            "imagesize                          1.4.1               /usr/local/lib/python3.10/dist-packages uv\n",
            "imbalanced-learn                   0.12.4              /usr/local/lib/python3.10/dist-packages uv\n",
            "imgaug                             0.4.0               /usr/local/lib/python3.10/dist-packages uv\n",
            "immutabledict                      4.2.0               /usr/local/lib/python3.10/dist-packages uv\n",
            "importlib_metadata                 8.5.0               /usr/local/lib/python3.10/dist-packages uv\n",
            "importlib_resources                6.4.5               /usr/local/lib/python3.10/dist-packages uv\n",
            "imutils                            0.5.4               /usr/local/lib/python3.10/dist-packages uv\n",
            "inflect                            7.4.0               /usr/local/lib/python3.10/dist-packages uv\n",
            "iniconfig                          2.0.0               /usr/local/lib/python3.10/dist-packages uv\n",
            "intel-cmplr-lib-ur                 2024.2.1            /usr/local/lib/python3.10/dist-packages uv\n",
            "intel-openmp                       2024.2.1            /usr/local/lib/python3.10/dist-packages uv\n",
            "ipyevents                          2.0.2               /usr/local/lib/python3.10/dist-packages uv\n",
            "ipyfilechooser                     0.6.0               /usr/local/lib/python3.10/dist-packages uv\n",
            "ipykernel                          5.5.6               /usr/local/lib/python3.10/dist-packages uv\n",
            "ipyleaflet                         0.19.2              /usr/local/lib/python3.10/dist-packages uv\n",
            "ipyparallel                        8.8.0               /usr/local/lib/python3.10/dist-packages uv\n",
            "ipython                            7.34.0              /usr/local/lib/python3.10/dist-packages uv\n",
            "ipython-genutils                   0.2.0               /usr/local/lib/python3.10/dist-packages uv\n",
            "ipython-sql                        0.5.0               /usr/local/lib/python3.10/dist-packages uv\n",
            "ipytree                            0.2.2               /usr/local/lib/python3.10/dist-packages uv\n",
            "ipywidgets                         7.7.1               /usr/local/lib/python3.10/dist-packages uv\n",
            "itsdangerous                       2.2.0               /usr/local/lib/python3.10/dist-packages uv\n",
            "jax                                0.4.33              /usr/local/lib/python3.10/dist-packages uv\n",
            "jax-cuda12-pjrt                    0.4.33              /usr/local/lib/python3.10/dist-packages uv\n",
            "jax-cuda12-plugin                  0.4.33              /usr/local/lib/python3.10/dist-packages uv\n",
            "jaxlib                             0.4.33              /usr/local/lib/python3.10/dist-packages uv\n",
            "jeepney                            0.7.1               /usr/lib/python3/dist-packages          flit\n",
            "jellyfish                          1.1.0               /usr/local/lib/python3.10/dist-packages uv\n",
            "jieba                              0.42.1              /usr/local/lib/python3.10/dist-packages uv\n",
            "Jinja2                             3.1.4               /usr/local/lib/python3.10/dist-packages uv\n",
            "joblib                             1.4.2               /usr/local/lib/python3.10/dist-packages uv\n",
            "jsonpickle                         3.3.0               /usr/local/lib/python3.10/dist-packages uv\n",
            "jsonschema                         4.23.0              /usr/local/lib/python3.10/dist-packages uv\n",
            "jsonschema-specifications          2024.10.1           /usr/local/lib/python3.10/dist-packages uv\n",
            "jupyter-client                     6.1.12              /usr/local/lib/python3.10/dist-packages uv\n",
            "jupyter-console                    6.1.0               /usr/local/lib/python3.10/dist-packages uv\n",
            "jupyter_core                       5.7.2               /usr/local/lib/python3.10/dist-packages uv\n",
            "jupyter-leaflet                    0.19.2              /usr/local/lib/python3.10/dist-packages uv\n",
            "jupyter-server                     1.24.0              /usr/local/lib/python3.10/dist-packages uv\n",
            "jupyterlab_pygments                0.3.0               /usr/local/lib/python3.10/dist-packages uv\n",
            "jupyterlab_widgets                 3.0.13              /usr/local/lib/python3.10/dist-packages uv\n",
            "kaggle                             1.6.17              /usr/local/lib/python3.10/dist-packages uv\n",
            "kagglehub                          0.3.1               /usr/local/lib/python3.10/dist-packages uv\n",
            "keras                              3.4.1               /usr/local/lib/python3.10/dist-packages uv\n",
            "keyring                            23.5.0              /usr/lib/python3/dist-packages\n",
            "kiwisolver                         1.4.7               /usr/local/lib/python3.10/dist-packages uv\n",
            "langcodes                          3.4.1               /usr/local/lib/python3.10/dist-packages uv\n",
            "language_data                      1.2.0               /usr/local/lib/python3.10/dist-packages uv\n",
            "launchpadlib                       1.10.16             /usr/lib/python3/dist-packages\n",
            "lazr.restfulclient                 0.14.4              /usr/lib/python3/dist-packages\n",
            "lazr.uri                           1.0.6               /usr/lib/python3/dist-packages\n",
            "lazy_loader                        0.4                 /usr/local/lib/python3.10/dist-packages uv\n",
            "libclang                           18.1.1              /usr/local/lib/python3.10/dist-packages uv\n",
            "librosa                            0.10.2.post1        /usr/local/lib/python3.10/dist-packages uv\n",
            "lightgbm                           4.5.0               /usr/local/lib/python3.10/dist-packages uv\n",
            "linkify-it-py                      2.0.3               /usr/local/lib/python3.10/dist-packages uv\n",
            "llvmlite                           0.43.0              /usr/local/lib/python3.10/dist-packages uv\n",
            "locket                             1.0.0               /usr/local/lib/python3.10/dist-packages uv\n",
            "logical-unification                0.4.6               /usr/local/lib/python3.10/dist-packages uv\n",
            "lxml                               4.9.4               /usr/local/lib/python3.10/dist-packages uv\n",
            "marisa-trie                        1.2.0               /usr/local/lib/python3.10/dist-packages uv\n",
            "Markdown                           3.7                 /usr/local/lib/python3.10/dist-packages uv\n",
            "markdown-it-py                     3.0.0               /usr/local/lib/python3.10/dist-packages uv\n",
            "MarkupSafe                         3.0.1               /usr/local/lib/python3.10/dist-packages uv\n",
            "matplotlib                         3.7.1               /usr/local/lib/python3.10/dist-packages uv\n",
            "matplotlib-inline                  0.1.7               /usr/local/lib/python3.10/dist-packages uv\n",
            "matplotlib-venn                    1.1.1               /usr/local/lib/python3.10/dist-packages uv\n",
            "mdit-py-plugins                    0.4.2               /usr/local/lib/python3.10/dist-packages uv\n",
            "mdurl                              0.1.2               /usr/local/lib/python3.10/dist-packages uv\n",
            "miniKanren                         1.0.3               /usr/local/lib/python3.10/dist-packages uv\n",
            "missingno                          0.5.2               /usr/local/lib/python3.10/dist-packages uv\n",
            "mistune                            0.8.4               /usr/local/lib/python3.10/dist-packages uv\n",
            "mizani                             0.11.4              /usr/local/lib/python3.10/dist-packages uv\n",
            "mkl                                2024.2.2            /usr/local/lib/python3.10/dist-packages uv\n",
            "ml-dtypes                          0.4.1               /usr/local/lib/python3.10/dist-packages uv\n",
            "mlxtend                            0.23.1              /usr/local/lib/python3.10/dist-packages uv\n",
            "more-itertools                     10.5.0              /usr/local/lib/python3.10/dist-packages uv\n",
            "moviepy                            1.0.3               /usr/local/lib/python3.10/dist-packages uv\n",
            "mpmath                             1.3.0               /usr/local/lib/python3.10/dist-packages uv\n",
            "msgpack                            1.0.8               /usr/local/lib/python3.10/dist-packages uv\n",
            "multidict                          6.1.0               /usr/local/lib/python3.10/dist-packages uv\n",
            "multipledispatch                   1.0.0               /usr/local/lib/python3.10/dist-packages uv\n",
            "multitasking                       0.0.11              /usr/local/lib/python3.10/dist-packages uv\n",
            "murmurhash                         1.0.10              /usr/local/lib/python3.10/dist-packages uv\n",
            "music21                            9.1.0               /usr/local/lib/python3.10/dist-packages uv\n",
            "namex                              0.0.8               /usr/local/lib/python3.10/dist-packages uv\n",
            "natsort                            8.4.0               /usr/local/lib/python3.10/dist-packages uv\n",
            "nbclassic                          1.1.0               /usr/local/lib/python3.10/dist-packages uv\n",
            "nbclient                           0.10.0              /usr/local/lib/python3.10/dist-packages uv\n",
            "nbconvert                          6.5.4               /usr/local/lib/python3.10/dist-packages uv\n",
            "nbformat                           5.10.4              /usr/local/lib/python3.10/dist-packages uv\n",
            "nest-asyncio                       1.6.0               /usr/local/lib/python3.10/dist-packages uv\n",
            "networkx                           3.4                 /usr/local/lib/python3.10/dist-packages uv\n",
            "nibabel                            5.2.1               /usr/local/lib/python3.10/dist-packages uv\n",
            "nltk                               3.8.1               /usr/local/lib/python3.10/dist-packages uv\n",
            "notebook                           6.5.5               /usr/local/lib/python3.10/dist-packages uv\n",
            "notebook_shim                      0.2.4               /usr/local/lib/python3.10/dist-packages uv\n",
            "numba                              0.60.0              /usr/local/lib/python3.10/dist-packages uv\n",
            "numexpr                            2.10.1              /usr/local/lib/python3.10/dist-packages uv\n",
            "numpy                              1.26.4              /usr/local/lib/python3.10/dist-packages uv\n",
            "nvidia-cublas-cu12                 12.6.3.3            /usr/local/lib/python3.10/dist-packages uv\n",
            "nvidia-cuda-cupti-cu12             12.6.80             /usr/local/lib/python3.10/dist-packages uv\n",
            "nvidia-cuda-nvcc-cu12              12.6.77             /usr/local/lib/python3.10/dist-packages uv\n",
            "nvidia-cuda-runtime-cu12           12.6.77             /usr/local/lib/python3.10/dist-packages uv\n",
            "nvidia-cudnn-cu12                  9.5.0.50            /usr/local/lib/python3.10/dist-packages uv\n",
            "nvidia-cufft-cu12                  11.3.0.4            /usr/local/lib/python3.10/dist-packages uv\n",
            "nvidia-cusolver-cu12               11.7.1.2            /usr/local/lib/python3.10/dist-packages uv\n",
            "nvidia-cusparse-cu12               12.5.4.2            /usr/local/lib/python3.10/dist-packages uv\n",
            "nvidia-nccl-cu12                   2.23.4              /usr/local/lib/python3.10/dist-packages uv\n",
            "nvidia-nvjitlink-cu12              12.6.77             /usr/local/lib/python3.10/dist-packages uv\n",
            "nvtx                               0.2.10              /usr/local/lib/python3.10/dist-packages uv\n",
            "oauth2client                       4.1.3               /usr/local/lib/python3.10/dist-packages uv\n",
            "oauthlib                           3.2.2               /usr/local/lib/python3.10/dist-packages uv\n",
            "opencv-contrib-python              4.10.0.84           /usr/local/lib/python3.10/dist-packages uv\n",
            "opencv-python                      4.10.0.84           /usr/local/lib/python3.10/dist-packages uv\n",
            "opencv-python-headless             4.10.0.84           /usr/local/lib/python3.10/dist-packages uv\n",
            "openpyxl                           3.1.5               /usr/local/lib/python3.10/dist-packages uv\n",
            "opentelemetry-api                  1.16.0              /usr/local/lib/python3.10/dist-packages uv\n",
            "opentelemetry-sdk                  1.16.0              /usr/local/lib/python3.10/dist-packages uv\n",
            "opentelemetry-semantic-conventions 0.37b0              /usr/local/lib/python3.10/dist-packages uv\n",
            "opt_einsum                         3.4.0               /usr/local/lib/python3.10/dist-packages uv\n",
            "optax                              0.2.3               /usr/local/lib/python3.10/dist-packages uv\n",
            "optree                             0.13.0              /usr/local/lib/python3.10/dist-packages uv\n",
            "orbax-checkpoint                   0.6.4               /usr/local/lib/python3.10/dist-packages uv\n",
            "ordered-set                        4.1.0               /usr/local/lib/python3.10/dist-packages uv\n",
            "osqp                               0.6.7.post0         /usr/local/lib/python3.10/dist-packages uv\n",
            "packaging                          24.1                /usr/local/lib/python3.10/dist-packages uv\n",
            "pandas                             2.2.2               /usr/local/lib/python3.10/dist-packages uv\n",
            "pandas-datareader                  0.10.0              /usr/local/lib/python3.10/dist-packages uv\n",
            "pandas-gbq                         0.23.2              /usr/local/lib/python3.10/dist-packages uv\n",
            "pandas-stubs                       2.2.2.240909        /usr/local/lib/python3.10/dist-packages uv\n",
            "pandocfilters                      1.5.1               /usr/local/lib/python3.10/dist-packages uv\n",
            "panel                              1.4.5               /usr/local/lib/python3.10/dist-packages uv\n",
            "param                              2.1.1               /usr/local/lib/python3.10/dist-packages uv\n",
            "parso                              0.8.4               /usr/local/lib/python3.10/dist-packages uv\n",
            "parsy                              2.1                 /usr/local/lib/python3.10/dist-packages uv\n",
            "partd                              1.4.2               /usr/local/lib/python3.10/dist-packages uv\n",
            "pathlib                            1.0.1               /usr/local/lib/python3.10/dist-packages uv\n",
            "patsy                              0.5.6               /usr/local/lib/python3.10/dist-packages uv\n",
            "peewee                             3.17.6              /usr/local/lib/python3.10/dist-packages uv\n",
            "pexpect                            4.9.0               /usr/local/lib/python3.10/dist-packages uv\n",
            "pickleshare                        0.7.5               /usr/local/lib/python3.10/dist-packages uv\n",
            "pillow                             10.4.0              /usr/local/lib/python3.10/dist-packages uv\n",
            "pip                                24.1.2              /usr/local/lib/python3.10/dist-packages uv\n",
            "pip-tools                          7.4.1               /usr/local/lib/python3.10/dist-packages uv\n",
            "platformdirs                       4.3.6               /usr/local/lib/python3.10/dist-packages uv\n",
            "plotly                             5.24.1              /usr/local/lib/python3.10/dist-packages uv\n",
            "plotnine                           0.13.6              /usr/local/lib/python3.10/dist-packages uv\n",
            "pluggy                             1.5.0               /usr/local/lib/python3.10/dist-packages uv\n",
            "polars                             1.7.1               /usr/local/lib/python3.10/dist-packages uv\n",
            "pooch                              1.8.2               /usr/local/lib/python3.10/dist-packages uv\n",
            "portpicker                         1.5.2               /usr/local/lib/python3.10/dist-packages uv\n",
            "prefetch_generator                 1.0.3               /usr/local/lib/python3.10/dist-packages uv\n",
            "preshed                            3.0.9               /usr/local/lib/python3.10/dist-packages uv\n",
            "prettytable                        3.11.0              /usr/local/lib/python3.10/dist-packages uv\n",
            "proglog                            0.1.10              /usr/local/lib/python3.10/dist-packages uv\n",
            "progressbar2                       4.5.0               /usr/local/lib/python3.10/dist-packages uv\n",
            "prometheus_client                  0.21.0              /usr/local/lib/python3.10/dist-packages uv\n",
            "promise                            2.3                 /usr/local/lib/python3.10/dist-packages uv\n",
            "prompt_toolkit                     3.0.48              /usr/local/lib/python3.10/dist-packages uv\n",
            "propcache                          0.2.0               /usr/local/lib/python3.10/dist-packages uv\n",
            "prophet                            1.1.6               /usr/local/lib/python3.10/dist-packages uv\n",
            "proto-plus                         1.24.0              /usr/local/lib/python3.10/dist-packages uv\n",
            "protobuf                           3.20.3              /usr/local/lib/python3.10/dist-packages uv\n",
            "psutil                             5.9.5               /usr/local/lib/python3.10/dist-packages uv\n",
            "psycopg2                           2.9.9               /usr/local/lib/python3.10/dist-packages uv\n",
            "ptyprocess                         0.7.0               /usr/local/lib/python3.10/dist-packages uv\n",
            "py-cpuinfo                         9.0.0               /usr/local/lib/python3.10/dist-packages uv\n",
            "py4j                               0.10.9.7            /usr/local/lib/python3.10/dist-packages uv\n",
            "pyarrow                            16.1.0              /usr/local/lib/python3.10/dist-packages uv\n",
            "pyarrow-hotfix                     0.6                 /usr/local/lib/python3.10/dist-packages uv\n",
            "pyasn1                             0.6.1               /usr/local/lib/python3.10/dist-packages uv\n",
            "pyasn1_modules                     0.4.1               /usr/local/lib/python3.10/dist-packages uv\n",
            "pycocotools                        2.0.8               /usr/local/lib/python3.10/dist-packages uv\n",
            "pycparser                          2.22                /usr/local/lib/python3.10/dist-packages uv\n",
            "pydantic                           2.9.2               /usr/local/lib/python3.10/dist-packages uv\n",
            "pydantic_core                      2.23.4              /usr/local/lib/python3.10/dist-packages uv\n",
            "pydata-google-auth                 1.8.2               /usr/local/lib/python3.10/dist-packages uv\n",
            "pydot                              3.0.2               /usr/local/lib/python3.10/dist-packages uv\n",
            "pydot-ng                           2.0.0               /usr/local/lib/python3.10/dist-packages uv\n",
            "pydotplus                          2.0.2               /usr/local/lib/python3.10/dist-packages uv\n",
            "PyDrive                            1.3.1               /usr/local/lib/python3.10/dist-packages uv\n",
            "PyDrive2                           1.20.0              /usr/local/lib/python3.10/dist-packages uv\n",
            "pyerfa                             2.0.1.4             /usr/local/lib/python3.10/dist-packages uv\n",
            "pygame                             2.6.1               /usr/local/lib/python3.10/dist-packages uv\n",
            "Pygments                           2.18.0              /usr/local/lib/python3.10/dist-packages uv\n",
            "PyGObject                          3.42.1              /usr/lib/python3/dist-packages\n",
            "PyJWT                              2.9.0               /usr/local/lib/python3.10/dist-packages uv\n",
            "pymc                               5.16.2              /usr/local/lib/python3.10/dist-packages uv\n",
            "pymystem3                          0.2.0               /usr/local/lib/python3.10/dist-packages uv\n",
            "pynvjitlink-cu12                   0.3.0               /usr/local/lib/python3.10/dist-packages uv\n",
            "pyogrio                            0.10.0              /usr/local/lib/python3.10/dist-packages uv\n",
            "PyOpenGL                           3.1.7               /usr/local/lib/python3.10/dist-packages uv\n",
            "pyOpenSSL                          24.2.1              /usr/local/lib/python3.10/dist-packages uv\n",
            "pyparsing                          3.1.4               /usr/local/lib/python3.10/dist-packages uv\n",
            "pyperclip                          1.9.0               /usr/local/lib/python3.10/dist-packages uv\n",
            "pyproj                             3.7.0               /usr/local/lib/python3.10/dist-packages uv\n",
            "pyproject_hooks                    1.2.0               /usr/local/lib/python3.10/dist-packages uv\n",
            "pyshp                              2.3.1               /usr/local/lib/python3.10/dist-packages uv\n",
            "PySocks                            1.7.1               /usr/local/lib/python3.10/dist-packages uv\n",
            "pytensor                           2.25.5              /usr/local/lib/python3.10/dist-packages uv\n",
            "pytest                             7.4.4               /usr/local/lib/python3.10/dist-packages uv\n",
            "python-apt                         0.0.0               /usr/local/lib/python3.10/dist-packages\n",
            "python-box                         7.2.0               /usr/local/lib/python3.10/dist-packages uv\n",
            "python-dateutil                    2.8.2               /usr/local/lib/python3.10/dist-packages uv\n",
            "python-louvain                     0.16                /usr/local/lib/python3.10/dist-packages uv\n",
            "python-slugify                     8.0.4               /usr/local/lib/python3.10/dist-packages uv\n",
            "python-utils                       3.9.0               /usr/local/lib/python3.10/dist-packages uv\n",
            "pytz                               2024.2              /usr/local/lib/python3.10/dist-packages uv\n",
            "pyviz_comms                        3.0.3               /usr/local/lib/python3.10/dist-packages uv\n",
            "PyYAML                             6.0.2               /usr/local/lib/python3.10/dist-packages uv\n",
            "pyzmq                              24.0.1              /usr/local/lib/python3.10/dist-packages uv\n",
            "qdldl                              0.1.7.post4         /usr/local/lib/python3.10/dist-packages uv\n",
            "ratelim                            0.1.6               /usr/local/lib/python3.10/dist-packages uv\n",
            "referencing                        0.35.1              /usr/local/lib/python3.10/dist-packages uv\n",
            "regex                              2024.9.11           /usr/local/lib/python3.10/dist-packages uv\n",
            "requests                           2.32.3              /usr/local/lib/python3.10/dist-packages uv\n",
            "requests-oauthlib                  1.3.1               /usr/local/lib/python3.10/dist-packages uv\n",
            "requirements-parser                0.9.0               /usr/local/lib/python3.10/dist-packages uv\n",
            "rich                               13.9.2              /usr/local/lib/python3.10/dist-packages uv\n",
            "rmm-cu12                           24.6.0              /usr/local/lib/python3.10/dist-packages uv\n",
            "rpds-py                            0.20.0              /usr/local/lib/python3.10/dist-packages uv\n",
            "rpy2                               3.4.2               /usr/local/lib/python3.10/dist-packages uv\n",
            "rsa                                4.9                 /usr/local/lib/python3.10/dist-packages uv\n",
            "safetensors                        0.4.5               /usr/local/lib/python3.10/dist-packages uv\n",
            "scikit-image                       0.24.0              /usr/local/lib/python3.10/dist-packages uv\n",
            "scikit-learn                       1.5.2               /usr/local/lib/python3.10/dist-packages uv\n",
            "scipy                              1.13.1              /usr/local/lib/python3.10/dist-packages uv\n",
            "scooby                             0.10.0              /usr/local/lib/python3.10/dist-packages uv\n",
            "scs                                3.2.7               /usr/local/lib/python3.10/dist-packages uv\n",
            "seaborn                            0.13.2              /usr/local/lib/python3.10/dist-packages uv\n",
            "SecretStorage                      3.3.1               /usr/lib/python3/dist-packages\n",
            "Send2Trash                         1.8.3               /usr/local/lib/python3.10/dist-packages uv\n",
            "sentencepiece                      0.2.0               /usr/local/lib/python3.10/dist-packages uv\n",
            "setuptools                         71.0.4              /usr/local/lib/python3.10/dist-packages uv\n",
            "shapely                            2.0.6               /usr/local/lib/python3.10/dist-packages uv\n",
            "shellingham                        1.5.4               /usr/local/lib/python3.10/dist-packages uv\n",
            "simple-parsing                     0.1.6               /usr/local/lib/python3.10/dist-packages uv\n",
            "six                                1.16.0              /usr/local/lib/python3.10/dist-packages uv\n",
            "sklearn-pandas                     2.2.0               /usr/local/lib/python3.10/dist-packages uv\n",
            "smart-open                         7.0.5               /usr/local/lib/python3.10/dist-packages uv\n",
            "sniffio                            1.3.1               /usr/local/lib/python3.10/dist-packages uv\n",
            "snowballstemmer                    2.2.0               /usr/local/lib/python3.10/dist-packages uv\n",
            "sortedcontainers                   2.4.0               /usr/local/lib/python3.10/dist-packages uv\n",
            "soundfile                          0.12.1              /usr/local/lib/python3.10/dist-packages uv\n",
            "soupsieve                          2.6                 /usr/local/lib/python3.10/dist-packages uv\n",
            "soxr                               0.5.0.post1         /usr/local/lib/python3.10/dist-packages uv\n",
            "spacy                              3.7.5               /usr/local/lib/python3.10/dist-packages uv\n",
            "spacy-legacy                       3.0.12              /usr/local/lib/python3.10/dist-packages uv\n",
            "spacy-loggers                      1.0.5               /usr/local/lib/python3.10/dist-packages uv\n",
            "Sphinx                             5.0.2               /usr/local/lib/python3.10/dist-packages uv\n",
            "sphinxcontrib-applehelp            2.0.0               /usr/local/lib/python3.10/dist-packages uv\n",
            "sphinxcontrib-devhelp              2.0.0               /usr/local/lib/python3.10/dist-packages uv\n",
            "sphinxcontrib-htmlhelp             2.1.0               /usr/local/lib/python3.10/dist-packages uv\n",
            "sphinxcontrib-jsmath               1.0.1               /usr/local/lib/python3.10/dist-packages uv\n",
            "sphinxcontrib-qthelp               2.0.0               /usr/local/lib/python3.10/dist-packages uv\n",
            "sphinxcontrib-serializinghtml      2.0.0               /usr/local/lib/python3.10/dist-packages uv\n",
            "SQLAlchemy                         2.0.35              /usr/local/lib/python3.10/dist-packages uv\n",
            "sqlglot                            25.1.0              /usr/local/lib/python3.10/dist-packages uv\n",
            "sqlparse                           0.5.1               /usr/local/lib/python3.10/dist-packages uv\n",
            "srsly                              2.4.8               /usr/local/lib/python3.10/dist-packages uv\n",
            "stanio                             0.5.1               /usr/local/lib/python3.10/dist-packages uv\n",
            "statsmodels                        0.14.4              /usr/local/lib/python3.10/dist-packages uv\n",
            "StrEnum                            0.4.15              /usr/local/lib/python3.10/dist-packages uv\n",
            "sympy                              1.13.3              /usr/local/lib/python3.10/dist-packages uv\n",
            "tables                             3.8.0               /usr/local/lib/python3.10/dist-packages uv\n",
            "tabulate                           0.9.0               /usr/local/lib/python3.10/dist-packages uv\n",
            "tbb                                2021.13.1           /usr/local/lib/python3.10/dist-packages uv\n",
            "tblib                              3.0.0               /usr/local/lib/python3.10/dist-packages uv\n",
            "tenacity                           9.0.0               /usr/local/lib/python3.10/dist-packages uv\n",
            "tensorboard                        2.17.0              /usr/local/lib/python3.10/dist-packages uv\n",
            "tensorboard-data-server            0.7.2               /usr/local/lib/python3.10/dist-packages uv\n",
            "tensorflow                         2.17.0              /usr/local/lib/python3.10/dist-packages uv\n",
            "tensorflow-datasets                4.9.6               /usr/local/lib/python3.10/dist-packages uv\n",
            "tensorflow-hub                     0.16.1              /usr/local/lib/python3.10/dist-packages uv\n",
            "tensorflow-io-gcs-filesystem       0.37.1              /usr/local/lib/python3.10/dist-packages uv\n",
            "tensorflow-metadata                1.16.1              /usr/local/lib/python3.10/dist-packages uv\n",
            "tensorflow-probability             0.24.0              /usr/local/lib/python3.10/dist-packages uv\n",
            "tensorstore                        0.1.66              /usr/local/lib/python3.10/dist-packages uv\n",
            "termcolor                          2.5.0               /usr/local/lib/python3.10/dist-packages uv\n",
            "terminado                          0.18.1              /usr/local/lib/python3.10/dist-packages uv\n",
            "text-unidecode                     1.3                 /usr/local/lib/python3.10/dist-packages uv\n",
            "textblob                           0.17.1              /usr/local/lib/python3.10/dist-packages uv\n",
            "tf_keras                           2.17.0              /usr/local/lib/python3.10/dist-packages uv\n",
            "tf-slim                            1.1.0               /usr/local/lib/python3.10/dist-packages uv\n",
            "thinc                              8.2.5               /usr/local/lib/python3.10/dist-packages uv\n",
            "threadpoolctl                      3.5.0               /usr/local/lib/python3.10/dist-packages uv\n",
            "tifffile                           2024.9.20           /usr/local/lib/python3.10/dist-packages uv\n",
            "tinycss2                           1.3.0               /usr/local/lib/python3.10/dist-packages uv\n",
            "tokenizers                         0.19.1              /usr/local/lib/python3.10/dist-packages uv\n",
            "toml                               0.10.2              /usr/local/lib/python3.10/dist-packages uv\n",
            "tomli                              2.0.2               /usr/local/lib/python3.10/dist-packages uv\n",
            "toolz                              0.12.1              /usr/local/lib/python3.10/dist-packages uv\n",
            "torch                              2.4.1+cu121         /usr/local/lib/python3.10/dist-packages uv\n",
            "torchaudio                         2.4.1+cu121         /usr/local/lib/python3.10/dist-packages uv\n",
            "torchsummary                       1.5.1               /usr/local/lib/python3.10/dist-packages uv\n",
            "torchvision                        0.19.1+cu121        /usr/local/lib/python3.10/dist-packages uv\n",
            "tornado                            6.3.3               /usr/local/lib/python3.10/dist-packages uv\n",
            "tqdm                               4.66.5              /usr/local/lib/python3.10/dist-packages uv\n",
            "traitlets                          5.7.1               /usr/local/lib/python3.10/dist-packages uv\n",
            "traittypes                         0.2.1               /usr/local/lib/python3.10/dist-packages uv\n",
            "transformers                       4.44.2              /usr/local/lib/python3.10/dist-packages uv\n",
            "tweepy                             4.14.0              /usr/local/lib/python3.10/dist-packages uv\n",
            "typeguard                          4.3.0               /usr/local/lib/python3.10/dist-packages uv\n",
            "typer                              0.12.5              /usr/local/lib/python3.10/dist-packages uv\n",
            "types-pytz                         2024.2.0.20241003   /usr/local/lib/python3.10/dist-packages uv\n",
            "types-setuptools                   75.1.0.20240917     /usr/local/lib/python3.10/dist-packages uv\n",
            "typing_extensions                  4.12.2              /usr/local/lib/python3.10/dist-packages uv\n",
            "tzdata                             2024.2              /usr/local/lib/python3.10/dist-packages uv\n",
            "tzlocal                            5.2                 /usr/local/lib/python3.10/dist-packages uv\n",
            "uc-micro-py                        1.0.3               /usr/local/lib/python3.10/dist-packages uv\n",
            "uritemplate                        4.1.1               /usr/local/lib/python3.10/dist-packages uv\n",
            "urllib3                            2.2.3               /usr/local/lib/python3.10/dist-packages uv\n",
            "vega-datasets                      0.9.0               /usr/local/lib/python3.10/dist-packages uv\n",
            "wadllib                            1.3.6               /usr/lib/python3/dist-packages\n",
            "wasabi                             1.1.3               /usr/local/lib/python3.10/dist-packages uv\n",
            "wcwidth                            0.2.13              /usr/local/lib/python3.10/dist-packages uv\n",
            "weasel                             0.4.1               /usr/local/lib/python3.10/dist-packages uv\n",
            "webcolors                          24.8.0              /usr/local/lib/python3.10/dist-packages uv\n",
            "webencodings                       0.5.1               /usr/local/lib/python3.10/dist-packages uv\n",
            "websocket-client                   1.8.0               /usr/local/lib/python3.10/dist-packages uv\n",
            "Werkzeug                           3.0.4               /usr/local/lib/python3.10/dist-packages uv\n",
            "wheel                              0.44.0              /usr/local/lib/python3.10/dist-packages uv\n",
            "widgetsnbextension                 3.6.9               /usr/local/lib/python3.10/dist-packages uv\n",
            "wordcloud                          1.9.3               /usr/local/lib/python3.10/dist-packages uv\n",
            "wrapt                              1.16.0              /usr/local/lib/python3.10/dist-packages uv\n",
            "xarray                             2024.9.0            /usr/local/lib/python3.10/dist-packages uv\n",
            "xarray-einstats                    0.8.0               /usr/local/lib/python3.10/dist-packages uv\n",
            "xgboost                            2.1.1               /usr/local/lib/python3.10/dist-packages uv\n",
            "xlrd                               2.0.1               /usr/local/lib/python3.10/dist-packages uv\n",
            "xyzservices                        2024.9.0            /usr/local/lib/python3.10/dist-packages uv\n",
            "yarl                               1.14.0              /usr/local/lib/python3.10/dist-packages uv\n",
            "yellowbrick                        1.5                 /usr/local/lib/python3.10/dist-packages uv\n",
            "yfinance                           0.2.44              /usr/local/lib/python3.10/dist-packages uv\n",
            "zict                               3.0.0               /usr/local/lib/python3.10/dist-packages uv\n",
            "zipp                               3.20.2              /usr/local/lib/python3.10/dist-packages uv\n"
          ]
        }
      ]
    },
    {
      "cell_type": "code",
      "source": [
        "#To import pre-installed python packages in colab\n",
        "import pandas as pd\n",
        "import geopandas as gpd\n"
      ],
      "metadata": {
        "id": "RlcIHLnsReXT"
      },
      "execution_count": null,
      "outputs": []
    },
    {
      "cell_type": "markdown",
      "source": [
        "#To install third party packages"
      ],
      "metadata": {
        "id": "ZTyynydAQ3ta"
      }
    },
    {
      "cell_type": "code",
      "source": [
        "!pip install rioxarray"
      ],
      "metadata": {
        "colab": {
          "base_uri": "https://localhost:8080/"
        },
        "id": "W0nX7JGXQ9fr",
        "outputId": "f4829f39-af9e-4fc9-9eb0-a92d67370d32"
      },
      "execution_count": null,
      "outputs": [
        {
          "output_type": "stream",
          "name": "stdout",
          "text": [
            "Collecting rioxarray\n",
            "  Downloading rioxarray-0.17.0-py3-none-any.whl.metadata (5.4 kB)\n",
            "Requirement already satisfied: packaging in /usr/local/lib/python3.10/dist-packages (from rioxarray) (24.1)\n",
            "Collecting rasterio>=1.3 (from rioxarray)\n",
            "  Downloading rasterio-1.4.1-cp310-cp310-manylinux_2_17_x86_64.manylinux2014_x86_64.whl.metadata (9.1 kB)\n",
            "Requirement already satisfied: xarray>=2022.3.0 in /usr/local/lib/python3.10/dist-packages (from rioxarray) (2024.9.0)\n",
            "Requirement already satisfied: pyproj>=3.3 in /usr/local/lib/python3.10/dist-packages (from rioxarray) (3.7.0)\n",
            "Requirement already satisfied: numpy>=1.23 in /usr/local/lib/python3.10/dist-packages (from rioxarray) (1.26.4)\n",
            "Requirement already satisfied: certifi in /usr/local/lib/python3.10/dist-packages (from pyproj>=3.3->rioxarray) (2024.8.30)\n",
            "Collecting affine (from rasterio>=1.3->rioxarray)\n",
            "  Downloading affine-2.4.0-py3-none-any.whl.metadata (4.0 kB)\n",
            "Requirement already satisfied: attrs in /usr/local/lib/python3.10/dist-packages (from rasterio>=1.3->rioxarray) (24.2.0)\n",
            "Requirement already satisfied: click>=4.0 in /usr/local/lib/python3.10/dist-packages (from rasterio>=1.3->rioxarray) (8.1.7)\n",
            "Collecting cligj>=0.5 (from rasterio>=1.3->rioxarray)\n",
            "  Downloading cligj-0.7.2-py3-none-any.whl.metadata (5.0 kB)\n",
            "Collecting click-plugins (from rasterio>=1.3->rioxarray)\n",
            "  Downloading click_plugins-1.1.1-py2.py3-none-any.whl.metadata (6.4 kB)\n",
            "Requirement already satisfied: pyparsing in /usr/local/lib/python3.10/dist-packages (from rasterio>=1.3->rioxarray) (3.1.4)\n",
            "Requirement already satisfied: pandas>=2.1 in /usr/local/lib/python3.10/dist-packages (from xarray>=2022.3.0->rioxarray) (2.2.2)\n",
            "Requirement already satisfied: python-dateutil>=2.8.2 in /usr/local/lib/python3.10/dist-packages (from pandas>=2.1->xarray>=2022.3.0->rioxarray) (2.8.2)\n",
            "Requirement already satisfied: pytz>=2020.1 in /usr/local/lib/python3.10/dist-packages (from pandas>=2.1->xarray>=2022.3.0->rioxarray) (2024.2)\n",
            "Requirement already satisfied: tzdata>=2022.7 in /usr/local/lib/python3.10/dist-packages (from pandas>=2.1->xarray>=2022.3.0->rioxarray) (2024.2)\n",
            "Requirement already satisfied: six>=1.5 in /usr/local/lib/python3.10/dist-packages (from python-dateutil>=2.8.2->pandas>=2.1->xarray>=2022.3.0->rioxarray) (1.16.0)\n",
            "Downloading rioxarray-0.17.0-py3-none-any.whl (61 kB)\n",
            "\u001b[2K   \u001b[90m━━━━━━━━━━━━━━━━━━━━━━━━━━━━━━━━━━━━━━━━\u001b[0m \u001b[32m61.0/61.0 kB\u001b[0m \u001b[31m3.2 MB/s\u001b[0m eta \u001b[36m0:00:00\u001b[0m\n",
            "\u001b[?25hDownloading rasterio-1.4.1-cp310-cp310-manylinux_2_17_x86_64.manylinux2014_x86_64.whl (22.2 MB)\n",
            "\u001b[2K   \u001b[90m━━━━━━━━━━━━━━━━━━━━━━━━━━━━━━━━━━━━━━━━\u001b[0m \u001b[32m22.2/22.2 MB\u001b[0m \u001b[31m33.4 MB/s\u001b[0m eta \u001b[36m0:00:00\u001b[0m\n",
            "\u001b[?25hDownloading cligj-0.7.2-py3-none-any.whl (7.1 kB)\n",
            "Downloading affine-2.4.0-py3-none-any.whl (15 kB)\n",
            "Downloading click_plugins-1.1.1-py2.py3-none-any.whl (7.5 kB)\n",
            "Installing collected packages: cligj, click-plugins, affine, rasterio, rioxarray\n",
            "Successfully installed affine-2.4.0 click-plugins-1.1.1 cligj-0.7.2 rasterio-1.4.1 rioxarray-0.17.0\n"
          ]
        }
      ]
    },
    {
      "cell_type": "code",
      "source": [
        "import rioxarray"
      ],
      "metadata": {
        "id": "L_Qf7G2TR3jy"
      },
      "execution_count": null,
      "outputs": []
    },
    {
      "cell_type": "code",
      "source": [],
      "metadata": {
        "id": "dQsD68ozTiAi"
      },
      "execution_count": null,
      "outputs": []
    },
    {
      "cell_type": "markdown",
      "source": [
        "#Data Management"
      ],
      "metadata": {
        "id": "-HYod2gTTiQC"
      }
    },
    {
      "cell_type": "markdown",
      "source": [
        "Colab provides 100GB of disk space along with your notebook. This can be used to store your data, intermediate outputs and results.\n",
        "\n",
        "The code below will create 2 folders named 'data' and 'output' in your local filesystem."
      ],
      "metadata": {
        "id": "D0Z8zI3JTkEU"
      }
    },
    {
      "cell_type": "code",
      "source": [
        "#Import google drive\n",
        "from google.colab import drive\n",
        "drive.mount('/content/drive')"
      ],
      "metadata": {
        "colab": {
          "base_uri": "https://localhost:8080/"
        },
        "id": "9Ifs_0fgYmIk",
        "outputId": "2dd20a5d-41c4-4542-ba4d-c1500e2aef00"
      },
      "execution_count": null,
      "outputs": [
        {
          "output_type": "stream",
          "name": "stdout",
          "text": [
            "Mounted at /content/drive\n"
          ]
        }
      ]
    },
    {
      "cell_type": "code",
      "source": [
        "import os\n",
        "main_path=\"/content/drive/MyDrive/Jobs_Projects_Doc/Spatial_Analysis_Python\"\n",
        "data_folder=\"data\"\n",
        "output_folder=\"output\"\n",
        "\n",
        "data_folder_path=os.path.join(main_path,data_folder)\n",
        "output_folder_path=os.path.join(main_path,output_folder)\n",
        "\n",
        "if not os.path.exists(data_folder_path):\n",
        "  os.mkdir(data_folder_path)\n",
        "\n",
        "if not os.path.exists(output_folder_path):\n",
        "  os.mkdir(output_folder_path)"
      ],
      "metadata": {
        "id": "2HDoWBhXTpmI"
      },
      "execution_count": null,
      "outputs": []
    },
    {
      "cell_type": "markdown",
      "source": [
        "Downloading data through internet and store it in the Colab environment and in google drive. Here is a helper function to download a file from a URL."
      ],
      "metadata": {
        "id": "kTTH67k7ULTQ"
      }
    },
    {
      "cell_type": "code",
      "source": [
        "import requests\n",
        "\n",
        "def download(url):\n",
        "  filename=os.path.join(data_folder_path,os.path.basename(url))   #Downloaded data will be saved in data folder in drive\n",
        "  if not os.path.exists(filename):\n",
        "    with requests.get(url,stream=True,allow_redirects=True) as r:\n",
        "      with open(filename,'wb') as f:\n",
        "        for chunk in r.iter_content(chunk_size=8192):\n",
        "          f.write(chunk)\n",
        "    print('Downloaded', filename)"
      ],
      "metadata": {
        "id": "tInRVsEoUWLN"
      },
      "execution_count": null,
      "outputs": []
    },
    {
      "cell_type": "markdown",
      "source": [
        "Lets download \"Populated Places\" data from Natural Earth (https://www.naturalearthdata.com/downloads/10m-cultural-vectors/)"
      ],
      "metadata": {
        "id": "YyQBPDaAV-9j"
      }
    },
    {
      "cell_type": "code",
      "source": [
        "#download('http//www.naturalearthdata.com/download/10m/cultural/ne_10m_populated_places.zip')\n",
        "download(\"https://www.naturalearthdata.com/http//www.naturalearthdata.com/download/110m/cultural/ne_110m_populated_places.zip\")"
      ],
      "metadata": {
        "id": "zoKL-b7EWaOu"
      },
      "execution_count": null,
      "outputs": []
    },
    {
      "cell_type": "code",
      "source": [
        "download(\"https://www.naturalearthdata.com/http//www.naturalearthdata.com/download/10m/cultural/ne_10m_populated_places_simple.zip\")"
      ],
      "metadata": {
        "colab": {
          "base_uri": "https://localhost:8080/"
        },
        "id": "K7163w5FjWWB",
        "outputId": "dfc159f7-4bd7-4847-85ea-5062fd5e2269"
      },
      "execution_count": null,
      "outputs": [
        {
          "output_type": "stream",
          "name": "stdout",
          "text": [
            "Downloaded /content/drive/MyDrive/Jobs_Projects_Doc/Spatial_Analysis_Python/data/ne_10m_populated_places_simple.zip\n"
          ]
        }
      ]
    },
    {
      "cell_type": "code",
      "source": [
        "#download('http//www.naturalearthdata.com/download/10m/cultural/'+'ne_10m_populated_places.zip')"
      ],
      "metadata": {
        "id": "WwzhQLApXMi_"
      },
      "execution_count": null,
      "outputs": []
    },
    {
      "cell_type": "markdown",
      "source": [
        "First extract data from zip file"
      ],
      "metadata": {
        "id": "EKCbP6QYbvzg"
      }
    },
    {
      "cell_type": "code",
      "source": [
        "#Trail1\n",
        "import zipfile\n",
        "zip_file='ne_10m_populated_places_simple.zip'\n",
        "zip_file_path=os.path.join(data_folder_path,zip_file)\n",
        "print('Zip file path:',zip_file_path)\n",
        "file=\"ne_10m_populated_places\"\n",
        "extract_to_path=os.path.join(data_folder_path,file)\n",
        "#data_extracted=os.path.join(data_folder_path,os.path.basename(url)+'extracted')\n",
        "# Extract the ZIP file\n",
        "with zipfile.ZipFile(zip_file_path,'r') as zip_ref:\n",
        "    zip_ref.extractall(extract_to_path)\n",
        "\n",
        "print('Files extracted to:', extract_to_path)"
      ],
      "metadata": {
        "colab": {
          "base_uri": "https://localhost:8080/",
          "height": 373
        },
        "id": "vC7xPadHb3ky",
        "outputId": "8e12fa53-6f07-41d5-ddf3-adddc5c05c84"
      },
      "execution_count": null,
      "outputs": [
        {
          "output_type": "stream",
          "name": "stdout",
          "text": [
            "Zip file path: /content/drive/MyDrive/Jobs_Projects_Doc/Spatial_Analysis_Python/data/ne_10m_populated_places_simple.zip\n"
          ]
        },
        {
          "output_type": "error",
          "ename": "BadZipFile",
          "evalue": "File is not a zip file",
          "traceback": [
            "\u001b[0;31m---------------------------------------------------------------------------\u001b[0m",
            "\u001b[0;31mBadZipFile\u001b[0m                                Traceback (most recent call last)",
            "\u001b[0;32m<ipython-input-11-821a6db3a5ca>\u001b[0m in \u001b[0;36m<cell line: 9>\u001b[0;34m()\u001b[0m\n\u001b[1;32m      7\u001b[0m \u001b[0;31m#data_extracted=os.path.join(data_folder_path,os.path.basename(url)+'extracted')\u001b[0m\u001b[0;34m\u001b[0m\u001b[0;34m\u001b[0m\u001b[0m\n\u001b[1;32m      8\u001b[0m \u001b[0;31m# Extract the ZIP file\u001b[0m\u001b[0;34m\u001b[0m\u001b[0;34m\u001b[0m\u001b[0m\n\u001b[0;32m----> 9\u001b[0;31m \u001b[0;32mwith\u001b[0m \u001b[0mzipfile\u001b[0m\u001b[0;34m.\u001b[0m\u001b[0mZipFile\u001b[0m\u001b[0;34m(\u001b[0m\u001b[0mzip_file_path\u001b[0m\u001b[0;34m,\u001b[0m\u001b[0;34m'r'\u001b[0m\u001b[0;34m)\u001b[0m \u001b[0;32mas\u001b[0m \u001b[0mzip_ref\u001b[0m\u001b[0;34m:\u001b[0m\u001b[0;34m\u001b[0m\u001b[0;34m\u001b[0m\u001b[0m\n\u001b[0m\u001b[1;32m     10\u001b[0m     \u001b[0mzip_ref\u001b[0m\u001b[0;34m.\u001b[0m\u001b[0mextractall\u001b[0m\u001b[0;34m(\u001b[0m\u001b[0mextract_to_path\u001b[0m\u001b[0;34m)\u001b[0m\u001b[0;34m\u001b[0m\u001b[0;34m\u001b[0m\u001b[0m\n\u001b[1;32m     11\u001b[0m \u001b[0;34m\u001b[0m\u001b[0m\n",
            "\u001b[0;32m/usr/lib/python3.10/zipfile.py\u001b[0m in \u001b[0;36m__init__\u001b[0;34m(self, file, mode, compression, allowZip64, compresslevel, strict_timestamps)\u001b[0m\n\u001b[1;32m   1270\u001b[0m         \u001b[0;32mtry\u001b[0m\u001b[0;34m:\u001b[0m\u001b[0;34m\u001b[0m\u001b[0;34m\u001b[0m\u001b[0m\n\u001b[1;32m   1271\u001b[0m             \u001b[0;32mif\u001b[0m \u001b[0mmode\u001b[0m \u001b[0;34m==\u001b[0m \u001b[0;34m'r'\u001b[0m\u001b[0;34m:\u001b[0m\u001b[0;34m\u001b[0m\u001b[0;34m\u001b[0m\u001b[0m\n\u001b[0;32m-> 1272\u001b[0;31m                 \u001b[0mself\u001b[0m\u001b[0;34m.\u001b[0m\u001b[0m_RealGetContents\u001b[0m\u001b[0;34m(\u001b[0m\u001b[0;34m)\u001b[0m\u001b[0;34m\u001b[0m\u001b[0;34m\u001b[0m\u001b[0m\n\u001b[0m\u001b[1;32m   1273\u001b[0m             \u001b[0;32melif\u001b[0m \u001b[0mmode\u001b[0m \u001b[0;32min\u001b[0m \u001b[0;34m(\u001b[0m\u001b[0;34m'w'\u001b[0m\u001b[0;34m,\u001b[0m \u001b[0;34m'x'\u001b[0m\u001b[0;34m)\u001b[0m\u001b[0;34m:\u001b[0m\u001b[0;34m\u001b[0m\u001b[0;34m\u001b[0m\u001b[0m\n\u001b[1;32m   1274\u001b[0m                 \u001b[0;31m# set the modified flag so central directory gets written\u001b[0m\u001b[0;34m\u001b[0m\u001b[0;34m\u001b[0m\u001b[0m\n",
            "\u001b[0;32m/usr/lib/python3.10/zipfile.py\u001b[0m in \u001b[0;36m_RealGetContents\u001b[0;34m(self)\u001b[0m\n\u001b[1;32m   1337\u001b[0m             \u001b[0;32mraise\u001b[0m \u001b[0mBadZipFile\u001b[0m\u001b[0;34m(\u001b[0m\u001b[0;34m\"File is not a zip file\"\u001b[0m\u001b[0;34m)\u001b[0m\u001b[0;34m\u001b[0m\u001b[0;34m\u001b[0m\u001b[0m\n\u001b[1;32m   1338\u001b[0m         \u001b[0;32mif\u001b[0m \u001b[0;32mnot\u001b[0m \u001b[0mendrec\u001b[0m\u001b[0;34m:\u001b[0m\u001b[0;34m\u001b[0m\u001b[0;34m\u001b[0m\u001b[0m\n\u001b[0;32m-> 1339\u001b[0;31m             \u001b[0;32mraise\u001b[0m \u001b[0mBadZipFile\u001b[0m\u001b[0;34m(\u001b[0m\u001b[0;34m\"File is not a zip file\"\u001b[0m\u001b[0;34m)\u001b[0m\u001b[0;34m\u001b[0m\u001b[0;34m\u001b[0m\u001b[0m\n\u001b[0m\u001b[1;32m   1340\u001b[0m         \u001b[0;32mif\u001b[0m \u001b[0mself\u001b[0m\u001b[0;34m.\u001b[0m\u001b[0mdebug\u001b[0m \u001b[0;34m>\u001b[0m \u001b[0;36m1\u001b[0m\u001b[0;34m:\u001b[0m\u001b[0;34m\u001b[0m\u001b[0;34m\u001b[0m\u001b[0m\n\u001b[1;32m   1341\u001b[0m             \u001b[0mprint\u001b[0m\u001b[0;34m(\u001b[0m\u001b[0mendrec\u001b[0m\u001b[0;34m)\u001b[0m\u001b[0;34m\u001b[0m\u001b[0;34m\u001b[0m\u001b[0m\n",
            "\u001b[0;31mBadZipFile\u001b[0m: File is not a zip file"
          ]
        }
      ]
    },
    {
      "cell_type": "code",
      "source": [
        "#Trail2:\n",
        "from zipfile import ZipFile\n",
        "test_folder='test'\n",
        "extract_to_path=os.path.join(data_folder_path,test_folder)\n",
        "if not os.path.exists(extract_to_path):\n",
        "  os.mkdir(extract_to_path)\n",
        "with ZipFile('/content/drive/MyDrive/Jobs_Projects_Doc/Spatial_Analysis_Python/data/ne_110m_populated_places.zip') as zipObj:\n",
        "  zipObj.extractall(extract_to_path)"
      ],
      "metadata": {
        "id": "ENvY82vN5Jre"
      },
      "execution_count": 1,
      "outputs": []
    },
    {
      "cell_type": "markdown",
      "source": [
        "#Youtube"
      ],
      "metadata": {
        "id": "l2xs62PiF1l8"
      }
    },
    {
      "cell_type": "code",
      "source": [
        "import zipfile\n",
        "zip_file='ne_10m_populated_places_simple.zip'\n",
        "zip_file_path=os.path.join(data_folder_path,zip_file)\n",
        "#places=gpd.read_file(zip_file_path)\n",
        "places=gpd.read_file(f\"zip:{zip_file_path}\")\n",
        "\n",
        "\n",
        "#Trail2:\n"
      ],
      "metadata": {
        "colab": {
          "base_uri": "https://localhost:8080/",
          "height": 425
        },
        "id": "e8RacFbZGgBJ",
        "outputId": "c001f0aa-8f80-49aa-aba6-1a9ca796bad2"
      },
      "execution_count": null,
      "outputs": [
        {
          "output_type": "error",
          "ename": "DataSourceError",
          "evalue": "'/vsizip//content/drive/MyDrive/Jobs_Projects_Doc/Spatial_Analysis_Python/data/ne_10m_populated_places_simple.zip' does not exist in the file system, and is not recognized as a supported dataset name.",
          "traceback": [
            "\u001b[0;31m---------------------------------------------------------------------------\u001b[0m",
            "\u001b[0;31mDataSourceError\u001b[0m                           Traceback (most recent call last)",
            "\u001b[0;32m<ipython-input-13-ef5504dd3d64>\u001b[0m in \u001b[0;36m<cell line: 5>\u001b[0;34m()\u001b[0m\n\u001b[1;32m      3\u001b[0m \u001b[0mzip_file_path\u001b[0m\u001b[0;34m=\u001b[0m\u001b[0mos\u001b[0m\u001b[0;34m.\u001b[0m\u001b[0mpath\u001b[0m\u001b[0;34m.\u001b[0m\u001b[0mjoin\u001b[0m\u001b[0;34m(\u001b[0m\u001b[0mdata_folder_path\u001b[0m\u001b[0;34m,\u001b[0m\u001b[0mzip_file\u001b[0m\u001b[0;34m)\u001b[0m\u001b[0;34m\u001b[0m\u001b[0;34m\u001b[0m\u001b[0m\n\u001b[1;32m      4\u001b[0m \u001b[0;31m#places=gpd.read_file(zip_file_path)\u001b[0m\u001b[0;34m\u001b[0m\u001b[0;34m\u001b[0m\u001b[0m\n\u001b[0;32m----> 5\u001b[0;31m \u001b[0mplaces\u001b[0m\u001b[0;34m=\u001b[0m\u001b[0mgpd\u001b[0m\u001b[0;34m.\u001b[0m\u001b[0mread_file\u001b[0m\u001b[0;34m(\u001b[0m\u001b[0;34mf\"zip:{zip_file_path}\"\u001b[0m\u001b[0;34m)\u001b[0m\u001b[0;34m\u001b[0m\u001b[0;34m\u001b[0m\u001b[0m\n\u001b[0m",
            "\u001b[0;32m/usr/local/lib/python3.10/dist-packages/geopandas/io/file.py\u001b[0m in \u001b[0;36m_read_file\u001b[0;34m(filename, bbox, mask, columns, rows, engine, **kwargs)\u001b[0m\n\u001b[1;32m    292\u001b[0m \u001b[0;34m\u001b[0m\u001b[0m\n\u001b[1;32m    293\u001b[0m     \u001b[0;32mif\u001b[0m \u001b[0mengine\u001b[0m \u001b[0;34m==\u001b[0m \u001b[0;34m\"pyogrio\"\u001b[0m\u001b[0;34m:\u001b[0m\u001b[0;34m\u001b[0m\u001b[0;34m\u001b[0m\u001b[0m\n\u001b[0;32m--> 294\u001b[0;31m         return _read_file_pyogrio(\n\u001b[0m\u001b[1;32m    295\u001b[0m             \u001b[0mfilename\u001b[0m\u001b[0;34m,\u001b[0m \u001b[0mbbox\u001b[0m\u001b[0;34m=\u001b[0m\u001b[0mbbox\u001b[0m\u001b[0;34m,\u001b[0m \u001b[0mmask\u001b[0m\u001b[0;34m=\u001b[0m\u001b[0mmask\u001b[0m\u001b[0;34m,\u001b[0m \u001b[0mcolumns\u001b[0m\u001b[0;34m=\u001b[0m\u001b[0mcolumns\u001b[0m\u001b[0;34m,\u001b[0m \u001b[0mrows\u001b[0m\u001b[0;34m=\u001b[0m\u001b[0mrows\u001b[0m\u001b[0;34m,\u001b[0m \u001b[0;34m**\u001b[0m\u001b[0mkwargs\u001b[0m\u001b[0;34m\u001b[0m\u001b[0;34m\u001b[0m\u001b[0m\n\u001b[1;32m    296\u001b[0m         )\n",
            "\u001b[0;32m/usr/local/lib/python3.10/dist-packages/geopandas/io/file.py\u001b[0m in \u001b[0;36m_read_file_pyogrio\u001b[0;34m(path_or_bytes, bbox, mask, rows, **kwargs)\u001b[0m\n\u001b[1;32m    545\u001b[0m         \u001b[0mkwargs\u001b[0m\u001b[0;34m[\u001b[0m\u001b[0;34m\"columns\"\u001b[0m\u001b[0;34m]\u001b[0m \u001b[0;34m=\u001b[0m \u001b[0mkwargs\u001b[0m\u001b[0;34m.\u001b[0m\u001b[0mpop\u001b[0m\u001b[0;34m(\u001b[0m\u001b[0;34m\"include_fields\"\u001b[0m\u001b[0;34m)\u001b[0m\u001b[0;34m\u001b[0m\u001b[0;34m\u001b[0m\u001b[0m\n\u001b[1;32m    546\u001b[0m \u001b[0;34m\u001b[0m\u001b[0m\n\u001b[0;32m--> 547\u001b[0;31m     \u001b[0;32mreturn\u001b[0m \u001b[0mpyogrio\u001b[0m\u001b[0;34m.\u001b[0m\u001b[0mread_dataframe\u001b[0m\u001b[0;34m(\u001b[0m\u001b[0mpath_or_bytes\u001b[0m\u001b[0;34m,\u001b[0m \u001b[0mbbox\u001b[0m\u001b[0;34m=\u001b[0m\u001b[0mbbox\u001b[0m\u001b[0;34m,\u001b[0m \u001b[0;34m**\u001b[0m\u001b[0mkwargs\u001b[0m\u001b[0;34m)\u001b[0m\u001b[0;34m\u001b[0m\u001b[0;34m\u001b[0m\u001b[0m\n\u001b[0m\u001b[1;32m    548\u001b[0m \u001b[0;34m\u001b[0m\u001b[0m\n\u001b[1;32m    549\u001b[0m \u001b[0;34m\u001b[0m\u001b[0m\n",
            "\u001b[0;32m/usr/local/lib/python3.10/dist-packages/pyogrio/geopandas.py\u001b[0m in \u001b[0;36mread_dataframe\u001b[0;34m(path_or_buffer, layer, encoding, columns, read_geometry, force_2d, skip_features, max_features, where, bbox, mask, fids, sql, sql_dialect, fid_as_index, use_arrow, on_invalid, arrow_to_pandas_kwargs, **kwargs)\u001b[0m\n\u001b[1;32m    263\u001b[0m         \u001b[0;31m# as numpy does not directly support timezones.\u001b[0m\u001b[0;34m\u001b[0m\u001b[0;34m\u001b[0m\u001b[0m\n\u001b[1;32m    264\u001b[0m         \u001b[0mkwargs\u001b[0m\u001b[0;34m[\u001b[0m\u001b[0;34m\"datetime_as_string\"\u001b[0m\u001b[0;34m]\u001b[0m \u001b[0;34m=\u001b[0m \u001b[0;32mTrue\u001b[0m\u001b[0;34m\u001b[0m\u001b[0;34m\u001b[0m\u001b[0m\n\u001b[0;32m--> 265\u001b[0;31m     result = read_func(\n\u001b[0m\u001b[1;32m    266\u001b[0m         \u001b[0mpath_or_buffer\u001b[0m\u001b[0;34m,\u001b[0m\u001b[0;34m\u001b[0m\u001b[0;34m\u001b[0m\u001b[0m\n\u001b[1;32m    267\u001b[0m         \u001b[0mlayer\u001b[0m\u001b[0;34m=\u001b[0m\u001b[0mlayer\u001b[0m\u001b[0;34m,\u001b[0m\u001b[0;34m\u001b[0m\u001b[0;34m\u001b[0m\u001b[0m\n",
            "\u001b[0;32m/usr/local/lib/python3.10/dist-packages/pyogrio/raw.py\u001b[0m in \u001b[0;36mread\u001b[0;34m(path_or_buffer, layer, encoding, columns, read_geometry, force_2d, skip_features, max_features, where, bbox, mask, fids, sql, sql_dialect, return_fids, datetime_as_string, **kwargs)\u001b[0m\n\u001b[1;32m    196\u001b[0m     \u001b[0mdataset_kwargs\u001b[0m \u001b[0;34m=\u001b[0m \u001b[0m_preprocess_options_key_value\u001b[0m\u001b[0;34m(\u001b[0m\u001b[0mkwargs\u001b[0m\u001b[0;34m)\u001b[0m \u001b[0;32mif\u001b[0m \u001b[0mkwargs\u001b[0m \u001b[0;32melse\u001b[0m \u001b[0;34m{\u001b[0m\u001b[0;34m}\u001b[0m\u001b[0;34m\u001b[0m\u001b[0;34m\u001b[0m\u001b[0m\n\u001b[1;32m    197\u001b[0m \u001b[0;34m\u001b[0m\u001b[0m\n\u001b[0;32m--> 198\u001b[0;31m     return ogr_read(\n\u001b[0m\u001b[1;32m    199\u001b[0m         \u001b[0mget_vsi_path_or_buffer\u001b[0m\u001b[0;34m(\u001b[0m\u001b[0mpath_or_buffer\u001b[0m\u001b[0;34m)\u001b[0m\u001b[0;34m,\u001b[0m\u001b[0;34m\u001b[0m\u001b[0;34m\u001b[0m\u001b[0m\n\u001b[1;32m    200\u001b[0m         \u001b[0mlayer\u001b[0m\u001b[0;34m=\u001b[0m\u001b[0mlayer\u001b[0m\u001b[0;34m,\u001b[0m\u001b[0;34m\u001b[0m\u001b[0;34m\u001b[0m\u001b[0m\n",
            "\u001b[0;32mpyogrio/_io.pyx\u001b[0m in \u001b[0;36mpyogrio._io.ogr_read\u001b[0;34m()\u001b[0m\n",
            "\u001b[0;32mpyogrio/_io.pyx\u001b[0m in \u001b[0;36mpyogrio._io.ogr_open\u001b[0;34m()\u001b[0m\n",
            "\u001b[0;31mDataSourceError\u001b[0m: '/vsizip//content/drive/MyDrive/Jobs_Projects_Doc/Spatial_Analysis_Python/data/ne_10m_populated_places_simple.zip' does not exist in the file system, and is not recognized as a supported dataset name."
          ]
        }
      ]
    },
    {
      "cell_type": "markdown",
      "source": [
        "Lets read the file using geopandas"
      ],
      "metadata": {
        "id": "UifwGD__67Dj"
      }
    },
    {
      "cell_type": "code",
      "source": [
        "file='ne_110m_populated_places.zip'\n",
        "filepath=os.path.join(data_folder_path,file)\n",
        "print('Filepath:',filepath)\n",
        "places=gpd.read_file(filepath)\n",
        "\n",
        "#data = gpd.read_file(f\"zip://{filepath}\")\n",
        "places.head()"
      ],
      "metadata": {
        "id": "Lzz7Jf9o67Yy"
      },
      "execution_count": null,
      "outputs": []
    },
    {
      "cell_type": "code",
      "source": [
        "capitals=places[places['adm0cap']==1]\n",
        "capitals"
      ],
      "metadata": {
        "colab": {
          "base_uri": "https://localhost:8080/",
          "height": 158
        },
        "id": "WRO_bty_Ny1z",
        "outputId": "539d30cf-99de-4b7a-8cfe-7856d36ce948"
      },
      "execution_count": null,
      "outputs": [
        {
          "output_type": "error",
          "ename": "NameError",
          "evalue": "name 'places' is not defined",
          "traceback": [
            "\u001b[0;31m---------------------------------------------------------------------------\u001b[0m",
            "\u001b[0;31mNameError\u001b[0m                                 Traceback (most recent call last)",
            "\u001b[0;32m<ipython-input-14-baca5943e50f>\u001b[0m in \u001b[0;36m<cell line: 1>\u001b[0;34m()\u001b[0m\n\u001b[0;32m----> 1\u001b[0;31m \u001b[0mcapitals\u001b[0m\u001b[0;34m=\u001b[0m\u001b[0mplaces\u001b[0m\u001b[0;34m[\u001b[0m\u001b[0mplaces\u001b[0m\u001b[0;34m[\u001b[0m\u001b[0;34m'adm0cap'\u001b[0m\u001b[0;34m]\u001b[0m\u001b[0;34m==\u001b[0m\u001b[0;36m1\u001b[0m\u001b[0;34m]\u001b[0m\u001b[0;34m\u001b[0m\u001b[0;34m\u001b[0m\u001b[0m\n\u001b[0m\u001b[1;32m      2\u001b[0m \u001b[0mcapitals\u001b[0m\u001b[0;34m\u001b[0m\u001b[0;34m\u001b[0m\u001b[0m\n",
            "\u001b[0;31mNameError\u001b[0m: name 'places' is not defined"
          ]
        }
      ]
    },
    {
      "cell_type": "markdown",
      "source": [
        "Saving the result as a geopackage file"
      ],
      "metadata": {
        "id": "7-GbyhjGRDVp"
      }
    },
    {
      "cell_type": "code",
      "source": [
        "output_file = 'capitals.gpkg'\n",
        "output_path = os.path.join(output_folder, output_file)\n",
        "capitals.to_file(driver='GPKG', filename=output_path)"
      ],
      "metadata": {
        "id": "6x9Rmqf8OEX5"
      },
      "execution_count": null,
      "outputs": []
    },
    {
      "cell_type": "markdown",
      "source": [
        "Open it in QGIS"
      ],
      "metadata": {
        "id": "yWclJS907Hf6"
      }
    },
    {
      "cell_type": "code",
      "source": [],
      "metadata": {
        "id": "ZZonH_EacGQq"
      },
      "execution_count": 1,
      "outputs": []
    },
    {
      "cell_type": "code",
      "source": [],
      "metadata": {
        "id": "rNyDNqFKXe6B"
      },
      "execution_count": 1,
      "outputs": []
    }
  ]
}