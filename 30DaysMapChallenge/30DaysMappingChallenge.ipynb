{
  "nbformat": 4,
  "nbformat_minor": 0,
  "metadata": {
    "colab": {
      "provenance": []
    },
    "kernelspec": {
      "name": "python3",
      "display_name": "Python 3"
    },
    "language_info": {
      "name": "python"
    }
  },
  "cells": [
    {
      "cell_type": "code",
      "execution_count": null,
      "metadata": {
        "id": "rZSoOHaWYe6b"
      },
      "outputs": [],
      "source": []
    },
    {
      "cell_type": "markdown",
      "source": [
        "#30 Days Mapping Challenge 2024\n",
        "[link](https://30daymapchallenge.com/)\n",
        "\n",
        "<img src='https://30daymapchallenge.com/imgs/30dmc_2024.png'>"
      ],
      "metadata": {
        "id": "bvv3_jpnYffj"
      }
    },
    {
      "cell_type": "code",
      "source": [],
      "metadata": {
        "id": "D0_GC8lVYloI"
      },
      "execution_count": null,
      "outputs": []
    },
    {
      "cell_type": "markdown",
      "source": [],
      "metadata": {
        "id": "VizEIGmGkVju"
      }
    },
    {
      "cell_type": "markdown",
      "source": [
        "Date\tName\tDescription\n",
        "\n",
        "01-11-2024\tPoints\t30DayMapChallenge classic: A map with points. Start the challenge with points. Show individual locations—anything from cities to trees or more abstract concepts. Simple, but a key part of the challenge. 📍\n",
        "\n",
        "02-11-2024\tLines\t30DayMapChallenge classic: A map with focus on lines. Roads, rivers, routes, or borders—this day is all about mapping connections and divisions. Another traditional way to keep things moving. 📏"
      ],
      "metadata": {
        "id": "GTUqAQg6dozQ"
      }
    },
    {
      "cell_type": "markdown",
      "source": [
        "Day1: Points(Air Quality Monitoring stations in India\n",
        "\n",
        "[Source-Central Pollution Control Board](https://cpcb.nic.in/monitoring-network-3/)\n",
        "\n",
        "[Data](https://cpcb.nic.in/uploads/Stations_NAMP.pdf)\n"
      ],
      "metadata": {
        "id": "Nrm5AYn2kWiX"
      }
    },
    {
      "cell_type": "markdown",
      "source": [
        "Geocoding code[Converting address to coordinates]()"
      ],
      "metadata": {
        "id": "i4wtc1idlA1Y"
      }
    },
    {
      "cell_type": "code",
      "source": [
        ">>> from geopy.geocoders import Nominatim\n",
        ">>> geolocator = Nominatim(user_agent=\"specify_your_app_name_here\")\n",
        ">>> location = geolocator.geocode(\"175 5th Avenue NYC\")\n",
        ">>> print(location.address)\n",
        "Flatiron Building, 175, 5th Avenue, Flatiron, New York, NYC, New York, ...\n",
        ">>> print((location.latitude, location.longitude))\n",
        "(40.7410861, -73.9896297241625)\n",
        ">>> print(location.raw)\n",
        "{'place_id': '9167009604', 'type': 'attraction', ...}"
      ],
      "metadata": {
        "id": "pACToPv1lHYJ"
      },
      "execution_count": null,
      "outputs": []
    }
  ]
}