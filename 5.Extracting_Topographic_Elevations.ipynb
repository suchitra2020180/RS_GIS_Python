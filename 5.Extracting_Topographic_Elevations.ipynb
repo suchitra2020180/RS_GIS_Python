{
 "cells": [
  {
   "cell_type": "code",
   "execution_count": null,
   "id": "0d93b2bd-2d6c-4cc6-a2ab-d07cf00723a3",
   "metadata": {},
   "outputs": [],
   "source": [
    "#5.Extracting Topographic Elevations using python\n",
    "#Steps:\n",
    "#1.Reading stations data from csv file\n",
    "#2.Reading DEM data in tif format\n",
    "#3.Extracting DEM values for stations using forloop\n",
    "#4.Saving the extracted to a dataframe\n",
    "#5.Exporting output in csv file"
   ]
  },
  {
   "cell_type": "code",
   "execution_count": null,
   "id": "2e64166c-433e-4b71-a4f4-56111c8c58f1",
   "metadata": {},
   "outputs": [],
   "source": [
    "#Reading DEM data"
   ]
  },
  {
   "cell_type": "code",
   "execution_count": null,
   "id": "ca557c55-41c6-473f-b997-c764ad3bdd8b",
   "metadata": {},
   "outputs": [],
   "source": [
    "#Reading locations data from csv"
   ]
  },
  {
   "cell_type": "code",
   "execution_count": 9,
   "id": "1268c1d7-0cea-401a-9a34-8bc3d3935faf",
   "metadata": {},
   "outputs": [],
   "source": [
    "import geopandas as gpd\n",
    "import rasterio"
   ]
  },
  {
   "cell_type": "code",
   "execution_count": 3,
   "id": "5511d6ea-e2e1-44b2-b2dd-453e13246783",
   "metadata": {},
   "outputs": [],
   "source": [
    "stations=gpd.read_file(r'F:\\python\\RS_GIS_Python\\DEM_Extraction_usingPython\\stations.shp')"
   ]
  },
  {
   "cell_type": "code",
   "execution_count": 4,
   "id": "894fb391-57e7-498f-8a61-069b2c721a3b",
   "metadata": {},
   "outputs": [
    {
     "data": {
      "text/html": [
       "<div>\n",
       "<style scoped>\n",
       "    .dataframe tbody tr th:only-of-type {\n",
       "        vertical-align: middle;\n",
       "    }\n",
       "\n",
       "    .dataframe tbody tr th {\n",
       "        vertical-align: top;\n",
       "    }\n",
       "\n",
       "    .dataframe thead th {\n",
       "        text-align: right;\n",
       "    }\n",
       "</style>\n",
       "<table border=\"1\" class=\"dataframe\">\n",
       "  <thead>\n",
       "    <tr style=\"text-align: right;\">\n",
       "      <th></th>\n",
       "      <th>Id</th>\n",
       "      <th>name</th>\n",
       "      <th>geometry</th>\n",
       "    </tr>\n",
       "  </thead>\n",
       "  <tbody>\n",
       "    <tr>\n",
       "      <th>0</th>\n",
       "      <td>0</td>\n",
       "      <td>station1</td>\n",
       "      <td>POINT (116.66012 6.20102)</td>\n",
       "    </tr>\n",
       "    <tr>\n",
       "      <th>1</th>\n",
       "      <td>0</td>\n",
       "      <td>station2</td>\n",
       "      <td>POINT (116.86285 6.10965)</td>\n",
       "    </tr>\n",
       "    <tr>\n",
       "      <th>2</th>\n",
       "      <td>0</td>\n",
       "      <td>station3</td>\n",
       "      <td>POINT (117.12412 6.12821)</td>\n",
       "    </tr>\n",
       "    <tr>\n",
       "      <th>3</th>\n",
       "      <td>0</td>\n",
       "      <td>station4</td>\n",
       "      <td>POINT (117.29115 6.30524)</td>\n",
       "    </tr>\n",
       "    <tr>\n",
       "      <th>4</th>\n",
       "      <td>0</td>\n",
       "      <td>station5</td>\n",
       "      <td>POINT (116.91996 6.35664)</td>\n",
       "    </tr>\n",
       "  </tbody>\n",
       "</table>\n",
       "</div>"
      ],
      "text/plain": [
       "   Id      name                   geometry\n",
       "0   0  station1  POINT (116.66012 6.20102)\n",
       "1   0  station2  POINT (116.86285 6.10965)\n",
       "2   0  station3  POINT (117.12412 6.12821)\n",
       "3   0  station4  POINT (117.29115 6.30524)\n",
       "4   0  station5  POINT (116.91996 6.35664)"
      ]
     },
     "execution_count": 4,
     "metadata": {},
     "output_type": "execute_result"
    }
   ],
   "source": [
    "stations.head()"
   ]
  },
  {
   "cell_type": "code",
   "execution_count": 5,
   "id": "2f54e63a-114c-4459-985f-77b04ac9d5ff",
   "metadata": {},
   "outputs": [
    {
     "data": {
      "text/plain": [
       "geopandas.geodataframe.GeoDataFrame"
      ]
     },
     "execution_count": 5,
     "metadata": {},
     "output_type": "execute_result"
    }
   ],
   "source": [
    "type(stations)"
   ]
  },
  {
   "cell_type": "code",
   "execution_count": 16,
   "id": "d9875b0f-796f-4f28-b21c-a160333baf8c",
   "metadata": {},
   "outputs": [
    {
     "name": "stdout",
     "output_type": "stream",
     "text": [
      "The elevation ofstation1:2570meters\n",
      "The elevation ofstation2:204meters\n",
      "The elevation ofstation3:191meters\n"
     ]
    },
    {
     "name": "stderr",
     "output_type": "stream",
     "text": [
      "C:\\Users\\suchi\\AppData\\Local\\Temp\\ipykernel_7608\\1738989338.py:16: SettingWithCopyWarning: \n",
      "A value is trying to be set on a copy of a slice from a DataFrame\n",
      "\n",
      "See the caveats in the documentation: https://pandas.pydata.org/pandas-docs/stable/user_guide/indexing.html#returning-a-view-versus-a-copy\n",
      "  stations['elevations'].loc[index]= dem_data[row,col]\n"
     ]
    },
    {
     "name": "stdout",
     "output_type": "stream",
     "text": [
      "The elevation ofstation4:117meters\n",
      "The elevation ofstation5:774meters\n",
      "The elevation ofstation6:291meters\n",
      "The elevation ofstation7:49meters\n",
      "The elevation ofstation8:399meters\n",
      "The elevation ofstation9:82meters\n"
     ]
    }
   ],
   "source": [
    "#Extracting latitude, longitude from each station\n",
    "stations['elevations']=0\n",
    "for index, row in stations.iterrows():\n",
    "    #Extracting attributes from the stations shapefile\n",
    "    name=row['name']\n",
    "    latitude=row['geometry'].y\n",
    "    longitude=row['geometry'].x\n",
    "\n",
    "    #Reading DEM using rasterio\n",
    "    dem=rasterio.open(r'F:\\python\\RS_GIS_Python\\DEM_Extraction_usingPython\\DEM.tif')\n",
    "    row,col=dem.index(longitude,latitude)#Raster consists of rows,columns,so lets get the index of particular station through its lat,long\n",
    "    dem_data=dem.read(1)\n",
    "    \n",
    "    print('The elevation of'+name+\":\"+str(dem_data[row,col])+ \"meters\") #though dem_data[row,col] is a number we need to convert to string to add to words\n",
    "    #Saving the result in a column called elevations in stations datafarme\n",
    "    stations['elevations'].loc[index]= dem_data[row,col]\n"
   ]
  },
  {
   "cell_type": "code",
   "execution_count": 17,
   "id": "1c2cb131-348c-46f8-8d89-b826993bfa28",
   "metadata": {},
   "outputs": [
    {
     "data": {
      "text/html": [
       "<div>\n",
       "<style scoped>\n",
       "    .dataframe tbody tr th:only-of-type {\n",
       "        vertical-align: middle;\n",
       "    }\n",
       "\n",
       "    .dataframe tbody tr th {\n",
       "        vertical-align: top;\n",
       "    }\n",
       "\n",
       "    .dataframe thead th {\n",
       "        text-align: right;\n",
       "    }\n",
       "</style>\n",
       "<table border=\"1\" class=\"dataframe\">\n",
       "  <thead>\n",
       "    <tr style=\"text-align: right;\">\n",
       "      <th></th>\n",
       "      <th>Id</th>\n",
       "      <th>name</th>\n",
       "      <th>geometry</th>\n",
       "      <th>elevations</th>\n",
       "    </tr>\n",
       "  </thead>\n",
       "  <tbody>\n",
       "    <tr>\n",
       "      <th>0</th>\n",
       "      <td>0</td>\n",
       "      <td>station1</td>\n",
       "      <td>POINT (116.66012 6.20102)</td>\n",
       "      <td>2570</td>\n",
       "    </tr>\n",
       "    <tr>\n",
       "      <th>1</th>\n",
       "      <td>0</td>\n",
       "      <td>station2</td>\n",
       "      <td>POINT (116.86285 6.10965)</td>\n",
       "      <td>204</td>\n",
       "    </tr>\n",
       "    <tr>\n",
       "      <th>2</th>\n",
       "      <td>0</td>\n",
       "      <td>station3</td>\n",
       "      <td>POINT (117.12412 6.12821)</td>\n",
       "      <td>191</td>\n",
       "    </tr>\n",
       "    <tr>\n",
       "      <th>3</th>\n",
       "      <td>0</td>\n",
       "      <td>station4</td>\n",
       "      <td>POINT (117.29115 6.30524)</td>\n",
       "      <td>117</td>\n",
       "    </tr>\n",
       "    <tr>\n",
       "      <th>4</th>\n",
       "      <td>0</td>\n",
       "      <td>station5</td>\n",
       "      <td>POINT (116.91996 6.35664)</td>\n",
       "      <td>774</td>\n",
       "    </tr>\n",
       "  </tbody>\n",
       "</table>\n",
       "</div>"
      ],
      "text/plain": [
       "   Id      name                   geometry  elevations\n",
       "0   0  station1  POINT (116.66012 6.20102)        2570\n",
       "1   0  station2  POINT (116.86285 6.10965)         204\n",
       "2   0  station3  POINT (117.12412 6.12821)         191\n",
       "3   0  station4  POINT (117.29115 6.30524)         117\n",
       "4   0  station5  POINT (116.91996 6.35664)         774"
      ]
     },
     "execution_count": 17,
     "metadata": {},
     "output_type": "execute_result"
    }
   ],
   "source": [
    "stations.head()"
   ]
  },
  {
   "cell_type": "code",
   "execution_count": 18,
   "id": "3fe97503-f6de-452a-b7e9-42c4a211d9d5",
   "metadata": {},
   "outputs": [
    {
     "data": {
      "text/html": [
       "<div>\n",
       "<style scoped>\n",
       "    .dataframe tbody tr th:only-of-type {\n",
       "        vertical-align: middle;\n",
       "    }\n",
       "\n",
       "    .dataframe tbody tr th {\n",
       "        vertical-align: top;\n",
       "    }\n",
       "\n",
       "    .dataframe thead th {\n",
       "        text-align: right;\n",
       "    }\n",
       "</style>\n",
       "<table border=\"1\" class=\"dataframe\">\n",
       "  <thead>\n",
       "    <tr style=\"text-align: right;\">\n",
       "      <th></th>\n",
       "      <th>name</th>\n",
       "      <th>elevations</th>\n",
       "    </tr>\n",
       "  </thead>\n",
       "  <tbody>\n",
       "    <tr>\n",
       "      <th>0</th>\n",
       "      <td>station1</td>\n",
       "      <td>2570</td>\n",
       "    </tr>\n",
       "    <tr>\n",
       "      <th>1</th>\n",
       "      <td>station2</td>\n",
       "      <td>204</td>\n",
       "    </tr>\n",
       "    <tr>\n",
       "      <th>2</th>\n",
       "      <td>station3</td>\n",
       "      <td>191</td>\n",
       "    </tr>\n",
       "    <tr>\n",
       "      <th>3</th>\n",
       "      <td>station4</td>\n",
       "      <td>117</td>\n",
       "    </tr>\n",
       "    <tr>\n",
       "      <th>4</th>\n",
       "      <td>station5</td>\n",
       "      <td>774</td>\n",
       "    </tr>\n",
       "  </tbody>\n",
       "</table>\n",
       "</div>"
      ],
      "text/plain": [
       "       name  elevations\n",
       "0  station1        2570\n",
       "1  station2         204\n",
       "2  station3         191\n",
       "3  station4         117\n",
       "4  station5         774"
      ]
     },
     "execution_count": 18,
     "metadata": {},
     "output_type": "execute_result"
    }
   ],
   "source": [
    "#Saving the data to csv file\n",
    "elevations=stations[['name','elevations']]\n",
    "elevations.head()"
   ]
  },
  {
   "cell_type": "code",
   "execution_count": 19,
   "id": "da161bdd-3217-4c65-bd79-ec2e1ada3893",
   "metadata": {},
   "outputs": [
    {
     "data": {
      "text/plain": [
       "pandas.core.frame.DataFrame"
      ]
     },
     "execution_count": 19,
     "metadata": {},
     "output_type": "execute_result"
    }
   ],
   "source": [
    "type(elevations)\n",
    "#As there is no geometry column, it is a pandas dataframe"
   ]
  },
  {
   "cell_type": "code",
   "execution_count": 20,
   "id": "7f9d90e4-45b0-4064-99ec-46fa15efa57b",
   "metadata": {},
   "outputs": [],
   "source": [
    "elevations.to_csv('F:\\python\\RS_GIS_Python\\Output\\DEM_output.csv')"
   ]
  },
  {
   "cell_type": "code",
   "execution_count": null,
   "id": "daecfbdf-8e80-4b1b-8656-dd0493110c78",
   "metadata": {},
   "outputs": [],
   "source": []
  }
 ],
 "metadata": {
  "kernelspec": {
   "display_name": "Python 3 (ipykernel)",
   "language": "python",
   "name": "python3"
  },
  "language_info": {
   "codemirror_mode": {
    "name": "ipython",
    "version": 3
   },
   "file_extension": ".py",
   "mimetype": "text/x-python",
   "name": "python",
   "nbconvert_exporter": "python",
   "pygments_lexer": "ipython3",
   "version": "3.10.11"
  }
 },
 "nbformat": 4,
 "nbformat_minor": 5
}
